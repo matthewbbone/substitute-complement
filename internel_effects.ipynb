{
 "cells": [
  {
   "cell_type": "code",
   "execution_count": 117,
   "id": "f132f7f5",
   "metadata": {},
   "outputs": [
    {
     "data": {
      "text/plain": [
       "True"
      ]
     },
     "execution_count": 117,
     "metadata": {},
     "output_type": "execute_result"
    }
   ],
   "source": [
    "import pandas as pd\n",
    "import numpy as np\n",
    "from snowflake.snowpark import Session\n",
    "import snowflake.snowpark.functions as sfunc\n",
    "import snowflake.snowpark.types as stypes\n",
    "import plotly.graph_objects as go\n",
    "import statsmodels.formula.api as smf\n",
    "from statsmodels.iolib.summary2 import summary_col\n",
    "from plotly.subplots import make_subplots\n",
    "from dotenv import load_dotenv\n",
    "from matplotlib import pyplot as plt\n",
    "import os\n",
    "from sentence_transformers import SentenceTransformer\n",
    "import plotly.graph_objects as go\n",
    "from snowflake.snowpark.types import FloatType, IntegerType\n",
    "from scipy import stats\n",
    "import scipy.odr as odr\n",
    "import plotly.figure_factory as ff\n",
    "from sklearn.neighbors import KernelDensity\n",
    "from scipy.stats import linregress\n",
    "from tqdm import tqdm\n",
    "\n",
    "load_dotenv()"
   ]
  },
  {
   "cell_type": "markdown",
   "id": "f5567679",
   "metadata": {},
   "source": [
    "# Primary EDA and Data Cleaning\n",
    "\n",
    "In this notebook there are five parts\n",
    "1. Create posting-level data\n",
    "2. Posting Level EDA\n",
    "3. Compositional Analysis\n",
    "4. Internal Effects Analysis\n",
    "5. Create company, industry, geographic data\n",
    "\n",
    "\n",
    "## Create Posting-Level Data"
   ]
  },
  {
   "cell_type": "code",
   "execution_count": 6,
   "id": "32aca14c",
   "metadata": {},
   "outputs": [],
   "source": [
    "# connecting to the snowflake database\n",
    "connection_parameters = {\n",
    "    \"user\": os.getenv(\"SNOWFLAKE_USER\"),\n",
    "    \"password\": os.getenv(\"SNOWFLAKE_PASSWORD\"),\n",
    "    \"account\": os.getenv(\"SNOWFLAKE_ACCOUNT\"),\n",
    "    \"warehouse\": os.getenv(\"SNOWFLAKE_WAREHOUSE\"),\n",
    "    \"database\": os.getenv(\"SNOWFLAKE_DATABASE\"),\n",
    "    \"schema\": os.getenv(\"SNOWFLAKE_SCHEMA\"),\n",
    "}\n",
    "session = Session.builder.configs(connection_parameters).create()"
   ]
  },
  {
   "cell_type": "code",
   "execution_count": null,
   "id": "723ea0d4",
   "metadata": {},
   "outputs": [],
   "source": [
    "# country data dictionary for easy switching\n",
    "choice = \"US\"\n",
    "country = {\n",
    "    \"US\": {\n",
    "        \"POSTS_TABLE\": \"OII_US_10M_SAMP_POSTS\",\n",
    "        \"SKILLS_TABLE\": \"OII_US_10M_SAMP_SKILLS\",\n",
    "        \"INDUSTRY\": \"NAICS_2022_2_NAME\",\n",
    "        \"LOW_OCC_CODE\": \"ONET\",\n",
    "        \"LOW_OCC_NAME\": \"ONET_NAME\",\n",
    "        \"HIGH_OCC_NAME\": \"SOC_2021_2_NAME\",\n",
    "        \"REGION\": \"STATE_NAME\"\n",
    "    }\n",
    "}"
   ]
  },
  {
   "cell_type": "markdown",
   "id": "93c78b9e",
   "metadata": {},
   "source": [
    "### Create Skill Groups"
   ]
  },
  {
   "cell_type": "code",
   "execution_count": 8,
   "id": "5eef4bbc",
   "metadata": {},
   "outputs": [],
   "source": [
    "# loading the sentence transformer model\n",
    "model = SentenceTransformer(\"all-mpnet-base-v2\")\n",
    "# these are the names of the data tables\n",
    "posts_sp = session.read.table(country[choice][\"POSTS_TABLE\"])\n",
    "skills_sp = session.read.table(country[choice][\"SKILLS_TABLE\"])"
   ]
  },
  {
   "cell_type": "code",
   "execution_count": 9,
   "id": "52d2ba46",
   "metadata": {},
   "outputs": [],
   "source": [
    "# get universe of skills with more than 1000 postings\n",
    "all_skills_df = skills_sp \\\n",
    "    .groupBy([\"SKILL_NAME\"]) \\\n",
    "    .agg(\n",
    "         sfunc.count_distinct(\"ID\").alias(\"COUNT\")\n",
    "    ).to_pandas()\n",
    "\n",
    "all_skills_df.sort_values(by=\"COUNT\", ascending=False)\n",
    "all_skills = np.array(all_skills_df[\"SKILL_NAME\"][all_skills_df[\"COUNT\"] > 1000].tolist())\n",
    "all_skills_lower = np.array([skill.lower() for skill in all_skills])"
   ]
  },
  {
   "cell_type": "code",
   "execution_count": null,
   "id": "4bb9f552",
   "metadata": {},
   "outputs": [
    {
     "name": "stderr",
     "output_type": "stream",
     "text": [
      "Batches:   0%|          | 0/225 [00:00<?, ?it/s]"
     ]
    },
    {
     "name": "stderr",
     "output_type": "stream",
     "text": [
      "Batches: 100%|██████████| 225/225 [00:03<00:00, 74.77it/s]\n",
      "Batches: 100%|██████████| 1/1 [00:00<00:00, 141.09it/s]\n",
      "Batches: 100%|██████████| 1/1 [00:00<00:00, 165.99it/s]\n"
     ]
    }
   ],
   "source": [
    "# define substitute and complement skill groups\n",
    "sub_groups = [\n",
    "    \"Summary and Reporting\",\n",
    "    \"Language and Text Review\",\n",
    "    \"Customer Service\",\n",
    "    \"Office and Financial Administration\"\n",
    "]\n",
    "\n",
    "comp_groups = [\n",
    "    \"Analytical Thinking\",\n",
    "    \"Digital Literacy\",\n",
    "    \"Resilience\",\n",
    "    \"Technical Proficiency\",\n",
    "    \"Ethics\",\n",
    "    \"Working with Others\",\n",
    "    \"Self-Efficiency\"\n",
    "]\n",
    "\n",
    "# get the embeddings for the skills and groups\n",
    "skills_encode = model.encode(all_skills_lower, show_progress_bar=True, convert_to_tensor=False)\n",
    "sub_group_encode = model.encode(sub_groups, show_progress_bar=True, convert_to_tensor=False)\n",
    "comp_group_encode = model.encode(comp_groups, show_progress_bar=True, convert_to_tensor=False)\n",
    "\n",
    "# calculate the cosine similarity between the skills and the groups\n",
    "sub_sims =  sub_group_encode @ skills_encode.T\n",
    "comp_sims =  comp_group_encode @ skills_encode.T\n",
    "\n",
    "del skills_encode\n",
    "del sub_group_encode\n",
    "del comp_group_encode"
   ]
  },
  {
   "cell_type": "code",
   "execution_count": null,
   "id": "41a9f8b3",
   "metadata": {},
   "outputs": [],
   "source": [
    "# identify the top N skills for each group\n",
    "top_N = 10\n",
    "top_sub_skills = sub_sims.argsort(axis=1)[:, -top_N:]\n",
    "top_comp_skills = comp_sims.argsort(axis=1)[:, -top_N:]\n",
    "\n",
    "sub_skill_groups = []\n",
    "for i, s in enumerate(sub_groups):\n",
    "    temp_skills = all_skills[top_sub_skills[i]]\n",
    "    temp_counts = all_skills_df[all_skills_df[\"SKILL_NAME\"].isin(temp_skills)].to_dict(orient=\"records\")\n",
    "    for skill in temp_counts:\n",
    "        sub_skill_groups.append({\n",
    "            \"GROUP\": s,\n",
    "            \"SKILL\": skill[\"SKILL_NAME\"],\n",
    "            \"COUNT\": skill[\"COUNT\"]\n",
    "        })\n",
    "sub_skill_df = pd.DataFrame(sub_skill_groups)\n",
    "\n",
    "comp_skill_groups = []\n",
    "for i, c in enumerate(comp_groups):\n",
    "    temp_skills = all_skills[top_comp_skills[i]]\n",
    "    temp_counts = all_skills_df[all_skills_df[\"SKILL_NAME\"].isin(temp_skills)].to_dict(orient=\"records\")\n",
    "    for skill in temp_counts:\n",
    "        comp_skill_groups.append({\n",
    "            \"GROUP\": c,\n",
    "            \"SKILL\": skill[\"SKILL_NAME\"],\n",
    "            \"COUNT\": skill[\"COUNT\"]\n",
    "        })\n",
    "comp_skill_df = pd.DataFrame(comp_skill_groups)"
   ]
  },
  {
   "cell_type": "code",
   "execution_count": 49,
   "id": "dd7c4ff9",
   "metadata": {},
   "outputs": [
    {
     "data": {
      "text/html": [
       "<div>\n",
       "<style scoped>\n",
       "    .dataframe tbody tr th:only-of-type {\n",
       "        vertical-align: middle;\n",
       "    }\n",
       "\n",
       "    .dataframe tbody tr th {\n",
       "        vertical-align: top;\n",
       "    }\n",
       "\n",
       "    .dataframe thead th {\n",
       "        text-align: right;\n",
       "    }\n",
       "</style>\n",
       "<table border=\"1\" class=\"dataframe\">\n",
       "  <thead>\n",
       "    <tr style=\"text-align: right;\">\n",
       "      <th></th>\n",
       "      <th>GROUP</th>\n",
       "      <th>SKILL</th>\n",
       "      <th>COUNT</th>\n",
       "      <th>INCLUDED</th>\n",
       "    </tr>\n",
       "  </thead>\n",
       "  <tbody>\n",
       "    <tr>\n",
       "      <th>25</th>\n",
       "      <td>Summary and Reporting</td>\n",
       "      <td>Statistical Reporting</td>\n",
       "      <td>13314</td>\n",
       "      <td>False</td>\n",
       "    </tr>\n",
       "    <tr>\n",
       "      <th>50</th>\n",
       "      <td>Customer Service</td>\n",
       "      <td>Customer Service</td>\n",
       "      <td>3365338</td>\n",
       "      <td>True</td>\n",
       "    </tr>\n",
       "    <tr>\n",
       "      <th>40</th>\n",
       "      <td>Language and Text Review</td>\n",
       "      <td>Language Arts</td>\n",
       "      <td>1134</td>\n",
       "      <td>True</td>\n",
       "    </tr>\n",
       "    <tr>\n",
       "      <th>32</th>\n",
       "      <td>Prediction and Forecasting</td>\n",
       "      <td>Revenue Forecasting</td>\n",
       "      <td>10213</td>\n",
       "      <td>False</td>\n",
       "    </tr>\n",
       "    <tr>\n",
       "      <th>67</th>\n",
       "      <td>Office and Financial Administration</td>\n",
       "      <td>Office Administration</td>\n",
       "      <td>13814</td>\n",
       "      <td>True</td>\n",
       "    </tr>\n",
       "  </tbody>\n",
       "</table>\n",
       "</div>"
      ],
      "text/plain": [
       "                                  GROUP                  SKILL    COUNT  \\\n",
       "25                Summary and Reporting  Statistical Reporting    13314   \n",
       "50                     Customer Service       Customer Service  3365338   \n",
       "40             Language and Text Review          Language Arts     1134   \n",
       "32           Prediction and Forecasting    Revenue Forecasting    10213   \n",
       "67  Office and Financial Administration  Office Administration    13814   \n",
       "\n",
       "    INCLUDED  \n",
       "25     False  \n",
       "50      True  \n",
       "40      True  \n",
       "32     False  \n",
       "67      True  "
      ]
     },
     "metadata": {},
     "output_type": "display_data"
    },
    {
     "data": {
      "text/html": [
       "<div>\n",
       "<style scoped>\n",
       "    .dataframe tbody tr th:only-of-type {\n",
       "        vertical-align: middle;\n",
       "    }\n",
       "\n",
       "    .dataframe tbody tr th {\n",
       "        vertical-align: top;\n",
       "    }\n",
       "\n",
       "    .dataframe thead th {\n",
       "        text-align: right;\n",
       "    }\n",
       "</style>\n",
       "<table border=\"1\" class=\"dataframe\">\n",
       "  <thead>\n",
       "    <tr style=\"text-align: right;\">\n",
       "      <th></th>\n",
       "      <th>GROUP</th>\n",
       "      <th>SKILL</th>\n",
       "      <th>COUNT</th>\n",
       "      <th>INCLUDED</th>\n",
       "    </tr>\n",
       "  </thead>\n",
       "  <tbody>\n",
       "    <tr>\n",
       "      <th>38</th>\n",
       "      <td>Technical Proficiency</td>\n",
       "      <td>Technical Acumen</td>\n",
       "      <td>61663</td>\n",
       "      <td>True</td>\n",
       "    </tr>\n",
       "    <tr>\n",
       "      <th>50</th>\n",
       "      <td>Working with Others</td>\n",
       "      <td>Interdisciplinary Collaboration</td>\n",
       "      <td>3343</td>\n",
       "      <td>True</td>\n",
       "    </tr>\n",
       "    <tr>\n",
       "      <th>10</th>\n",
       "      <td>Digital Literacy</td>\n",
       "      <td>Digital Content</td>\n",
       "      <td>9603</td>\n",
       "      <td>True</td>\n",
       "    </tr>\n",
       "    <tr>\n",
       "      <th>67</th>\n",
       "      <td>Self-Efficiency</td>\n",
       "      <td>Business Efficiency</td>\n",
       "      <td>1424</td>\n",
       "      <td>True</td>\n",
       "    </tr>\n",
       "    <tr>\n",
       "      <th>14</th>\n",
       "      <td>Digital Literacy</td>\n",
       "      <td>Educational Technologies</td>\n",
       "      <td>3842</td>\n",
       "      <td>False</td>\n",
       "    </tr>\n",
       "  </tbody>\n",
       "</table>\n",
       "</div>"
      ],
      "text/plain": [
       "                    GROUP                            SKILL  COUNT  INCLUDED\n",
       "38  Technical Proficiency                 Technical Acumen  61663      True\n",
       "50    Working with Others  Interdisciplinary Collaboration   3343      True\n",
       "10       Digital Literacy                  Digital Content   9603      True\n",
       "67        Self-Efficiency              Business Efficiency   1424      True\n",
       "14       Digital Literacy         Educational Technologies   3842     False"
      ]
     },
     "metadata": {},
     "output_type": "display_data"
    }
   ],
   "source": [
    "# manual review of skills to remove some that are not relevant\n",
    "\n",
    "# substitutable skills\n",
    "# remove statistical reporting\n",
    "summary_report = ['Management Reporting', 'Annual Reports', 'Internal Reporting', 'Technical Report', \"Auditor's Report\", 'Report Writing', 'Operational Reporting', 'Business Reporting']\n",
    "language_review = ['Language Arts', 'Writing Systems', 'Reviewing Applications', 'Document Review', 'English Language', 'Foreign Language', 'Language Development', 'Multilingualism', 'Written English']\n",
    "customer_service = ['Customer Service', 'Customer Service Desk', 'Customer Development', 'Healthcare Customer Service', 'Sales Support', 'Client Services', 'Technical Support', 'People Services', 'Customer Support', 'Customer Service Training']\n",
    "# remove financial services, accounting, and financial Management\n",
    "office_admin = ['Office Management', 'Payroll Administration', 'Bookkeeping', 'Sales Administration', 'Accounting Management', 'Business Administration', 'Office Administration']\n",
    "sub_skills = summary_report + language_review + customer_service + office_admin\n",
    "\n",
    "# complementary skills\n",
    "analytical_thinking = ['Problem Solving', 'Critical Thinking', 'Systems Thinking', 'Creative Thinking', 'Strategic Thinking', 'Analytical Skills', 'Intelligence Analysis', 'Independent Thinking', 'Creative Problem Solving', 'Analytical Thinking']\n",
    "# remove educational technologies, literacy, health literacy\n",
    "digital_literacy = ['Digital Content', 'Digital Transformation', 'Data Literacy', 'Digital Media', 'Digital Technology', 'Digital Literacy', 'Computer Literacy']\n",
    "# remove resourcefulness, disaster preparedness, and healing\n",
    "resilience = ['Tactfulness', 'Courage', 'Preparedness', 'Ingenuity', 'Tenacity', 'Resilience', 'Survivability']\n",
    "# remove analytical skills, technical supervision, technical engineering, fine motor skills\n",
    "technical_proficiency = ['Technical Training', 'Technical Engineering', 'Mechanical Aptitude', 'Technical Communication', 'Diagnostic Skills', 'Technical Acumen', 'Competency Assessment']\n",
    "# remove sincerity, empathy, compassion, and accountability\n",
    "ethics = ['Honesty', 'Professional Responsibility', 'Business Ethics', 'Personal Integrity', 'Ethical Standards And Conduct']\n",
    "working_others = ['Interdisciplinary Collaboration', 'Teamwork', 'Delegation Skills', 'Collaborative Communications', 'Collaboration', 'Team Building', 'Team Processes', 'Cross-Functional Collaboration', 'Partner Development', 'Support Colleagues']\n",
    "self_efficiency = [\"Self-Awareness\", \"Business Efficiency\", \"Resourcefulness\", \"Operational Efficiency\"]\n",
    "comp_skills = analytical_thinking + digital_literacy + resilience + technical_proficiency + ethics + working_others + self_efficiency\n",
    "\n",
    "sub_skill_df[\"INCLUDED\"] = sub_skill_df[\"SKILL\"].isin(sub_skills)\n",
    "sub_skill_df.reset_index(inplace=True, drop=True)\n",
    "\n",
    "comp_skill_df = comp_skill_df.reset_index(drop=True)\n",
    "comp_skill_df[\"INCLUDED\"] = comp_skill_df[\"SKILL\"].isin(comp_skills)\n",
    "\n",
    "display(sub_skill_df.sample(5))\n",
    "display(comp_skill_df.sample(5))"
   ]
  },
  {
   "cell_type": "code",
   "execution_count": null,
   "id": "f5f1f853",
   "metadata": {},
   "outputs": [],
   "source": [
    "# get AI/ML skills\n",
    "ai_skills_df = skills_sp.filter(\n",
    "        sfunc.col(\"SKILL_SUBCATEGORY_NAME\") == 'Artificial Intelligence and Machine Learning (AI/ML)'\n",
    "    ) \\\n",
    "    .groupBy(\n",
    "        sfunc.col(\"SKILL_NAME\")\n",
    "    ) \\\n",
    "    .agg(\n",
    "         sfunc.count_distinct(\"ID\").alias(\"COUNT\")\n",
    "    ).to_pandas()\n",
    "    \n",
    "ai_skills = ai_skills_df[~ai_skills_df[\"SKILL_NAME\"].isin([\"Machine Learning\", \"Artificial Intelligence\"])][\"SKILL_NAME\"].tolist()"
   ]
  },
  {
   "cell_type": "code",
   "execution_count": 51,
   "id": "22bf4367",
   "metadata": {},
   "outputs": [
    {
     "data": {
      "text/html": [
       "<div>\n",
       "<style scoped>\n",
       "    .dataframe tbody tr th:only-of-type {\n",
       "        vertical-align: middle;\n",
       "    }\n",
       "\n",
       "    .dataframe tbody tr th {\n",
       "        vertical-align: top;\n",
       "    }\n",
       "\n",
       "    .dataframe thead th {\n",
       "        text-align: right;\n",
       "    }\n",
       "</style>\n",
       "<table border=\"1\" class=\"dataframe\">\n",
       "  <thead>\n",
       "    <tr style=\"text-align: right;\">\n",
       "      <th></th>\n",
       "      <th>SKILL_NAME</th>\n",
       "      <th>COUNT</th>\n",
       "      <th>INCLUDED</th>\n",
       "    </tr>\n",
       "  </thead>\n",
       "  <tbody>\n",
       "    <tr>\n",
       "      <th>143</th>\n",
       "      <td>Support Vector Machine</td>\n",
       "      <td>1403</td>\n",
       "      <td>True</td>\n",
       "    </tr>\n",
       "    <tr>\n",
       "      <th>32</th>\n",
       "      <td>Theano (Software)</td>\n",
       "      <td>519</td>\n",
       "      <td>True</td>\n",
       "    </tr>\n",
       "    <tr>\n",
       "      <th>99</th>\n",
       "      <td>Ethical AI</td>\n",
       "      <td>133</td>\n",
       "      <td>True</td>\n",
       "    </tr>\n",
       "    <tr>\n",
       "      <th>137</th>\n",
       "      <td>Soft Computing</td>\n",
       "      <td>1</td>\n",
       "      <td>True</td>\n",
       "    </tr>\n",
       "    <tr>\n",
       "      <th>24</th>\n",
       "      <td>H2O.ai</td>\n",
       "      <td>872</td>\n",
       "      <td>True</td>\n",
       "    </tr>\n",
       "  </tbody>\n",
       "</table>\n",
       "</div>"
      ],
      "text/plain": [
       "                 SKILL_NAME  COUNT  INCLUDED\n",
       "143  Support Vector Machine   1403      True\n",
       "32        Theano (Software)    519      True\n",
       "99               Ethical AI    133      True\n",
       "137          Soft Computing      1      True\n",
       "24                   H2O.ai    872      True"
      ]
     },
     "execution_count": 51,
     "metadata": {},
     "output_type": "execute_result"
    }
   ],
   "source": [
    "ai_skills_df[\"INCLUDED\"] = ai_skills_df[\"SKILL_NAME\"].isin(ai_skills)\n",
    "ai_skills_df.sample(5)"
   ]
  },
  {
   "cell_type": "code",
   "execution_count": 52,
   "id": "ec839689",
   "metadata": {},
   "outputs": [],
   "source": [
    "skills_list = {\n",
    "    \"AI\": ai_skills,\n",
    "    \"COMPLEMENT\": comp_skills,\n",
    "    \"SUBSTITUTE\": sub_skills,\n",
    "    \"SUMMARY_REPORT\": summary_report,\n",
    "    \"LANGUAGE_REVIEW\": language_review,\n",
    "    \"CUSTOMER_SERVICE\": customer_service,\n",
    "    \"OFFICE_ADMIN\": office_admin,\n",
    "    \"ANALYTICAL_THINKING\": analytical_thinking,\n",
    "    \"DIGITAL_LITERACY\": digital_literacy,\n",
    "    \"RESILIENCE\": resilience,\n",
    "    \"TECHNICAL_PROFICIENCY\": technical_proficiency,\n",
    "    \"ETHICS\": ethics,\n",
    "    \"WORKING_OTHERS\": working_others,\n",
    "    \"SELF_EFFICIENCY\": self_efficiency\n",
    "}"
   ]
  },
  {
   "cell_type": "markdown",
   "id": "017861a2",
   "metadata": {},
   "source": [
    "### Load Postings Data"
   ]
  },
  {
   "cell_type": "code",
   "execution_count": null,
   "id": "85e4830b",
   "metadata": {},
   "outputs": [],
   "source": [
    "# preparing post skill composition data\n",
    "def skill_composition(skills_sp, groups):\n",
    "    \n",
    "    select_columns = np.array([\n",
    "        [\n",
    "            sfunc.cast(sfunc.cast(sfunc.col(\"SKILL_NAME\").isin(skills), IntegerType()), FloatType()).alias(f\"{group}\"),\n",
    "            sfunc.cast(sfunc.cast(\n",
    "                (\n",
    "                    (~sfunc.col(\"SKILL_NAME\").isin(skills)) &\n",
    "                    (~sfunc.col(\"SKILL_NAME\").isin(groups[\"AI\"]))\n",
    "                ),\n",
    "                IntegerType()), FloatType()\n",
    "            ).alias(f\"NON_AI_{group}\")\n",
    "        ]\n",
    "        for group, skills in groups.items() if group != \"AI\"\n",
    "    ]).flatten().tolist() + [sfunc.cast(sfunc.cast(sfunc.col(\"SKILL_NAME\").isin(groups[\"AI\"]), IntegerType()), FloatType()).alias(\"AI\"), sfunc.col(\"ID\")]\n",
    "    \n",
    "    # we add a small value to each count to avoid errors in downstream transformations\n",
    "    agg_columns = np.array([\n",
    "        [\n",
    "            # adding .65 to each count as the recommended value for filling zeros in compositional data\n",
    "            # From: Filzmoser, Peter, Karel Hron, and Matthias Templ. \"Applied compositional data analysis.\" Cham: Springer (2018).\n",
    "            (sfunc.sum(sfunc.col(f\"{group}\")) + .65).alias(f\"{group}_COUNT\"),\n",
    "            (sfunc.sum(sfunc.col(f\"NON_AI_{group}\")) + .65).alias(f\"NON_AI_{group}_COUNT\"),\n",
    "            (sfunc.cast(sfunc.sum(sfunc.col(f\"{group}\")) > 0, IntegerType())).alias(f\"{group}\")\n",
    "        ]\n",
    "        for group, skills in groups.items() if group != \"AI\"\n",
    "    ]).flatten().tolist() + [(sfunc.sum(sfunc.col(\"AI\")) + .65).alias(f\"AI_COUNT\"), sfunc.cast(sfunc.sum(sfunc.col(\"AI\")) > 0, IntegerType()).alias(f\"AI\")]\n",
    "    \n",
    "    return skills_sp \\\n",
    "        .select(select_columns) \\\n",
    "        .group_by(\n",
    "            sfunc.col(\"ID\")\n",
    "        ) \\\n",
    "        .agg(agg_columns)\n",
    "        \n",
    "compositions_sp = skill_composition(skills_sp, skills_list)\n",
    "\n",
    "# merge skill compositions with posts\n",
    "posts_sp2 = posts_sp \\\n",
    "    .join(\n",
    "        compositions_sp,\n",
    "        posts_sp[\"ID\"] == compositions_sp[\"ID\"],\n",
    "        how=\"left\"\n",
    "    ) \\\n",
    "    .with_column(\n",
    "        \"ID\",\n",
    "        posts_sp[\"ID\"]\n",
    "    )"
   ]
  },
  {
   "cell_type": "code",
   "execution_count": null,
   "id": "d12b371d",
   "metadata": {},
   "outputs": [],
   "source": [
    "# collect the data from snowflake\n",
    "skill_columns = np.array([\n",
    "    [\n",
    "        f\"{group}_COUNT\",\n",
    "        f\"NON_AI_{group}_COUNT\",\n",
    "        f\"{group}\"\n",
    "    ]\n",
    "    for group, _ in skills_list.items() if group != \"AI\"\n",
    "]).flatten().tolist() + [\"AI_COUNT\", \"AI\"]\n",
    "\n",
    "posts_df = posts_sp2.filter(\n",
    "        (sfunc.year(sfunc.col(\"POSTED\")).between(2018, 2023))\n",
    "    ) \\\n",
    "    .select([\n",
    "            sfunc.col(\"ID\"),\n",
    "            sfunc.col(country[choice]['REGION']),\n",
    "            sfunc.col(country[choice][\"INDUSTRY\"]),\n",
    "            sfunc.col(\"MIN_EDULEVELS_NAME\"),\n",
    "            sfunc.col(\"MIN_YEARS_EXPERIENCE\"),\n",
    "            (sfunc.col(\"EMPLOYMENT_TYPE\") == 1).alias(\"FULL_TIME\"),\n",
    "            sfunc.col(\"IS_INTERNSHIP\"),\n",
    "            sfunc.year(sfunc.col(\"POSTED\")).alias(\"YEAR\"),\n",
    "            sfunc.quarter(sfunc.col(\"POSTED\")).alias(\"QUARTER\"),\n",
    "            sfunc.lower(sfunc.col(\"TITLE_RAW\")).alias(\"TITLE_RAW\"),\n",
    "            sfunc.col(country[choice][\"LOW_OCC_CODE\"]),\n",
    "            sfunc.col(country[choice][\"LOW_OCC_NAME\"]),\n",
    "            sfunc.col(country[choice][\"HIGH_OCC_NAME\"]),\n",
    "            sfunc.col(\"COMPANY\"),\n",
    "            sfunc.col(\"COMPANY_NAME\"),\n",
    "            sfunc.col(\"SALARY\"),\n",
    "            sfunc.ln(sfunc.col(\"SALARY\") + 1).alias(\"LOG_SALARY\"),\n",
    "            sfunc.array_size(sfunc.col(\"SKILLS\")).alias(\"SKILLS_COUNT\"),\n",
    "            sfunc.col(\"COMPANY_IS_STAFFING\"),\n",
    "            sfunc.length(sfunc.col(\"BODY\")).alias(\"BODY_LENGTH\")\n",
    "        ] + [sfunc.col(col) for col in skill_columns]\n",
    "    ) \\\n",
    "    .na.fill({col: 0 if \"COUNT\" not in col else .65 for col in skill_columns}) \\\n",
    "    .to_pandas()"
   ]
  },
  {
   "cell_type": "code",
   "execution_count": 17,
   "id": "cebcea38",
   "metadata": {},
   "outputs": [
    {
     "data": {
      "text/html": [
       "<div>\n",
       "<style scoped>\n",
       "    .dataframe tbody tr th:only-of-type {\n",
       "        vertical-align: middle;\n",
       "    }\n",
       "\n",
       "    .dataframe tbody tr th {\n",
       "        vertical-align: top;\n",
       "    }\n",
       "\n",
       "    .dataframe thead th {\n",
       "        text-align: right;\n",
       "    }\n",
       "</style>\n",
       "<table border=\"1\" class=\"dataframe\">\n",
       "  <thead>\n",
       "    <tr style=\"text-align: right;\">\n",
       "      <th></th>\n",
       "      <th>ID</th>\n",
       "      <th>STATE_NAME</th>\n",
       "      <th>NAICS_2022_2_NAME</th>\n",
       "      <th>MIN_EDULEVELS_NAME</th>\n",
       "      <th>MIN_YEARS_EXPERIENCE</th>\n",
       "      <th>FULL_TIME</th>\n",
       "      <th>IS_INTERNSHIP</th>\n",
       "      <th>YEAR</th>\n",
       "      <th>QUARTER</th>\n",
       "      <th>TITLE_RAW</th>\n",
       "      <th>...</th>\n",
       "      <th>NON_AI_ETHICS_COUNT</th>\n",
       "      <th>ETHICS</th>\n",
       "      <th>WORKING_OTHERS_COUNT</th>\n",
       "      <th>NON_AI_WORKING_OTHERS_COUNT</th>\n",
       "      <th>WORKING_OTHERS</th>\n",
       "      <th>SELF_EFFICIENCY_COUNT</th>\n",
       "      <th>NON_AI_SELF_EFFICIENCY_COUNT</th>\n",
       "      <th>SELF_EFFICIENCY</th>\n",
       "      <th>AI_COUNT</th>\n",
       "      <th>AI</th>\n",
       "    </tr>\n",
       "  </thead>\n",
       "  <tbody>\n",
       "    <tr>\n",
       "      <th>0</th>\n",
       "      <td>11fe3234a739fba40c46f3be5622ccce6744e0d8</td>\n",
       "      <td>Colorado</td>\n",
       "      <td>Wholesale Trade</td>\n",
       "      <td>No Education Listed</td>\n",
       "      <td>1.0</td>\n",
       "      <td>True</td>\n",
       "      <td>False</td>\n",
       "      <td>2023</td>\n",
       "      <td>2</td>\n",
       "      <td>installation manager</td>\n",
       "      <td>...</td>\n",
       "      <td>21.65</td>\n",
       "      <td>0</td>\n",
       "      <td>0.65</td>\n",
       "      <td>21.65</td>\n",
       "      <td>0</td>\n",
       "      <td>0.65</td>\n",
       "      <td>21.65</td>\n",
       "      <td>0</td>\n",
       "      <td>0.65</td>\n",
       "      <td>0</td>\n",
       "    </tr>\n",
       "    <tr>\n",
       "      <th>1</th>\n",
       "      <td>c80f25ac0888b69869be1ae81b979f67ec97fbf2</td>\n",
       "      <td>Kentucky</td>\n",
       "      <td>Retail Trade</td>\n",
       "      <td>No Education Listed</td>\n",
       "      <td>NaN</td>\n",
       "      <td>False</td>\n",
       "      <td>False</td>\n",
       "      <td>2018</td>\n",
       "      <td>4</td>\n",
       "      <td>alterations specialist [part-time]</td>\n",
       "      <td>...</td>\n",
       "      <td>10.65</td>\n",
       "      <td>0</td>\n",
       "      <td>0.65</td>\n",
       "      <td>10.65</td>\n",
       "      <td>0</td>\n",
       "      <td>0.65</td>\n",
       "      <td>10.65</td>\n",
       "      <td>0</td>\n",
       "      <td>0.65</td>\n",
       "      <td>0</td>\n",
       "    </tr>\n",
       "    <tr>\n",
       "      <th>2</th>\n",
       "      <td>2a105fe50d6c194acb33809aaa13d052ae0e2ed0</td>\n",
       "      <td>Washington</td>\n",
       "      <td>Health Care and Social Assistance</td>\n",
       "      <td>High school or GED</td>\n",
       "      <td>NaN</td>\n",
       "      <td>True</td>\n",
       "      <td>False</td>\n",
       "      <td>2023</td>\n",
       "      <td>2</td>\n",
       "      <td>medical assistant - occupational health (capit...</td>\n",
       "      <td>...</td>\n",
       "      <td>14.65</td>\n",
       "      <td>0</td>\n",
       "      <td>0.65</td>\n",
       "      <td>14.65</td>\n",
       "      <td>0</td>\n",
       "      <td>0.65</td>\n",
       "      <td>14.65</td>\n",
       "      <td>0</td>\n",
       "      <td>0.65</td>\n",
       "      <td>0</td>\n",
       "    </tr>\n",
       "    <tr>\n",
       "      <th>3</th>\n",
       "      <td>afa1f01986ee95b567a4c76dfa01e17c7ac1ba61</td>\n",
       "      <td>Georgia</td>\n",
       "      <td>Information</td>\n",
       "      <td>Bachelor's degree</td>\n",
       "      <td>4.0</td>\n",
       "      <td>True</td>\n",
       "      <td>False</td>\n",
       "      <td>2022</td>\n",
       "      <td>1</td>\n",
       "      <td>lead financial analyst planning &amp; forecasting</td>\n",
       "      <td>...</td>\n",
       "      <td>31.65</td>\n",
       "      <td>0</td>\n",
       "      <td>0.65</td>\n",
       "      <td>31.65</td>\n",
       "      <td>0</td>\n",
       "      <td>0.65</td>\n",
       "      <td>31.65</td>\n",
       "      <td>0</td>\n",
       "      <td>0.65</td>\n",
       "      <td>0</td>\n",
       "    </tr>\n",
       "    <tr>\n",
       "      <th>4</th>\n",
       "      <td>8bab9baa4b2f20d10cfd3bad731e1b16c582111a</td>\n",
       "      <td>Texas</td>\n",
       "      <td>Administrative and Support and Waste Managemen...</td>\n",
       "      <td>High school or GED</td>\n",
       "      <td>NaN</td>\n",
       "      <td>True</td>\n",
       "      <td>False</td>\n",
       "      <td>2020</td>\n",
       "      <td>3</td>\n",
       "      <td>apply now! plant worker</td>\n",
       "      <td>...</td>\n",
       "      <td>6.65</td>\n",
       "      <td>0</td>\n",
       "      <td>0.65</td>\n",
       "      <td>6.65</td>\n",
       "      <td>0</td>\n",
       "      <td>0.65</td>\n",
       "      <td>6.65</td>\n",
       "      <td>0</td>\n",
       "      <td>0.65</td>\n",
       "      <td>0</td>\n",
       "    </tr>\n",
       "  </tbody>\n",
       "</table>\n",
       "<p>5 rows × 61 columns</p>\n",
       "</div>"
      ],
      "text/plain": [
       "                                         ID  STATE_NAME  \\\n",
       "0  11fe3234a739fba40c46f3be5622ccce6744e0d8    Colorado   \n",
       "1  c80f25ac0888b69869be1ae81b979f67ec97fbf2    Kentucky   \n",
       "2  2a105fe50d6c194acb33809aaa13d052ae0e2ed0  Washington   \n",
       "3  afa1f01986ee95b567a4c76dfa01e17c7ac1ba61     Georgia   \n",
       "4  8bab9baa4b2f20d10cfd3bad731e1b16c582111a       Texas   \n",
       "\n",
       "                                   NAICS_2022_2_NAME   MIN_EDULEVELS_NAME  \\\n",
       "0                                    Wholesale Trade  No Education Listed   \n",
       "1                                       Retail Trade  No Education Listed   \n",
       "2                  Health Care and Social Assistance   High school or GED   \n",
       "3                                        Information    Bachelor's degree   \n",
       "4  Administrative and Support and Waste Managemen...   High school or GED   \n",
       "\n",
       "   MIN_YEARS_EXPERIENCE  FULL_TIME  IS_INTERNSHIP  YEAR  QUARTER  \\\n",
       "0                   1.0       True          False  2023        2   \n",
       "1                   NaN      False          False  2018        4   \n",
       "2                   NaN       True          False  2023        2   \n",
       "3                   4.0       True          False  2022        1   \n",
       "4                   NaN       True          False  2020        3   \n",
       "\n",
       "                                           TITLE_RAW  ... NON_AI_ETHICS_COUNT  \\\n",
       "0                               installation manager  ...               21.65   \n",
       "1                 alterations specialist [part-time]  ...               10.65   \n",
       "2  medical assistant - occupational health (capit...  ...               14.65   \n",
       "3      lead financial analyst planning & forecasting  ...               31.65   \n",
       "4                            apply now! plant worker  ...                6.65   \n",
       "\n",
       "  ETHICS WORKING_OTHERS_COUNT NON_AI_WORKING_OTHERS_COUNT WORKING_OTHERS  \\\n",
       "0      0                 0.65                       21.65              0   \n",
       "1      0                 0.65                       10.65              0   \n",
       "2      0                 0.65                       14.65              0   \n",
       "3      0                 0.65                       31.65              0   \n",
       "4      0                 0.65                        6.65              0   \n",
       "\n",
       "   SELF_EFFICIENCY_COUNT  NON_AI_SELF_EFFICIENCY_COUNT  SELF_EFFICIENCY  \\\n",
       "0                   0.65                         21.65                0   \n",
       "1                   0.65                         10.65                0   \n",
       "2                   0.65                         14.65                0   \n",
       "3                   0.65                         31.65                0   \n",
       "4                   0.65                          6.65                0   \n",
       "\n",
       "   AI_COUNT  AI  \n",
       "0      0.65   0  \n",
       "1      0.65   0  \n",
       "2      0.65   0  \n",
       "3      0.65   0  \n",
       "4      0.65   0  \n",
       "\n",
       "[5 rows x 61 columns]"
      ]
     },
     "execution_count": 17,
     "metadata": {},
     "output_type": "execute_result"
    }
   ],
   "source": [
    "posts_df.head(5)"
   ]
  },
  {
   "cell_type": "markdown",
   "id": "afeddd6d",
   "metadata": {},
   "source": [
    "## Posting-Level EDA"
   ]
  },
  {
   "cell_type": "code",
   "execution_count": 71,
   "id": "3d0c57fd",
   "metadata": {},
   "outputs": [
    {
     "data": {
      "application/vnd.plotly.v1+json": {
       "config": {
        "plotlyServerURL": "https://plot.ly"
       },
       "data": [
        {
         "line": {
          "color": "blue",
          "dash": "dot"
         },
         "mode": "lines",
         "name": "Complement (of AI posts)",
         "showlegend": true,
         "type": "scatter",
         "x": {
          "bdata": "4gfjB+QH5QfmB+cH",
          "dtype": "i2"
         },
         "xaxis": "x",
         "y": {
          "bdata": "XIYtpKRJREDUGA2n8N9EQEv3BpSJa0VACW80dX5tRkDro3j4pWFIQMCvSGM7d0dA",
          "dtype": "f8"
         },
         "yaxis": "y"
        },
        {
         "line": {
          "color": "red",
          "dash": "dot"
         },
         "mode": "lines",
         "name": "Substitute (of AI posts)",
         "showlegend": true,
         "type": "scatter",
         "x": {
          "bdata": "4gfjB+QH5QfmB+cH",
          "dtype": "i2"
         },
         "xaxis": "x",
         "y": {
          "bdata": "u0WiU/j+M0CXX7MmJUM0QKlFyF+zIzVA9GsPuawYNUCpI/rTFLQ3QCzPWolDLDdA",
          "dtype": "f8"
         },
         "yaxis": "y"
        },
        {
         "line": {
          "color": "blue",
          "dash": "solid"
         },
         "mode": "lines",
         "name": "Complement (of Non-AI posts)",
         "showlegend": true,
         "type": "scatter",
         "x": {
          "bdata": "4gfjB+QH5QfmB+cH",
          "dtype": "i2"
         },
         "xaxis": "x",
         "y": {
          "bdata": "nN2kQbpBQkBNZ42m+TlCQAmm06riHkJADACo7IxHQ0D3G7/aYiNDQID3MfzCa0JA",
          "dtype": "f8"
         },
         "yaxis": "y"
        },
        {
         "line": {
          "color": "red",
          "dash": "solid"
         },
         "mode": "lines",
         "name": "Substitute (of Non-AI posts)",
         "showlegend": true,
         "type": "scatter",
         "x": {
          "bdata": "4gfjB+QH5QfmB+cH",
          "dtype": "i2"
         },
         "xaxis": "x",
         "y": {
          "bdata": "pNAq+aJRRkAjGb7G+npFQGm89yq9UUVALfIQRWR3RUAvr68qW9FEQHHHVr5IeEVA",
          "dtype": "f8"
         },
         "yaxis": "y"
        },
        {
         "line": {
          "color": "blue",
          "dash": "dot"
         },
         "mode": "lines",
         "showlegend": false,
         "type": "scatter",
         "x": {
          "bdata": "4gfjB+QH5QfmB+cH",
          "dtype": "i2"
         },
         "xaxis": "x2",
         "y": {
          "bdata": "Vg4tsp0DVkAAAAAAACBXQPyp8dJN9llAMzMzMzPDXEDNzMzMzKxZQGZmZmZm5mNA",
          "dtype": "f8"
         },
         "yaxis": "y2"
        },
        {
         "line": {
          "color": "red",
          "dash": "dot"
         },
         "mode": "lines",
         "showlegend": false,
         "type": "scatter",
         "x": {
          "bdata": "4gfjB+QH5QfmB+cH",
          "dtype": "i2"
         },
         "xaxis": "x2",
         "y": {
          "bdata": "ObTIdr7/SEA/NV66SWxQQMP1KFyP0lJAzczMzMyUXUAAAAAAAIBLQEjhehSud2FA",
          "dtype": "f8"
         },
         "yaxis": "y2"
        },
        {
         "line": {
          "color": "blue",
          "dash": "solid"
         },
         "mode": "lines",
         "showlegend": false,
         "type": "scatter",
         "x": {
          "bdata": "4gfjB+QH5QfmB+cH",
          "dtype": "i2"
         },
         "xaxis": "x2",
         "y": {
          "bdata": "w/UoXI/CQ0DD9Shcj8JDQB1aZDvfv0NA4XoUrkfhRkBkO99PjRdLQHE9CtejQFBA",
          "dtype": "f8"
         },
         "yaxis": "y2"
        },
        {
         "line": {
          "color": "red",
          "dash": "solid"
         },
         "mode": "lines",
         "showlegend": false,
         "type": "scatter",
         "x": {
          "bdata": "4gfjB+QH5QfmB+cH",
          "dtype": "i2"
         },
         "xaxis": "x2",
         "y": {
          "bdata": "pHA9CtejQECkcD0K16NAQGZmZmZm5kBAuB6F61G4QkDNzMzMzMxEQOF6FK5H4UZA",
          "dtype": "f8"
         },
         "yaxis": "y2"
        }
       ],
       "layout": {
        "annotations": [
         {
          "font": {
           "size": 16
          },
          "showarrow": false,
          "text": "% OJVs",
          "x": 0.225,
          "xanchor": "center",
          "xref": "paper",
          "y": 1,
          "yanchor": "bottom",
          "yref": "paper"
         },
         {
          "font": {
           "size": 16
          },
          "showarrow": false,
          "text": "Median Salary ('000 USD)",
          "x": 0.775,
          "xanchor": "center",
          "xref": "paper",
          "y": 1,
          "yanchor": "bottom",
          "yref": "paper"
         }
        ],
        "height": 400,
        "legend": {
         "x": 0.05,
         "xanchor": "left",
         "y": 0.95,
         "yanchor": "top"
        },
        "margin": {
         "b": 50,
         "l": 50,
         "r": 50,
         "t": 50
        },
        "template": {
         "data": {
          "bar": [
           {
            "error_x": {
             "color": "#2a3f5f"
            },
            "error_y": {
             "color": "#2a3f5f"
            },
            "marker": {
             "line": {
              "color": "white",
              "width": 0.5
             },
             "pattern": {
              "fillmode": "overlay",
              "size": 10,
              "solidity": 0.2
             }
            },
            "type": "bar"
           }
          ],
          "barpolar": [
           {
            "marker": {
             "line": {
              "color": "white",
              "width": 0.5
             },
             "pattern": {
              "fillmode": "overlay",
              "size": 10,
              "solidity": 0.2
             }
            },
            "type": "barpolar"
           }
          ],
          "carpet": [
           {
            "aaxis": {
             "endlinecolor": "#2a3f5f",
             "gridcolor": "#C8D4E3",
             "linecolor": "#C8D4E3",
             "minorgridcolor": "#C8D4E3",
             "startlinecolor": "#2a3f5f"
            },
            "baxis": {
             "endlinecolor": "#2a3f5f",
             "gridcolor": "#C8D4E3",
             "linecolor": "#C8D4E3",
             "minorgridcolor": "#C8D4E3",
             "startlinecolor": "#2a3f5f"
            },
            "type": "carpet"
           }
          ],
          "choropleth": [
           {
            "colorbar": {
             "outlinewidth": 0,
             "ticks": ""
            },
            "type": "choropleth"
           }
          ],
          "contour": [
           {
            "colorbar": {
             "outlinewidth": 0,
             "ticks": ""
            },
            "colorscale": [
             [
              0,
              "#0d0887"
             ],
             [
              0.1111111111111111,
              "#46039f"
             ],
             [
              0.2222222222222222,
              "#7201a8"
             ],
             [
              0.3333333333333333,
              "#9c179e"
             ],
             [
              0.4444444444444444,
              "#bd3786"
             ],
             [
              0.5555555555555556,
              "#d8576b"
             ],
             [
              0.6666666666666666,
              "#ed7953"
             ],
             [
              0.7777777777777778,
              "#fb9f3a"
             ],
             [
              0.8888888888888888,
              "#fdca26"
             ],
             [
              1,
              "#f0f921"
             ]
            ],
            "type": "contour"
           }
          ],
          "contourcarpet": [
           {
            "colorbar": {
             "outlinewidth": 0,
             "ticks": ""
            },
            "type": "contourcarpet"
           }
          ],
          "heatmap": [
           {
            "colorbar": {
             "outlinewidth": 0,
             "ticks": ""
            },
            "colorscale": [
             [
              0,
              "#0d0887"
             ],
             [
              0.1111111111111111,
              "#46039f"
             ],
             [
              0.2222222222222222,
              "#7201a8"
             ],
             [
              0.3333333333333333,
              "#9c179e"
             ],
             [
              0.4444444444444444,
              "#bd3786"
             ],
             [
              0.5555555555555556,
              "#d8576b"
             ],
             [
              0.6666666666666666,
              "#ed7953"
             ],
             [
              0.7777777777777778,
              "#fb9f3a"
             ],
             [
              0.8888888888888888,
              "#fdca26"
             ],
             [
              1,
              "#f0f921"
             ]
            ],
            "type": "heatmap"
           }
          ],
          "histogram": [
           {
            "marker": {
             "pattern": {
              "fillmode": "overlay",
              "size": 10,
              "solidity": 0.2
             }
            },
            "type": "histogram"
           }
          ],
          "histogram2d": [
           {
            "colorbar": {
             "outlinewidth": 0,
             "ticks": ""
            },
            "colorscale": [
             [
              0,
              "#0d0887"
             ],
             [
              0.1111111111111111,
              "#46039f"
             ],
             [
              0.2222222222222222,
              "#7201a8"
             ],
             [
              0.3333333333333333,
              "#9c179e"
             ],
             [
              0.4444444444444444,
              "#bd3786"
             ],
             [
              0.5555555555555556,
              "#d8576b"
             ],
             [
              0.6666666666666666,
              "#ed7953"
             ],
             [
              0.7777777777777778,
              "#fb9f3a"
             ],
             [
              0.8888888888888888,
              "#fdca26"
             ],
             [
              1,
              "#f0f921"
             ]
            ],
            "type": "histogram2d"
           }
          ],
          "histogram2dcontour": [
           {
            "colorbar": {
             "outlinewidth": 0,
             "ticks": ""
            },
            "colorscale": [
             [
              0,
              "#0d0887"
             ],
             [
              0.1111111111111111,
              "#46039f"
             ],
             [
              0.2222222222222222,
              "#7201a8"
             ],
             [
              0.3333333333333333,
              "#9c179e"
             ],
             [
              0.4444444444444444,
              "#bd3786"
             ],
             [
              0.5555555555555556,
              "#d8576b"
             ],
             [
              0.6666666666666666,
              "#ed7953"
             ],
             [
              0.7777777777777778,
              "#fb9f3a"
             ],
             [
              0.8888888888888888,
              "#fdca26"
             ],
             [
              1,
              "#f0f921"
             ]
            ],
            "type": "histogram2dcontour"
           }
          ],
          "mesh3d": [
           {
            "colorbar": {
             "outlinewidth": 0,
             "ticks": ""
            },
            "type": "mesh3d"
           }
          ],
          "parcoords": [
           {
            "line": {
             "colorbar": {
              "outlinewidth": 0,
              "ticks": ""
             }
            },
            "type": "parcoords"
           }
          ],
          "pie": [
           {
            "automargin": true,
            "type": "pie"
           }
          ],
          "scatter": [
           {
            "fillpattern": {
             "fillmode": "overlay",
             "size": 10,
             "solidity": 0.2
            },
            "type": "scatter"
           }
          ],
          "scatter3d": [
           {
            "line": {
             "colorbar": {
              "outlinewidth": 0,
              "ticks": ""
             }
            },
            "marker": {
             "colorbar": {
              "outlinewidth": 0,
              "ticks": ""
             }
            },
            "type": "scatter3d"
           }
          ],
          "scattercarpet": [
           {
            "marker": {
             "colorbar": {
              "outlinewidth": 0,
              "ticks": ""
             }
            },
            "type": "scattercarpet"
           }
          ],
          "scattergeo": [
           {
            "marker": {
             "colorbar": {
              "outlinewidth": 0,
              "ticks": ""
             }
            },
            "type": "scattergeo"
           }
          ],
          "scattergl": [
           {
            "marker": {
             "colorbar": {
              "outlinewidth": 0,
              "ticks": ""
             }
            },
            "type": "scattergl"
           }
          ],
          "scattermap": [
           {
            "marker": {
             "colorbar": {
              "outlinewidth": 0,
              "ticks": ""
             }
            },
            "type": "scattermap"
           }
          ],
          "scattermapbox": [
           {
            "marker": {
             "colorbar": {
              "outlinewidth": 0,
              "ticks": ""
             }
            },
            "type": "scattermapbox"
           }
          ],
          "scatterpolar": [
           {
            "marker": {
             "colorbar": {
              "outlinewidth": 0,
              "ticks": ""
             }
            },
            "type": "scatterpolar"
           }
          ],
          "scatterpolargl": [
           {
            "marker": {
             "colorbar": {
              "outlinewidth": 0,
              "ticks": ""
             }
            },
            "type": "scatterpolargl"
           }
          ],
          "scatterternary": [
           {
            "marker": {
             "colorbar": {
              "outlinewidth": 0,
              "ticks": ""
             }
            },
            "type": "scatterternary"
           }
          ],
          "surface": [
           {
            "colorbar": {
             "outlinewidth": 0,
             "ticks": ""
            },
            "colorscale": [
             [
              0,
              "#0d0887"
             ],
             [
              0.1111111111111111,
              "#46039f"
             ],
             [
              0.2222222222222222,
              "#7201a8"
             ],
             [
              0.3333333333333333,
              "#9c179e"
             ],
             [
              0.4444444444444444,
              "#bd3786"
             ],
             [
              0.5555555555555556,
              "#d8576b"
             ],
             [
              0.6666666666666666,
              "#ed7953"
             ],
             [
              0.7777777777777778,
              "#fb9f3a"
             ],
             [
              0.8888888888888888,
              "#fdca26"
             ],
             [
              1,
              "#f0f921"
             ]
            ],
            "type": "surface"
           }
          ],
          "table": [
           {
            "cells": {
             "fill": {
              "color": "#EBF0F8"
             },
             "line": {
              "color": "white"
             }
            },
            "header": {
             "fill": {
              "color": "#C8D4E3"
             },
             "line": {
              "color": "white"
             }
            },
            "type": "table"
           }
          ]
         },
         "layout": {
          "annotationdefaults": {
           "arrowcolor": "#2a3f5f",
           "arrowhead": 0,
           "arrowwidth": 1
          },
          "autotypenumbers": "strict",
          "coloraxis": {
           "colorbar": {
            "outlinewidth": 0,
            "ticks": ""
           }
          },
          "colorscale": {
           "diverging": [
            [
             0,
             "#8e0152"
            ],
            [
             0.1,
             "#c51b7d"
            ],
            [
             0.2,
             "#de77ae"
            ],
            [
             0.3,
             "#f1b6da"
            ],
            [
             0.4,
             "#fde0ef"
            ],
            [
             0.5,
             "#f7f7f7"
            ],
            [
             0.6,
             "#e6f5d0"
            ],
            [
             0.7,
             "#b8e186"
            ],
            [
             0.8,
             "#7fbc41"
            ],
            [
             0.9,
             "#4d9221"
            ],
            [
             1,
             "#276419"
            ]
           ],
           "sequential": [
            [
             0,
             "#0d0887"
            ],
            [
             0.1111111111111111,
             "#46039f"
            ],
            [
             0.2222222222222222,
             "#7201a8"
            ],
            [
             0.3333333333333333,
             "#9c179e"
            ],
            [
             0.4444444444444444,
             "#bd3786"
            ],
            [
             0.5555555555555556,
             "#d8576b"
            ],
            [
             0.6666666666666666,
             "#ed7953"
            ],
            [
             0.7777777777777778,
             "#fb9f3a"
            ],
            [
             0.8888888888888888,
             "#fdca26"
            ],
            [
             1,
             "#f0f921"
            ]
           ],
           "sequentialminus": [
            [
             0,
             "#0d0887"
            ],
            [
             0.1111111111111111,
             "#46039f"
            ],
            [
             0.2222222222222222,
             "#7201a8"
            ],
            [
             0.3333333333333333,
             "#9c179e"
            ],
            [
             0.4444444444444444,
             "#bd3786"
            ],
            [
             0.5555555555555556,
             "#d8576b"
            ],
            [
             0.6666666666666666,
             "#ed7953"
            ],
            [
             0.7777777777777778,
             "#fb9f3a"
            ],
            [
             0.8888888888888888,
             "#fdca26"
            ],
            [
             1,
             "#f0f921"
            ]
           ]
          },
          "colorway": [
           "#636efa",
           "#EF553B",
           "#00cc96",
           "#ab63fa",
           "#FFA15A",
           "#19d3f3",
           "#FF6692",
           "#B6E880",
           "#FF97FF",
           "#FECB52"
          ],
          "font": {
           "color": "#2a3f5f"
          },
          "geo": {
           "bgcolor": "white",
           "lakecolor": "white",
           "landcolor": "white",
           "showlakes": true,
           "showland": true,
           "subunitcolor": "#C8D4E3"
          },
          "hoverlabel": {
           "align": "left"
          },
          "hovermode": "closest",
          "mapbox": {
           "style": "light"
          },
          "paper_bgcolor": "white",
          "plot_bgcolor": "white",
          "polar": {
           "angularaxis": {
            "gridcolor": "#EBF0F8",
            "linecolor": "#EBF0F8",
            "ticks": ""
           },
           "bgcolor": "white",
           "radialaxis": {
            "gridcolor": "#EBF0F8",
            "linecolor": "#EBF0F8",
            "ticks": ""
           }
          },
          "scene": {
           "xaxis": {
            "backgroundcolor": "white",
            "gridcolor": "#DFE8F3",
            "gridwidth": 2,
            "linecolor": "#EBF0F8",
            "showbackground": true,
            "ticks": "",
            "zerolinecolor": "#EBF0F8"
           },
           "yaxis": {
            "backgroundcolor": "white",
            "gridcolor": "#DFE8F3",
            "gridwidth": 2,
            "linecolor": "#EBF0F8",
            "showbackground": true,
            "ticks": "",
            "zerolinecolor": "#EBF0F8"
           },
           "zaxis": {
            "backgroundcolor": "white",
            "gridcolor": "#DFE8F3",
            "gridwidth": 2,
            "linecolor": "#EBF0F8",
            "showbackground": true,
            "ticks": "",
            "zerolinecolor": "#EBF0F8"
           }
          },
          "shapedefaults": {
           "line": {
            "color": "#2a3f5f"
           }
          },
          "ternary": {
           "aaxis": {
            "gridcolor": "#DFE8F3",
            "linecolor": "#A2B1C6",
            "ticks": ""
           },
           "baxis": {
            "gridcolor": "#DFE8F3",
            "linecolor": "#A2B1C6",
            "ticks": ""
           },
           "bgcolor": "white",
           "caxis": {
            "gridcolor": "#DFE8F3",
            "linecolor": "#A2B1C6",
            "ticks": ""
           }
          },
          "title": {
           "x": 0.05
          },
          "xaxis": {
           "automargin": true,
           "gridcolor": "#EBF0F8",
           "linecolor": "#EBF0F8",
           "ticks": "",
           "title": {
            "standoff": 15
           },
           "zerolinecolor": "#EBF0F8",
           "zerolinewidth": 2
          },
          "yaxis": {
           "automargin": true,
           "gridcolor": "#EBF0F8",
           "linecolor": "#EBF0F8",
           "ticks": "",
           "title": {
            "standoff": 15
           },
           "zerolinecolor": "#EBF0F8",
           "zerolinewidth": 2
          }
         }
        },
        "width": 800,
        "xaxis": {
         "anchor": "y",
         "domain": [
          0,
          0.45
         ],
         "showgrid": false,
         "title": {
          "text": "Year"
         }
        },
        "xaxis2": {
         "anchor": "y2",
         "domain": [
          0.55,
          1
         ]
        },
        "yaxis": {
         "anchor": "x",
         "domain": [
          0,
          1
         ],
         "range": [
          0,
          100
         ],
         "showgrid": false
        },
        "yaxis2": {
         "anchor": "x2",
         "domain": [
          0,
          1
         ]
        }
       }
      }
     },
     "metadata": {},
     "output_type": "display_data"
    }
   ],
   "source": [
    "# calculate the proportion of substitutable and complementary skills for each year and AI status\n",
    "proportions_df = posts_df \\\n",
    "    .groupby([\"AI\", \"YEAR\"]) \\\n",
    "    .agg({\"COMPLEMENT\": \"mean\", \"SUBSTITUTE\": \"mean\"}).reset_index()\n",
    "\n",
    "# get median salary for AI/non-AI posts with complementary skills\n",
    "complement_salaries_df = posts_df \\\n",
    "    .groupby([\"AI\", \"COMPLEMENT\", \"YEAR\"]) \\\n",
    "    .agg({\"SALARY\": \"median\"}).reset_index()\n",
    "complement_salaries_df = complement_salaries_df[complement_salaries_df[\"COMPLEMENT\"] == 1]\n",
    "\n",
    "# get median salary for AI/non-AI posts with substitutable skills\n",
    "substitute_salaries_df = posts_df \\\n",
    "    .groupby([\"AI\", \"SUBSTITUTE\", \"YEAR\"]) \\\n",
    "    .agg({\"SALARY\": \"median\"}).reset_index()\n",
    "substitute_salaries_df = substitute_salaries_df[substitute_salaries_df[\"SUBSTITUTE\"] == 1]\n",
    "\n",
    "fig = make_subplots(\n",
    "    rows=1, cols=2,\n",
    "    subplot_titles=[\n",
    "        \"% OJVs\",\n",
    "        \"Median Salary ('000 USD)\"\n",
    "    ],\n",
    "    shared_xaxes=False\n",
    ")\n",
    "\n",
    "color_map = {\"COMPLEMENT\": \"blue\", \"SUBSTITUTE\": \"red\"}\n",
    "skill_types = [\"COMPLEMENT\", \"SUBSTITUTE\"]\n",
    "\n",
    "# display the proportion of substitutable and complementary skills\n",
    "for ai_val in [True, False]:\n",
    "    dash_style = \"dot\" if ai_val else \"solid\"\n",
    "    for skill in skill_types:\n",
    "        df = proportions_df[proportions_df[\"AI\"] == ai_val]\n",
    "        fig.add_trace(\n",
    "            go.Scatter(\n",
    "                x=df[\"YEAR\"],\n",
    "                y=df[skill] * 100,\n",
    "                mode=\"lines\",\n",
    "                name=f\"{skill.title()} ({'of AI posts' if ai_val else 'of Non-AI posts'})\",\n",
    "                line=dict(color=color_map[skill], dash=dash_style),\n",
    "                showlegend=True\n",
    "            ),\n",
    "            row=1, col=1\n",
    "        )\n",
    "  \n",
    "# display the median salary for AI/non-AI posts with substitutable and complementary skills      \n",
    "for ai_val in [True, False]:\n",
    "    for skill in skill_types:\n",
    "        df = substitute_salaries_df if skill == \"SUBSTITUTE\" else complement_salaries_df\n",
    "        df = df[df[\"AI\"] == ai_val]\n",
    "        fig.add_trace(\n",
    "            go.Scatter(\n",
    "                x=df[\"YEAR\"],\n",
    "                y=df[\"SALARY\"] / 1000,  # Convert to thousands\n",
    "                mode=\"lines\",\n",
    "                line=dict(color=color_map[skill], dash=\"dot\" if ai_val else \"solid\"),\n",
    "                showlegend=False\n",
    "            ),\n",
    "            row=1, col=2\n",
    "        )\n",
    "\n",
    "fig.update_layout(\n",
    "    xaxis_title=\"Year\",\n",
    "    template=\"plotly_white\",\n",
    "    xaxis_showgrid=False,\n",
    "    yaxis_showgrid=False,\n",
    "    yaxis_range=[0, 100],\n",
    "    margin=dict(l=50, r=50, t=50, b=50),\n",
    "    width=800,\n",
    "    height=400,\n",
    "    legend=dict(\n",
    "        yanchor=\"top\",\n",
    "        y=.95,\n",
    "        xanchor=\"left\",\n",
    "        x=.05\n",
    "    )\n",
    ")\n",
    "\n",
    "fig.show()\n",
    "\n",
    "fig.write_image(\"figures/proportions_salaries_ts.png\", width=800, height=400, scale=2)"
   ]
  },
  {
   "cell_type": "code",
   "execution_count": 72,
   "id": "b9455387",
   "metadata": {},
   "outputs": [
    {
     "name": "stdout",
     "output_type": "stream",
     "text": [
      "Proportion of AI posts in Total: 0.45%\n"
     ]
    }
   ],
   "source": [
    "mean_ai_posts = posts_df[\"AI\"].mean()\n",
    "print(f\"Proportion of AI posts in Total: {mean_ai_posts:.2%}\")"
   ]
  },
  {
   "cell_type": "code",
   "execution_count": 73,
   "id": "459d6234",
   "metadata": {},
   "outputs": [
    {
     "data": {
      "application/vnd.plotly.v1+json": {
       "config": {
        "plotlyServerURL": "https://plot.ly"
       },
       "data": [
        {
         "mode": "lines+markers",
         "name": "Summary Report",
         "type": "scatter",
         "x": {
          "bdata": "4gfjB+QH5QfmB+cH",
          "dtype": "i2"
         },
         "y": {
          "bdata": "725535TA3T+ZSYbJe/bjP01eB57/U+k/BJuC0cF95j+PLfUS2vLmP7E7k078FeQ/",
          "dtype": "f8"
         }
        },
        {
         "mode": "lines+markers",
         "name": "Language Review",
         "type": "scatter",
         "x": {
          "bdata": "4gfjB+QH5QfmB+cH",
          "dtype": "i2"
         },
         "y": {
          "bdata": "VIIktxPB5T+/2idmEE7hP6ybMWh4YeA/DgvPcb/34D9yB4xIvefhP4K9j0HSGOY/",
          "dtype": "f8"
         }
        },
        {
         "mode": "lines+markers",
         "name": "Customer Service",
         "type": "scatter",
         "x": {
          "bdata": "4gfjB+QH5QfmB+cH",
          "dtype": "i2"
         },
         "y": {
          "bdata": "rIJ0EXGk2D9QcMRCifbaP0ViKxkgSdw/xynaNAIy3D+bnxIifQvhP2NLnKKeet0/",
          "dtype": "f8"
         }
        },
        {
         "mode": "lines+markers",
         "name": "Office Admin",
         "type": "scatter",
         "x": {
          "bdata": "4gfjB+QH5QfmB+cH",
          "dtype": "i2"
         },
         "y": {
          "bdata": "wIE7sxBW0z900aLzGrvaP6GIGRWS6eM/Cv5UZn9W5D8ycewmTdLgPziKHs9IjOY/",
          "dtype": "f8"
         }
        }
       ],
       "layout": {
        "annotations": [
         {
          "font": {
           "color": "gray"
          },
          "showarrow": false,
          "text": "Odds Ratio = 1",
          "x": 1,
          "xanchor": "right",
          "xref": "x domain",
          "y": 1,
          "yanchor": "top",
          "yref": "y"
         }
        ],
        "height": 400,
        "legend": {
         "bordercolor": "Black",
         "borderwidth": 1,
         "font": {
          "size": 10
         },
         "orientation": "h",
         "title": {},
         "x": 0.5,
         "xanchor": "center",
         "y": 0.85,
         "yanchor": "bottom"
        },
        "margin": {
         "b": 50,
         "l": 50,
         "r": 50,
         "t": 50
        },
        "shapes": [
         {
          "line": {
           "color": "gray",
           "dash": "dash"
          },
          "type": "line",
          "x0": 0,
          "x1": 1,
          "xref": "x domain",
          "y0": 1,
          "y1": 1,
          "yref": "y"
         }
        ],
        "template": {
         "data": {
          "bar": [
           {
            "error_x": {
             "color": "#2a3f5f"
            },
            "error_y": {
             "color": "#2a3f5f"
            },
            "marker": {
             "line": {
              "color": "white",
              "width": 0.5
             },
             "pattern": {
              "fillmode": "overlay",
              "size": 10,
              "solidity": 0.2
             }
            },
            "type": "bar"
           }
          ],
          "barpolar": [
           {
            "marker": {
             "line": {
              "color": "white",
              "width": 0.5
             },
             "pattern": {
              "fillmode": "overlay",
              "size": 10,
              "solidity": 0.2
             }
            },
            "type": "barpolar"
           }
          ],
          "carpet": [
           {
            "aaxis": {
             "endlinecolor": "#2a3f5f",
             "gridcolor": "#C8D4E3",
             "linecolor": "#C8D4E3",
             "minorgridcolor": "#C8D4E3",
             "startlinecolor": "#2a3f5f"
            },
            "baxis": {
             "endlinecolor": "#2a3f5f",
             "gridcolor": "#C8D4E3",
             "linecolor": "#C8D4E3",
             "minorgridcolor": "#C8D4E3",
             "startlinecolor": "#2a3f5f"
            },
            "type": "carpet"
           }
          ],
          "choropleth": [
           {
            "colorbar": {
             "outlinewidth": 0,
             "ticks": ""
            },
            "type": "choropleth"
           }
          ],
          "contour": [
           {
            "colorbar": {
             "outlinewidth": 0,
             "ticks": ""
            },
            "colorscale": [
             [
              0,
              "#0d0887"
             ],
             [
              0.1111111111111111,
              "#46039f"
             ],
             [
              0.2222222222222222,
              "#7201a8"
             ],
             [
              0.3333333333333333,
              "#9c179e"
             ],
             [
              0.4444444444444444,
              "#bd3786"
             ],
             [
              0.5555555555555556,
              "#d8576b"
             ],
             [
              0.6666666666666666,
              "#ed7953"
             ],
             [
              0.7777777777777778,
              "#fb9f3a"
             ],
             [
              0.8888888888888888,
              "#fdca26"
             ],
             [
              1,
              "#f0f921"
             ]
            ],
            "type": "contour"
           }
          ],
          "contourcarpet": [
           {
            "colorbar": {
             "outlinewidth": 0,
             "ticks": ""
            },
            "type": "contourcarpet"
           }
          ],
          "heatmap": [
           {
            "colorbar": {
             "outlinewidth": 0,
             "ticks": ""
            },
            "colorscale": [
             [
              0,
              "#0d0887"
             ],
             [
              0.1111111111111111,
              "#46039f"
             ],
             [
              0.2222222222222222,
              "#7201a8"
             ],
             [
              0.3333333333333333,
              "#9c179e"
             ],
             [
              0.4444444444444444,
              "#bd3786"
             ],
             [
              0.5555555555555556,
              "#d8576b"
             ],
             [
              0.6666666666666666,
              "#ed7953"
             ],
             [
              0.7777777777777778,
              "#fb9f3a"
             ],
             [
              0.8888888888888888,
              "#fdca26"
             ],
             [
              1,
              "#f0f921"
             ]
            ],
            "type": "heatmap"
           }
          ],
          "histogram": [
           {
            "marker": {
             "pattern": {
              "fillmode": "overlay",
              "size": 10,
              "solidity": 0.2
             }
            },
            "type": "histogram"
           }
          ],
          "histogram2d": [
           {
            "colorbar": {
             "outlinewidth": 0,
             "ticks": ""
            },
            "colorscale": [
             [
              0,
              "#0d0887"
             ],
             [
              0.1111111111111111,
              "#46039f"
             ],
             [
              0.2222222222222222,
              "#7201a8"
             ],
             [
              0.3333333333333333,
              "#9c179e"
             ],
             [
              0.4444444444444444,
              "#bd3786"
             ],
             [
              0.5555555555555556,
              "#d8576b"
             ],
             [
              0.6666666666666666,
              "#ed7953"
             ],
             [
              0.7777777777777778,
              "#fb9f3a"
             ],
             [
              0.8888888888888888,
              "#fdca26"
             ],
             [
              1,
              "#f0f921"
             ]
            ],
            "type": "histogram2d"
           }
          ],
          "histogram2dcontour": [
           {
            "colorbar": {
             "outlinewidth": 0,
             "ticks": ""
            },
            "colorscale": [
             [
              0,
              "#0d0887"
             ],
             [
              0.1111111111111111,
              "#46039f"
             ],
             [
              0.2222222222222222,
              "#7201a8"
             ],
             [
              0.3333333333333333,
              "#9c179e"
             ],
             [
              0.4444444444444444,
              "#bd3786"
             ],
             [
              0.5555555555555556,
              "#d8576b"
             ],
             [
              0.6666666666666666,
              "#ed7953"
             ],
             [
              0.7777777777777778,
              "#fb9f3a"
             ],
             [
              0.8888888888888888,
              "#fdca26"
             ],
             [
              1,
              "#f0f921"
             ]
            ],
            "type": "histogram2dcontour"
           }
          ],
          "mesh3d": [
           {
            "colorbar": {
             "outlinewidth": 0,
             "ticks": ""
            },
            "type": "mesh3d"
           }
          ],
          "parcoords": [
           {
            "line": {
             "colorbar": {
              "outlinewidth": 0,
              "ticks": ""
             }
            },
            "type": "parcoords"
           }
          ],
          "pie": [
           {
            "automargin": true,
            "type": "pie"
           }
          ],
          "scatter": [
           {
            "fillpattern": {
             "fillmode": "overlay",
             "size": 10,
             "solidity": 0.2
            },
            "type": "scatter"
           }
          ],
          "scatter3d": [
           {
            "line": {
             "colorbar": {
              "outlinewidth": 0,
              "ticks": ""
             }
            },
            "marker": {
             "colorbar": {
              "outlinewidth": 0,
              "ticks": ""
             }
            },
            "type": "scatter3d"
           }
          ],
          "scattercarpet": [
           {
            "marker": {
             "colorbar": {
              "outlinewidth": 0,
              "ticks": ""
             }
            },
            "type": "scattercarpet"
           }
          ],
          "scattergeo": [
           {
            "marker": {
             "colorbar": {
              "outlinewidth": 0,
              "ticks": ""
             }
            },
            "type": "scattergeo"
           }
          ],
          "scattergl": [
           {
            "marker": {
             "colorbar": {
              "outlinewidth": 0,
              "ticks": ""
             }
            },
            "type": "scattergl"
           }
          ],
          "scattermap": [
           {
            "marker": {
             "colorbar": {
              "outlinewidth": 0,
              "ticks": ""
             }
            },
            "type": "scattermap"
           }
          ],
          "scattermapbox": [
           {
            "marker": {
             "colorbar": {
              "outlinewidth": 0,
              "ticks": ""
             }
            },
            "type": "scattermapbox"
           }
          ],
          "scatterpolar": [
           {
            "marker": {
             "colorbar": {
              "outlinewidth": 0,
              "ticks": ""
             }
            },
            "type": "scatterpolar"
           }
          ],
          "scatterpolargl": [
           {
            "marker": {
             "colorbar": {
              "outlinewidth": 0,
              "ticks": ""
             }
            },
            "type": "scatterpolargl"
           }
          ],
          "scatterternary": [
           {
            "marker": {
             "colorbar": {
              "outlinewidth": 0,
              "ticks": ""
             }
            },
            "type": "scatterternary"
           }
          ],
          "surface": [
           {
            "colorbar": {
             "outlinewidth": 0,
             "ticks": ""
            },
            "colorscale": [
             [
              0,
              "#0d0887"
             ],
             [
              0.1111111111111111,
              "#46039f"
             ],
             [
              0.2222222222222222,
              "#7201a8"
             ],
             [
              0.3333333333333333,
              "#9c179e"
             ],
             [
              0.4444444444444444,
              "#bd3786"
             ],
             [
              0.5555555555555556,
              "#d8576b"
             ],
             [
              0.6666666666666666,
              "#ed7953"
             ],
             [
              0.7777777777777778,
              "#fb9f3a"
             ],
             [
              0.8888888888888888,
              "#fdca26"
             ],
             [
              1,
              "#f0f921"
             ]
            ],
            "type": "surface"
           }
          ],
          "table": [
           {
            "cells": {
             "fill": {
              "color": "#EBF0F8"
             },
             "line": {
              "color": "white"
             }
            },
            "header": {
             "fill": {
              "color": "#C8D4E3"
             },
             "line": {
              "color": "white"
             }
            },
            "type": "table"
           }
          ]
         },
         "layout": {
          "annotationdefaults": {
           "arrowcolor": "#2a3f5f",
           "arrowhead": 0,
           "arrowwidth": 1
          },
          "autotypenumbers": "strict",
          "coloraxis": {
           "colorbar": {
            "outlinewidth": 0,
            "ticks": ""
           }
          },
          "colorscale": {
           "diverging": [
            [
             0,
             "#8e0152"
            ],
            [
             0.1,
             "#c51b7d"
            ],
            [
             0.2,
             "#de77ae"
            ],
            [
             0.3,
             "#f1b6da"
            ],
            [
             0.4,
             "#fde0ef"
            ],
            [
             0.5,
             "#f7f7f7"
            ],
            [
             0.6,
             "#e6f5d0"
            ],
            [
             0.7,
             "#b8e186"
            ],
            [
             0.8,
             "#7fbc41"
            ],
            [
             0.9,
             "#4d9221"
            ],
            [
             1,
             "#276419"
            ]
           ],
           "sequential": [
            [
             0,
             "#0d0887"
            ],
            [
             0.1111111111111111,
             "#46039f"
            ],
            [
             0.2222222222222222,
             "#7201a8"
            ],
            [
             0.3333333333333333,
             "#9c179e"
            ],
            [
             0.4444444444444444,
             "#bd3786"
            ],
            [
             0.5555555555555556,
             "#d8576b"
            ],
            [
             0.6666666666666666,
             "#ed7953"
            ],
            [
             0.7777777777777778,
             "#fb9f3a"
            ],
            [
             0.8888888888888888,
             "#fdca26"
            ],
            [
             1,
             "#f0f921"
            ]
           ],
           "sequentialminus": [
            [
             0,
             "#0d0887"
            ],
            [
             0.1111111111111111,
             "#46039f"
            ],
            [
             0.2222222222222222,
             "#7201a8"
            ],
            [
             0.3333333333333333,
             "#9c179e"
            ],
            [
             0.4444444444444444,
             "#bd3786"
            ],
            [
             0.5555555555555556,
             "#d8576b"
            ],
            [
             0.6666666666666666,
             "#ed7953"
            ],
            [
             0.7777777777777778,
             "#fb9f3a"
            ],
            [
             0.8888888888888888,
             "#fdca26"
            ],
            [
             1,
             "#f0f921"
            ]
           ]
          },
          "colorway": [
           "#636efa",
           "#EF553B",
           "#00cc96",
           "#ab63fa",
           "#FFA15A",
           "#19d3f3",
           "#FF6692",
           "#B6E880",
           "#FF97FF",
           "#FECB52"
          ],
          "font": {
           "color": "#2a3f5f"
          },
          "geo": {
           "bgcolor": "white",
           "lakecolor": "white",
           "landcolor": "white",
           "showlakes": true,
           "showland": true,
           "subunitcolor": "#C8D4E3"
          },
          "hoverlabel": {
           "align": "left"
          },
          "hovermode": "closest",
          "mapbox": {
           "style": "light"
          },
          "paper_bgcolor": "white",
          "plot_bgcolor": "white",
          "polar": {
           "angularaxis": {
            "gridcolor": "#EBF0F8",
            "linecolor": "#EBF0F8",
            "ticks": ""
           },
           "bgcolor": "white",
           "radialaxis": {
            "gridcolor": "#EBF0F8",
            "linecolor": "#EBF0F8",
            "ticks": ""
           }
          },
          "scene": {
           "xaxis": {
            "backgroundcolor": "white",
            "gridcolor": "#DFE8F3",
            "gridwidth": 2,
            "linecolor": "#EBF0F8",
            "showbackground": true,
            "ticks": "",
            "zerolinecolor": "#EBF0F8"
           },
           "yaxis": {
            "backgroundcolor": "white",
            "gridcolor": "#DFE8F3",
            "gridwidth": 2,
            "linecolor": "#EBF0F8",
            "showbackground": true,
            "ticks": "",
            "zerolinecolor": "#EBF0F8"
           },
           "zaxis": {
            "backgroundcolor": "white",
            "gridcolor": "#DFE8F3",
            "gridwidth": 2,
            "linecolor": "#EBF0F8",
            "showbackground": true,
            "ticks": "",
            "zerolinecolor": "#EBF0F8"
           }
          },
          "shapedefaults": {
           "line": {
            "color": "#2a3f5f"
           }
          },
          "ternary": {
           "aaxis": {
            "gridcolor": "#DFE8F3",
            "linecolor": "#A2B1C6",
            "ticks": ""
           },
           "baxis": {
            "gridcolor": "#DFE8F3",
            "linecolor": "#A2B1C6",
            "ticks": ""
           },
           "bgcolor": "white",
           "caxis": {
            "gridcolor": "#DFE8F3",
            "linecolor": "#A2B1C6",
            "ticks": ""
           }
          },
          "title": {
           "x": 0.05
          },
          "xaxis": {
           "automargin": true,
           "gridcolor": "#EBF0F8",
           "linecolor": "#EBF0F8",
           "ticks": "",
           "title": {
            "standoff": 15
           },
           "zerolinecolor": "#EBF0F8",
           "zerolinewidth": 2
          },
          "yaxis": {
           "automargin": true,
           "gridcolor": "#EBF0F8",
           "linecolor": "#EBF0F8",
           "ticks": "",
           "title": {
            "standoff": 15
           },
           "zerolinecolor": "#EBF0F8",
           "zerolinewidth": 2
          }
         }
        },
        "title": {
         "text": "Odds Ratios for demand of substitutable skills (AI Roles / Non-AI Roles)"
        },
        "width": 800,
        "xaxis": {
         "showgrid": false,
         "title": {
          "text": "Year"
         }
        },
        "yaxis": {
         "range": [
          0,
          2.25
         ],
         "showgrid": false,
         "title": {
          "text": "Odds Ratio"
         }
        }
       }
      }
     },
     "metadata": {},
     "output_type": "display_data"
    },
    {
     "data": {
      "application/vnd.plotly.v1+json": {
       "config": {
        "plotlyServerURL": "https://plot.ly"
       },
       "data": [
        {
         "mode": "lines+markers",
         "name": "Analytical Thinking",
         "type": "scatter",
         "x": {
          "bdata": "4gfjB+QH5QfmB+cH",
          "dtype": "i2"
         },
         "y": {
          "bdata": "T8vSQ+FK+D8viNTg5Sr5Py7UGWFGvvo/DonOnjCc+D9e4FrEu/37PyesjCH87vw/",
          "dtype": "f8"
         }
        },
        {
         "mode": "lines+markers",
         "name": "Digital Literacy",
         "type": "scatter",
         "x": {
          "bdata": "4gfjB+QH5QfmB+cH",
          "dtype": "i2"
         },
         "y": {
          "bdata": "nmeysbVE1j+IPnw0dJTaP5AwPXyod9c/WkUkEmO+1z8Y6TwW9cjZPxkTE1DBJd0/",
          "dtype": "f8"
         }
        },
        {
         "mode": "lines+markers",
         "name": "Resilience",
         "type": "scatter",
         "x": {
          "bdata": "4gfjB+QH5QfmB+cH",
          "dtype": "i2"
         },
         "y": {
          "bdata": "kMyXoJ547T9KpqVDN87wP1hOjV5zWe8//85M8ejp8j+pW0VLNV/1P7Qrim6k5/s/",
          "dtype": "f8"
         }
        },
        {
         "mode": "lines+markers",
         "name": "Technical Proficiency",
         "type": "scatter",
         "x": {
          "bdata": "4gfjB+QH5QfmB+cH",
          "dtype": "i2"
         },
         "y": {
          "bdata": "Xd4sZXkz8j9UWyF9DTTtP27Ilte5Iu8/t7lJqRYk9D+uP7aS1OPxPxh/vFlPqfA/",
          "dtype": "f8"
         }
        },
        {
         "mode": "lines+markers",
         "name": "Ethics",
         "type": "scatter",
         "x": {
          "bdata": "4gfjB+QH5QfmB+cH",
          "dtype": "i2"
         },
         "y": {
          "bdata": "4D5ifiuf2D9flLe2VlXdP74WAdOdZ9g/dfojZEul4D8/VbYBc4nkP+naMkD04eA/",
          "dtype": "f8"
         }
        },
        {
         "mode": "lines+markers",
         "name": "Working Others",
         "type": "scatter",
         "x": {
          "bdata": "4gfjB+QH5QfmB+cH",
          "dtype": "i2"
         },
         "y": {
          "bdata": "i0n1Lryc8T8RoKcEn+jxP7OWUWZ9KvQ/T+gZlBVH9z9imlyBQ6D1P2eSonFtDPc/",
          "dtype": "f8"
         }
        },
        {
         "mode": "lines+markers",
         "name": "Self Efficiency",
         "type": "scatter",
         "x": {
          "bdata": "4gfjB+QH5QfmB+cH",
          "dtype": "i2"
         },
         "y": {
          "bdata": "DvCn/ay3/D8ZcyJ5UIH4PwZIl+O7vPc/OC1ynp9v9D8bLXL4Mu/0P4kNmMA+RPQ/",
          "dtype": "f8"
         }
        }
       ],
       "layout": {
        "annotations": [
         {
          "font": {
           "color": "gray"
          },
          "showarrow": false,
          "text": "Odds Ratio = 1",
          "x": 1,
          "xanchor": "right",
          "xref": "x domain",
          "y": 1,
          "yanchor": "top",
          "yref": "y"
         }
        ],
        "height": 400,
        "legend": {
         "bordercolor": "Black",
         "borderwidth": 1,
         "font": {
          "size": 10
         },
         "orientation": "h",
         "title": {},
         "x": 0.5,
         "xanchor": "center",
         "y": 0.85,
         "yanchor": "bottom"
        },
        "margin": {
         "b": 50,
         "l": 50,
         "r": 50,
         "t": 50
        },
        "shapes": [
         {
          "line": {
           "color": "gray",
           "dash": "dash"
          },
          "type": "line",
          "x0": 0,
          "x1": 1,
          "xref": "x domain",
          "y0": 1,
          "y1": 1,
          "yref": "y"
         }
        ],
        "template": {
         "data": {
          "bar": [
           {
            "error_x": {
             "color": "#2a3f5f"
            },
            "error_y": {
             "color": "#2a3f5f"
            },
            "marker": {
             "line": {
              "color": "white",
              "width": 0.5
             },
             "pattern": {
              "fillmode": "overlay",
              "size": 10,
              "solidity": 0.2
             }
            },
            "type": "bar"
           }
          ],
          "barpolar": [
           {
            "marker": {
             "line": {
              "color": "white",
              "width": 0.5
             },
             "pattern": {
              "fillmode": "overlay",
              "size": 10,
              "solidity": 0.2
             }
            },
            "type": "barpolar"
           }
          ],
          "carpet": [
           {
            "aaxis": {
             "endlinecolor": "#2a3f5f",
             "gridcolor": "#C8D4E3",
             "linecolor": "#C8D4E3",
             "minorgridcolor": "#C8D4E3",
             "startlinecolor": "#2a3f5f"
            },
            "baxis": {
             "endlinecolor": "#2a3f5f",
             "gridcolor": "#C8D4E3",
             "linecolor": "#C8D4E3",
             "minorgridcolor": "#C8D4E3",
             "startlinecolor": "#2a3f5f"
            },
            "type": "carpet"
           }
          ],
          "choropleth": [
           {
            "colorbar": {
             "outlinewidth": 0,
             "ticks": ""
            },
            "type": "choropleth"
           }
          ],
          "contour": [
           {
            "colorbar": {
             "outlinewidth": 0,
             "ticks": ""
            },
            "colorscale": [
             [
              0,
              "#0d0887"
             ],
             [
              0.1111111111111111,
              "#46039f"
             ],
             [
              0.2222222222222222,
              "#7201a8"
             ],
             [
              0.3333333333333333,
              "#9c179e"
             ],
             [
              0.4444444444444444,
              "#bd3786"
             ],
             [
              0.5555555555555556,
              "#d8576b"
             ],
             [
              0.6666666666666666,
              "#ed7953"
             ],
             [
              0.7777777777777778,
              "#fb9f3a"
             ],
             [
              0.8888888888888888,
              "#fdca26"
             ],
             [
              1,
              "#f0f921"
             ]
            ],
            "type": "contour"
           }
          ],
          "contourcarpet": [
           {
            "colorbar": {
             "outlinewidth": 0,
             "ticks": ""
            },
            "type": "contourcarpet"
           }
          ],
          "heatmap": [
           {
            "colorbar": {
             "outlinewidth": 0,
             "ticks": ""
            },
            "colorscale": [
             [
              0,
              "#0d0887"
             ],
             [
              0.1111111111111111,
              "#46039f"
             ],
             [
              0.2222222222222222,
              "#7201a8"
             ],
             [
              0.3333333333333333,
              "#9c179e"
             ],
             [
              0.4444444444444444,
              "#bd3786"
             ],
             [
              0.5555555555555556,
              "#d8576b"
             ],
             [
              0.6666666666666666,
              "#ed7953"
             ],
             [
              0.7777777777777778,
              "#fb9f3a"
             ],
             [
              0.8888888888888888,
              "#fdca26"
             ],
             [
              1,
              "#f0f921"
             ]
            ],
            "type": "heatmap"
           }
          ],
          "histogram": [
           {
            "marker": {
             "pattern": {
              "fillmode": "overlay",
              "size": 10,
              "solidity": 0.2
             }
            },
            "type": "histogram"
           }
          ],
          "histogram2d": [
           {
            "colorbar": {
             "outlinewidth": 0,
             "ticks": ""
            },
            "colorscale": [
             [
              0,
              "#0d0887"
             ],
             [
              0.1111111111111111,
              "#46039f"
             ],
             [
              0.2222222222222222,
              "#7201a8"
             ],
             [
              0.3333333333333333,
              "#9c179e"
             ],
             [
              0.4444444444444444,
              "#bd3786"
             ],
             [
              0.5555555555555556,
              "#d8576b"
             ],
             [
              0.6666666666666666,
              "#ed7953"
             ],
             [
              0.7777777777777778,
              "#fb9f3a"
             ],
             [
              0.8888888888888888,
              "#fdca26"
             ],
             [
              1,
              "#f0f921"
             ]
            ],
            "type": "histogram2d"
           }
          ],
          "histogram2dcontour": [
           {
            "colorbar": {
             "outlinewidth": 0,
             "ticks": ""
            },
            "colorscale": [
             [
              0,
              "#0d0887"
             ],
             [
              0.1111111111111111,
              "#46039f"
             ],
             [
              0.2222222222222222,
              "#7201a8"
             ],
             [
              0.3333333333333333,
              "#9c179e"
             ],
             [
              0.4444444444444444,
              "#bd3786"
             ],
             [
              0.5555555555555556,
              "#d8576b"
             ],
             [
              0.6666666666666666,
              "#ed7953"
             ],
             [
              0.7777777777777778,
              "#fb9f3a"
             ],
             [
              0.8888888888888888,
              "#fdca26"
             ],
             [
              1,
              "#f0f921"
             ]
            ],
            "type": "histogram2dcontour"
           }
          ],
          "mesh3d": [
           {
            "colorbar": {
             "outlinewidth": 0,
             "ticks": ""
            },
            "type": "mesh3d"
           }
          ],
          "parcoords": [
           {
            "line": {
             "colorbar": {
              "outlinewidth": 0,
              "ticks": ""
             }
            },
            "type": "parcoords"
           }
          ],
          "pie": [
           {
            "automargin": true,
            "type": "pie"
           }
          ],
          "scatter": [
           {
            "fillpattern": {
             "fillmode": "overlay",
             "size": 10,
             "solidity": 0.2
            },
            "type": "scatter"
           }
          ],
          "scatter3d": [
           {
            "line": {
             "colorbar": {
              "outlinewidth": 0,
              "ticks": ""
             }
            },
            "marker": {
             "colorbar": {
              "outlinewidth": 0,
              "ticks": ""
             }
            },
            "type": "scatter3d"
           }
          ],
          "scattercarpet": [
           {
            "marker": {
             "colorbar": {
              "outlinewidth": 0,
              "ticks": ""
             }
            },
            "type": "scattercarpet"
           }
          ],
          "scattergeo": [
           {
            "marker": {
             "colorbar": {
              "outlinewidth": 0,
              "ticks": ""
             }
            },
            "type": "scattergeo"
           }
          ],
          "scattergl": [
           {
            "marker": {
             "colorbar": {
              "outlinewidth": 0,
              "ticks": ""
             }
            },
            "type": "scattergl"
           }
          ],
          "scattermap": [
           {
            "marker": {
             "colorbar": {
              "outlinewidth": 0,
              "ticks": ""
             }
            },
            "type": "scattermap"
           }
          ],
          "scattermapbox": [
           {
            "marker": {
             "colorbar": {
              "outlinewidth": 0,
              "ticks": ""
             }
            },
            "type": "scattermapbox"
           }
          ],
          "scatterpolar": [
           {
            "marker": {
             "colorbar": {
              "outlinewidth": 0,
              "ticks": ""
             }
            },
            "type": "scatterpolar"
           }
          ],
          "scatterpolargl": [
           {
            "marker": {
             "colorbar": {
              "outlinewidth": 0,
              "ticks": ""
             }
            },
            "type": "scatterpolargl"
           }
          ],
          "scatterternary": [
           {
            "marker": {
             "colorbar": {
              "outlinewidth": 0,
              "ticks": ""
             }
            },
            "type": "scatterternary"
           }
          ],
          "surface": [
           {
            "colorbar": {
             "outlinewidth": 0,
             "ticks": ""
            },
            "colorscale": [
             [
              0,
              "#0d0887"
             ],
             [
              0.1111111111111111,
              "#46039f"
             ],
             [
              0.2222222222222222,
              "#7201a8"
             ],
             [
              0.3333333333333333,
              "#9c179e"
             ],
             [
              0.4444444444444444,
              "#bd3786"
             ],
             [
              0.5555555555555556,
              "#d8576b"
             ],
             [
              0.6666666666666666,
              "#ed7953"
             ],
             [
              0.7777777777777778,
              "#fb9f3a"
             ],
             [
              0.8888888888888888,
              "#fdca26"
             ],
             [
              1,
              "#f0f921"
             ]
            ],
            "type": "surface"
           }
          ],
          "table": [
           {
            "cells": {
             "fill": {
              "color": "#EBF0F8"
             },
             "line": {
              "color": "white"
             }
            },
            "header": {
             "fill": {
              "color": "#C8D4E3"
             },
             "line": {
              "color": "white"
             }
            },
            "type": "table"
           }
          ]
         },
         "layout": {
          "annotationdefaults": {
           "arrowcolor": "#2a3f5f",
           "arrowhead": 0,
           "arrowwidth": 1
          },
          "autotypenumbers": "strict",
          "coloraxis": {
           "colorbar": {
            "outlinewidth": 0,
            "ticks": ""
           }
          },
          "colorscale": {
           "diverging": [
            [
             0,
             "#8e0152"
            ],
            [
             0.1,
             "#c51b7d"
            ],
            [
             0.2,
             "#de77ae"
            ],
            [
             0.3,
             "#f1b6da"
            ],
            [
             0.4,
             "#fde0ef"
            ],
            [
             0.5,
             "#f7f7f7"
            ],
            [
             0.6,
             "#e6f5d0"
            ],
            [
             0.7,
             "#b8e186"
            ],
            [
             0.8,
             "#7fbc41"
            ],
            [
             0.9,
             "#4d9221"
            ],
            [
             1,
             "#276419"
            ]
           ],
           "sequential": [
            [
             0,
             "#0d0887"
            ],
            [
             0.1111111111111111,
             "#46039f"
            ],
            [
             0.2222222222222222,
             "#7201a8"
            ],
            [
             0.3333333333333333,
             "#9c179e"
            ],
            [
             0.4444444444444444,
             "#bd3786"
            ],
            [
             0.5555555555555556,
             "#d8576b"
            ],
            [
             0.6666666666666666,
             "#ed7953"
            ],
            [
             0.7777777777777778,
             "#fb9f3a"
            ],
            [
             0.8888888888888888,
             "#fdca26"
            ],
            [
             1,
             "#f0f921"
            ]
           ],
           "sequentialminus": [
            [
             0,
             "#0d0887"
            ],
            [
             0.1111111111111111,
             "#46039f"
            ],
            [
             0.2222222222222222,
             "#7201a8"
            ],
            [
             0.3333333333333333,
             "#9c179e"
            ],
            [
             0.4444444444444444,
             "#bd3786"
            ],
            [
             0.5555555555555556,
             "#d8576b"
            ],
            [
             0.6666666666666666,
             "#ed7953"
            ],
            [
             0.7777777777777778,
             "#fb9f3a"
            ],
            [
             0.8888888888888888,
             "#fdca26"
            ],
            [
             1,
             "#f0f921"
            ]
           ]
          },
          "colorway": [
           "#636efa",
           "#EF553B",
           "#00cc96",
           "#ab63fa",
           "#FFA15A",
           "#19d3f3",
           "#FF6692",
           "#B6E880",
           "#FF97FF",
           "#FECB52"
          ],
          "font": {
           "color": "#2a3f5f"
          },
          "geo": {
           "bgcolor": "white",
           "lakecolor": "white",
           "landcolor": "white",
           "showlakes": true,
           "showland": true,
           "subunitcolor": "#C8D4E3"
          },
          "hoverlabel": {
           "align": "left"
          },
          "hovermode": "closest",
          "mapbox": {
           "style": "light"
          },
          "paper_bgcolor": "white",
          "plot_bgcolor": "white",
          "polar": {
           "angularaxis": {
            "gridcolor": "#EBF0F8",
            "linecolor": "#EBF0F8",
            "ticks": ""
           },
           "bgcolor": "white",
           "radialaxis": {
            "gridcolor": "#EBF0F8",
            "linecolor": "#EBF0F8",
            "ticks": ""
           }
          },
          "scene": {
           "xaxis": {
            "backgroundcolor": "white",
            "gridcolor": "#DFE8F3",
            "gridwidth": 2,
            "linecolor": "#EBF0F8",
            "showbackground": true,
            "ticks": "",
            "zerolinecolor": "#EBF0F8"
           },
           "yaxis": {
            "backgroundcolor": "white",
            "gridcolor": "#DFE8F3",
            "gridwidth": 2,
            "linecolor": "#EBF0F8",
            "showbackground": true,
            "ticks": "",
            "zerolinecolor": "#EBF0F8"
           },
           "zaxis": {
            "backgroundcolor": "white",
            "gridcolor": "#DFE8F3",
            "gridwidth": 2,
            "linecolor": "#EBF0F8",
            "showbackground": true,
            "ticks": "",
            "zerolinecolor": "#EBF0F8"
           }
          },
          "shapedefaults": {
           "line": {
            "color": "#2a3f5f"
           }
          },
          "ternary": {
           "aaxis": {
            "gridcolor": "#DFE8F3",
            "linecolor": "#A2B1C6",
            "ticks": ""
           },
           "baxis": {
            "gridcolor": "#DFE8F3",
            "linecolor": "#A2B1C6",
            "ticks": ""
           },
           "bgcolor": "white",
           "caxis": {
            "gridcolor": "#DFE8F3",
            "linecolor": "#A2B1C6",
            "ticks": ""
           }
          },
          "title": {
           "x": 0.05
          },
          "xaxis": {
           "automargin": true,
           "gridcolor": "#EBF0F8",
           "linecolor": "#EBF0F8",
           "ticks": "",
           "title": {
            "standoff": 15
           },
           "zerolinecolor": "#EBF0F8",
           "zerolinewidth": 2
          },
          "yaxis": {
           "automargin": true,
           "gridcolor": "#EBF0F8",
           "linecolor": "#EBF0F8",
           "ticks": "",
           "title": {
            "standoff": 15
           },
           "zerolinecolor": "#EBF0F8",
           "zerolinewidth": 2
          }
         }
        },
        "title": {
         "text": "Odds Ratios for demand of complementary skills (AI Roles / Non-AI Roles)"
        },
        "width": 800,
        "xaxis": {
         "showgrid": false,
         "title": {
          "text": "Year"
         }
        },
        "yaxis": {
         "range": [
          0,
          2.25
         ],
         "showgrid": false,
         "title": {
          "text": "Odds Ratio"
         }
        }
       }
      }
     },
     "metadata": {},
     "output_type": "display_data"
    }
   ],
   "source": [
    "# create odds ratio time series\n",
    "yearly_df = posts_df.groupby([\"YEAR\", \"AI\"]).agg({\n",
    "    \"SUMMARY_REPORT\": \"mean\",\n",
    "    \"LANGUAGE_REVIEW\": \"mean\",\n",
    "    \"CUSTOMER_SERVICE\": \"mean\",\n",
    "    \"OFFICE_ADMIN\": \"mean\",\n",
    "    \"ANALYTICAL_THINKING\": \"mean\",\n",
    "    \"DIGITAL_LITERACY\": \"mean\",\n",
    "    \"RESILIENCE\": \"mean\",\n",
    "    \"TECHNICAL_PROFICIENCY\": \"mean\",\n",
    "    \"ETHICS\": \"mean\",\n",
    "    \"WORKING_OTHERS\": \"mean\",\n",
    "    \"SELF_EFFICIENCY\": \"mean\"\n",
    "}).reset_index()\n",
    "\n",
    "yearly_ai_df = yearly_df[yearly_df[\"AI\"] == 1]\n",
    "yearly_ai_df.columns = [col + \"_AI\" for col in yearly_ai_df.columns]\n",
    "yearly_non_ai_df = yearly_df[yearly_df[\"AI\"] == 0]\n",
    "yearly_non_ai_df.columns = [col + \"_NON_AI\" for col in yearly_non_ai_df.columns]\n",
    "yearly_df = pd.merge(yearly_ai_df, yearly_non_ai_df, left_on=\"YEAR_AI\", right_on=\"YEAR_NON_AI\")\n",
    "\n",
    "for col in [\"SUMMARY_REPORT\", \"LANGUAGE_REVIEW\", \"CUSTOMER_SERVICE\", \"OFFICE_ADMIN\",\n",
    "            \"ANALYTICAL_THINKING\", \"DIGITAL_LITERACY\", \"RESILIENCE\", \"TECHNICAL_PROFICIENCY\",\n",
    "            \"ETHICS\", \"WORKING_OTHERS\", \"SELF_EFFICIENCY\"]:\n",
    "    yearly_df[col + \"_ODDS\"] = yearly_df[col + \"_AI\"] / yearly_df[col + \"_NON_AI\"]\n",
    "    \n",
    "# plot odds ratios over years for a subset of skill groups\n",
    "def plot_odds_ratios(yearly_df, skill_groups, title):\n",
    "    \n",
    "    fig = go.Figure()\n",
    "    for skill in skill_groups:\n",
    "        fig.add_trace(\n",
    "            go.Scatter(\n",
    "                x=yearly_df[\"YEAR_AI\"],\n",
    "                y=yearly_df[skill + \"_ODDS\"],\n",
    "                mode=\"lines+markers\",\n",
    "                name=skill.replace(\"_\", \" \").title(),\n",
    "            )\n",
    "        )\n",
    "        \n",
    "    # Add horizontal line at y=1 for reference\n",
    "    fig.add_hline(y=1, line_dash=\"dash\", line_color=\"gray\",\n",
    "                  annotation_text=\"Odds Ratio = 1\", annotation_position=\"bottom right\",\n",
    "                  annotation_font_color=\"gray\")\n",
    "    \n",
    "    fig.update_layout(\n",
    "        title=title,\n",
    "        xaxis_title=\"Year\",\n",
    "        yaxis_title=\"Odds Ratio\",\n",
    "        template=\"plotly_white\",\n",
    "        xaxis_showgrid=False,\n",
    "        yaxis_showgrid=False,\n",
    "        margin=dict(l=50, r=50, t=50, b=50),\n",
    "        yaxis_range=[0, 2.25],\n",
    "        width=800,\n",
    "        height=400,\n",
    "        legend=dict(\n",
    "            title=None,\n",
    "            orientation=\"h\",\n",
    "            yanchor=\"bottom\",\n",
    "            y=.85,\n",
    "            xanchor=\"center\",\n",
    "            x=.5,\n",
    "            bordercolor=\"Black\",\n",
    "            borderwidth=1,\n",
    "            font=dict(size=10)\n",
    "        )\n",
    "    )\n",
    "    \n",
    "    fig.show()\n",
    "    \n",
    "    name = \"substitute\" if \"SUMMARY_REPORT\" in skill_groups else \"complement\"\n",
    "    fig.write_image(f\"figures/odds_ratios_{name}.png\", width=800, height=400, scale=2)\n",
    "\n",
    "plot_odds_ratios(yearly_df,\n",
    "                 [\"SUMMARY_REPORT\", \"LANGUAGE_REVIEW\", \"CUSTOMER_SERVICE\", \"OFFICE_ADMIN\"],\n",
    "                 \"Odds Ratios for demand of substitutable skills (AI Roles / Non-AI Roles)\")\n",
    "plot_odds_ratios(yearly_df,\n",
    "                 [\"ANALYTICAL_THINKING\", \"DIGITAL_LITERACY\", \"RESILIENCE\", \"TECHNICAL_PROFICIENCY\",\n",
    "                  \"ETHICS\", \"WORKING_OTHERS\", \"SELF_EFFICIENCY\"],\n",
    "                 \"Odds Ratios for demand of complementary skills (AI Roles / Non-AI Roles)\") "
   ]
  },
  {
   "cell_type": "markdown",
   "id": "92490e12",
   "metadata": {},
   "source": [
    "## Compositional Analysis\n",
    "\n",
    "This partly follows the analysis prescribed in Fišerová & Hron. In particular, we use the isometric logratio transformation (ilr) to transform the 3-part composition of AI, substitute/complement, and \"other\" skills from the compositional space to Euclidean. This allows us to perform orthogonal regression in the Euclidean space then transform the linear equation back into compositional. Because the ilr variables aren't normally distributed, we bootstrap the regression to get confidence intervals.\n",
    "\n",
    "Fišerová, Eva, and Karel Hron. \"Statistical inference in orthogonal regression for three-part compositional data using a linear model with type-II constraints.\" Communications in Statistics-Theory and Methods 41.13-14 (2012): 2367-2385."
   ]
  },
  {
   "cell_type": "code",
   "execution_count": null,
   "id": "807a5537",
   "metadata": {},
   "outputs": [
    {
     "data": {
      "application/vnd.plotly.v1+json": {
       "config": {
        "plotlyServerURL": "https://plot.ly"
       },
       "data": [
        {
         "a": {
          "bdata": "AQAA",
          "dtype": "i1"
         },
         "b": {
          "bdata": "AAEA",
          "dtype": "i1"
         },
         "c": {
          "bdata": "AAAB",
          "dtype": "i1"
         },
         "fill": "toself",
         "fillcolor": "rgb(68, 1, 84)",
         "hoverinfo": "skip",
         "line": {
          "color": "rgb(150, 150, 150)",
          "shape": "spline",
          "width": 1
         },
         "mode": "lines",
         "name": "0.000",
         "showlegend": true,
         "type": "scatterternary"
        },
        {
         "a": {
          "bdata": "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",
          "dtype": "f8"
         },
         "b": {
          "bdata": "IFWpSQA+kj8AwnEIFQmSP+A+P0nABpI/IO9vWsLVkT/gJEyd5KiRP2CMQaB5o5E/wGPLBlt8kT9A10V47k+RPyBv3VFRQ5E/gFKfzecikT8AAtd28PWQP6D5l0NH4pA/INf3asvIkD+Ao9exsJuQPyBuX9JqgZA/4KVj99NukD/Ak7eZBkKQP8ALTnrhIZA/4Na0BuIVkD+Apo+ZutOPP0CxfujOiY8/AO+qXNZ9jz9Al9ScbCiPPwAc62ig144/QNj46/nVjj/A5RFkWYSOPwAyAXJBNo4/wOnF7cosjj/Agw+i8emNP4Dzvsl9oY0/wECgeR+PjT8AmblQ6VuNP4BnJjqYGo0/gF5mK6gCjT9ANuACQt2MP4AHd+K9pIw/wHGeIeGKjD+A3aIlV3GMP8BgZoF8Q4w/wHvH4HUrjD/ALq6h7BuMP8AbFmfS+os/QENGoT/oiz+A/2hqQOGLP4DAWaRBz4s/QCN69ULFiz8AZ3awH8aLP0CI6kLnxYs/AEo9uqzGiz9AwuGgANCLPwC4XI2X5Is/QMmGRc7wiz8AjJLfIQWMPwDK+LwAMow/wBXnyBhIjD9APvhIsWyMPwCX487VtYw/QL4z4BfRjD/AUd0F/A6NP8DdrdQDeY0/wNHzR2uQjT+AwQyrqvWNP4DzNd/0hY4/wM/8ur+Kjj+A770RDSyPP0D7sUFEvo8/gOmwgyLpjz8AyWZ2vV+QP8Bgim22mZA/AAFbvZPYkD+gy6YE6F+RPwCXBlPwd5E/ABtTC7b3kT+goMdbqniSP2BR0/B/oJI/gKy/EHhckz/AN/K82Z2TP2BoiJNeLZQ/gJQOErrplD+Ae8v0SBSVP8DAc0B1FJY/IMnajvFalj9g5hwERjCXPyA1EDo485c/IBxeYaFpmD9Ap6kwNrSZPyD7FXWUw5k/oOLF//lDmz9gM1w+NZqbP4DooJHvAJ0/AGQzwgq5nT/gS8awjimfPxCcsQq+GKA/MOOnLJ/+oD9wXO3pYoKhP+BRHiFF1qI/8KNrKtkNoz8gByYnFaikP5CHU7gL/aQ/ANodcntPpj9gw+LoeGanPzDCeZwH/qc/wOK9wHitqT+wqkVZbNapP2ABTq8aWas/AAWBuYJHrD8glmirnQWtP1Bp9XQyqq4/MOoRKBmzrj8o6haB7y2wPxjVqOolibA/SOyLDfUEsT+IjiRds8exP3j2OLIU37E/kMYSdR67sj/Aa2ylSRyzP5izGpB9mrM/CDBU0PR9tD9QO5KsnIW0P5gKxxymY7U/2EanDTcUtj9oBvc+SE62P5AMehdqPLc/sD9J6ufPtz/gWMnfaS+4P9CN+ATYJrk/WE0D1/XPuT/orMtyriO6P1DFABwzJbs/iM/XWlUtvD84AL/bQUK8P0gluOXzOb0/gH+MYjxNvj/oKw72U2e/PyDUJFzYur8/pGLGfItDwD/QkbPottbAPxCpcwxhbcE/sJYGFoUHwj9s0JYWHqXCP5R2oAEnRsM/XMYQrJrqwz9giV3Lc5LEP4wslPSsPcU/ZCRgm0DsxT9AQAgRKZ7GP6yJYoNgU8c/CLoG4gyixz/8kO8icQvIP3DtOblUxsg/1OPZuViEyT8olwkqvBDKPyTl6CUtRco/5EgQvjYIyz/kk616Nc7LP/xX2ng//ss/YNCkiyKWzD+4XGDjkGDNP2jtF1SJsM0/VCF/Cegszj+M1FDaXvvOP8gGUpdIQM8/oCIyd3LLzz+689RayU7QPyZVdg2AXNA/SuKeF2S40D/UX12rTBDRP06zKXb2ItE/BB+niAOO0T889KLV173RP44HK3W8+dE/dipguzBm0j8Sgf6mBmfSP0o/H3K/0tI/KjJrgmwM0z8qZTqiXj/TP178anDbq9M/poTMnb600z9qt+cXRBfUP6LL7xqDYNQ/cODdabyC1D9K/ZvZDO7UP65tVBJODdU/0NMJCFFa1T8oIplZTrDVP9JFD40QydU/dA7LjsE51j9WZlgkIT/WP4LgR8qEsNY/hpulWJ681j+gs/Hi9STXPy5cDn4+O9c/RqnfWyOZ1z+yl9g56rnXPxDz7PxCDdg/TGsQqpo42D8Qfhz+XIHYP4rbm4VHt9g/brlmdnv12D84t3aB5jXZP4BS+B9kadk/CPvLi4u02T8Uz9a1gtzZPzC+QdmwM9o/eOLlDwdP2j90htwrKLTaP9T6nBmgv9o/lq32ckUu2z+wzKjbLzbbP1gOGqYHm9s/iPlsrAC62z98l8njlQXcPyw/Tu/fP9w/inYw0txt3D/cuooqHsjcP8iZ5GvJ09w/WImnGdE33T8Ee/TYH1PdP5iy0liomd0/ol2+hGDh3T/eRDPhA/ndP658rZlaVt4/wPqIkX1z3j/sM8MymLHeP4QN1XQ8Ct8/8l5mlj4K3z/+1zqMaGHfP0KrAYOxpt8/EKeRRfO13z+a8+lybATgP55qb1YeJeA/kI/oHaws4D9I+enKJlTgP1YDau5teuA//ktj+mp74D/FRak2FaDgPyq+BmunxOA/PKLjobnX4D9Mfxj9aOjgP2PchOhqC+E/1A1tBn4t4T9dHbRKPjzhPzktyuPmTuE/iMJNQKJv4T8TBxLyko/hP7psoaG3rOE/kglOecuu4T82Dbpyls3hP9Q9yc616+E/x3WL9jQJ4j99prLIHybiPz/iaOc1MOI/cGmRWJ9C4j9sEX3SuF7iP1mueTjFeuI/flvHe2qW4j+CyGoB27HiP8rahMJpy+I/giRO8krN4j9U5AEUZuniP5pAYfpWBeM/vdoCGSYh4z94qrTZ2TzjP4PAKjF3WOM/MTeaQ5xm4z8QZ5obTXTjP9A4FSBUkOM/x7B73jms4z/awCCeA8jjPziBgEC14+M/kS0XXDD/4z9uUZ//qQLkP4AcmvwRGuQ/t7JInekz5D9uAk67tkzkP6vrDS+EZOQ/",
          "dtype": "f8"
         },
         "c": {
          "bdata": "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",
          "dtype": "f8"
         },
         "fill": "toself",
         "fillcolor": "rgb(71.984375, 23.91015625, 105.9140625)",
         "hoverinfo": "skip",
         "line": {
          "color": "rgb(150, 150, 150)",
          "shape": "spline",
          "width": 1
         },
         "mode": "lines",
         "name": "0.062",
         "showlegend": true,
         "type": "scatterternary"
        },
        {
         "a": {
          "bdata": "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",
          "dtype": "f8"
         },
         "b": {
          "bdata": "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",
          "dtype": "f8"
         },
         "c": {
          "bdata": "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",
          "dtype": "f8"
         },
         "fill": "toself",
         "fillcolor": "rgb(71.0078125, 44.8359375, 122.8671875)",
         "hoverinfo": "skip",
         "line": {
          "color": "rgb(150, 150, 150)",
          "shape": "spline",
          "width": 1
         },
         "mode": "lines",
         "name": "0.125",
         "showlegend": true,
         "type": "scatterternary"
        },
        {
         "a": {
          "bdata": "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",
          "dtype": "f8"
         },
         "b": {
          "bdata": "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",
          "dtype": "f8"
         },
         "c": {
          "bdata": "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",
          "dtype": "f8"
         },
         "fill": "toself",
         "fillcolor": "rgb(66.05859375, 63.77734375, 133.87109375)",
         "hoverinfo": "skip",
         "line": {
          "color": "rgb(150, 150, 150)",
          "shape": "spline",
          "width": 1
         },
         "mode": "lines",
         "name": "0.188",
         "showlegend": true,
         "type": "scatterternary"
        },
        {
         "a": {
          "bdata": "AAAAAAAAAAB8FK5H4Xp0P9ONi0IRgno/fBSuR+F6hD+6HoXrUbiOP+8yamLcgZA/fBSuR+F6lD+bmZmZmZmZP11Tv49sL5o/uh6F61G4nj/u8Tl8bdahP+xRuB6F66E/fBSuR+F6pD89K3yl7X6mPwvXo3A9Cqc/m5mZmZmZqT//XrYiihKrPypcj8L1KKw/uh6F61G4rj8aXtjT25WvP6RwPQrXo7A/7FG4HoXrsT81ra189AWyPzUzMzMzM7M/NdgobRg7tD98FK5H4Xq0P8P1KFyPwrU/ZLlZIjxptj8L16NwPQq3P1O4HoXrUbg/UUBy6lCPuD+bmZmZmZm5P3l6p0N8rbo/4noUrkfhuj8qXI/C9Si8P6RvbNNXw7w/cj0K16NwvT+6HoXrUbi+PzI54xFEz74/AAAAAAAAwD89BwjJK2nAP6RwPQrXo8A/SeF6FK5HwT+L7C/aS2XBP+xRuB6F68E/uogu2j1cwj+QwvUoXI/CPzUzMzMzM8M/sTykX2pNwz/Yo3A9CtfDP30yrRn7OMQ/fBSuR+F6xD/nL2xQHB7FPx+F61G4HsU/w/UoXI/CxT8KFKyshP3FP2hmZmZmZsY/rfPiwjbWxj8L16NwPQrHP3+GlxkdqMc/r0fhehSuxz9TuB6F61HIP+VCMj0scsg/9yhcj8L1yD+Iyks82DDJP5uZmZmZmck/a3a75THjyT8+CtejcD3KPzrGjGaJiMo/4noUrkfhyj9JCaLVTiDLP4brUbgehcs/uYcbPBOqyz/RGxu6kSXMPypcj8L1KMw/v2oAthKTzD/OzMzMzMzMP1K6g9Mg8sw/mtfWAi1DzT9yPQrXo3DNP94dKtn8h80/5MO6OQHHzT/O5/I7hADOPxauR+F6FM4/1A/cIV81zj9sCOu8h2XOPw07IgfmkM4/l1fmV7e3zj+6HoXrUbjOPxTFVhfQ2s4/QhX9OLv5zj/legoMqhTPP5+Br5fNK88/CQjXFFQ/zz/Xd/MlaU/PP12PwvUoXM8/rG/eRzZczz/sqqoNEGbPP8zkzr7mbM8/24//Gvhwzz9tUOXhfHLPPxngvFV6cc8/iF0b0PRtzz8PeZ+/8GfPP5g8cahyX88/XY/C9Shczz/2joHlqlTPP2iYwymTR88/lH7JYx04zz/XbqtcTibPPy1NRfUqEs8/RfDKJrj7zj9/uGAD++LOP56xWlDkx84/uh6F61G4zj/QDN00kKrOPxItEA75is4/sY7UMcJozj/B2YLP2UPOP0fTCMssHM4/Fq5H4XoUzj+UL4r4UfLNP+pXkLm/xc0/elAJCTqWzT9yPQrXo3DNP6CGREroY80/XE+3XzsvzT/mMojHYvfMP87MzMzMzMw/xi5bzZK8zD+Z5XdRQH/MP1NWwxR/Psw/KlyPwvUozD9tvCaACPvLP5vWQpaer8s/hutRuB6Fyz9KYysRDlTLP//5v84r58o/4noUrkfhyj8IIjHusWjKPz4K16NwPco/uXJRpfHXyT+bmZmZmZnJP07KU4G/NMk/9yhcj8L1yD/Q8lIMJn/IP1O4HoXrUcg/SeCz82y3xz+vR+F6FK7HPwvXo3A9Csc/hIkvupHexj9oZmZmZmbGP7CYv/pH9cU/w/UoXI/CxT8fhetRuB7FP0WG8EL5/MQ/fBSuR+F6xD/WuN3uF/jDP9ijcD0K18M/NTMzMzMzwz/XO0PegevCP5DC9Shcj8I/7FG4HoXrwT+uCVs/StfBP0nhehSuR8E/BH3482S7wD+kcD0K16PAPwAAAAAAAMA/A+CdE6kuvz+6HoXrUbi+P3I9CtejcL0/lq807+HUvD8qXI/C9Si8P+J6FK5H4bo/5MFsCoNouj+bmZmZmZm5P1O4HoXrUbg/s9GTh33otz8L16NwPQq3P8P1KFyPwrU/RJu02XVTtT98FK5H4Xq0PzUzMzMzM7M/GBKY44mjsj/sUbgeheuxP6RwPQrXo7A//wb5eyuXrz+6HoXrUbiuPypcj8L1KKw/m5mZmZmZqT+YRayzx3ypPwvXo3A9Cqc/fBSuR+F6pD86OZ8V+c2iP+xRuB6F66E/uh6F61G4nj+bmZmZmZmZP/oWaWzElJY/fBSuR+F6lD+6HoXrUbiOP3wUrkfheoQ/fBSuR+F6dD9UOfSbF59zPwAAAAAAAAAA",
          "dtype": "f8"
         },
         "b": {
          "bdata": "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",
          "dtype": "f8"
         },
         "c": {
          "bdata": "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",
          "dtype": "f8"
         },
         "fill": "toself",
         "fillcolor": "rgb(59.109375, 81.71875, 138.921875)",
         "hoverinfo": "skip",
         "line": {
          "color": "rgb(150, 150, 150)",
          "shape": "spline",
          "width": 1
         },
         "mode": "lines",
         "name": "0.250",
         "showlegend": true,
         "type": "scatterternary"
        },
        {
         "a": {
          "bdata": "AAAAAAAAAACn9Tq5w4/7PnwUrkfhenQ/IPKbngRGgz98FK5H4XqEP7oehetRuI4/f+yCuxEJkz98FK5H4XqUP5uZmZmZmZk/2saVUlA8nD+6HoXrUbieP+xRuB6F66E/7iBJ07ifoj98FK5H4XqkPwvXo3A9Cqc/8VutC1UKpz+bmZmZmZmpPyvP4nTkX6s/KlyPwvUorD+6HoXrUbiuPzehwoJyoK8/pHA9CtejsD/bBXXQSOaxP+xRuB6F67E/NTMzMzMzsz+awkc+ZvSzP3wUrkfherQ/w/UoXI/CtT/90hrG6Pm1PwvXo3A9Crc/D/MDc3f3tz9TuB6F61G4P5uZmZmZmbk/ob4yOhTsuT/iehSuR+G6P7/XpWd117s/KlyPwvUovD9yPQrXo3C9P/63q7EZub0/uh6F61G4vj/axCssuZC/PwAAAAAAAMA/pHA9CtejwD9VQgcQp67AP0nhehSuR8E/Eq8gn8uPwT/sUbgehevBP+KyvGj2asI/kML1KFyPwj81MzMzMzPDP/KUEOAzQMM/2KNwPQrXwz95mWvomA/EP3wUrkfhesQ/BokBu8DXxD8fhetRuB7FPxfift6VlsU/w/UoXI/CxT8bx6m9PEvGP2hmZmZmZsY/cgdjtff0xj8L16NwPQrHP7HQV60hk8c/r0fhehSuxz//zKnKLyXIP1O4HoXrUcg/yMTxk7KqyD/3KFyPwvXIP6tyuoNWI8k/dHuqs/qOyT+bmZmZmZnJP0frRJPg7ck/PgrXo3A9yj++wNZjnT/KP3W8Wd7phMo/r7u44YC+yj/iehSuR+HKPz69BjkG8so/VBRgOhMhyz8uK1ftXUvLP/Jmga0eccs/hutRuB6Fyz9xYEAgv5LLPyCeH3p6sMs/YO0ZyzHKyz9p9Y39EeDLP1Qgq2BF8ss/at6l1/MAzD9iZ+0EQwzMPwFmxXFWFMw//yqbsk8ZzD/HgGSIThvMP5rXTf9wGsw/hhj2itMWzD+N3m8gkRDMP6ACOk7DB8w/FjlcUoL8yz/y388u5e7LP73fBMIB38s/4+UpP9/Myz8+fiSldLjLP4I73J63ocs/PPpfB52Iyz+G61G4HoXLPykyZRF8bcs/x9xWsf5Pyz9MjxU/CTDLP/V6znONDcs/mja3Bnzoyj/iehSuR+HKP7PqkG5Lwco/NW4m046Xyj+0aZuSFmvKPz4K16NwPco/3PYzMtY7yj/HZsr7ewrKP8tDenY41sk/GJIrNfWeyT+bmZmZmZnJP0nR4wN1Zck/QkyhGOsoyT/3KFyPwvXIP4cScMgc6cg/aJhJVeqeyD9TuB6F61HIPwJPSndJRcg/EZxhrODbxz+vR+F6FK7HP8JlFYoOYsc/C9ejcD0Kxz/fJti0c9fGP2hmZmZmZsY/hZqDheU7xj/D9Shcj8LFP98QFYtlj8U/H4XrUbgexT/iHy9kJ9LEP3wUrkfhesQ/jY90C5YExD/Yo3A9CtfDPzUzMzMzM8M/gGeulG8nwz+QwvUoXI/CPxTSjx8CPMI/7FG4HoXrwT9J4XoUrkfBPx4YYjcrQ8E/pHA9CtejwD8HWcHnFj/APwAAAAAAAMA/uh6F61G4vj9K3cbvh2K+P3I9CtejcL0/uSMQvSI3vD8qXI/C9Si8P+J6FK5H4bo/G03jNkj8uT+bmZmZmZm5P1O4HoXrUbg/7O01sgivtz8L16NwPQq3P8P1KFyPwrU/BTNje8FLtT98FK5H4Xq0PzUzMzMzM7M/qjd+X9DNsj/sUbgeheuxP6RwPQrXo7A/LX2YcSIvsD+6HoXrUbiuPypcj8L1KKw//JALsAXPqj+bmZmZmZmpPwvXo3A9Cqc/oggwNDnXpD98FK5H4XqkP+xRuB6F66E/uh6F61G4nj8zNTSQkaWcP5uZmZmZmZk/fBSuR+F6lD+6HoXrUbiOP7zH2XOjLYw/fBSuR+F6hD98FK5H4Xp0PwAAAAAAAAAA",
          "dtype": "f8"
         },
         "b": {
          "bdata": "6FUDyZ3qsT8QiJqgqOqxP+Bqqre69LE/EHRJ6dL+sT8oUNYPbwCyP2ifF2y4DrI/6LY9EL8Zsj8QGGg6wR6yP7DHEYYmMbI/6DzWUQU7sj9YelyTkkWyP9A6ZFAEXLI/0I7RO09isj84BvJR53SyP8DX8E1Vj7I/UGEzQlaPsj9I1y5kyKyyP9DlYHygwbI/QITmPdPLsj+oAgzyQ+2yP5DSYw0r+bI/aLCXHBARsz842VRa0TWzP4j0EQF5NrM/UNDBFdBesz8gXOa3cHazPxjfFjGOiLM/sEZd5Sa0sz84tXeIXbuzP3Cs4chp4rM/eAZ+RkQEtD9opGOKbhK0P5ibhGMQRbQ/+IFh96NRtD+IwbjsoHq0P7DWInWho7Q/eHGOdHuytD+4EP/6j+20P9jHmmR9+rQ/0CK5N0QstT+wotW7W1a1P8CnSg/8bbU/8GRMFTuztT8QJF9Wv7e1PyDgOO17/bU/oJjA20getj/IWH3YwEu2Pxh2nybMirY/8MKwI2ietj9gcC44T/a2P1B1xsM8/bY/CKh8JsFUtz8IUubPhXW3P6iktG7iubc/wEPLEQz1tz8gOWKW2Ce4P/jLyALlfbg/ALI1EYihuD9AyBg47BC5P/DyO88HKrk/MGnaVN+uuT+4D4qdecW5PziBYHFjWLo/SCC0I5V5uj8wZoloAw67P9AnoSSCTrs/sE+8sy7Quz8Y8o4oUFC8PxiDbtg4n7w/kFv5vEJ7vT/4R7Oh9ZS9PwjN2fEKZL4/KBPkuVZTvz/Y2MI1/Fm/PzRf3ecuLsA/PFBrcDq1wD+MDMB71hLBPxjAAc9OP8E/NIWSWJ/LwT9oalQJUVrCPyy9fLNH68I/5NxpKkBDwz8QsVqETn7DP9yCqOFHE8Q/4MtoQ0OqxD+AOGw0KkPFP7ATG43n3cU/SCXbW2d6xj9w0XTPlhjHP8RCRiNkuMc/5NAYjb5ZyD+klnEslvzIP+BbOvvboMk/DKyjv4FGyj+sOST/ee3KP0iYfPK3lcs/sO2oei8/zD/oiqwW1enMP6R7T9edlc0/OGn6IoZCzj+sjTp6kvDOP7AfnAfIn88/fNjLLhYo0D8gz52HaTPQP9JCafHJgNA/fJCLzhTa0D8unDqw/TPRP5QZKyiIjtE//qKPCLjp0T8Wtxb2dfrRP0rut7NvRdI/ukWxX8qh0j8sv/L00/7SP+pudB1bWdM/NFQrko9c0z+McOSk0brTP54xVwvOGdQ/XJbJYIp51D+aE+aqdILUP+A+OvLV2dQ/dJgp8uM61T+0BY0GZYnVPzSfVAvDnNU/DvY8LTsB1j+0LlhvIlvWP7qA2+mOadY/yGW0odTV1j/SwywsmgDXP64rZq80Rtc/fof3JY+Q1z+4M9TpxrrXP+oocGf7Etg/IA/I+pUz2D9mDeK38ovYP9xpgn6hsNg/iHw93gT+2D9unlqN3DHZP1xpA6Xhatk/1PqnaCy32T9EjGb/r9PZP8rTg2knOdo/Kj14i2FA2j/iRv+OpJvaP9ia3m0ozdo/PIJ3SA782j8wZmd8sVrbP6bBCK1JXds/fjJOLJG32z++qQ9GOvDbPyS5HKtNE9w/cNRPOPVt3D+o3CWHmoXcP0q6gYjEx9w/LGybsvIc3T/aEAwkxiDdP0632i7/eN0/Ur9/iDm23T/KnnFnctDdP2xZpSUQJ94/iiM0/sxR3j8eLsgKz3zePxCeRBag0d4/ODMtaiHw3j+wrQ6CgyXfP7xJJVlieN8/9orIEsuR3z+MtylaR8rfP6OEHuWJDeA/TP3RKsYb4D9mUd+iazXgPxCkw+q6XOA/wIT65jVx4D/KDekgeoPgP0q8yvSmqeA/LL1oDerJ4D9kmy+KMc/gP4yHhn4y9OA/6P05TYYY4T/EyFhTAyfhP05/FJJDPOE/f2dEA2Bf4T8eDN9Py4HhPzNCQRU0iuE/rw1ZY6Kj4T/ugUr/z8ThP2zqw4JL5eE/",
          "dtype": "f8"
         },
         "c": {
          "bdata": "Q5XfRqzC7T+IPGXMc8LtP3xWe+ZymO0/tmFckA1z7T+pfeaYBm7tP5n3zqpHQ+0/vzEckH8k7T9ajHXOUBjtPz76cGIO7ew/LYow07zW7D+/Rzgei8HsP4jzByTHlew/GDxRi7qJ7D/x3UYBtWnsP5inN39xPew/Fr7+5m897D99i+BZzRDsP1S2JanN8es/tjkaPPbj6z+/LQZj0rbrP5pbJ3bTpus/31slG2OJ6z8dxKa6fFzrPzG3BjzAW+s/kF/hlr8t6z8oPDohpRLrP41h5xCS/+o/cjjPNynR6j/5ri02V8nqP5BPzxhrouo/z8DPiIiA6j9ptA++dHPqP1k5XMAqROo/7XfN+Ug46j9zWKbsghTqPzLqZiSd8Ok/S0Yc2ZHk6T871r6FObTpPwUwNx2Nqek/zjeYO22D6T8O0/9iHWPpPwirFn5AUuk/OBfH2qIg6T/oSjJRXh3pP6orOv1k7ug/KMG//EPY6D9rQEKdprvoP4Xk/ODok+g//nZM8VuI6D8mZS1MaVToPxoMg29LUOg/CULUS6Uf6D9hT+gLaQ3oP03mPWAL6uc/RjUGT27L5z+U17jYVrPnP/stB+idiuc/UAzPJit75z8ydZJJE0vnPwjofmwlQec//vALKOYM5z9HyCVwwQTnP637fSYr0OY/CyrRPEjF5j/6X0Sg85TmP/IsJNq0geY/2ASMhE1b5j9/FxdXhTjmP/OSA0RDI+Y/sDV2+9js5T+bMGPl+ublP42L83wGuOU/C7vN/ziG5T+19FEg2YTlPxU5cs45U+U/Bf12KxEj5T8l3op1+ALlP6rg/b2q8+Q/n1lDW9PE5D+aGlVClJbkP/l2wGfmaOQ/5Q1RR+hN5D+gO9mWvDvkP8H3DWkPD+Q/sFFfvOLi4z+GdIHzMLfjPwBzjsT0i+M/FL8fMylh4z/MceeKyTbjP88VvVrRDOM/BwETcDzj4j8lesrSBrriPyLzXcEskeI/245Zrapo4j/x+Ro4fUDiP0ZZ0i+hGOI/Tra+jBPx4T9K5aBu0cnhPyfpqhnYouE/Oux2pyZ84T8FPSg4vlXhPzTpYRagL+E/NBXCps0J4T+OnRyOAwXhPw0S8gI85OA/kIBk7PW+4D8XTh3Y/pngP3jU9o5YdeA/22AK+gRR4D+9hW8Zc0rgPy/Of0r1LOA/lcFdGzcJ4D/6i7/BoMvfP/cLoJDsh98/XrC6VIWF3z8RXDZd8D/fP36sa7kV+94/maCgBPu23j+aH02IvrDeP33Y04tvc94/bMGFgaYw3j/R5cSxufvdP4lXc5Cu7t0/vz0eqE+v3T8kdRjO53vdP8dXf1rMc90/McwaCDs83T9XmGKWWyjdP3IhjwvECN0//oy2IVLq3D/ZuL87f9ncP+OjXGXRudw/niN2Qneu3D+6dwmaxZLcP7UN87urh9w/6cDM+J5y3D+i0Y3AD2XcP2iMJbetV9w/Zr2dkYhG3D/RIeHhykDcP5yS4vw+Ldw/F48wquYr3D/X14VcrRzcPyB8WYLWFNw/zlQsKC8O3D8tKVt5dwHcP0syRrcgAdw/MBWTToP22z+/qQ9GOvDbP9xG41Sy7Ns/4+POTPbj2z8GbOh8w+HbP1q2u4ES3Ns/5oognkTV2z8cGFBr/NTbP/opoOWuzts/aG3HabTK2z/R+icyJ8nbP4D4Evl0xNs/+2A+1XDC2z8h3A6ZocDbP4AksRK8vds/BwD6Nu682z8zzQUsxLvbP3jpDdrQuts/IedX1cC62z/5Myhe17rbP5GaM3P2u9s/Hub1Dau82z9eudB8Hr7bP1zMJnJrwds/YoQJfLPD2z86sfqK2MXbP4sMVmhqy9s/loSovkTR2z+pBqvCQNLbP6zmG18q2ts/RbLTRm7j2z8kK0tAoOfbP8tnPULf7ds/u0/85JH52z/PvuXQpgbcP12t3rkqCtw//3MQL+QU3D/SQ0x8dCTcPyorePpoNdw/",
          "dtype": "f8"
         },
         "fill": "toself",
         "fillcolor": "rgb(51.15625, 98.66796875, 140.9609375)",
         "hoverinfo": "skip",
         "line": {
          "color": "rgb(150, 150, 150)",
          "shape": "spline",
          "width": 1
         },
         "mode": "lines",
         "name": "0.312",
         "showlegend": true,
         "type": "scatterternary"
        },
        {
         "a": {
          "bdata": "AAAAAAAAAAD+TJG3xuRlP3wUrkfhenQ/fBSuR+F6hD8Yon+4HrGHP7oehetRuI4/fBSuR+F6lD/BP0xx/r6UP5uZmZmZmZk/iS4pmWVznT+6HoXrUbieP+xRuB6F66E/DZIhG7H7oj98FK5H4XqkPwvXo3A9Cqc/u109fhompz+bmZmZmZmpP4MFcRS0Oqs/KlyPwvUorD+6HoXrUbiuP/G2eCEkOa8/pHA9CtejsD+pEMl7SZGxP+xRuB6F67E/NTMzMzMzsz/mASSYi3uzP3wUrkfherQ/p86kC6RbtT/D9Shcj8K1PwvXo3A9Crc/r3bSznwxtz9TuB6F61G4P6MFeUnz/bg/m5mZmZmZuT+PtSwzBMC6P+J6FK5H4bo/KlyPwvUovD+luVe5VHi8P3I9CtejcL0/o1p2ovUlvj+6HoXrUbi+P/3QZh5EyL8/AAAAAAAAwD+kcD0K16PAP8/MNeeer8A/SeF6FK5HwT8W1rxJBHXBP+xRuB6F68E/Dfz7/sEywj+QwvUoXI/CP1BxZvwB6MI/NTMzMzMzwz/PUf/3AZTDP9ijcD0K18M/sn7/rhI2xD98FK5H4XrEP3FisuSZzcQ/H4XrUbgexT+eA330E1rFP8P1KFyPwsU/NiYk7xTbxT9lkbAkdFDGP2hmZmZmZsY/8FGrAwu6xj8L16NwPQrHP9Lm97WBF8c/fUpSozppxz+vR+F6FK7HPwnzev/mrsc/EVGnUh/pxz9tApISihjIP635QtL/Qcg/U7gehetRyD8VWIWXNWfIP1ceJl88iMg/mUruBg2lyD9srEHf073IPw20OZq60sg/8gBveOjjyD+MnedxgvHIP/coXI/C9cg/c6feDMD7yD+dOerFsALJPxHOoRdlBsk/PIs0ifoGyT8DLXbrjATJPwh+T3E2/8g/In0Axg/3yD/3KFyPwvXIP+GI2tRR7Mg/vUDv+P7eyD8FSUENJ8/IPxQr/2novMg/GDxvNG2oyD+x/sW3r5HIP5i71EWmeMg/gPMhdUZdyD9TuB6F61HIP8yo8b3GP8g/1OYAxQsgyD+3VC/b4P3HP0p3L7042cc/qEKQQQWyxz+vR+F6FK7HPyGmwtC+iMc/sqt+e+dcxz9SU4akYC7HPwvXo3A9Csc/oAauS0f9xj82SJQN5snGPyoL2x+qk8Y/aGZmZmZmxj+L9Z3qqFrGP/tSyoN+HsY/LsV5oPnWxT/D9Shcj8LFP+ITGr8cgcU/H4XrUbgexT97ruedQBzFP9kSAIsiqMQ/fBSuR+F6xD/AGFOsRSTEP9ijcD0K18M/GAgERXSQwz81MzMzMzPDP2Rvu26f7MI/kML1KFyPwj87RMBJ4jjCP+xRuB6F68E/wxVB1IZ1wT9J4XoUrkfBP6RwPQrXo8A/0GJmTwujwD8AAAAAAADAP8zdien5hL8/uh6F61G4vj/VeZ98Ham9P3I9CtejcL0/KlyPwvUovD8ROX03j7W7P+J6FK5H4bo/rJSCkRetuT+bmZmZmZm5P1O4HoXrUbg/DHwAbMGStz8L16NwPQq3P8P1KFyPwrU/u5t+mwhktT98FK5H4Xq0PzUzMzMzM7M/dU8I8xoesz/sUbgeheuxP0i2Nh0cvbA/pHA9CtejsD+6HoXrUbiuP1GQScScd6w/KlyPwvUorD+bmZmZmZmpP4+koKDHJqc/C9ejcD0Kpz98FK5H4XqkP+xRuB6F66E/5Y/NhA50oT+6HoXrUbieP5uZmZmZmZk/C+oxrMiHlj98FK5H4XqUP7oehetRuI4/fBSuR+F6hD/g/eZL5q+BP3wUrkfhenQ/AAAAAAAAAAA=",
          "dtype": "f8"
         },
         "b": {
          "bdata": "yAqn3fBhtT+QsEpB/Gq1PyhxErgKdLU/sPuxfICItT/o3BuFK4+1P/huYHmin7U/SOOVLri4tT9YMPW2C7q1PzglJ5EG1bU/yHN05izrtT9QN2G1QfO1P4C+FahcFLY/YBZMZ1sitj9Qh4HsCTi2P5hIHN7SXbY/uAQAI29ftj/oQ1jhLYe2PxD87dH2obY/0BdUD66ytj9IFdnz7+C2P/jwJuMI6rY/QC8lopMStz+odxtCWze3P8Bgk2uRRrc/wN8Hf8N9tz9Y4GhI6Im3P0BZg2mEuLc/QFsjI4rhtz9oCDyy8vW3P4j+RomlNrg/gGgH1ks+uD9wX/PbgXu4P1ACL62+n7g/MM9T62nDuD+gC9BMZAa5PyDAv3OeDrk/+AIBbq9euT/gajUe6nG5PxCT4OhRs7k/qPsgvsfiuT+wtaU+awy6P8Cho5ROWbo/MMb2rW5quj9A/YbFX866P7AeHNF/1bo/SMRd1vQ5uz+w9g+DyFe7P+ge7AX3rbs/ALJL4rjhuz+4Mvrudiy8PwgeXPkmdLw/oK1ZDwq4vD/QHj4S1Q+9PyDFG5QQVL0/ONO4b3K1vT8AlJuCDwW+P8DQgE6ZZb4/4ADyojvRvj/YEDFTzSC/PzjXbk9bwb8/iM8EbXrnvz/Qovml5FzAP/Re2TO7c8A/MLO5QPDLwD9oqFacODDBP2TZ0PELQcE/MBhhhQa8wT/w047AezvCP5A0imEHPcI/MHYxQsLDwj8kjnns40/DPyiD3hYA38M/lO1vhpQdxD+YxHo+PHDEPxzS5+SPA8U/oCxBm/6YxT9c7FQ5cjDGPyxZFubVycY/YCM5ARZlxz+4RboOIALIPxTOJ7KPRMg/aDF8S9igyD/02DP5NkHJP1x/ldoz48k/aJEJLMCGyj8sMSYFzivLP0z5dkxQ0ss/ZOpbrDp6zD/QmOBNjI7MPyhVLK9wI80/3GlfJ/HNzT9c1nMntHnOP/hVUoOqJs8/HL5XKL/Uzz+65nR4+kHQP9LvD1oomtA/Klpb0+vy0D84qfSZHxXRPyglRkY3TNE/+A2hiRGm0T/SKjTJhwDSP4Da0lWdW9I/+l/ZuVW30j9wvwqfFcDSP25/K9uSE9M/XDabNXRw0z/GBHhwAc7TPw6zDVc3E9Q/RNDMSzMs1D8w+HEg94rUP8b//qBx6tQ//vTQl7c21T+A/WxznUrVP3SeQJKTq9U/OHozUGAP1j9cY+00YSjWP94eqg3DdtY/fDBULVTf1j+KcBWb5eHWP8QP7qTYUNc/UmIAC8J41z+cBrhhu8PXP5DSbJJaAtg/GIOqQJs62D+oH5HOB4HYP5ZhW/t7tdg/rInpzcX32D+05LjJVjTZP8KQaEKLaNk/pGg3LBm32T+iv8Gcr9TZPwh/+M4iPdo/ss2MkqM92j8WrkBRLaLaP/7iU66yx9o/3FSgNdkE2z/Q5w/BGVXbPwaDtzOIZds/AC9XG1HE2z866NIOd+XbP8Z0t+OoIdw/GPWwiHF43D+QP1lE4H3cP8iV/cbr2Nw/fvB/0qcN3T9+wZXO9zLdPzqn13jsi90/2uSucWql3T/ydFNUxePdP4ywiAeHOt4/tmbcqxNA3j9GvZ/rIJDePyxStQsf3t4/WpFEapjk3j8kwurC5TffP0JINkg0gN8/QKmc/QGK3z+MuPiu8drfP6jHx4+WE+A/uonWjVAV4D/G1o1lkjzgP1xtSL0tY+A/drw1GyJq4D8Uti6UMIngP9RyHi+MruA/dr06L5nE4D8hxHdERdPgP4rI46Ze9+A/HFm49Mka4T9ME+NHTiThP7dIfymZPeE/JXh0679f4T8=",
          "dtype": "f8"
         },
         "c": {
          "bdata": "px5L5MFT7T+iGB+xuzztP7NVbuaIKO0/OAhLawT97D/bhXoUVu/sP6fdJWkq0ew/89Lv7xGl7D/395aVxqLsP41ODmGSeOw/EyhoNv9W7D8gsPc51UvsPxLDERm8Huw/FGRkgfkL7D/O7fStUPHrP305Ms2hw+s/jSm8c7DB6z/pXTuqgJXrPyYwe+QVeOs/RIfs4Rpn6z9ri8ziXDjrP3GWg6EsL+s/BKxzqjIJ6z/1bkNo6+bqP6qJti692eo/op24KeGp6j+5Y+6DUZ/qP0jS2UmTeeo/xPomOlpY6j87YDO+70jqP02lwqDjF+o/GsRk6wYS6j8Ivd1TUubpPwL/KsFJzOk/5lJij1+06T/aZwDwMofpP6B4xTsDguk/G/TtWQtP6T9wWw4luELpP/ClAkiBG+k/NxXtU+j+6D9ypbpaaOfoP6ixnqnNu+g/OidBKrKy6D8uxL9EPn3oP/YID0xoeeg/JY8V4NVG6D+kyy7dxTfoP6dnlNdfD+g/vIr3Yxj35z8FSeMXmtbnP+vfuqF6t+c/fv1H8TGc5z+yZ7jfBHnnP2ZeIF67X+c/7QVJBs075z9iCMG9pSDnP0xNA13m/+Y/nN4mdyre5j/9nHpYYcXmP6nnB78wl+Y/gVyWdkuM5j/yclXNqVTmP6kOcJl3SeY/uL7mLoEe5j8kYMF8YvHlP/PPDZbc6eU/VCfTta+25T8Y+SPxm4XlPxq2vmcEheU/MM7JmsdU5T/bGz2A5CXlP8qgtwXA9+Q/h1Yc/R/k5D/U+H+KI8rkP+OD/O4MneQ/MiJ0F31w5D/PWdp5bkTkP7H869/bGOQ/7PaVYcDt4z8wh9dfF8PjPz0Cn29rseM/yknp6dmY4z9bezgQBm/jP6UscsOZReM/1niwUpEc4z916NhD6fPiPytijlCey+I/H+ZoY62j4j+Oz7BI7J7iP35I/l4PfOI/WVXs98NU4j8nuNIyyS3iP7yfq0QbB+I/c0HO6LTg4T/3DNTVlrrhPzHZgkHClOE/C9YJeThv4T9Q/b1R9WDhPziDYK3ySeE/Tj/vSfQk4T9pFZrkQwDhP+60yiXj2+A/WT+v0tO34D9cTsIRcLTgP8GWOd4GlOA/5rlSBoxw4D/JaKIeZ03gP7cwUPjUM+A/NhYuh5Qq4D/a8WHsCgjgP6d6E0+5y98/z9f7NBWW3z+8B0QXDojfPxA42istRd8/MaOP3yIF3z/EIf4cV/bePzPXyJKuyN4/9Qy2qU+R3j86uPYV+o/eP9HmkRUWW94/cpMoUc1J3j8FbR7IISreP4Xb2k4gEt4/3XjTnCr93T++RtWXXuXdP7jmRk001N0/DZWbHYzA3T8w+WYROK/dP0hGOy6yod0/fAyoaSOO3T+7zwBZeYfdP6bI6KvxcN0/5wDAxdZw3T/rUb+u0l3dP5ClSdcOV90/dmN+TxJN3T+8OcjfnkDdP5/thdZOPt0/9vkEdHEx3T+DyU0jJS3dP4NswzAFJt0/vmXukkgc3T8KWkBVuRvdPyW8uleZEt0/f/B/0qcN3T/BSEHVeArdP1cbHrBvA90/OHRxZ5MB3T/xBcFZgv3cP6iCqius+Nw/boVhl2X43D8/LrLM/fTcP0IA/eyZ8tw/fRIs03Hy3D8FmqT/D/HcP7SFQB/Y8Nw/PGsRSt/w3D9CFNQd2/HcPx9cXOz589w/q3E+Nhf03D/lj+4Lf/fcPwwbmOEz/Nw/GNX6+Dn93D/sQeq4GQLdP8CAKQhOCd0/dGbHFlEO3T93lpVixxHdP/ZF3CKAG90/JN1RDJUm3T97odo95CndP0G24ifiMt0/tw8XKYBA3T8=",
          "dtype": "f8"
         },
         "fill": "toself",
         "fillcolor": "rgb(44.1640625, 113.6484375, 141.9765625)",
         "hoverinfo": "skip",
         "line": {
          "color": "rgb(150, 150, 150)",
          "shape": "spline",
          "width": 1
         },
         "mode": "lines",
         "name": "0.375",
         "showlegend": true,
         "type": "scatterternary"
        },
        {
         "a": {
          "bdata": "AAAAAAAAAADzf7PPJVNyP3wUrkfhenQ/fBSuR+F6hD/t0C/USVuKP7oehetRuI4/fBSuR+F6lD9uH1GrK5GVP5uZmZmZmZk/Gq5kyt3BnT+6HoXrUbieP+xRuB6F66E/Zetcq9Tgoj98FK5H4XqkP2jA9YCDyKY/C9ejcD0Kpz+bmZmZmZmpP7eOR39cmao/KlyPwvUorD93T8Ox6FKuP7oehetRuK4/pHA9CtejsD+VslXzIvuwP+xRuB6F67E/GUGErKTBsj81MzMzMzOzP3wUrkfherQ/sYboo8Z8tD/D9Shcj8K1P9bN9F5gLbY/C9ejcD0Ktz/46rRcp9K3P1O4HoXrUbg/K1FE2pRsuT+bmZmZmZm5P+J6FK5H4bo/1TZUoFf7uj8qXI/C9Si8P3t8pmXofrw/cj0K16NwvT++H3ex+fW9P7oehetRuL4/nBYMBvhevz8AAAAAAADAP2TXgMovXMA/pHA9CtejwD9sVwioZADBP0nhehSuR8E/VOSaknebwT/sUbgehevBP8jM+c3XLMI/kML1KFyPwj/KAD5fCLTCP3tvbbOlMMM/NTMzMzMzwz+0bnbAqKLDP9ijcD0K18M/BvX2uY0JxD/VRrAqS2XEP3wUrkfhesQ/DUkVPf+1xD9ID2fFhPvEPx+F61G4HsU/O5LGbg02xT90uqk3zmXFP4GDv/Gei8U/L9Qax/WrxT/D9Shcj8LFP6bGdDwkyMU/KCo9aXvgxT92ISRh3vTFP71A1HdyBcY/+FptyFoSxj+vjW1XuBvGP2cyoTGqIcY//6ZWiE0kxj/VwgvLvSPGPwRkxL4UIMY/JKszk2oZxj80Jtz11Q/GP6c+RiNsA8Y/eahn9kD0xT8HPlL2ZuLFP4A11NYDzsU/w/UoXI/CxT+QQ8LpgbfFPzS2W3/mnsU/pgDI8QSExT9/81N302bFP8oqwJNHR8U/lbYbEFYlxT8fhetRuB7FP4/NAjZQAcU/d3Ka0+naxD+UNhITAbLEP+4bgt6HhsQ/fBSuR+F6xD+kiTXP2ljEP9MEruesKMQ/WTQYjsn1wz/Yo3A9CtfDP8KaGFBmwMM/V0/bJLiHwz9EqiCpLETDPzUzMzMzM8M/g1ZW0/3ywj/uKPs3n5PCP5DC9Shcj8I/He2Jm7slwj/sUbgehevBP43tX5zjqME/SeF6FK5HwT+ewSgV2RzBP6RwPQrXo8A/AYbE5HyBwD8AAAAAAADAP8hTfC+nrb8/uh6F61G4vj/kW8jPEzq+P3I9CtejcL0/uyM2wfGovD8qXI/C9Si8P5kxluFS+7o/4noUrkfhuj+bmZmZmZm5P9j+kAUfM7k/U7gehetRuD9fvfnTglK3PwvXo3A9Crc/w/UoXI/CtT8i4+FDpV21P3wUrkfherQ/gQEpMn9Tsz81MzMzMzOzP+xRuB6F67E/TUKIHtMxsT+kcD0K16OwP7oehetRuK4/BIZJdVnqrT8qXI/C9SisP5uZmZmZmak/wqvV4AAzqT8L16NwPQqnP3wUrkfheqQ/ILWBS3oypD/sUbgeheuhP7oehetRuJ4/uYyzsOWynT+bmZmZmZmZP3wUrkfhepQ/tCgyxDYlkj+6HoXrUbiOP3wUrkfheoQ/MThTGir+dT98FK5H4Xp0PwAAAAAAAAAA",
          "dtype": "f8"
         },
         "b": {
          "bdata": "4LK3sKzuuD+Y/RtrAAe5P6jeEEkwCrk/INfRGSspuT/QfdEQkzu5P4gmxbipSrk/gHq/ZvluuT84OCVN0Ha5P+BpqEy6lrk/sKe9HWi4uT8gLv9Y7sC5P4h1Ls697rk/4OOtwBwAuj+YzUslvx+6P+iPwh/fTbo/sG2A33VTuj9QScZyXIu6P5j9qPRWobo/QPbobJvGuj+w7oT8ofq6P3hlhdr0BLs/qFHFhK5Huz+QysXDeFm7P6i3qhSLjrs/kGSp++W9uz9oEfOFF9m7P1Cjd6GPJ7w/ECNyFAMovD/YETty8Xu8P8jgZktkl7w/8K/2id3UvD+AswHhbgy9P9iQFtmpMr0/qOG0NiaHvT/wtxUjvJW9P3iu0y0k/70/GNAn6HIHvj/gYLjm0W++P4iO+ZlYjb4/6Cb3oM/nvj8wHowIfhm/P+DrQLnIaL8/CIS88qysvz9Qzz0w4vS/P5xM3p/TI8A/7FCXR2xHwD88/Vc7kHXAPzweoN0dncA/bCdM0N3LwD8ojAuK5P3AP9gj2rwEJ8E/4J4XtvtswT98enV+Q4fBP8gzm97L7ME/MLgtlinvwT/MJFRioVfCP6zOwBKBkMI/SFLR7wXIwj8EGrJB/j3DP5yOZ9uyXsM/jAm9Qnu5wz8Ul9GIjzrEPwiyYdAGi8Q/QEZfPiLBxD/IIivkGE3FP+SuXZEH3sU/MHftMLNxxj+g4sbvDurGP5jufQBzB8c/fC1XdB6fxz94IqECxDjIP3iDhgFR1Mg/AGd347NxyT9IvjQm3BDKP5BcWEO6sco/5BI7oj9Uyz+c9R2LXvjLP6wVfxsKnsw/wOKEOzZFzT/YFW6U1+3NP0R69ofjl84/ADajKFBDzz/cW+syFPDPP2Loc2YOT9A/Ipfv2XJ70D8wHddmmqbQP9h4j8as/tA/jh4Tr1BX0T8q2s6SiLDRP6qE0hBXCtI/CFra9r5k0j8CVxXOW3XSP5xMf/Krv9I/tBs4EDEb0z8A43jFVnfTP/qhu5cg1NM/UibS09Xr0z/gfq1gdzHUP2YYrl9uj9Q/1kQyuxLu1D+mwd5n0iTVP47j0A9XTdU/uu6+H26t1T9SUMyDPBDWP2xD+6P9JdY/kp1dvnN21j9IIVPqNuDWP2wqFU6K5NY/jiiOVptN1z+2k8PT44LXP8Rgd9u8vtc/1ubYIlcQ2D8S5GMCqzPYPwZupNgQktg/TKubk22s2D8EPigpTQvZP6b6+2sDKdk/sJHBxSt+2T/0MRFdYanZP3DiVaUf7Nk/SjECJHEt2j+UM13RLVbaP+DnFIUQtdo/EAKfhxK92j+2IFa0CyHbP4pGtIUCQNs/UPsDu9eC2z8M5wWRAc7bPwAJKlv54ts/fG/2M5RB3D+mmifIiF7cP8KuBr/Gntw/LG99D7nx3D9wDTUbsPrcP4oD5W8cVd0/ZD8QF9qH3T+g99+rPq7dP2TMj+EEBt4/oGeraFoh3j/iVRklblzePzxGpPmHsd4/ll0Rd7u+3j+EwwBZQQXfP9JVSXWrV98/UlWFZa9g3z/0Th2YuajfP3ZO4Dtz+N8/SEbrsBUE4D/MWOtzayPgP5zDWdHwSeA/AagsL0Jb4D/+eq8XzG/gP9YMW9L7lOA/lHmyos624D/yhniufbngP+J5Woha3eA/",
          "dtype": "f8"
         },
         "c": {
          "bdata": "pAnpaSri7D9NGf2mebrsPwOITjTEtew/ygynF++I7D8CEZV2IG/sP7VGOYHJW+w/DKDqyEku7D/9zwCZnCTsP/glnulbAOw/miX1DeTa6z9G8YOlH9LrPzGsTvRvo+s/znQ0He+R6z8FpdsGWnTrP/1R+OO7Ses/2rQFbe1E6z88nQ3Y+hTrP2Fndlk/Aus/dus5Np3k6j8yLVM1fbvqP2UB90Xcs+o/t6cfTo+C6j9ckByJbHXqP82ek/m9UOo/Skv6qg4w6j9tN9uodh7qPwZJ2+Kx6+k/yKr0yGbr6T8NfzPmL7jpPy2KtGpnp+k/IK+soByE6T8yLEk4HWTpP9tWOVRtT+k/pdngnYgh6T/OFWpIFRrpP9X6goTy4+g/I3/wrqbf6D9eCNcK56zoP5/+C+B3nug/ddP/kPF06D9CmL8IEV7oP6w+Z6vcO+g/q+zmYIse6D8WRvi5YwHoP/82aCX/3+c/m8+KKy/F5z/V6ifHgqLnPx9AeQPNhuc/Dz1Gpypm5z96CM+VpUXnP9gDS90IK+c/pKc8COoA5z8vIZMILfHmPzDXfZujuOY/JsWnzWi35j8fW013bYHmP1+j8ysdZuY/LO6NFZtL5j/JZ+ekLRfmPzuXOveaCeY/WWsLYCHk5T9p1nHserLlPzaybDeQleU/4om2FDSC5T+yyAo5RlPlP2ezOF+WJeU/KO39wZX45D/oCQRt2NTkP7BSwzAazOQ/F+qaiBmg5D8Erw5nl3TkP/JOqSGPSeQ/gs8GVfwe5D8CbZfg2vTjP0KcweImy+M/h5Fbtdyh4z/jkXXq+HjjP5Uhb0l4UOM/iNxRzFco4z/8cG2dlADjP8XRMBUs2eI/Ykg9uBuy4j+HmbA1YYviP2/+ENf3ZOI///b9u6JR4j+E4CNS0j7iPwZW4fzvGOI/j3AEbFbz4T8LlsPYBs7hP/myppICqeE/VuWLAEuE4T83c3oEpH3hP06mP/nVX+E/iFX9Aq074T/cAH9Y1BfhPweogbxN9OA/uWcrxFzr4D8o3tubDdHgP5lyPZYdruA/f9DgPoSL4D83drQ81HfgP4lnEeQ6aeA/zbTp5lpH4D9HrdGT1ibgP3yRNWE0IOA/l5v7qwYI4D9BSq95+dXfP030b53H098/5OCs24af3z9UQ+CcWYffP3aoWFbRbN8/h6jp0tFL3z8fuwdz6D3fP6jZPKIDHN8/tREC+tMS3z/9wdfWsvTeP2rwJMiS694/oiZdv7/T3j8Ut/yuGcjePzWO52S3t94/yEWwa1Ko3j9i9f69lJ/eP7qLhcIajN4/Od/bjJuK3j/keEPljXjeP8B557g1c94/nVa0Y61o3j+dqfu5XV3ePz4BrUh3Wt4/FVP/9MdN3j+T7N/mDUrePyDMDe+AQt4/dVD4I2c53j/EJf4XgzjeP/vnbEgCMN4/CbBNIbEr3j84rJCRyyjeP8WP/+DwIt4/oWeraFoh3j+ZvpQicx7eP5GGKNNEG94/8+zTbOQa3j+cwer4dhneP6DnwGH4GN4/C3QKUQEZ3j/QpgvE1RneP6BfZ6UHHN4/pToeQ6Yc3j/QtI9+jx/eP4GX0UhwJN4/c41jNSgn3j8P4URBpSreP7J1DFExMt4/+L8xEmo63j/LOfAdGTvePz0MS+9KRd4/",
          "dtype": "f8"
         },
         "fill": "toself",
         "fillcolor": "rgb(38.1640625, 129.5625, 142.0)",
         "hoverinfo": "skip",
         "line": {
          "color": "rgb(150, 150, 150)",
          "shape": "spline",
          "width": 1
         },
         "mode": "lines",
         "name": "0.438",
         "showlegend": true,
         "type": "scatterternary"
        },
        {
         "a": {
          "bdata": "AAAAAAAAAAB8FK5H4Xp0P1A3PTgH+3U/fBSuR+F6hD9CKYJ61SGLP7oehetRuI4/fBSuR+F6lD8oZNNleW2VP5uZmZmZmZk/eTnj4bEWnT+6HoXrUbieP+xRuB6F66E/NQ4aEpNGoj98FK5H4XqkPz0L85Zz6aU/C9ejcD0Kpz+u+hcXhnOpP5uZmZmZmak/KlyPwvUorD9QlxNzMeasP7oehetRuK4/5IJYPGogsD+kcD0K16OwP/Fi8/6uwbE/7FG4HoXrsT81MzMzMzOzPw9rkFAyV7M/fBSuR+F6tD8QPeUs8+C0P8P1KFyPwrU/QwuUaZtetj8L16NwPQq3PxVkE14V0Lc/U7gehetRuD8XbvsOQjW5P5uZmZmZmbk/gZNCnp+Nuj/iehSuR+G6PwfuwJmb17s/KlyPwvUovD/KS3DW1hG9P3I9CtejcL0/rIt9MiA7vj+6HoXrUbi+P2QO8dpmUr8/AAAAAAAAwD/1OmyAXivAP6rIzzWto8A/pHA9CtejwD8eV1UIHRLBP0nhehSuR8E/UqAOTid2wT+chk+Ww8/BP+xRuB6F68E/wuvBRfUewj9bOXVPpGPCP5DC9Shcj8I/u+2e0eGdwj/d2jmN5s3CPw6/f/S188I/OR66j2UQwz/1vAM1JijDPzUzMzMzM8M/lHQrNQM8wz+w4MHGG0zDP5SF8npzWMM/tEcK0ylhwz//C2ZhXGbDP3S5LOMmaMM/fbWkV6Nmwz/bDE4V6mHDP1Mg5dwRWsM/ebls6i9Pwz+VzlkEWEHDPzUzMzMzM8M/vKDRp6Mwwz9bMRmnSx3DPy98+BFVB8M/BveRqx/vwj/acBqiqtTCP5NwFBbtt8I/Svyshd2Ywj+QwvUoXI/CPzylI/+zd8I/2/G6UUVUwj/7r4oGbC7CP2yW2BgcBsI/7FG4HoXrwT88/217ddvBP+zomTuPrsE/RI1hchJ/wT+IFYwv8EzBP0nhehSuR8E/lVps8BAYwT+Pzg63StnAP6RwPQrXo8A/aQHJCnaNwD+heKOJHTTAPwAAAAAAAMA/fESx5KeZvz+6HoXrUbi+P5VbieVyrr4/kV5ejBmmvT9yPQrXo3C9PyH4CFMugLw/KlyPwvUovD/yc8jYiDy7P+J6FK5H4bo/MlutB0jbuT+bmZmZmZm5P7ruwf/XXLg/U7gehetRuD8L16NwPQq3P4/dI9smwrY/w/UoXI/CtT/rVC/ByAy1P3wUrkfherQ/RO4KCCZBsz81MzMzMzOzP+xRuB6F67E/g7pRsRxgsT+kcD0K16OwPzD5pekmzq4/uh6F61G4rj8qXI/C9SisP2KmMuTSp6o/m5mZmZmZqT8L16NwPQqnP2KpCWkfRqY/fBSuR+F6pD/sUbgeheuhP2nKPq2koKE/uh6F61G4nj+bmZmZmZmZP7YnqttkV5k/fBSuR+F6lD+6HoXrUbiOP/fHodtIXI0/fBSuR+F6hD98FK5H4Xp0PxvvixVCwWg/AAAAAAAAAAA=",
          "dtype": "f8"
         },
         "b": {
          "bdata": "aBFM5s+WvD8An7gV4r28P7hTSJ3LwLw/CBl0xCbpvD8g/NyTNAa9P5gDg4JOF70/INEGlABJvT94k0XTUFK9P4Argkvqfr0/GHo+2NekvT84/h0TF7i9PxiYHBct9b0/AD9vZLf9vT/AQyknDje+Pwjhs1etXL4/0B27pL98vj94hiXM1sG+P/CUb2Nyxr4/cDs4ItcVvz+QgKEJ2iy/P3C92eAear8/QAa1XN+dvz+QfF2uU8O/P8A78Yd1CsA/AM49o+kQwD8wZ7/xY0PAP1xqx73rSMA/mGjEtGR5wD98pu+QUorAP5SAa0fSssA/lGMBjL/OwD9Uyx00BfDAPwT+Hhk4FsE/JO/9JmcxwT8obCL3w2DBP+QGmG94d8E/cBOOnYOuwT9I6yfNIMPBP3Tt66jb/8E/UPB0euQVwj+khv3jI1XCP/whBFuYccI/UKc3l6iuwj8Y7y75p9jCP0g3WPetDMM/qOIeHFtOwz8Izht4b2/DP9R3pycf18M/VKKx4UfXwz88IaJIvkPEP0hAytVegMQ/SO0CMJC1xD/E6h8WmSzFP2hHg5TJV8U/2CikSNeoxT+w8gfOVirGPwAw9Ysfj8Y/JIkwFw+xxj80g6DD4zzHP8ABOxrTzcc/0ELbVlJjyD8U5HMOSfvIP6iZUsFOUck/7HidmDGVyT+Asw9a/DDKP7DRNIqnzso/SGFmaCNuyz/E73UrYQ/MP6wJ0PRSssw/SHzRxOtWzT9AQTpwH/3NPygorJbipM4/OMwlmipOzz9MsmyX7fjPP/SYmtlHRdA/7hz3Z49S0D8a8UPtUKnQP7bWqhe6ANE/UjBj9rJY0T8wyt+9O7HRP5QCAKZWCtI/+Jc4DwZk0j/A1rKQxn3SPwym+fU7vtI/OItyJgMZ0z8CVF3+ZHTTP7iS6H5k0NM/mkRIrAAK1D/U8GGr+SzUP7qudcAeitQ/+H3id+nn1D84lLaNXUbVP9ZnhsbbT9U/Rjud4oCl1T+aVhP2HQfWPwgrMlWyTtY/NoJDpv5r1j+6nKtLQNTWP9CFrhsqC9c/ogqdNv4/1z9YxLonuqrXPxLAoFtQr9c/BNjkC0ci2D86j7wfKjjYPyQ9LvjvmNg/TPaOvU262D/8BZUsUBPZP/IuVQ0+NNk/ZiHXy2OR2T8uobaf7KfZP0ZH81EdE9o/aH21tbMW2j9KeCj0N4HaP77BpftemNo/sLdHRoTo2j8kCwNE9iDbPzgJFQhtTds/TFBGIFas2z9M+ZxmfLDbPxgjVix6Edw/Fi880GI63D/iuZxKzHDcPya/6nxvy9w/nBeDEYTO3D+QNwmgYCrdP6SsYELAX90/Mk8HTLuE3T/yenV0fN3dP8b0Mf/G990/wrW6rqU03j+eQzj6V4rePwhbDTAKlN4/uHd9sHHe3j+An+VyIjHfP8KuItlENd8/dOHYdkaC3z94aPK0A9LfPzIxsGF63N8/MbZlhCIQ4D87OfGxjjbgP1ryE+SKReA/t4dco0Rc4D8=",
          "dtype": "f8"
         },
         "c": {
          "bdata": "0302AyZt7D/4j7n6TT/sPxt75n3wO+w/jcRSou8Q7D/WV5oXsvLrPxOLAeg04us/OLVB4wiz6z9vsmgaSqrrP8TtwulVg+s/8Rbpda9i6z9DF0COOlPrP9/nMAuiIus/PHdQ4t8b6z9A9p8mcPHqPytTmhvT1eo/1l5eNMS/6j+HzwnFjJDqP8hz+BmYjeo/0AKQv7Va6j94lpqnAUzqP2Z2LAU3J+o/3E7ezDYI6j9aouyoGvPpP7JEJb4sxek/QoJZ81S+6T/OvymdwIjpPwcYfMbeguk/SiPZqUpS6T+/bif2TEHpPyMBoIL5Guk/syXNr3wA6T9JEuQEt+LoP/3T9U1vwOg/La2cxWip6D8091fAJoHoPxPL5rDubug/tCjUJKtC6D/SdfPWDjPoP+PmjKIVBeg/ZtgQKWj15z/dlDIsfMjnP9OvXW6Ftec/tmTi0/GM5z9ioEPEy3LnP2LQy6aHUuc/Vkf4OGks5z/A/d2BTBnnP+EvouhM4eY/QTsERTjh5j/pIcIriarmP5y3bsX8jeY/mpx7IBJ15j+nI+TU6EDmP6oZMVMsL+Y/2npm3AwO5j/+tKA4gdzlP1xDxRJhuOU/SSLMxUOs5T97aMlrTX3lP8xPUbydT+U/vqdaBhIj5T+9FyIvJPfkP8iM3oLf3uQ/ocSNzLLL5D/0msv3uaDkPy4qtj45duQ/wtUjsSxM5D8PAcmckCLkPznPAIph+eM/jnPiOJzQ4z967J2ePajjP+KtG+NCgOM/lF7bXqlY4z/HXw6ZbjHjP7jmZUaPEOM/WQkQYo8K4z8du5efBOTiP5l1rK/NveI/Ferpmd6X4j+yfol4N3LiP5LiemfZTOI/8nT4lsUn4j/8I2mtRR3iP6pDOgX1AuI/7v1XGG3e4T8Bqi5/MrrhPwqRVbpGluE/N8ktYh6A4T/Gh3PLpXLhP2eu3tBMT+E/tF12p0Ys4T+CsEEtlQnhP8MTnpcmBuE/t0uWUjvn4D8PoTJXHsbgP1KO1xKxr+A/i/4rKqOm4D97U8F32IjgPxi9KPJqeuA/H1Ib6Mts4D/8+bGumFPgP4V0fnWJUuA/LMiBSBk64D+1cEB11jXgP2rChzmCI+A/VJnmaLod4D+EbpzOxg7gPyvZkgO4CeA/z4c9Msr33z9s+OL5rPHfPww9HK6s1d8/hdQCadHU3z/0ka6vOLzfP99GkU0Xt98/4Qqu4tem3z+iH7GL15vfP6px/6Xak98/JPS2XWCD3z/oOZbMtoLfP23I+4ukc98/S2JvA5Zt3z/26dPyPWbfP7aB4KXLWt8/jUQMsXFa3z/s3KSngFDfP5H+GGFFS98/m33FgBFI3z8uCnbdO0HfPw/WrBN1P98/r4dPKP473z8msvBhNzjfP6zLSjrhN98/XTbKMAk23z/oxoDzQzXfP8OuItlENd8/RT2sdAs23z+UbrG7OTjfP4/AclejON8/+yL37OM73z851f4W90DfP24DrbNnQ98/k/BGuXZH3z8=",
          "dtype": "f8"
         },
         "fill": "toself",
         "fillcolor": "rgb(33.15625, 144.53125, 140.0625)",
         "hoverinfo": "skip",
         "line": {
          "color": "rgb(150, 150, 150)",
          "shape": "spline",
          "width": 1
         },
         "mode": "lines",
         "name": "0.500",
         "showlegend": true,
         "type": "scatterternary"
        },
        {
         "a": {
          "bdata": "AAAAAAAAAAB8FK5H4Xp0Pxn2l7wkq3U/fBSuR+F6hD+bXpry8uWJP7oehetRuI4/JsbhZI1ElD98FK5H4XqUP5uZmZmZmZk/rabCy21imz+6HoXrUbiePzY6egAKJqE/7FG4HoXroT98FK5H4XqkPwEzTG0LgaQ/C9ejcD0Kpz/yaqiLZ8OnP5uZmZmZmak/ZQnBqGTsqj8qXI/C9SisP+jN2vUe/K0/uh6F61G4rj/zHEwYUHmwP6RwPQrXo7A/7t1V5O/nsT/sUbgeheuxPzUzMzMzM7M/HTQm3wxKsz98FK5H4Xq0P3MMQO5Wn7Q/w/UoXI/CtT+cZCOmo+e1PwvXo3A9Crc/Jkq32MEitz+btW2sx0+4P1O4HoXrUbg/WuQfDyNtuT+bmZmZmZm5P7yTd4+jebo/4noUrkfhuj91Px5hZnS7Pypcj8L1KLw/qkTeGKpcvD/7mvAEIDK9P3I9CtejcL0/QdtNrUj0vT9XPcSomqK+P7oehetRuL4/VuIsbF09vz9iFsbHE8S/PwAAAAAAAMA/TY3/NoMbwD+IvfuzLEvAP14RVawRccA/ywWRt12NwD+EK6XhS6HAP6RwPQrXo8A/h+mD2PuwwD8btgaw3bzAP1x7BXgJxcA/4mi+hZvJwD9IjP9ersrAPwUums9ayMA/x0mz/LfCwD/tlRB227nAP/LxfEXZrcA/pHA9CtejwD/sxERv0J7AP2pDUczljMA/9LaXohB4wD8YjDp5gmDAP+te9iKxRsA/+YCQuJ0qwD/SbqaUPwzAPwAAAAAAAMA/Sqc5rX/Xvz9garrrDZK/P6bNSkHZR78/4U6Iv8v4vj+6HoXrUbi+Pz82e9j9pL4/HU3NsdJMvj9T8+6fk++9P2Z+7qr2jL0/cj0K16NwvT/nAlIv8hm9P/LIcEr0jbw/KlyPwvUovD9T/WgsAOi7PxHnxUU7J7s/4noUrkfhuj9PHl515Uq6P5uZmZmZmbk/6eolW19SuT9TuB6F61G4P7eT1IQpPbg/o7l0GfgKtz8L16NwPQq3P8P1KFyPwrU/Ky88gbq7tT98FK5H4Xq0PxHFWgykT7Q/NTMzMzMzsz+8HdBomMeyP+xRuB6F67E/QwIxMS0osT+kcD0K16OwPwuZ9BMY5a4/uh6F61G4rj8qXI/C9SisP+EWiQccS6s/m5mZmZmZqT+l9wmVsn2nPwvXo3A9Cqc/fBSuR+F6pD/lVcSS/XejP+xRuB6F66E/uh6F61G4nj/vq0S5mmaeP5uZmZmZmZk/f6pQkklNlT98FK5H4XqUP7oehetRuI4/rEYnmdkYhz98FK5H4XqEP3wUrkfhenQ/uIzcmUpAUD8AAAAAAAAAAA==",
          "dtype": "f8"
         },
         "b": {
          "bdata": "bGIs1QoxwD9I4FijmkvAP8wQS3cqTcA/5ExTfbZowD9UDuZ8fnjAPyDLFJa4h8A/iDVqSDynwD8Ehf3jtajAP0R75S6QzMA/JJg5TDXZwD8AdwgWwvLAP+zrI/NxDsE/WDDC9FcbwT8AhHGjgEbBP3gdx8/oRsE/kI/Tki51wT8cBzlWdILBP5xrmuPXpsE/9GPTvCvBwT/wHvlQvNvBPwScbX0LA8I/3LY2DycUwj8oX1NgEkjCP7iJTThxUMI/jF+Od0GQwj/EP3PgBJHCP5AE6R231sI/pLoXQ5Hbwj9gKxUktyHDPzS1jskVKsM//P3ncaRywz/MT9Ol2XvDP3iIbKFPysM/EMdrI+nQwz/UnLu4finEP/zx9p0vKsQ/yIFM6v6FxD8wUTmm75XEP5QGdNS15sQ/pPHqLlcQxT9MzEcq3EvFP3T2T3HuncU/oDuVRqK1xT+wFs7VGyTGP/Qdqeb4SMY/RDf0tWiXxj9kD1RBqw/HP0BnHW4NIcc/yFa3mtGMxz9oeg4O+w7IPyAVxvr5VMg//Km9bhWWyD+EAn26FyLJPzzJjUj8ssk/rD8tTa1Iyj90nWBCjeLKPzTKlhwM/Mo/FK8uUYx+yz9wuapvchzMP3TH6JUzvMw/VMFJmcFdzT9AoOY2DwHOPwTA1ggQps4/yKKHfLhMzz9YbRbK/fTPP/7XTvZqT9A/3n8sAlSI0D+Sm/uwGKXQP0Q0195++9A/tE9krp9S0T+8Utq9bqrRP1oWipjOAtI/KEZC+L5b0j8Eg1sGQrXSP4AS5ugW19I/IKL8ek0P0z8QQks452nTP/rtt1IZxdM/JPYOiOYg1D+sGhhy6mfUP4pRD8pLfdQ/AMcDtDza1D+MSl4b0DfVP3wRHT8PltU/0F2acCuu1T8+Wa9TW/bVP844apXGWdY/bGKJTMqY1j+U6kmecMDWP64FPcB0Ktc/1k4Keq5N1z8Yt2j/6pfXP1yjsdvz6Nc/1HXOR+cI2D8seBEE43TYPw5Zt4d5fdg/ogxCOqv12D+sFzhC8fXYP1pz3CkCb9k/QtZncn5x2T9mtrs/++HZP9i7Isbs8Nk/oC00JzRQ2j8UybK/2XPaP8IsSeQCu9o/1mTFq7L52j8s9ug7QiPbP+DzylVSgts/IH2aIiiJ2z9U9S6XiuzbP1RksJvdDdw/Ns+SitVN3D+aDve3n5zcP3KNd54zrdw/jHM21HcK3T8IITqN5i7dP/h6sZXhZd0/7jZ59JK/3T9Y+boVHcXdPwBB8wZVF94/tlERJNNf3j+2CzBrhW3eP0pf8PTrwd4/QvJdj8X/3j96jVn3xhTfPzw0Kon1Zd8/aFmUVfSl3z8muCWIo7XfPw==",
          "dtype": "f8"
         },
         "c": {
          "bdata": "Zee0Sr3z6z/Ga5qUI8TrP+ELtBhfwes/dXSM2+aT6z/xEvyUSHrrP764zJIwY+s/bGS+ggw06z8bLsN8+zHrP2PUeScPAOs/wYSTPp/u6j9KuSHrjM3qP2FhL+MCquo/zO7jsHGa6j+4vajCsWbqP3J1ORU1Zuo/rN5AhBAy6j+JN7dxLCPqP3/Lf22w/Ok/bRY/xu7g6T+CwpiPgcbpPyHsRjF7n+k/XQB6HXGP6T+YpOFk0V7pP37vpNBoV+k/X6yRpfEe6T/RJQwkTh7pP3ZYH9Lr4+g/00pVE9rf6D+Y8gQONqjoPyVR1K+Poeg/yeEA+ARr6D95v8YhFWToPwBjkGkkLOg/+CQOfG0n6D8XYkNcp+vnP3ds3qc26+c/AuOI49uw5z+AeD7jUKfnP+ML9Bged+c/O7SCPsFf5z//REopfD7nP90WWqtlE+c/gug+KwIH5z/0Zu4JtdDmP9VwdEutv+Y/xzbZvJyb5j99dJLawWfmP1gCCGeyYOY/BI7M6x815j+anoPDvgPmP7h6ToHB6uU/LbKQ1pnT5T/9z2HkrqTlP1lJx4L8duU/o27QPn1K5T/Djf62CR/lP0nxSjYHGOU/2VmT9R305D8epBP4q8nkP01vhLywn+Q/c/U9uCh25D/edIaaEE3kP33E40llJOQ/3ESx4SP84z8uP/avSdTjP4VXeTPUrOM/52NaPOCS4z/9ALGLv4XjPwQVgB0HX+M/auonAKw44z+cM8QCqBLjPxld/Wrs7OI/rry6FXnH4j/KoqgXT6LiP8D2jIt0lOI/BnraTGl94j+sEWOmyljiP0+vei54NOI/EnsHRHMQ4j/SToOJAPXhP3Pw6F+67OE/3HLET0fJ4T9Q/FJ+JabhP3anE4tZg+E/aonRzNV64T8FEz4QlGHhP3vK/CteQeE/RGNpIXwu4T8M602rxyLhP0fAKDfeBeE/OUk4zf/84D+q4J/RrergPx77895S2OA/uAe0cEDR4D/gbFMNUbvgPwPBiQueueA/e2KwX8uj4D9Iec+wv6PgP5unjP8skOA/+Y6kdsmP4D89Yiw3pn/gP3JJYxuVfeA/yoL/hX9x4D++lwwTIG3gP2FfBOoNZeA/TS33AyFe4D/W1sMA5FngP4A821OFUOA/hG/6z+ZP4D+Ujz9YK0fgP2g8r3FfROA/y/4coXs/4D852bP61DngP9f7uVnCOOA/8uRpARYz4D8eqjbgDDHgP2a9O+NWLuA/kztn9nMq4D/0XVifPCrgP7SSua+IJ+A/0dFkIawl4D+BiSpAZiXgP+G72b0oJOA/xWns0bkj4D/xgDT/sCPgP7qJ23gPJOA/BuXor+Uk4D/tI+07LiXgPw==",
          "dtype": "f8"
         },
         "fill": "toself",
         "fillcolor": "rgb(31.0703125, 159.47265625, 136.140625)",
         "hoverinfo": "skip",
         "line": {
          "color": "rgb(150, 150, 150)",
          "shape": "spline",
          "width": 1
         },
         "mode": "lines",
         "name": "0.562",
         "showlegend": true,
         "type": "scatterternary"
        },
        {
         "a": {
          "bdata": "AAAAAAAAAADVDvNtwCxxP3wUrkfhenQ/fBSuR+F6hD94Gk12u4uGP7oehetRuI4/G1cbIhUKkj98FK5H4XqUP6VKA3EVmJg/m5mZmZmZmT+6HoXrUbieP5w8KmPO8J4/7FG4HoXroT/MTlAkx4qiP3wUrkfheqQ/wLc6NMqCpT8L16NwPQqnP8H2Pk2GYKg/m5mZmZmZqT+qfDio/iOrPypcj8L1KKw/oJXP9CPNrT+6HoXrUbiuPze+KTHqLbA/pHA9CtejsD+aoPXD7WexP+xRuB6F67E/QQ4FFnmUsj81MzMzMzOzP2r3U/Ves7M/fBSuR+F6tD+iChEDWcS0P8P1KFyPwrU/sZfPmUPGtT9lrw2G1Le2PwvXo3A9Crc/OyvZ/PSXtz9TuB6F61G4Px+0klEFZrg/pyMhNgUiuT+bmZmZmZm5P52OZqI0y7k/OhOLEK5huj/iehSuR+G6P8v04ToL5bo/I8ArBa9Vuz81fo78WrO7P2uFKPVH/rs/KlyPwvUovD+fmbc+vja8P7PKQYQOXbw/VqOwdoJ0vD89Ru8w84O8Py4AMRwHjLw/Je2oN/GMvD9IkEgV4Ya8P/53e/0Cerw/40n/DoBmvD/iqAdbfky8Pw081f0gLLw/KlyPwvUovD/K2Bo81gW8P4r+G6uC2bs/wIL1yYynuz8Lj2rhB3G7P2kwr5L5Nbs/yYHS+VD2uj/iehSuR+G6P1m1YCNksro/Eoulz/Fpuj/5W7PTtxy6Px3/ac+gyrk/m5mZmZmZuT/M19Yc6XO5P+0HlZGJGLk/7Wm9GJawuD9TuB6F61G4P+nNgDj6MLg/iVy8BkCYtz8L16NwPQq3P9bvon665bY/2FYgPn4Ytj/D9Shcj8K1P/GQumDtL7U/fBSuR+F6tD8MDolKeCu0PzUzMzMzM7M/j4J2g6wKsz/sUbgeheuxPxQoeFJKzbE/pHA9CtejsD8yZqe7hXOwP7oehetRuK4/W8FG+VEDrj8qXI/C9SisP8kj8Zw886o/m5mZmZmZqT+sFhWOVbSnPwvXo3A9Cqc/fBSuR+F6pD+UzLDpqEOkP+xRuB6F66E/ffUdiGudoD+6HoXrUbieP5uZmZmZmZk/Uz+U4XF4mT98FK5H4XqUP23ir+W4MpE/uh6F61G4jj98FK5H4XqEPwLLuFfPsIA/fBSuR+F6dD8AAAAAAAAAAA==",
          "dtype": "f8"
         },
         "b": {
          "bdata": "qC3C718twj9U9j0nqUrCP+RGx1LCUMI/9KTyXgV3wj9gyoBX1X7CP/g+F+07oMI/aO5O62i2wj+UCTwROMzCP9DfnfBf8cI/ZI5x8C37wj9QTLy4fS3DP1jhuGurL8M/AB7NOd9jwz/o6553NnHDP/hCVS0SnsM/bA/fHw22wz8gW6TVdtzDPzD4+6Ys/sM/bC4ifX8fxD8YONqllEnEP6RMF5m0Z8Q/nMWEBkeYxD9QybkhurXEP2i5EQNI6sQ/VIQIjlYKxT9wMZwonj/FP5iPmRF8ZsU/rMZVXlKYxT9Ei3kCVcvFPwR9v/Bv9MU/jLRFvFQ6xj/cqI13CFTGP3CPaqf1tcY/PHYb3GS3xj/0YEmr1x7HP4j1Kv1JRsc/oPLTl6aKxz84bOTx7e/HPwwB44z5+sc/0NX8ndBvyD8MnJF4dMXIP7TrKM1b6cg/MDvde5RnyT90hBZByObJP3DzhDuU6sk/QPEvU0Jyyj9gspRfrv7KPzShqyvKj8s/UCzqcpgAzD/MTIWjgyXMPywxYJzGv8w/qOsBqsBdzT+Qs6+Fu/3NP7i1HJWNn84/HCt8GCpDzz/0slErhejPP9Y0wd3JR9A/7HKvwCWc0D9eH018UfHQP0olEq1IR9E/7AB7aGxO0T8EKmiK/Z3RP569poFz9dE/akXqwp1N0j8yXBrlWabSP1iAEDSn/9I/fs5KzIdZ0z/anjwrc3XTP17AN+zws9M/+t3Nu+oO1D8u3GqAfWrUPxzAEuarxtQ/HkNm+wj71D9Y3YNhbiPVP6bPCtjFgNU/uHtEzK/f1T+CvOYCuyjWP4rHas2OQdY/CA7CmJGm1j9crjHh2PnWP/Lz487NDtc/ZP8S3GB61z+YyUbs5KPXP3Jw3nxe6dc/vq6SM2M52D8gWcOk2FvYP5DWGH+Mwdg/4GLEot3R2D/KdlzXC0DZP4LmAm51S9k/elZpPky32T8Qt/uFmcjZPwLdB7CUKdo/EvD6osBI2j+al74GPJjaPz4C332ty9o/2qYbCKwD2z9ie+tzh1HbPzgF/gQ1bNs/AJsbbP3R2z9UeFDDfdrbP4p85JADNdw/GF6IHs1m3D/+LBFuypXcPyQ8wqxs9Nw/yFMczcv23D+G+ZMhqFDdPwAvGhrlit0/6EjYdwSr3T9AH+LgXgPePzqDBymjI94/1LE7TtBZ3j9I2fQBgK7ePw==",
          "dtype": "f8"
         },
         "c": {
          "bdata": "lnQPBKh06z9NnFQ1/ErrPx/SvqjZQus/cZ4kI1MQ6z/+mEa8GwbrP8gbDL0P3eo/rmkbHBXC6j/3jHPxGqnqP7ZtUFjnfuo/m88Wt2d06j/2w3QC3j7qP8Z1+LGOPOo/YjOh308I6j8aQNPvBfvpP/rNL2DN0Ok/qZDEFFC66T/Iq4xzPpjpP4gSbXFseuk/y9odh4Ze6T8w6gXsWjvpPxU3kX2DI+k/P9UR/xv96D/AO9lYDOfoP+BZFrmwv+g/1zA2e++o6D+QP1q9GoPoP9yRwlfwaOg/jeypRVxH6D/JNvtYxCboP9GhJSV4DOg/TdD4pw7i5z91dLrBctLnP2w9oKowmuc/ey+/VV6Z5z/X8WuET2HnP7zHoNIlTec/8N1vulcq5z/oDeMSx/nmPznplPKA9OY/GKa8Mcu/5j/JZaiub5vmPz/zaHhCjOY/zE73HuVZ5j+Hz/f5JCrmP4qEwom5KOY/rIuOirn45T+iA4kI6cnlPwUHcHZEnOU/ZonzKrt65T+ZuUdPx2/lP1+6X4hsROU/rHCphv8Z5T9UKna4EvDkP4yyMrebxuQ/ldfrUped5D85gYKSAnXkP5X2b7HaTOQ/Tl3IHR0l5D81e3h2x/3jP9lFvInX1uM/BJRwE6vT4z/kj0hzRrDjP18hyekViuM/8yxMhT9k4z8FgEURsj7jP8bZoTNtGeM/h0ig+nH04j83IZ90HeniPyUJeAW7z+I/oV8kaEyr4j9pJlRFKofiPw5gCfNVY+I/PasZT0hP4j9aNqOryz/iPy/3x+GLHOI/5hTGVhX64T+1yugNZeHhP32COlIZ2eE/am3HMq+54T/wrVLhy6HhPw2oucjhm+E/dHUyyr9/4T98fFeeu3XhP6l1eRVTZeE/EeZAPfJT4T+uMU2kpEzhP1IuDVrTOOE/Pv4unrs14T9dunpwiSLhP72Hr/6bIOE/r6aD/94P4T+yN42FQg3hP5O/Q4mw/+A/4Rvujmr74D9xvnegUvHgP6VsQXf16uA/+ZJYYpDk4D/l8Cjt9tvgP/S/dqZB2eA/OFF3NVPP4D8Mt7yPhs7gP508ouXFxuA/nPE5uMLC4D+LQJs5WL/gPyIV0tz8uOA/IjRlita44D+Zkvjk1LPgP2xpxav3sOA/EsdlfJyv4D8OOHAKZazgPzdbHS5rq+A/7spSFiKq4D9ckwX/v6jgPw==",
          "dtype": "f8"
         },
         "fill": "toself",
         "fillcolor": "rgb(39.6484375, 173.453125, 128.3125)",
         "hoverinfo": "skip",
         "line": {
          "color": "rgb(150, 150, 150)",
          "shape": "spline",
          "width": 1
         },
         "mode": "lines",
         "name": "0.625",
         "showlegend": true,
         "type": "scatterternary"
        },
        {
         "a": {
          "bdata": "AAAAAAAAAABEdV776Z5gP3wUrkfhenQ/T1HiN+b8gD98FK5H4XqEP1t9dGCCYo0/uh6F61G4jj98FK5H4XqUP+0l1XchrZQ/m5mZmZmZmT8n1awh6XKaP7oehetRuJ4/xE237x0BoD/sUbgeheuhP0/yHZCdraI/fBSuR+F6pD+IxyhU8T6lPwvXo3A9Cqc/vjy1dwS1pz+bmZmZmZmpPy7/Cp+vD6o/KlyPwvUorD+EOILFuE6sPxlZUc5Ncq4/uh6F61G4rj9hMK3DDD2wP6RwPQrXo7A/AKwrXLkysT/sUbgeheuxP9fkaP3gGbI/mjBX7tPxsj81MzMzMzOzPyjowfLUuLM/W8b6Kz5utD98FK5H4Xq0P/t0ucMeErU/ipY4K9KjtT/D9Shcj8K1Pya5K/aGI7Y/SmKCxgORtj8mChcpT+y2PwvXo3A9Crc/qiQ/5p81tz8l3ILeEm23P/64SnrYkrc/QCDkpkantz+kkIcrtq63PyVa44yNrrc/nQhUJD+ntz+g3qiG9Zi3P9q7ex/Yg7c/OC4uSwtotz+YWG5tsEW3P4IKXwTmHLc/C9ejcD0Ktz+EJ5vh/+22P3W6z7BuubY/EkdSSEWAtj/G4bRnjEK2P80RIIMzALY/w/UoXI/CtT/ppZRgO7m1P/yIA9kBbrU/XpTG6/odtT+vjT6xEcm0P3wUrkfherQ/Z+8Kp+1rtD/Bc7t6CfmzP7SlS4wTbrM/NTMzMzMzsz9X5X/V/8myP4QgB+koDLI/7FG4HoXrsT8GPZJ/ozOxP6RwPQrXo7A/vC10Ovc/sD+6HoXrUbiuP5XtJk4eYa4/KlyPwvUorD/cNC/1MQqsP5uZmZmZmak/9xOGppGCqT8L16NwPQqnP0OS+tf5zqY/fBSuR+F6pD8MsUHWdO2jP+xRuB6F66E/VgPPLoPboD+6HoXrUbieP7xXKUANLJs/m5mZmZmZmT98FK5H4XqUP+5qLGVQMpQ/uh6F61G4jj9x75gAan+JP3wUrkfheoQ/fBSuR+F6dD9+L1yV9h1zPwAAAAAAAAAA",
          "dtype": "f8"
         },
         "b": {
          "bdata": "LGLimGlHxD+QV7dzo1nEPzjF4UZ0dsQ/lHIsINGWxD+4Ld9F5KjEP9RRJUl718Q/fBFfJQXfxD/cecBvVBnFPwQU6U6UG8U/VEvoVnxYxT+0CYneDmPFP5hkxH2CnMU/9F3qvPCtxT9k7Nf08+XFPwj6GtM3/MU/nGQkxHk1xj8EENdk5E3GP0gb9eTfi8Y/APKiCvmixj8UHGJyHurGP1iq9a96+8Y/RIDS7WVRxz/QM2SVcFfHP2DAh/7Utsc/YOJlgSfExz8QEKSRshnIP2Dt1kqURMg/zOHBdR6AyD/MV9Z+59TIPzwEsJcr6sg/7OGx5QVYyT9EybtES33JP7Ck1K4cysk/xN3DaplAyj8Ay8Dv/EnKP8CiEU94u8o/AEtvf+I6yz/MRELoXVrLPwDz71bMvss/WLkXLURHzD8IALBeSNTMP1BMqi4/D80/CGqjOctlzT/Q7M+FxfvNPzxmGykrls4/EH0yqOY0zz+cEUfR4dbPP+7HloFhPdA/cGrH0zaQ0D8CiJuM6+PQP6zkn756ONE/tE5I3t+N0T+6AR+/FuTRP86jX5EbO9I/PFHHj/Bd0j+A2Nba45LSP3T+DoZh69I/MmU9OHJE0z8uym/ZFJ7TP34cIXtL+NM/2vo24x1H1D9MQpEEFlPUPzweorportQ/InVoHVUK1T9KLtjJ3WbVP/TAh0SWtdU/Zlo90G3E1T8sAubatSTWP0C00h0AiNY/ypQRqUet1j+e5MoZbu7WP4q1eHwUWNc/XGWKFsto1z9MCsauEMXXP0o9vhDnB9g/hoSIvHE12D8MZWLW9ZbYP7ZTE0RKqdg/5i5dRpca2T+Uh8GOpCDZP7YYQ4C4ltk/8tHKGAqb2T+Q5/5MjA3aP2BC0hovGNo/gClgyth/2j/GiAzwMpjaP8bOXPo07to/8muijz0b2z9Su6csFlnbP7zJrN2Aods/SK4hTNjA2z8gw9w5syXcP3Rpo0k6K9w/6r0BxJGH3D9gIempurjcP/pAY/4P59w/yH5KX0VE3T8Shd/pZ0rdP1I5ps/6nt0/",
          "dtype": "f8"
         },
         "c": {
          "bdata": "dWfHmSXu6j+myxY5+NjqP4oyuCttueo/FVoVH1iW6j9AfGlp24PqP5XZNCSXVOo/Jyf6bl1N6j/lcNLZ0xXqP88Rh+CxE+o/XyB5HRTd6T/pVlD/pNPpP+S9MtEco+k/p/PJ8XGU6T/Jf96wymfpP1piNzIYVuk/kQV8evMq6T+Hr4fRlxjpP757uC9k7Og/tO/bdfHb6D9h383J3qvoP3jlEVomoOg/LWpiKBdp6D+Ez05OOGXoP1b6eOMlK+g/fDXuAHEj6D/wVSHD8fHnP5SWAgxg2uc/DRIKN6G55z/PX3N8VY3nP1fiZvo4guc/caHICMRL5z9Jp2rIRjrnP9CZ8jVeFuc/w6/P3xHi5j+wChqbJN7mP7BoxBPeruY/bhq9Gs185j8VUGqaFnHmPxyMfgvcS+Y/YMXpew4c5j+6HjEDZO3lPwryQIbo2uU/6EDPNNm/5T9IqbtCbJPlP1HPbyYaaOU/tNwWgd095T+FST3GcBTlP8UwmI196+Q/tMmRsfzC5D8rIN2I65rkPy6WwJxHc+Q/4BJ2pw5M5D8RtMKSPiXkP8lMxHbV/uM/gNwHCsDv4z/QLmEWztjjP3iJ3mYhs+M/hQTXOr6N4z+xflEGpGjjP4dvC9LTQ+M/22PfIh8k4z8cyqSRTR/jP8J/jmcL++I/4/LSExbX4j8lF+zkbrPiP/ZcxrTYleI/4fT/YkuQ4j9ykDXjg27iPyoxjX89TuI/Nc8QxfVC4j8HkWr4iC/iPyvBoqRwEuI/FMPj0CkO4j86s6o4A/fhP0czWZaR5+E/BThtOkjd4T+Oexb2/8jhP0vnE/lIxeE/y3KoACWw4T/oSEyZCq/hPwvaRCYKm+E/xzUy2VGa4T/ITnYClojhP6w1F9X4huE/+AlVhmV44T+NoJU6D3XhP38T5jAtauE/0dlBBalk4T9h+U9asl3hP2RQKCffVeE/EFwiDcdS4T/MLdRYT0nhP+7nBFjQSOE/kQxR1lVB4T+SCwkDpT3hPzGnr3uMOuE/dGTLjec04T8ZheUdkDThP1fjLJiCMOE/",
          "dtype": "f8"
         },
         "fill": "toself",
         "fillcolor": "rgb(62.01171875, 187.3984375, 115.55859375)",
         "hoverinfo": "skip",
         "line": {
          "color": "rgb(150, 150, 150)",
          "shape": "spline",
          "width": 1
         },
         "mode": "lines",
         "name": "0.688",
         "showlegend": true,
         "type": "scatterternary"
        },
        {
         "a": {
          "bdata": "AAAAAAAAAAB8FK5H4Xp0P3wUrkfheoQ/uh6F61G4jj98FK5H4XqUP5uZmZmZmZk/uh6F61G4nj/sUbgeheuhP3wUrkfheqQ/C9ejcD0Kpz+bmZmZmZmpPypcj8L1KKw/uh6F61G4rj+kcD0K16OwP+xRuB6F67E/NTMzMzMzsz98FK5H4Xq0P7NBwyV6drU/w/UoXI/CtT8L16NwPQq3P1O4HoXrUbg/m5mZmZmZuT/iehSuR+G6Pypcj8L1KLw/cj0K16NwvT+6HoXrUbi+PwAAAAAAAMA/pHA9CtejwD9J4XoUrkfBP+xRuB6F68E/kML1KFyPwj81MzMzMzPDP9ijcD0K18M/fBSuR+F6xD8fhetRuB7FP7z3dYlSecU/w/UoXI/CxT9oZmZmZmbGPwvXo3A9Csc/r0fhehSuxz9TuB6F61HIP/coXI/C9cg/m5mZmZmZyT/DrwdSXPbJPz4K16NwPco/4noUrkfhyj+G61G4HoXLPypcj8L1KMw/zszMzMzMzD8cqXZeht/MP3I9CtejcM0/Fq5H4XoUzj+6HoXrUbjOP/C04MMQuc4/uh6F61G4zj8WrkfhehTOP6lr6e5Nes0/cj0K16NwzT/OzMzMzMzMP4LSmgj+Osw/KlyPwvUozD+G61G4HoXLPwhVPogj+8o/4noUrkfhyj8+CtejcD3KP4lX7A3Dusk/m5mZmZmZyT/3KFyPwvXIPwxcmqTiecg/U7gehetRyD+vR+F6FK7HP0uJaTGJOMc/C9ejcD0Kxz9oZmZmZmbGP7KUGwi+9sU/w/UoXI/CxT8fhetRuB7FP1YNJp2ItMQ/fBSuR+F6xD/Yo3A9CtfDPxs51k7wccM/NTMzMzMzwz+QwvUoXI/CPwTdD0D8LsI/7FG4HoXrwT9J4XoUrkfBP710PkCz68A/pHA9CtejwD8AAAAAAADAP0bk/Xk3UL8/uh6F61G4vj9yPQrXo3C9P/eOonV3yLw/KlyPwvUovD/iehSuR+G6P2rfiaUxQLo/m5mZmZmZuT9TuB6F61G4PzkILGdwt7c/C9ejcD0Ktz/D9Shcj8K1P5ZYLEo9LrU/fBSuR+F6tD81MzMzMzOzP1nlFRqhpLI/7FG4HoXrsT+kcD0K16OwP93xzOmjGrA/uh6F61G4rj8qXI/C9SisP9PdsD+aIKs/m5mZmZmZqT8L16NwPQqnP0jl0gVHC6Y/fBSuR+F6pD/sUbgeheuhP29Lb4xa9aA/uh6F61G4nj+bmZmZmZmZPz4PtlXAvZc/fBSuR+F6lD+6HoXrUbiOP4kLyv+IH4s/fBSuR+F6hD98FK5H4Xp0PzioNnWkBms/",
          "dtype": "f8"
         },
         "b": {
          "bdata": "5MwyzP9t6z+zuqHKVlvrPziMdAaZSOs/XEditsc16z9MhI4Y5CLrP5X+a3LvD+s/6yGcEOv86j8TjMtG2OnqP8J+i2+41uo/Ij4o7IzD6j9nWnwkV7DqP4zkwIYYneo/XJBah9KJ6j/Ex6OghnbqP0y1s1I2Y+o/0k0iI+NP6j9qY8mcjjzqP2q39RW3Leo/6kMJPzgp6j+Wy8LK3BXqP0guf5GHAuo/o8zdXVPv6T+owYMCSdzpP9xTSjRqyek/IFgT07i26T+DUYjtNqTpPzS4WMXmkek/2AoJ1Mp/6T+rX2fQ5W3pP5DUvbQ6XOk/op/fxcxK6T85xzKbnznpP77l3ie3KOk/FBVRxRcY6T+/g04/xgfpP7aIsinq/ug/SOCuDb/36D/CZvCzBejoPxG9wver2Og/PPbEMbnJ6D9yPrGSNbvoP8iHS0Iqreg/UGXYg6Gf6D/erS+zPpjoP0xIWZ2ekug/exh5Dy2G6D/GGLFqZ3roP+nYs/Veb+g/XqlScSdl6D/cKjE0D2ToPwDsE3zQW+g/7rdtxH9T6D9yzDhLVkzoP4tFE6rTUeg/4J01OxtS6D83qXsyC2foP92KQcehoug/MTw1kEGm6D+b6AfSKLvoPyq6moaB8+g/jAbfoET66D9MlahpIw/pPwOmNZlyROk/0VcFCyVO6T8vKDW2+2LpP9xBD2t0lek/FUmu9uOh6T9+OA3zsrbpP3TdyDqG5uk/2jqX5oL16T/vhYStSgrqP/ZTviunN+o/znYIlANJ6j/pJxSjxF3qP7Fud1PWiOo/S2ry02ec6j8ehVWoIrHqP8Z7ZcMS2uo/GHlyg7Hv6j/rwPaWZgTrP3bSvo9bK+s/rPQbeuJC6z8fdxhBklfrPyL6JtSvfOs/S86ngPyV6z/YnMlop6rrP1SDsLYOzus/3eTwSgHp6z90YZe6p/3rP9DPp2l3H+w/2nRedPI77D+U51/KlFDsP07hfCzpcOw/1HoQftGO7D9CY8YRcKPsP3DIDUxjwuw/h9VKzp/h7D+3283vOvbsPwwCgyLlE+0/RIu8sF407T+GeD6p9kjtPy9Z4hZuZe0/9AVaVw+H7T/GIJFppJvtP4wcc5z9tu0/MKiU27LZ7T96hS9ERe7tP+wHBzKTCO4/ZPrIP0os7j/xluQ12kDuP0WsNWEuWu4/qtrHcNZ+7j+y1GMmZJPuPzL4k73Oq+4/xWtnR1jR7j8yq9Xp4+XuPypx7uNz/e4/y6IOitAj7z9ny1xCWjjvP3FvinkdT+8/Ms8y7j927z+3lYzhx4rvP8APcSvLoO8/irfBGafI7z9ptstpLd3vP6xkxa188u8/",
          "dtype": "f8"
         },
         "c": {
          "bdata": "cMw0zwBIwj+RpDvLze7BP9jtstHtlcE/ppC+B1w9wT8/LNB0E+XAP3rSHAMPjcA/fdQegEk1wD9ydkc6e7u/P7j/zN/LDL8/aiNs5nlevj/+X1APerC9P5AtsejAAr0/xe1oz0JVvD8/UaTw86e7P7MDqkvI+ro/Q166s7NNuj8z0AbSqaC5PwEDjyrNG7k/8OqMq67zuD9LzEU53Ea4P2vV5+7Xmbc/UAF4d8vrtj/gd809cDy2P/wEHpu4i7U/jgFbkJXZtD80VTio9iW0P2E+OtXJcLM/98c8S/u5sj8aQM9TdQGyP6m3oBwgR7E/1X0Xf+GKsD+pvwaAOZmvP8oUT4xkGK4/11w2jP6SrD+br2nDugirP62V/z4TLKo/dCRutNF5qT9H+l8nC+anP8zSRMFKTKY/lX0r+BqspD+TN3HA+ASjP6Df1p1RVqE/KYkmuAI/nz8dxswJR0WdP6KkHjanwJs/lBk5oCAwmD8Zi03nHIqUP6MBCjVzzJA/mduI3lbpiT81t0oMzQOJP/MoYYqjAYI/bUYuoMGwcz8cf6+X51RGPya0xnIL2+e+gszGcgvb9775Q2syFdZjPwFrXL4vVCO/oWxcvi9UM7/jMeTE+qNhP4tWdgtGCDK/qVZ2C0YIQr+Qpd+F0ClfP4Ik2ina2zm/AiXaKdrbSb/kgiqqQVBbP1n2Xim6lEC/9/ZeKbqUUL9uiHo30rhXP7nb0b2P+0O/LdzRvY/7U78BS1CGZ2BUPwEf2WLgJUe/2h/ZYuAlV79L+nykhkNRP0x2T/lVF0q/xnZP+VUXWr8+ama+DL1MPzJs/Luq00y//Gz8u6rTXL9RfVi0ZltHP3vygtGNXk+/svKC0Y1eX7/59GCo0lpCP1rF4lXI3VC/r8XiVcjdYL8atla9kGg7P4gFQYAN91G/2AVBgA33Yb9pYPREK8IyPx6xGM+x/FK/UbEYz7H8Yr8g2Avtq2slPwtZZmI28FO/aVlmYjbwY7/3iljDHb4JP1W5CH4B01S/srkIfgHTZL/PM7BsHBgOvy4lBtFeplW/eiUG0V6mZb9W4nM5TIkkv7uCyE+Aa1a/E4PIT4BrZr8EXzm8f1Ywv/Zssmt/I1e/XG2ya38jZ7//b5y5KwE2v2ZPTIFez1e/tE9MgV7PZ7/ElmVskEw7v+FCdGEKcFi/LUN0YQpwaL+lh0i49R9AvyMMTeJbBlm/dgxN4lsGab8nQ8EE73BCv33Ay2oZk1m/ysDLahmTab/KzWCmPJxEv2rVP3D4Flq/v9U/cPgWar9ExKjqpKRGv4fbb+Ceklq/29tv4J6Sar/pRkpssYxIv4inNnWkBlu/",
          "dtype": "f8"
         },
         "fill": "toself",
         "fillcolor": "rgb(71.984375, 23.91015625, 105.9140625)",
         "hoverinfo": "skip",
         "line": {
          "color": "rgb(150, 150, 150)",
          "shape": "spline",
          "width": 1
         },
         "mode": "lines",
         "name": "0.062",
         "showlegend": true,
         "type": "scatterternary"
        },
        {
         "a": {
          "bdata": "AAAAAAAAAABTOjaYa0lyP3wUrkfhenQ/YhA1McxjhD98FK5H4XqEP7oehetRuI4//2mmWj4zjz98FK5H4XqUP3kicXxtyZQ/m5mZmZmZmT8x/2HeXsGZPz6g+32sgZ4/uh6F61G4nj/NosvfNIWhP+xRuB6F66E/HaGvQY+toz98FK5H4XqkP0GwqbKuuaU/C9ejcD0Kpz+x31UKSqmnPy1+QrQ1fKk/m5mZmZmZqT9r3dkpGzOrPypcj8L1KKw/x1TnJYvMrD+dgoHaxEiuP7oehetRuK4/DrBvQJSmrz+MIop5TnGwP6RwPQrXo7A/btqt8ST+sD/gg9iijHmxP0Fi0Xtm47E/7FG4HoXrsT8I84Ot1zuyPzJTHSfPgrI/G7cCFG+4sj/fUsYK5tyyP/+cYh5r8LI/Glhyllfzsj9364jRBeuyPyKlATVz27I/WKiWLd/Esj+9AVShbKeyP5Vgank7g7I/cbGxs2hYsj8DQu5wDieyPxDwm26t77E/7FG4HoXrsT8dPzHpA7SxP7bpBgfLc7E/KbErMususT+bKIIRU+WwP6RwPQrXo7A/LKAPwAaXsD/DEeFTT0OwP46E1/Fru68/U7utQ6DBrj+6HoXrUbiuP+6tnLbAlq0/cKs0ais6rD8qXI/C9SisP4T7Z6xmqao/m5mZmZmZqT8f3u1YvuOoPwvXo3A9Cqc/PLk/1QTopj8guJ8RjLykP3wUrkfheqQ/u+Lhso1loj/sUbgeheuhPzubFSLWwp8/uh6F61G4nj+J6LVTjlyaP5uZmZmZmZk/QZIYoHyTlD98FK5H4XqUP7oehetRuI4/dJgaRb3DjD98FK5H4XqEPxpLdbYs/n4/fBSuR+F6dD9OnA7GNl9EPwAAAAAAAAAA",
          "dtype": "f8"
         },
         "b": {
          "bdata": "9IVspPCJxj8g/kLCF8HGP5AXFCs8yMY/KJ9XGfYKxz8YVAYKmgvHP/DutOvbVMc/AIVJklFYxz/g2QhgXKTHP8wWlbcrqcc//MjhV936xz+kebOrg/3HPzhQ99tVVcg/XEOXdJ5ZyD+IBhsSobDIP2QvQpImwsg/YPcb0GwPyT8wV3p05jXJPyAmOuy/cck/YBnH0Oq2yT/UEIKLo9fJP6ztgSAdQco/vI/29mhIyj9ocgx8F67KP5R1s5bA8co/IDTIhsAeyz8IX3JaEJPLP6ytw8w+ucs/AArydy0LzD8A6Nprg4fMPzQunN1dtcw/rGoP2CQIzT/0MAL2IY3NPwBqAYqCFs4/5PveSWIjzj9wNtJHPaTOPwxPqXNWNs8/tGatgsXMzz80+JxnvzPQP0InSEo6g9A/LuhkQMjU0D8WziD+vSfRPzJv0Nabe9E/Hofc3FnQ0T9ClIOz8yXSP7qAn11lfNI/8E51O6vT0j8wdewIwivTP8B3Va6ZhNM/dGbEOs+K0z8whiFk+t3TPzCJhQXtN9Q/kqg/hXSS1D/2kXMOk+3UP/SLYmo9OtU/VpvAHUhJ1T92JWWQqqXVP7iH4kBJBNY/nNzjgNFl1j94UG1kBWnWP8al0/5qytY/QN642B8y1z94/zOZzzbXP5BhtKkXndc/atRu+q/f1z+4uwq0XQvYPzyMNeV2ddg/WFZk0QR92D+8Dr3ip/HYP85u7KzX/tg/ZKTHTQNp2T9M7PT0VoDZPwjOA/0w49k/ZKntnYT72T/ug5XATmDaP/y67kpZcdo/8iZR04Lg2j+oLEhYk+LaPwi3+9JyT9s/dDlcSPtj2z9AO+qNsrjbP5JxImn56ts/AMZBtL0e3D/SkPx5yXXcP36qFBjhgdw/",
          "dtype": "f8"
         },
         "c": {
          "bdata": "g97k1oNd6j8E1D44JyvqP/SdqzL7JOo/9EPlSLPr6T+osl/4LevpP8qvZL3nr+k/GAUDoh6t6T/kWMDdEXPpPzkxN6Zpb+k/9cA63Xs06T+dESAelDLpP/BOEiWd9ug/MwZ+09Xz6D8yhHxthLvoPwnvgwm+sOg/Fgje10uB6D/siGZO2GroP3Tbxhn1R+g/OPzDdKEh6D/PHXp8gg/oP7Ncm1z11+c/d8KoKEzU5z+QRV9uSKHnP9ksKn4Agec/rH3vK4dr5z8UULubrzbnP6nCFi4rJuc/gIL8XcsC5z+uAdhV9c/mP19GUactvuY/B2rGKzKe5j9HYyTuhW3mPzh5BY7yPeY/yTaxybY55j8C9Fq4dQ/mP9cBMn4Q4uU/b0/UvMC15T+KudiKg4rlP7+YD3dVYOU/5UD/7DA35T+He75GwA7lP8OT963D5uQ/Z+feKze/5D+ntROSGJjkP5HzAuJlceQ/WiLPSx1L5D8o/WstPSXkPx7GAXu9/+M/iMLGvif94z8EFclQgtrjPzJeXByQteM/kbUaV+iQ4z/x8ZUWjGzjP/ILh2lmTuM/T74dGXtI4z8NS1HNwCTjP9xDcaAkAuM//DVTO/3g4j/YBREv+N/iPz9iLHVeweI/KkYAXU2j4j+CCj3XCKLiP4BPX8DdhuI/MfwuaY524j9CxGtAFWziP3L8WragVOI/QNn5Sf1S4j8gfYdNYzviP1HnDhXmOOI/og/ufSUl4j+8BJozHCHiPyJsbdBQEOI/WAKtIXsM4j/Fjhct9PzhP7bVu42G+uE/9adWsSLr4T8IeZ5J3+rhPwIQ1E5l3eE/5Hi9ZvPa4T8OKuwzu9HhP6HcAfKGzOE/2MBPY6vH4T/vM1B1A8DhP8Gq9XMPv+E/",
          "dtype": "f8"
         },
         "fill": "toself",
         "fillcolor": "rgb(92.546875, 200.390625, 98.796875)",
         "hoverinfo": "skip",
         "line": {
          "color": "rgb(150, 150, 150)",
          "shape": "spline",
          "width": 1
         },
         "mode": "lines",
         "name": "0.750",
         "showlegend": true,
         "type": "scatterternary"
        },
        {
         "a": {
          "bdata": "AAAAAAAAAAB8FK5H4Xp0P3fJvO/Vfn8/fBSuR+F6hD+6HoXrUbiOP3wUrkfhepQ/m5mZmZmZmT+6HoXrUbieP+xRuB6F66E/fBSuR+F6pD8L16NwPQqnP5uZmZmZmak/KlyPwvUorD+6HoXrUbiuP6RwPQrXo7A/7FG4HoXrsT81MzMzMzOzP3wUrkfherQ/w/UoXI/CtT8L16NwPQq3P1O4HoXrUbg/m5mZmZmZuT/yfF0itFi6P+J6FK5H4bo/KlyPwvUovD9yPQrXo3C9P7oehetRuL4/AAAAAAAAwD+kcD0K16PAP0nhehSuR8E/7FG4HoXrwT8iAJxxmYDCP5DC9Shcj8I/NTMzMzMzwz/Yo3A9CtfDP3wUrkfhesQ/H4XrUbgexT9qPti83LjFP8P1KFyPwsU/aGZmZmZmxj8L16NwPQrHP8fvM2++DMc/C9ejcD0Kxz9oZmZmZmbGPy+HJrAkzcU/w/UoXI/CxT8fhetRuB7FP7POPRn5jMQ/fBSuR+F6xD/Yo3A9CtfDP2zxiMdFTMM/NTMzMzMzwz+QwvUoXI/CP10si4YUC8I/7FG4HoXrwT9J4XoUrkfBP3qENq9uycA/pHA9CtejwD8AAAAAAADAP25IfCi6Dr8/uh6F61G4vj9yPQrXo3C9P4kVHvDPibw/KlyPwvUovD/iehSuR+G6Pzp3PRMuBLo/m5mZmZmZuT9TuB6F61G4P1UU5cvifbc/C9ejcD0Ktz/D9Shcj8K1PxOEmzn79rQ/fBSuR+F6tD81MzMzMzOzP2CgwG6Db7I/7FG4HoXrsT+kcD0K16OwP/KdhAANz68/uh6F61G4rj8qXI/C9SisP4TD8ywdvqo/m5mZmZmZqT8L16NwPQqnP4ANvfxJrKU/fBSuR+F6pD/sUbgeheuhP2hI+XSkmaA/uh6F61G4nj+bmZmZmZmZP331TE14DJc/fBSuR+F6lD+6HoXrUbiOPyfe4DZ9yIk/fBSuR+F6hD98FK5H4Xp0P7W0neOu1WU/",
          "dtype": "f8"
         },
         "b": {
          "bdata": "r4stXxZ37D9l0darGmXsP7FXvnFiW+w/adIM7gNT7D+vlc+Y0kDsP3z+USaOLuw/FcVanjcc7D+ILA0O0AnsP2L6zodY9+s/LYQsI9Lk6z9R0rr8PdLrPwnZ9zWdv+s/Asko9fCs6z9NejZlOprrP0v1h7V6h+s/RB7bGbN06z/15G2y+2HrP/iCWQ1/T+s/JJ7DFkU96z9YwhRrUCvrP4QhveejGes/v67wsEII6z/VmBfIS/7qP0cWSLIr9+o/hp6KrWDm6j9qCW5w7NXqP6vP5KTTxeo/mv+1aRu26j96D1FfyabqP3JGdbbjl+o/in76QHGJ6j/ITJmeuXzqP4TFAah4e+o/ruXvF/tt6j8cQa61C2HqP9jiwRy1VOo/LbwFHgNJ6j8oIcH3pj7qP81nn+oCPuo/HuRkl8Uz6j+6K3t0XirqPyYHBYQgPeo/bBB74xA+6j+pStIX7FLqP2IQdn4Jjuo/6ib1fQGS6j/mWokl1KbqP5qD4rME3+o/b2l4os3l6j8243JkmPrqP2x7qOAQMOs/waJI2Hc56z9iXFhUO07rPzeQV8ssges/IaJGkgKN6z9YBfVev6HrP1yB0UhX0us/zOiuJnDg6z+pHn/QJvXrP47pvz6PI+w/X0EuysIz7D8+pUvTc0jsP+Uo1aTTdOw/putfjfyG7D9K865tqJvsP/OOMoUjxuw/gUgBXB/a7D8GynGBxu7sP0pxN/x9F+0/yKxT/Swt7T9zXFzMz0HtP3dm6zfiaO0/Y+tHFSeA7T/ptnnpxZTtP9twKHdPuu0/kf8pJg/T7T9kBc9SquftPxuynwjFC+4/CKaXkuYl7j+PTlVjfjruPxeVy0lCXe4/BQmcn6547j8SjRJZQ43uP/Cm3KXGru4/SQ7WdmjL7j+suDlX+t/uP0IhqpRRAO8/m0KXKBUe7z81K0FopDLvP9gTrJniUe8/ZIbvrbVw7z+rieR/QoXvPxviAkN5o+8/1RKe6krD7z+dfQt91dfvPyYxjigV9e8/",
          "dtype": "f8"
         },
         "c": {
          "bdata": "iKKTBk1HvD+Wk86MfI+7P+B1ERP/LLs/LaqjZoTYuj+yrhL8YCK6PwKHhHvWbLk/83DDpty3uD8WVLUUawO4P/4DLDJ5T7c/YNTEQv6btj/zgddh8ei1P+1qdINJNrU/2Qlydf2DtD88nongA9KzPwTlgklTILM/8rtuEuJusj8npV0577yxP8rThU0mCbE/Hhm67UdTsD9zLGxtfjavPx938Hnqwa0/2+DBvaFIrD/WeMs522mrP9SlVX+1yqo/TF83oglIqT+I7gpL8b+nP+jHqNohMqY/ZQagZEmepD/NRfnhDQSjP80TwEYMY6E/ap/t6q51nz/sZfafAGScPww7GbgJFpw/mbBpaAOnmD/TvbJeNyaVPzABUypSkpE/1KLYX7PTiz9WzzNCdsiEP6+wlpVPVoQ/cyTBgGdQeT8Tg95bLxJjP1XTxYD0BwS/mN3FgPQHFL+GvRuUTnpjP3bSIvunKiW/F9Qi+6cqNb+P0sP7xX1hP101uo/RFzK/eDW6j9EXQr8pqedhGEpfPxY2vlWUEjm/ZTa+VZQSSb989GXUQttbP7Ru2tJnjz+/PXDa0mePT78GrITYN6pYP4TpiXzSy0K/MOqJfNLLUr8ar8IBX7JVPwBsyj0PmkW/YWzKPQ+aVb8kKSamY+9SP6xWrmOLNki/8lauY4s2WL+3s/ocOV1QP49m92gepUq/JGf3aB6lWr+DvXupN/BLP2FRT9BW6Uy/9VFP0FbpXL/qVBN6IHlHP5HkW3t8Bk+/BuVbe3wGX7++xIp/wE5DP8PNCQHKf1C/HM4JAcp/YL8BP2RKX9Y+P/Xy90+xa1G/LPP3T7FrYb+8dt0NBJI3P/GdojU5SFK/PZ6iNTlIYr+36asZf8YwP5uP71CLFlO/9o/vUIsWY79lXSOsbdUkPw+Qa/O311O/VpBr87fXY7+10v9AXtkRP2AH9yy4jFS/tQf3LLiMZL974BJPyePxvgImy7xvNlW/VibLvG82Zb/zvDhb82cZvwW0neOu1VW/",
          "dtype": "f8"
         },
         "fill": "toself",
         "fillcolor": "rgb(71.0078125, 44.8359375, 122.8671875)",
         "hoverinfo": "skip",
         "line": {
          "color": "rgb(150, 150, 150)",
          "shape": "spline",
          "width": 1
         },
         "mode": "lines",
         "name": "0.125",
         "showlegend": true,
         "type": "scatterternary"
        },
        {
         "a": {
          "bdata": "AAAAAAAAAAC3fSfkkRVyP3wUrkfhenQ/4ZUL0VSugj98FK5H4XqEP3hWw4QW4Is/uh6F61G4jj/NgVHyAFCSP3wUrkfhepQ/Tm8ob+B2lj+bmZmZmZmZP54JchFaZJo/a3cWMtIYnj+6HoXrUbiePzN9KgM0yqA/7FG4HoXroT9k83hJtmqiP1GViaJe7qM/fBSuR+F6pD/03bvh7VSlP2YB+uzWnaY/C9ejcD0Kpz/DQMIdismnP9PM48co16g/m5mZmZmZqT+44VbFgsSpPx7kq8BakKo/yTOMnT86qz8hZ7guTMKrPzl/FY2vKKw/KlyPwvUorD/UQykBqm2sP+Qhjq+Kkaw/mB5FvryUrD8c/5YNc3isP3mZ4PtHSKw/KlyPwvUorD/3KuIkHQqsP3yp9vpGvqs/OPIkdMtkqz/EmOQk3P2qPy7/m6CLiqo/qtfuvs8Nqj+bmZmZmZmpP81sSPXgh6k/xdMDX0n5qD9NDuJUAmGoP13AUCgfsKc/C9ejcD0Kpz+QgRxTntKmP0COUCCUxaU/zOftMUKIpD98FK5H4XqkP+PRx/jxF6M/7FG4HoXroT/VWaHP4HShPzVXTQXjR58/uh6F61G4nj9pF/k1N1GbP5uZmZmZmZk/LVZcjz8Clz98FK5H4XqUPzw/rQYoWJI/uh6F61G4jj8rymLoY56KP3wUrkfheoQ/ib+fR0+Kfz98FK5H4Xp0P+THPdJ/YmA/AAAAAAAAAAA=",
          "dtype": "f8"
         },
         "b": {
          "bdata": "OA4fHaEGyT+g+whSQ1HJP9TjnKv5W8k/jK1O/f2nyT8ILefbkrnJPyxg7vlGAso/VEbRZa8gyj9o0yypHmDKP8iWeQXgkso/NNWcu4fByj/sKG0oHBLLPzSstSuHJss/+NXosxaPyz+0NT4qZaLLP2xe4mA0+8s/1DzKvs9IzD9MAFYi+2rMP7BccSFd3sw/KGPEGfwMzT9AhMhDYlXNP3gwniwc0M0/OBzp9tH9zT8wmcLQfE7OP1DYuwWg0M4/mP1m21k+zz9Y5krQy1bPP7C2Hdsn4c8/sI7fJOE30D/Mg+vgS4HQP5xqJDDRzNA/WCFyNh/N0D+k5gEObRrRPxRROogaatE/mplt7NK70T/kM5cMgw/SP5BS0UJxZNI/fm/y7ZWP0j/K8V91P7rSPzRiHV3oENM/+jWpmmto0z/k87sUxsDTP9A1H6LmGdQ/msBY5Z1z1D+2VPA678HUP5rfEVfozdQ/fOGUVb0o1T8mtlVLLYTVP1aDPQMn4dU/hkju5E4p1j+Wf6+V6kDWPxz3+r2mo9Y/1tn/YWcJ1z92N0/lSw3XP4bzsOpXctc/cJJ/uDPA1z9YE2KCdN7XP452UPxuTdg/IKhrq6Jd2D/e0OnfD7/YP07iqae57dg/Om89InMz2T/wffgVaHTZP0SgoWOvqtk/BvXn7HPz2T9oN1SZ4iTaP1a0SfMrbNo/YjuFDzOi2j9402nXi9/aP2r1YLPQIts/TMi331NO2z8=",
          "dtype": "f8"
         },
         "c": {
          "bdata": "cjy4uFe+6T8ccrUHhIfpP+NqidILgOk/RSZoLUdL6T9sfOfDrz/pP5taceftD+k/8Znd3vL86D8YPyJOeNXoP6opZPRwt+g/OYefDeeb6D/56BcprG7oP6cEh2Q7Y+g/xhZ1wXMr6D+dSRQmpCHoP5HAlKeP9Oc/rethvhPP5z+38NLSlb7nP34Pe82Ciec/7gUU5RJ15z8QIfKQWFXnP8zTCIYbIuc/gns7q+cP5z+oNfMpyO/mPx7NEnJlvuY/AKeM78+W5j9O2JffBI7mPxLULV2wXuY/bHW3c2sw5j+ot55MNQPmP75yHG8M1+U/kvmdCOHW5T9weOzY7qvlP1j16RDageU/SeHkvcpY5T8c9tpItzDlPyBN2d5CCeU/f9LdrKX15D9r5AFzPuLkP07kwWGnu+Q/3xVpe32V5D+CvFMzv2/kPyal5vRjSuQ/ObJkEVQl5D8LPO7IbgXkP2eJIsWNAOQ/BlJFvwzc4z8JBAc12bfjP08y3ItqlOM/TZ5+trR64z8dePbPYHLjP457/V7TUeM/mTThK8gy4z/9gt34qzHjPx8JG+tUFeM/qrHU0S0B4z+24NSxd/niP/9ZrWkJ3+I/+gLuGmzb4j/VTltW7sXiPw1CXl9WvOI/sWVmcjSu4j9kUMbq9KHiP+TF+Q3nl+I/A/HdwWSL4j8kWbQjFYPiP4NtPIH+d+I/zyKu2dFv4j8curtRRGfiP4NHfSY1XuI/2hskENZY4j8=",
          "dtype": "f8"
         },
         "fill": "toself",
         "fillcolor": "rgb(130.0703125, 211.44140625, 76.16796875)",
         "hoverinfo": "skip",
         "line": {
          "color": "rgb(150, 150, 150)",
          "shape": "spline",
          "width": 1
         },
         "mode": "lines",
         "name": "0.812",
         "showlegend": true,
         "type": "scatterternary"
        },
        {
         "a": {
          "bdata": "AAAAAAAAAAB8FK5H4Xp0P3wUrkfheoQ/uh6F61G4jj98FK5H4XqUP5uZmZmZmZk//tX+Ss/Gmz+6HoXrUbieP+xRuB6F66E/fBSuR+F6pD8L16NwPQqnP5uZmZmZmak/KlyPwvUorD+6HoXrUbiuP6RwPQrXo7A/7FG4HoXrsT81MzMzMzOzP3wUrkfherQ/w/UoXI/CtT8L16NwPQq3P0hrrprJfbc/U7gehetRuD+bmZmZmZm5P+J6FK5H4bo/KlyPwvUovD9yPQrXo3C9P7oehetRuL4/WsBYKUtHvz8AAAAAAADAP6RwPQrXo8A/N5QuHiqnwD+kcD0K16PAPwAAAAAAAMA/laz61jzNvj+6HoXrUbi+P3I9CtejcL0/GZyZaihLvD8qXI/C9Si8P+J6FK5H4bo/CA/xgCrIuT+bmZmZmZm5P1O4HoXrUbg/cSCeMFVEtz8L16NwPQq3P8P1KFyPwrU/jq8KKbm/tD98FK5H4Xq0PzUzMzMzM7M/ZVtrw2U6sj/sUbgeheuxP6RwPQrXo7A/KlhvLdJorz+6HoXrUbiuPypcj8L1KKw/NKk2GqBbqj+bmZmZmZmpPwvXo3A9Cqc/uDWn80xNpT98FK5H4XqkP+xRuB6F66E/YEWDXe49oD+6HoXrUbieP5uZmZmZmZk/vNvjRDBblj98FK5H4XqUP7oehetRuI4/xrD3bXFxiD98FK5H4XqEP3wUrkfhenQ/M8EEUrmkYD8=",
          "dtype": "f8"
         },
         "b": {
          "bdata": "o77pWGBh7T9tphiI5U/tP5Ai2FNUPu0/iRxHm60s7T8H8GRC8hrtP5dJ/zEjCe0/GULemYgB7T/SG5hTPPfsP+5IyRxA5ew/iIX0MTPT7D8NbMOLFsHsPwJeIifrruw/9iJzEcSc7D9bH/1o4YrsP2PAwE1Ueew//R+pRCBo7D/OU5MnSVfsP8PHKS3TRuw/81/A8cI27D9OVVaBHSfsP+Wy7v+8Iew/xnISUuUX7D8BbIziIgnsP7I0vgvf+us/eIQ4aCHt6z/OCTlX8t/rP7LjMRRb0+s/vWmTqRrO6z/1rHV8aMfrP0Wt61IovOs/ZX/y2p/W6z+87GwC39frP93bZual7Os/SwPYE6cn7D/kDf4fkyvsP+ZiN9xSQOw/fHAtHb547D95XK+cJ3/sP1KDl8ngk+w/dlVXvuPJ7D96u7fpntLsP1a4FRNS5+w/iODr1RYb7T9LzupJ+yXtP19Aeu+oOu0/v3P0WFZs7T/T0DXTPnntPwxNYmnnje0/K8XdUaG97T/yVr9wa8ztP06FbmEP4e0/SVw43/YO7j+rUWblgh/uPy0GxpAiNO4/6n1hMlZg7j9gN3DOhnLuP3NFwYsih+4/rlUljr6x7j/MsESmeMXuPyXGncQQ2u4/WtFlRS8D7z9q4h/HWRjvPwOLJY7uLO8/P7jNuadU7z+WPaxtK2vvP6B9PB69f+8/dbSUWiem7z8fbnq77r3vP9FES5B90u8/n/1Wo6337z8=",
          "dtype": "f8"
         },
         "c": {
          "bdata": "6gqyOP30tD9R67+qJTm0P/AoSTgBfrM/5HdW6IjDsj+s+uyatQmyP+NMnwmAULE/vjlOXgcCsT/E2V3oCJiwP0AfsxR5wK8/EJMJmetRrj8uaCXTWeSsP0mGQPSzd6s/f3Q+JskKqj+h66iEl5moP4wYeQ8NI6c/Wlz9d/GmpT/BXGQgByWkP9xaB54KnaI/VRWoK7IOoT8p+qUSWvOeP0f2b5c50Z0/8MU2qae7mz96GQxIPXWYPz9+58//HpU/VwCy7vu3kT8coWt5S36MP7AdXperZoU/DI5fUPw+gj/GhSnFwUt8PyiS9oTq4Wo/Z38ciZ+YCr/7hhyJn5gav+0iJJkZWmM/DdeNdevqJL+D2I116+o0v7JrVeeomGE/WvUfBVQZMb8l9h8FVBlBvzej2kuB7F8/UrS6q3NIN7+Htbqrc0hHvyE/4Yz44Fw/yrAk/d8LPb+qsST93wtNvzXRQQFKClo/ZMMmV/g1Qb8GxCZX+DVRv38cmW5gZFc/+lzCLCm4Q7+XXcIsKbhTv6A7mZN661Q/4CxHPQgQRr9pLUc9CBBWv+8gCCImnFI/3fGhE9BASL+K8qET0EBYv744+mg6c1A/SiYkf3VNSr/bJiR/dU1av9nx0tql20w/Hb8W+Kw4TL/Mvxb4rDhcv5bCoDaUEkk/rHJc0+8ETr9Wc1zT7wRevzSWt1VohkU/+uBMMoG0T7+j4UwygbRfv6kXfJW0MkI/g8AEUrmkUL8=",
          "dtype": "f8"
         },
         "fill": "toself",
         "fillcolor": "rgb(66.05859375, 63.77734375, 133.87109375)",
         "hoverinfo": "skip",
         "line": {
          "color": "rgb(150, 150, 150)",
          "shape": "spline",
          "width": 1
         },
         "mode": "lines",
         "name": "0.188",
         "showlegend": true,
         "type": "scatterternary"
        },
        {
         "a": {
          "bdata": "AAAAAAAAAADtsQUzLRNeP3wUrkfhenQ/Uy1TYSuIdz+Sn6xRlFKDP3wUrkfheoQ/wytM7nJuij+6HoXrUbiOPz6G5m6pipA/5k0PQRukkz98FK5H4XqUP3ccJt3Tg5Y/KX1+mkEomT+bmZmZmZmZPxPDBiUyk5s/UVdPonTCnT+6HoXrUbieP7UzJZ8It58/YSS+31y4oD/W9QOuInehP+xRuB6F66E/1tKau/wXoj/fG0/NNZmiP3GcWH6c+aI/86paYGI5oz8XuhbeylijP/QOWAEqWKM/AqB1NOM3oz+u7ioPQfqiPxiq6+WwqqI/AnNAGwVNoj/sUbgeheuhP2ZGRQN74aE/uviEsMRpoT8tQEKWi+igP5p32CnxXaA/C6cXcl+Jnz+6HoXrUbieP23mKGWKB54/T55mnpQpnD900AAfoO2ZP5uZmZmZmZk/17N6AxFSlz98FK5H4XqUP4954YN6YJQ/SKDbsD0dkT+6HoXrUbiOPxl6j3rWB4s/fBSuR+F6hD87fcUYrSSDP+yk3+4RF3U/fBSuR+F6dD+nNAjwMU5DPwAAAAAAAAAA",
          "dtype": "f8"
         },
         "b": {
          "bdata": "ZBRfjgHgyz94VlyV4grMPzDojHiSW8w/GIBHH6xuzD902Hw0D9bMP/Anw0Bq58w/tEzVSQdBzT8cOl6pQ4jNP1S2llSnr80/fJqxQechzj8oCV+aP0TOPzieLcLCl84/0IiV8FIRzz9wJgFRNijPPxh1KvJ6js8/PK5J6q4H0D9IezBVOCjQP6q3gc/1SdA/VLedyxOO0D+OEtjzEtTQPwZ2z70CCNE/EF0d2PAb0T/S0CDMyGXRPxrxLuatsdE/gogtDZ3/0T/if3AKkk/SP+YiW52HodI/KAJIj3f10j+QZbs2PUvTPyoSbr4hotM/7n03AOj50z/qJdTOQErUPwrp1SaMUtQ/NqYgEfOr1D8SiuMn8gXVP+zeyFOHYNU/gGH07wa81T/uP7tdie/VP9aPeh0BGtY/alrPUNx61j8qQel5p97WP2CxT2XK69Y/Yirkd29F1z+qvsD8PavXP4as/7Dnrtc/opO2HO0a2D+eeaFkK1HYPw7rcTWjidg/ivH7owzo2D9UyxdgG/vYP1Dau3Vrb9k/EtxFe1xz2T/eTzySsebZPzC2KuVz9dk/",
          "dtype": "f8"
         },
         "c": {
          "bdata": "5zponP8H6T+KZw/EPe7oP8xpTZ8lwOg/oHlroUS16D9lF5rhMX3oP7J9sOo5dOg/I3zRYQRG6D//XPrNDSPoPzkeY9/AD+g/8R6LVWXa5z8SzSoPGcvnP45ni7Dwpec/4qkGN2ly5z+Y6fKeJWnnP6IsTbLHP+c/KK7I5RQO5z9mmQtGIfbmP436RdNM3eY/EEI1THCt5j9btzNbhH7mP9+/LE9GXeY/SqQ3yIdQ5j/ZpRo9iCPmP6v9AkWP9+U/D5FjU5vM5T9tVOZMqqLlP53tPJG5eeU/7KQUBcZR5T9Onq9TvSrlP0k8ahJEBOU/2Tkwrjve5D/tZ6pGJ7zkPxW3YDyiuOQ/WV1nLGqT5D/1Fqoyfm7kPxAJfkPdSeQ/CBJ1jLEl5D8TN8bBeBLkP+FwGR7DAuQ/2R2lMkXh4z/nWBNCP8HjP4RaiwBOveM/MRXyu7ei4z8HMGL3iYbjP/EdYVOIheM/LdkdhJ9p4z+3LgEGiVzjP5HMXAsPT+M/6U7jKA464z9iBJGb3zXjP45TRCEcHuM/z7XN/1sd4z8D1mWq0wfjP+ikag1GBeM/",
          "dtype": "f8"
         },
         "fill": "toself",
         "fillcolor": "rgb(170.7578125, 219.5625, 49.47656249999999)",
         "hoverinfo": "skip",
         "line": {
          "color": "rgb(150, 150, 150)",
          "shape": "spline",
          "width": 1
         },
         "mode": "lines",
         "name": "0.875",
         "showlegend": true,
         "type": "scatterternary"
        },
        {
         "a": {
          "bdata": "AAAAAAAAAAD9Llhg4IptP3wUrkfhenQ/fBSuR+F6hD+6HoXrUbiOP3wUrkfhepQ/m5mZmZmZmT+6HoXrUbieP+xRuB6F66E/fBSuR+F6pD8L16NwPQqnP5uZmZmZmak/KlyPwvUorD+6HoXrUbiuP/QT44YcXa8/pHA9CtejsD/sUbgeheuxPzUzMzMzM7M/fBSuR+F6tD/D9Shcj8K1PwvXo3A9Crc/jCxXlccKtz8L16NwPQq3P8P1KFyPwrU/Cdt5GHeItD98FK5H4Xq0PzUzMzMzM7M/axYWGEgFsj/sUbgeheuxP6RwPQrXo7A/YhJaWpcCrz+6HoXrUbiuPypcj8L1KKw/5o55ByP5qT+bmZmZmZmpPwvXo3A9Cqc/8F2R6k/upD98FK5H4XqkP+xRuB6F66E/soQajHDEnz+6HoXrUbieP5uZmZmZmZk/+8F6POiplT98FK5H4XqUP7oehetRuI4/ZYMOpWUahz98FK5H4XqEP3wUrkfhenQ/YpvXgIfnVj8=",
          "dtype": "f8"
         },
         "b": {
          "bdata": "NUum0uw67j8m3qYzqy7uP2B1yzjtKe4/xzXUltAY7j8NDb4fnQfuP4PHDKFT9u0/WZak7PTk7T8ln7nYgdPtPxtRmTD+we0/XTrDk6Kw7T/I+UUKqp/tP1Haqegbj+0/vpQq8Px+7T/oblxTUm/tP8dNL4J9a+0/0209KiJg7T9w8aT7c1HtP4ga3vlOQ+0/FaxT+Lo17T+DzUuQwCjtP3tjzjdpHO0/x0+gr68e7T/P74GWyR7tP0wkmBKCM+0/CIH9ecpv7T9CtiORVnLtPy7jSukIh+0/ehmTLPPA7T9SrlS7x8XtPzgFDnB02u0/dwbRtSgS7j9P/TQ4HxnuP8y9Nr7GLe4/vGb3Gmpj7j+7ZUT9XmzuP9T9b74Bge4/bQRudra07j9QU7PViL/uP57TATIn1O4/coEh9gwG7z86gqhlnhLvP9HqCbQ4J+8/plzv2WxX7z/I9GgtoWXvP5VxlLw3eu8/0IYmctWo7z9qyVaMkrjvPwYMi6Mlze8/GcofHkb67z8=",
          "dtype": "f8"
         },
         "c": {
          "bdata": "vUyb1TJRrD+3moy/njyrP3jnUkrQ0ao/fx7RQD5UqT+G5z2JGdinP5d9XEtVXaY/os3paOTjpD9ffqN+uWujP26csteX9KE/uUUefPV6oD8AGfnVQ/adP76CkbdP6Zo/A7COdXbOlz+Z5We9EaWUP0sfUKwW1pM/GoNcj15skT/VFAEh2EaMP1DE3+6nkoU/Jq5IW290fT+rxBMvhO1uPy4hDenQeDI/DJCvapZE0b5Q6q9qlkThvgv8vOIBLGQ/rxGNl6ErG78vGI2XoSsrv09rtk6wkGI/s3nEXfnCKb9cfMRd+cI5v7CzTKquEGE/ruc8tVuRMr/R6Dy1W5FCv0/kmEDLU18/QlD9d1viN790Uf13W+JHvw53iQvVtFw/c1rSuKjbPL+2W9K4qNtMvzyGTiX4QFo/QV5WCerBQL/cXlYJ6sFQv2PFkFL+9Fc/mdbKTG/wQr9G18pMb/BSv7rh83r3zVU/8HUD6yL8RL+bdgPrIvxUv3mjL8szyVM/AprXgIfnRr8=",
          "dtype": "f8"
         },
         "fill": "toself",
         "fillcolor": "rgb(59.109375, 81.71875, 138.921875)",
         "hoverinfo": "skip",
         "line": {
          "color": "rgb(150, 150, 150)",
          "shape": "spline",
          "width": 1
         },
         "mode": "lines",
         "name": "0.250",
         "showlegend": true,
         "type": "scatterternary"
        },
        {
         "a": {
          "bdata": "AAAAAAAAAADZ1RtCQxlmP3wUrkfhenQ/SeMR6kv1dT83dLXDPPh/P3wUrkfheoQ/NKPbuhCGhD+UgS24sZ2IP9l9sJ8TPow/uh6F61G4jj/wzc8TdWiPP2a7GtR5D5E/AgNtJ1ovkj8CBAanAxSTP35Km3KdvZM/sMqTrk0slD/iUW3gXF+UP7Arhan+U5Q/uJE0OFIKlD/kbqnPDIOTP9T8daOvxJI/7uSMt6vlkT/7eIbzceyQP9Do50Fnvo8/uh6F61G4jj8hN3yTeS2NPzlhXMyg64k/ceRtNg3/hT98FK5H4XqEP1Ryp84NdIE/okuN95uOeD98FK5H4Xp0P/yNc2EB2Wk/AAAAAAAAAAA=",
          "dtype": "f8"
         },
         "b": {
          "bdata": "OHTcdQlnzz9UyHt5zdPPPwjh/qrVHdA/jJRK7QAm0D+8BbaQ5mPQP4p1+r0Mo9A/arpwTKqj0D9CK5pNN+XQP6LXGkuhKNE/dG2oTNBe0T+0EmlK423RP2I0NtX0tNE/eFq6V+H90T/CStyQp0jSP95YnkdGldI/Lk3dSrzj0j9GOW1WDzTTP8oyQ81VhtM/7G/stY7a0z9UgU9mtDDUPzjVz9SSiNQ/SNZNeXbh1D/6wYzMKzvVP3AOQESBldU//Bc/B9G61T+KdRiAsPHVPzStU2ijUNY/eB/KO0Gy1j+s7AA539PWP5Lxh75YFtc/Fi3yQvd81z94uIRjFKLXP3KMnv4m5tc/BLixfaNR2D8=",
          "dtype": "f8"
         },
         "c": {
          "bdata": "8uKIoj0m6D8V8l5e8/TnP1Qz8WcfyOc/9JGG8RTB5z86kh0+HI7nP+kM5BuOXOc/PzTclhJc5z9ZNFKS7SrnPzfS8wu3+uY/zLT9kbbV5j9uN3yGbMvmP/MPxMYJneY/rGrngpRv5j9/qlkaDEPmPz35m/BvF+Y/E7scbb/s5T/N+MVt/cLlPz09EiQ1muU/fCNIE2Zy5T/e81pmjUvlP35lfBiRJeU/tK2cZRcA5T87ax2KBtvkPyRZ2MBFtuQ/iF+yNLan5D9f1KXZcZLkP+K3pMj/b+Q/sjhBLeNO5D9Y0WDeJETkP21pgWkDL+Q/3c6XJmcQ5D+cR64LAAbkPzlGT38T8+M//iMnQS7X4z8=",
          "dtype": "f8"
         },
         "fill": "toself",
         "fillcolor": "rgb(213.48046875, 225.6484375, 26.347656249999996)",
         "hoverinfo": "skip",
         "line": {
          "color": "rgb(150, 150, 150)",
          "shape": "spline",
          "width": 1
         },
         "mode": "lines",
         "name": "0.938",
         "showlegend": true,
         "type": "scatterternary"
        },
        {
         "a": {
          "bdata": "AAAAAAAAAAB8FK5H4Xp0P3wUrkfheoQ/uh6F61G4jj98FK5H4XqUP5uZmZmZmZk/uh6F61G4nj/sUbgeheuhP3wUrkfheqQ/bXx36ysFpz8nhnvhUo+kP3wUrkfheqQ/7FG4HoXroT+kfi5dBA2fP7oehetRuJ4/m5mZmZmZmT85qBE0oPiUP3wUrkfhepQ/uh6F61G4jj8EViXcWcOFP3wUrkfheoQ/fBSuR+F6dD+8aEu7OAtJPw==",
          "dtype": "f8"
         },
         "b": {
          "bdata": "yLTzZPAK7z+cCAiHavruP/kqZmXL6e4/88DyuRPZ7j9dnfZNT8juPz64lJHTt+4/wzHgsdKn7j9WXKJtUpjuPw4U2AxZie4/UHfX0wl77j8rs7ZerrfuP9P1IQWZue4/GOFlnz3O7j+LMd2m6gjvPwoiMQTjDO8/n0ru2YIh7z8NARH6MVrvP/qrJe0WYO8/iWXsWrJ07z8rWbiJg6vvP7QkM102s+8/OtPKts3H7z+TluiY3vzvPw==",
          "dtype": "f8"
         },
         "c": {
          "bdata": "BWeJYfOhnj9tZxPN9pObP6KWY68iiZg/SlLly1+BlT/+P375NHuSP0O9nmfo144/3FHpsK+aiD/2ooccUD2CP31VhVZvfHc/wukQcW2jZD9KoXHNmXEUv9amcc2ZcSS/vsmZrg4KYz+P9VdqnCwlv/D3V2qcLDW/wpToRFmwYT8R6uQYu28vv9Xs5Bi7bz+/KfyFZV1sYD/KFXRHiYc0vx4XdEeJh0S/HTuhSw15Xj/7ZUu7OAs5vw==",
          "dtype": "f8"
         },
         "fill": "toself",
         "fillcolor": "rgb(51.15625, 98.66796875, 140.9609375)",
         "hoverinfo": "skip",
         "line": {
          "color": "rgb(150, 150, 150)",
          "shape": "spline",
          "width": 1
         },
         "mode": "lines",
         "name": "0.312",
         "showlegend": true,
         "type": "scatterternary"
        },
        {
         "a": {
          "bdata": "AAAAAAAAAAAAAAAAAAAAAAAAAAAAAAAAAAAAAAAAAAB1R1JVVVXVPzVjWFVVVdU/VVVVVVVV1T81Y1hVVVXlP1VVVVVVVeU/AAAAAAAA8D8=",
          "dtype": "f8"
         },
         "b": {
          "bdata": "AAAAAAAAAAB1R1JVVVXVPzVjWFVVVeU/AAAAAAAA8D8AAAAAAAAAADVjWFVVVdU/VVVVVVVV5T8AAAAAAAAAAFVVVVVVVdU/AAAAAAAAAAA=",
          "dtype": "f8"
         },
         "c": {
          "bdata": "AAAAAAAA8D9F3FZVVVXlP5U5T1VVVdU/AAAAAAAAAABF3FZVVVXlP5U5T1VVVdU/AAAAAAAAAACVOU9VVVXVPwAAAAAAAAAAAAAAAAAAAAA=",
          "dtype": "f8"
         },
         "hovertemplate": "Substitutable Skills: %{a:.3f}<br>AI Skills: %{b:.3f}<br>Other: %{c:.3f}<br>z: %{marker.color:.3f}<extra></extra>",
         "marker": {
          "color": {
           "bdata": "AAAAAAAAAAAAAAAAAADwPwAAAAAAAAAAbBowjQHT2D8AAAAAAAAAALUS5ClBnqI/AAAAAAAAAAAAAAAAAAAAAAAAAAAAAAAAAAAAAAAAAAA=",
           "dtype": "f8"
          },
          "colorscale": [
           [
            0,
            "#440154"
           ],
           [
            0.1111111111111111,
            "#482878"
           ],
           [
            0.2222222222222222,
            "#3e4989"
           ],
           [
            0.3333333333333333,
            "#31688e"
           ],
           [
            0.4444444444444444,
            "#26828e"
           ],
           [
            0.5555555555555556,
            "#1f9e89"
           ],
           [
            0.6666666666666666,
            "#35b779"
           ],
           [
            0.7777777777777778,
            "#6ece58"
           ],
           [
            0.8888888888888888,
            "#b5de2b"
           ],
           [
            1,
            "#fde725"
           ]
          ],
          "line": {
           "color": "rgb(120, 120, 120)",
           "width": 1
          }
         },
         "mode": "markers",
         "opacity": 0,
         "type": "scatterternary"
        }
       ],
       "layout": {
        "height": 500,
        "margin": {
         "b": 0,
         "l": 70,
         "r": 70,
         "t": 0
        },
        "showlegend": false,
        "template": {
         "data": {
          "bar": [
           {
            "error_x": {
             "color": "#2a3f5f"
            },
            "error_y": {
             "color": "#2a3f5f"
            },
            "marker": {
             "line": {
              "color": "#E5ECF6",
              "width": 0.5
             },
             "pattern": {
              "fillmode": "overlay",
              "size": 10,
              "solidity": 0.2
             }
            },
            "type": "bar"
           }
          ],
          "barpolar": [
           {
            "marker": {
             "line": {
              "color": "#E5ECF6",
              "width": 0.5
             },
             "pattern": {
              "fillmode": "overlay",
              "size": 10,
              "solidity": 0.2
             }
            },
            "type": "barpolar"
           }
          ],
          "carpet": [
           {
            "aaxis": {
             "endlinecolor": "#2a3f5f",
             "gridcolor": "white",
             "linecolor": "white",
             "minorgridcolor": "white",
             "startlinecolor": "#2a3f5f"
            },
            "baxis": {
             "endlinecolor": "#2a3f5f",
             "gridcolor": "white",
             "linecolor": "white",
             "minorgridcolor": "white",
             "startlinecolor": "#2a3f5f"
            },
            "type": "carpet"
           }
          ],
          "choropleth": [
           {
            "colorbar": {
             "outlinewidth": 0,
             "ticks": ""
            },
            "type": "choropleth"
           }
          ],
          "contour": [
           {
            "colorbar": {
             "outlinewidth": 0,
             "ticks": ""
            },
            "colorscale": [
             [
              0,
              "#0d0887"
             ],
             [
              0.1111111111111111,
              "#46039f"
             ],
             [
              0.2222222222222222,
              "#7201a8"
             ],
             [
              0.3333333333333333,
              "#9c179e"
             ],
             [
              0.4444444444444444,
              "#bd3786"
             ],
             [
              0.5555555555555556,
              "#d8576b"
             ],
             [
              0.6666666666666666,
              "#ed7953"
             ],
             [
              0.7777777777777778,
              "#fb9f3a"
             ],
             [
              0.8888888888888888,
              "#fdca26"
             ],
             [
              1,
              "#f0f921"
             ]
            ],
            "type": "contour"
           }
          ],
          "contourcarpet": [
           {
            "colorbar": {
             "outlinewidth": 0,
             "ticks": ""
            },
            "type": "contourcarpet"
           }
          ],
          "heatmap": [
           {
            "colorbar": {
             "outlinewidth": 0,
             "ticks": ""
            },
            "colorscale": [
             [
              0,
              "#0d0887"
             ],
             [
              0.1111111111111111,
              "#46039f"
             ],
             [
              0.2222222222222222,
              "#7201a8"
             ],
             [
              0.3333333333333333,
              "#9c179e"
             ],
             [
              0.4444444444444444,
              "#bd3786"
             ],
             [
              0.5555555555555556,
              "#d8576b"
             ],
             [
              0.6666666666666666,
              "#ed7953"
             ],
             [
              0.7777777777777778,
              "#fb9f3a"
             ],
             [
              0.8888888888888888,
              "#fdca26"
             ],
             [
              1,
              "#f0f921"
             ]
            ],
            "type": "heatmap"
           }
          ],
          "histogram": [
           {
            "marker": {
             "pattern": {
              "fillmode": "overlay",
              "size": 10,
              "solidity": 0.2
             }
            },
            "type": "histogram"
           }
          ],
          "histogram2d": [
           {
            "colorbar": {
             "outlinewidth": 0,
             "ticks": ""
            },
            "colorscale": [
             [
              0,
              "#0d0887"
             ],
             [
              0.1111111111111111,
              "#46039f"
             ],
             [
              0.2222222222222222,
              "#7201a8"
             ],
             [
              0.3333333333333333,
              "#9c179e"
             ],
             [
              0.4444444444444444,
              "#bd3786"
             ],
             [
              0.5555555555555556,
              "#d8576b"
             ],
             [
              0.6666666666666666,
              "#ed7953"
             ],
             [
              0.7777777777777778,
              "#fb9f3a"
             ],
             [
              0.8888888888888888,
              "#fdca26"
             ],
             [
              1,
              "#f0f921"
             ]
            ],
            "type": "histogram2d"
           }
          ],
          "histogram2dcontour": [
           {
            "colorbar": {
             "outlinewidth": 0,
             "ticks": ""
            },
            "colorscale": [
             [
              0,
              "#0d0887"
             ],
             [
              0.1111111111111111,
              "#46039f"
             ],
             [
              0.2222222222222222,
              "#7201a8"
             ],
             [
              0.3333333333333333,
              "#9c179e"
             ],
             [
              0.4444444444444444,
              "#bd3786"
             ],
             [
              0.5555555555555556,
              "#d8576b"
             ],
             [
              0.6666666666666666,
              "#ed7953"
             ],
             [
              0.7777777777777778,
              "#fb9f3a"
             ],
             [
              0.8888888888888888,
              "#fdca26"
             ],
             [
              1,
              "#f0f921"
             ]
            ],
            "type": "histogram2dcontour"
           }
          ],
          "mesh3d": [
           {
            "colorbar": {
             "outlinewidth": 0,
             "ticks": ""
            },
            "type": "mesh3d"
           }
          ],
          "parcoords": [
           {
            "line": {
             "colorbar": {
              "outlinewidth": 0,
              "ticks": ""
             }
            },
            "type": "parcoords"
           }
          ],
          "pie": [
           {
            "automargin": true,
            "type": "pie"
           }
          ],
          "scatter": [
           {
            "fillpattern": {
             "fillmode": "overlay",
             "size": 10,
             "solidity": 0.2
            },
            "type": "scatter"
           }
          ],
          "scatter3d": [
           {
            "line": {
             "colorbar": {
              "outlinewidth": 0,
              "ticks": ""
             }
            },
            "marker": {
             "colorbar": {
              "outlinewidth": 0,
              "ticks": ""
             }
            },
            "type": "scatter3d"
           }
          ],
          "scattercarpet": [
           {
            "marker": {
             "colorbar": {
              "outlinewidth": 0,
              "ticks": ""
             }
            },
            "type": "scattercarpet"
           }
          ],
          "scattergeo": [
           {
            "marker": {
             "colorbar": {
              "outlinewidth": 0,
              "ticks": ""
             }
            },
            "type": "scattergeo"
           }
          ],
          "scattergl": [
           {
            "marker": {
             "colorbar": {
              "outlinewidth": 0,
              "ticks": ""
             }
            },
            "type": "scattergl"
           }
          ],
          "scattermap": [
           {
            "marker": {
             "colorbar": {
              "outlinewidth": 0,
              "ticks": ""
             }
            },
            "type": "scattermap"
           }
          ],
          "scattermapbox": [
           {
            "marker": {
             "colorbar": {
              "outlinewidth": 0,
              "ticks": ""
             }
            },
            "type": "scattermapbox"
           }
          ],
          "scatterpolar": [
           {
            "marker": {
             "colorbar": {
              "outlinewidth": 0,
              "ticks": ""
             }
            },
            "type": "scatterpolar"
           }
          ],
          "scatterpolargl": [
           {
            "marker": {
             "colorbar": {
              "outlinewidth": 0,
              "ticks": ""
             }
            },
            "type": "scatterpolargl"
           }
          ],
          "scatterternary": [
           {
            "marker": {
             "colorbar": {
              "outlinewidth": 0,
              "ticks": ""
             }
            },
            "type": "scatterternary"
           }
          ],
          "surface": [
           {
            "colorbar": {
             "outlinewidth": 0,
             "ticks": ""
            },
            "colorscale": [
             [
              0,
              "#0d0887"
             ],
             [
              0.1111111111111111,
              "#46039f"
             ],
             [
              0.2222222222222222,
              "#7201a8"
             ],
             [
              0.3333333333333333,
              "#9c179e"
             ],
             [
              0.4444444444444444,
              "#bd3786"
             ],
             [
              0.5555555555555556,
              "#d8576b"
             ],
             [
              0.6666666666666666,
              "#ed7953"
             ],
             [
              0.7777777777777778,
              "#fb9f3a"
             ],
             [
              0.8888888888888888,
              "#fdca26"
             ],
             [
              1,
              "#f0f921"
             ]
            ],
            "type": "surface"
           }
          ],
          "table": [
           {
            "cells": {
             "fill": {
              "color": "#EBF0F8"
             },
             "line": {
              "color": "white"
             }
            },
            "header": {
             "fill": {
              "color": "#C8D4E3"
             },
             "line": {
              "color": "white"
             }
            },
            "type": "table"
           }
          ]
         },
         "layout": {
          "annotationdefaults": {
           "arrowcolor": "#2a3f5f",
           "arrowhead": 0,
           "arrowwidth": 1
          },
          "autotypenumbers": "strict",
          "coloraxis": {
           "colorbar": {
            "outlinewidth": 0,
            "ticks": ""
           }
          },
          "colorscale": {
           "diverging": [
            [
             0,
             "#8e0152"
            ],
            [
             0.1,
             "#c51b7d"
            ],
            [
             0.2,
             "#de77ae"
            ],
            [
             0.3,
             "#f1b6da"
            ],
            [
             0.4,
             "#fde0ef"
            ],
            [
             0.5,
             "#f7f7f7"
            ],
            [
             0.6,
             "#e6f5d0"
            ],
            [
             0.7,
             "#b8e186"
            ],
            [
             0.8,
             "#7fbc41"
            ],
            [
             0.9,
             "#4d9221"
            ],
            [
             1,
             "#276419"
            ]
           ],
           "sequential": [
            [
             0,
             "#0d0887"
            ],
            [
             0.1111111111111111,
             "#46039f"
            ],
            [
             0.2222222222222222,
             "#7201a8"
            ],
            [
             0.3333333333333333,
             "#9c179e"
            ],
            [
             0.4444444444444444,
             "#bd3786"
            ],
            [
             0.5555555555555556,
             "#d8576b"
            ],
            [
             0.6666666666666666,
             "#ed7953"
            ],
            [
             0.7777777777777778,
             "#fb9f3a"
            ],
            [
             0.8888888888888888,
             "#fdca26"
            ],
            [
             1,
             "#f0f921"
            ]
           ],
           "sequentialminus": [
            [
             0,
             "#0d0887"
            ],
            [
             0.1111111111111111,
             "#46039f"
            ],
            [
             0.2222222222222222,
             "#7201a8"
            ],
            [
             0.3333333333333333,
             "#9c179e"
            ],
            [
             0.4444444444444444,
             "#bd3786"
            ],
            [
             0.5555555555555556,
             "#d8576b"
            ],
            [
             0.6666666666666666,
             "#ed7953"
            ],
            [
             0.7777777777777778,
             "#fb9f3a"
            ],
            [
             0.8888888888888888,
             "#fdca26"
            ],
            [
             1,
             "#f0f921"
            ]
           ]
          },
          "colorway": [
           "#636efa",
           "#EF553B",
           "#00cc96",
           "#ab63fa",
           "#FFA15A",
           "#19d3f3",
           "#FF6692",
           "#B6E880",
           "#FF97FF",
           "#FECB52"
          ],
          "font": {
           "color": "#2a3f5f"
          },
          "geo": {
           "bgcolor": "white",
           "lakecolor": "white",
           "landcolor": "#E5ECF6",
           "showlakes": true,
           "showland": true,
           "subunitcolor": "white"
          },
          "hoverlabel": {
           "align": "left"
          },
          "hovermode": "closest",
          "mapbox": {
           "style": "light"
          },
          "paper_bgcolor": "white",
          "plot_bgcolor": "#E5ECF6",
          "polar": {
           "angularaxis": {
            "gridcolor": "white",
            "linecolor": "white",
            "ticks": ""
           },
           "bgcolor": "#E5ECF6",
           "radialaxis": {
            "gridcolor": "white",
            "linecolor": "white",
            "ticks": ""
           }
          },
          "scene": {
           "xaxis": {
            "backgroundcolor": "#E5ECF6",
            "gridcolor": "white",
            "gridwidth": 2,
            "linecolor": "white",
            "showbackground": true,
            "ticks": "",
            "zerolinecolor": "white"
           },
           "yaxis": {
            "backgroundcolor": "#E5ECF6",
            "gridcolor": "white",
            "gridwidth": 2,
            "linecolor": "white",
            "showbackground": true,
            "ticks": "",
            "zerolinecolor": "white"
           },
           "zaxis": {
            "backgroundcolor": "#E5ECF6",
            "gridcolor": "white",
            "gridwidth": 2,
            "linecolor": "white",
            "showbackground": true,
            "ticks": "",
            "zerolinecolor": "white"
           }
          },
          "shapedefaults": {
           "line": {
            "color": "#2a3f5f"
           }
          },
          "ternary": {
           "aaxis": {
            "gridcolor": "white",
            "linecolor": "white",
            "ticks": ""
           },
           "baxis": {
            "gridcolor": "white",
            "linecolor": "white",
            "ticks": ""
           },
           "bgcolor": "#E5ECF6",
           "caxis": {
            "gridcolor": "white",
            "linecolor": "white",
            "ticks": ""
           }
          },
          "title": {
           "x": 0.05
          },
          "xaxis": {
           "automargin": true,
           "gridcolor": "white",
           "linecolor": "white",
           "ticks": "",
           "title": {
            "standoff": 15
           },
           "zerolinecolor": "white",
           "zerolinewidth": 2
          },
          "yaxis": {
           "automargin": true,
           "gridcolor": "white",
           "linecolor": "white",
           "ticks": "",
           "title": {
            "standoff": 15
           },
           "zerolinecolor": "white",
           "zerolinewidth": 2
          }
         }
        },
        "ternary": {
         "aaxis": {
          "linewidth": 2,
          "min": 0.01,
          "ticks": "outside",
          "title": {
           "text": "Substitutable Skills"
          }
         },
         "baxis": {
          "linewidth": 2,
          "min": 0.01,
          "ticks": "outside",
          "title": {
           "text": "AI Skills"
          }
         },
         "caxis": {
          "linewidth": 2,
          "min": 0.01,
          "ticks": "outside",
          "title": {
           "text": "Other"
          }
         },
         "sum": 1
        },
        "width": 500
       }
      }
     },
     "metadata": {},
     "output_type": "display_data"
    },
    {
     "data": {
      "application/vnd.plotly.v1+json": {
       "config": {
        "plotlyServerURL": "https://plot.ly"
       },
       "data": [
        {
         "a": {
          "bdata": "AQAA",
          "dtype": "i1"
         },
         "b": {
          "bdata": "AAEA",
          "dtype": "i1"
         },
         "c": {
          "bdata": "AAAB",
          "dtype": "i1"
         },
         "fill": "toself",
         "fillcolor": "rgb(68, 1, 84)",
         "hoverinfo": "skip",
         "line": {
          "color": "rgb(150, 150, 150)",
          "shape": "spline",
          "width": 1
         },
         "mode": "lines",
         "name": "0.000",
         "showlegend": true,
         "type": "scatterternary"
        },
        {
         "a": {
          "bdata": "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",
          "dtype": "f8"
         },
         "b": {
          "bdata": "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",
          "dtype": "f8"
         },
         "c": {
          "bdata": "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",
          "dtype": "f8"
         },
         "fill": "toself",
         "fillcolor": "rgb(71.984375, 23.91015625, 105.9140625)",
         "hoverinfo": "skip",
         "line": {
          "color": "rgb(150, 150, 150)",
          "shape": "spline",
          "width": 1
         },
         "mode": "lines",
         "name": "0.062",
         "showlegend": true,
         "type": "scatterternary"
        },
        {
         "a": {
          "bdata": "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",
          "dtype": "f8"
         },
         "b": {
          "bdata": "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",
          "dtype": "f8"
         },
         "c": {
          "bdata": "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",
          "dtype": "f8"
         },
         "fill": "toself",
         "fillcolor": "rgb(71.0078125, 44.8359375, 122.8671875)",
         "hoverinfo": "skip",
         "line": {
          "color": "rgb(150, 150, 150)",
          "shape": "spline",
          "width": 1
         },
         "mode": "lines",
         "name": "0.125",
         "showlegend": true,
         "type": "scatterternary"
        },
        {
         "a": {
          "bdata": "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",
          "dtype": "f8"
         },
         "b": {
          "bdata": "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",
          "dtype": "f8"
         },
         "c": {
          "bdata": "eE8fVmKY7j8JQAIkI4buP3lDUKjGb+4/mk8TKfVG7j8phYDL6TPuP68AiUnsHe4/CMECzK/07T9WRVkrheLtP5nL7nU9y+0/5E774Jqh7T/uqzhR4ZHtP5tA4qvCd+0/+q7sy8FN7T8IUjZ34kHtP5JYumOeI+0/xJzh42/57D/6HNv0RPLsP/uFo8opz+w/ITF4c9ik7D97/sX546LsPy7cY+Bpeuw/zOyQ6r9T7D8GcpU27k/sPx5EKdZSJew/L+rUreME7D9ry/UjpfrrP22pybLXz+s/BEvyzVu26z8tGgSB8KTrP/dSRirqees/XNkFPzFo6z9u5ikswU7rPz5mlm56I+s/HoYLRW0a6z/XP9JhBvjqP/3REDgYzeo/hQyIdXbM6j/FP2N/raDqP+Biv8UpgOo/yoy/csJ06j9XtUO7oUjqP2ONXFK9M+o/PLQGDE8c6j8edY/Py+/pP/CPHAvd5+k/fwDOVgPD6T/H4PyGh5zpP8mgtV8Kluk/spyxPsNo6T+WN/M0wlHpPxZsKOE6O+k/rybg/G4N6T97l6ggpgfpPzvq8UdD3+g/i5j6LCe+6D8GgTCMz7DoP/WA9Xb8geg/e31AMFp16D9ohNEawFLoP4XvtHlDLeg/ske8jygj6D8LCRJ9F/PnP66dAITm5ec/w+krX4fC5z+JIteOTZ/nPwtSRJKBkec/lE+E2+5f5z8Om0G0gFnnP48x0K2xLec/now6S3oU5z/V5Js/tfrmP6/KlW+S0OY/d8Cmp7bG5j8WlyVKD5HmP3J/mSdQjuY/Biy+kB5Z5j8Cg093zU3mPxICCJmRHuY/AqzquSwP5j/dB7KPjODlP1iY/Y9+0uU/d5xtDsid5T9FDC67zpflP5rwPyEcX+U/4vpkt3ZT5T8vAPkHTSjlP25fca1AAOU/qMukUmby5D+8Z/as97zkPy4K0KE/qOQ/Uoo6/gWI5D83KTTsm1PkP2FZ3GeNS+Q/C9kD05gf5D8/qj2CI+zjP+FnbH/46OM/TA53pQm54z9MsWEpeYbjPztoQoMNf+M/8ATy4BpU4z9PBogdDiLjP7ppHA0FD+M/J6GYDC7w4j9ZmNghkL7iPw/FSmFnmeI/doRz2z6N4j/f565rFlziP+O8i/9RK+I/vJi91d4b4j+2jCrWvvrhPwV193t8yuE/1I7NZaOa4T+AAlu8/5LhPxjF5Jr4auE/taODHLE74T9pla/v2AzhP8RAB/aR9uA/h9voCE/e4D9EG+zSG7DgPy1uaf1eguA/2gZNWhlV4D/NI6UdADDgPyYfoiFDKOA/ACJ0+4T33z95bbwcg5/fP2Jjz62CSN8/PTtmw4Xy3j9SWLuAjp3ePzOHCRifSd4/5X8Qy7n23T9f7p7r4KTdP4hGItwWVN0/C608EF4E3T8pQmENubXcP2cgd2sqaNw/j2WD1bQb3D9toVoKW9DbP02SgCfBj9s/6lveyxKG2z/2emnshTzbP+mtl7kN9No/FZbE76ys2j8xz8hfZmbaP0K8mztmZto/Z4sHeqAg2j+yVHix69vZP1l1xsVKmNk//zWWNJaS2T/y/c3JOFXZP5qCgySeE9k/cJcTTR3s2D8pbH7kl9PYPxYEYtkYldg/nzgB/hpr2D/U8qOwZljYP8qC1DxjHdg/DnJPSsYF2D9QhvThHufXP0c5c2W8xdc/DwpX3K641z8kDajGsJ3XP26P+AzBktc/gyefm/WC1z86+xKo5HXXPznzihI8cNc/vSUfMytj1z8gTptVoGHXP9mXdHC1V9c/fCi3oRBR1z+SOmHLa07XPxSRuM9TRtc/VfyIVMVD1z8K4KcFoj/XP/8FuSbJOtc/j7/Lvik61z+LnaTDnTbXPyMTgDqpNNc/K3/bKZ801z8AGsB/9TLXP+sbAAmSM9c/f5A+GJUz1z+KbYqISTTXPxuHOpsqN9c/7EOL94s31z8Px23iQjrXPzQUPQAiP9c/wvtYdRhB1z+2FJpPkkTXP23+p2ouS9c/WekIpudQ1z/5yVZ471LXP86vhWsMW9c/PuzXH6Zk1z+anV9YcmfXP1FhHkZ+btc/HUi6A0h51z9FEdNBSYXXP195oTdbhdc/QZd7vBWR1z8zRxyRBZ7XPytjzH3Hqtc/h+9uit6r1z8wD8NJlLnXP2+Nnms/yNc/UbM0M8PX1z+tolJWNNjXPx2CoV4M59c/anwLeh331z8f9q/M5gfYP/ron8R+Ddg/EiardrkY2D9zhXXj6ynYP6i1jwK9O9g//tOthdlK2D94t1zI903YP9dLwe8TYNg/x4SQmLpy2D/5YQbK3IXYP2aVuDOmj9g/fXcUhBaZ2D/6+ByXaazYP6e9MRkqwNg/b4cqUVXU2D80ohHvE9zYP8c67kD86Ng/avmgxZD+2D8GTe/bPxXZP9AXmAMGLdk/GWWzZQRD2T/jDa2j00XZP54jmFJcX9k/xh0FC/l52T+TU/ZvpJXZP2EnDepYstk/G/VXsRDQ2T/C6GvWxe7ZPw==",
          "dtype": "f8"
         },
         "fill": "toself",
         "fillcolor": "rgb(66.05859375, 63.77734375, 133.87109375)",
         "hoverinfo": "skip",
         "line": {
          "color": "rgb(150, 150, 150)",
          "shape": "spline",
          "width": 1
         },
         "mode": "lines",
         "name": "0.188",
         "showlegend": true,
         "type": "scatterternary"
        },
        {
         "a": {
          "bdata": "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",
          "dtype": "f8"
         },
         "b": {
          "bdata": "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",
          "dtype": "f8"
         },
         "c": {
          "bdata": "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",
          "dtype": "f8"
         },
         "fill": "toself",
         "fillcolor": "rgb(59.109375, 81.71875, 138.921875)",
         "hoverinfo": "skip",
         "line": {
          "color": "rgb(150, 150, 150)",
          "shape": "spline",
          "width": 1
         },
         "mode": "lines",
         "name": "0.250",
         "showlegend": true,
         "type": "scatterternary"
        },
        {
         "a": {
          "bdata": "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",
          "dtype": "f8"
         },
         "b": {
          "bdata": "4NFN5l8Jsj/49QwJoRKyP9C08QAeGrI/UB6Y6Ksdsj8QHXdrBSuyP6AurX4WM7I/2Dxx9Uw6sj84d2PYokuyP0jTcFxaUrI/2EIIpyZfsj+wXyqNW3SyP1jX2POAd7I/MFrXph6Msj+AFEHhJKKyP0CFEE5OpbI/ECn4xRzBsj/AcmvQ6dGyP1BV+syU3rI/eNjMGgv+sj/g+NDmoAazP/BLJcbZH7M/SG2z5ApAsz+gZ3AeCkOzP+ipKRe9aLM/kMW9xC99sz/QRmN4sY+zP8A8FjwduLM/cCtN2x6+sz9gPmYQ4+KzP9hj83OCArQ/oF5t5gQPtD+wAUW6ZT20P4jpepTOSrQ/SPH3uiVutD/Q9e13Ppe0P3gyJn2koLQ/IP3YuhTWtD/I4MTYzue0P/DsjDcwDrU/WHx/7v48tT+Ato8tj0i1P/BM/6ZehrU/mBhQ9L6WtT+AX0OCm8e1P1iq+u5l9bU/CGh77M8Ltj+gF+jhklO2P1gANHpDWbY/qKt97ECgtj9gyDISGsK2PzjpN8/d8LY/WIuRYZkwtz+YetY1/EW3P+hr8X36oLc/APL8waKltz+YpVdMFAa4Pzge15cmI7g/yFjhg1l1uD8ofasjdqq4PyBOPKtD8bg/WNE8+Fs8uT/QllAYGH25PxCUb7SL2bk/uHIfH0Qduj8wq5kToIK6P4ASn5nu17o/sFJaghk4uz/41xZk6LW7P2Amiz1d+rs/mKCP8kzEvD/AvM/7tMm8P5BbjlTrpb0/AEAIlQ8pvj/otAsNZY++PyCtuozRhb8/9CaoNN0LwD/Iw36LJ0LAP7wKyrY5w8A/AAq7qfNAwT/QzwB2UEbBP2i4MVvnysE/rIHAYm5Rwj9QJUy/1bTCPxDb5uK12cI/kE74sYFjwz/o/SIOFu/DP/z8ti9kfMQ/uMyhBMWGxD90BMLNCwvFP/yRaWpSm8U/EHULRTEtxj+oNFHHm8DGP3ikcFpuE8c/ZKGlHGlVxz9cVFoDjevHP2yeRM4fg8g/lK+SLA8cyT8IgH/CS7bJP2DEL2jPUco/pJkMsJvuyj/ABsRSsozLP8gY3hIVLMw/aPgVh1/LzD/kWtuYxczMP9iTWZm8bs0/tEDy/AsSzj9E7ZC8tbbOP4B2q9JKMc8/SEh1ILlczz8coZg/DQLQP5yRwvx7VtA/muRcgK+r0D+m2kYJrwHRPxBrBGeCWNE/xuBCBTKw0T8K75n4xgjSP4zKrwxLYtI/qm4jwNuN0j8MysrZtLzSP4o9mXgMGNM/fAI3LnB00z8+X9/v7NHTP/QmWCo1+NM//PQr724w1D/6yl1dCpDUP1JBSsjl8NQ/bo9BUXwO1T/EHkJJ4FLVPwAqcb+FttU/6s+3JgXw1T90VGlkhx7WP0rp69jmi9Y/YnSBMTaY1j+6YGcC9v7WPy7NBX15Itc/noUbXwt41z8qbhVgT53XP8yf//xo99c/pI3ZwfQN2D8G361xR3fYPyrJjGY8fdg/XDeK8Zva2D8Yv4VPiQnZPwxJEdUFOtk/KErC6j6W2T+4hFkFVJzZP0aLAz4779k/9mKbikQ12j8MHfFnVUbaP8qe6hdEm9o/4B4EDfjT2j+YGLTg1e7aP1IuN3L+QNs/4P5+VqJ32z9486e1SpLbP7hvJhrM4ts/BrKy7MYe3D/0EQNMiDLcP05Pk7eegdw/xs2qpFLJ3D8E0kZw8s/cP5TSqJO6Hd0/HJ+YMsVq3T+Qpaw/WXfdP4jyvylPt90/iAUisS8D3j/8bY6c/yjeP2C2BqqHTt4/XAB0R1aZ3j8eMwNkeN7eP6YcCHOL494/jButxlkt3z9kDUsYcXbfP3aqaeQsmN8/uEYKmNm+3z+LZCuEQwPgP16ZF0iuJuA/JTeVbiQs4D/0B7YOw0ngP7xv4+5qbOA/tgJY75+O4D/aiyHVepDgPzwCjdZ9sOA/jjQtxObR4D8CwmSB2PLgP/IMF12u+uA/qixik2oT4T8+oZrdijPhP+DVtPQxU+E/sqyjhkZt4T/aMvRpZXLhP8WgLRE5keE/jzcIgJOv4T+i+9jfdc3hPxUx/4Dh6uE/",
          "dtype": "f8"
         },
         "c": {
          "bdata": "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",
          "dtype": "f8"
         },
         "fill": "toself",
         "fillcolor": "rgb(51.15625, 98.66796875, 140.9609375)",
         "hoverinfo": "skip",
         "line": {
          "color": "rgb(150, 150, 150)",
          "shape": "spline",
          "width": 1
         },
         "mode": "lines",
         "name": "0.312",
         "showlegend": true,
         "type": "scatterternary"
        },
        {
         "a": {
          "bdata": "AAAAAAAAAACMi8OE9kBbP3wUrkfhenQ/fBSuR+F6hD8EAPLFP9SFP7oehetRuI4/jlbO+u3qkz98FK5H4XqUP5uZmZmZmZk/nQXF7ey5nD+6HoXrUbieP+xRuB6F66E/Tyoat8Gsoj98FK5H4XqkPySkI4Pz5aY/C9ejcD0Kpz+bmZmZmZmpP4Gq9iwWCqs/KlyPwvUorD+6HoXrUbiuP0gY4HxBGa8/pHA9CtejsD/F0LedaYqxP+xRuB6F67E/NTMzMzMzsz+C1iKsd36zP3wUrkfherQ/j6GyUydptT/D9Shcj8K1PwvXo3A9Crc/Xpim46xKtz9TuB6F61G4P1i6gUqYI7k/m5mZmZmZuT/iehSuR+G6P/6aBCpT87o/KlyPwvUovD9jTPSFjrq8P3I9CtejcL0/VpTvGcp3vj+6HoXrUbi+PwAAAAAAAMA/Z5c1E5sVwD+kcD0K16PAP5ysYn5T6sA/SeF6FK5HwT99LOOrL7nBP+xRuB6F68E/L3rYvN2Awj+QwvUoXI/CPzUzMzMzM8M/Xm330Z1Awz/Yo3A9CtfDP8YhGEaP98M/fBSuR+F6xD+ob4qv1KTEPx+F61G4HsU/zBSx48ZHxT/D9Shcj8LFPz25rE3U38U/aGZmZmZmxj8DsAdFgmzGP2dH3zKh7cY/C9ejcD0Kxz9W8+HjzGLHP69H4XoUrsc/G2Zdp8TLxz+ckgV5qCjIP1O4HoXrUcg/WFifeGd5yD+wfvU3NL7IP/coXI/C9cg/4fmVGQv7yD9YPVwBqDTJPw6RK5N9ask/m5mZmZmZyT+nquTcs5zJPypzGjP5y8k/H+gKcrz3yT/bBaM1FyDKPz4K16NwPco/jteoTz5Fyj9mjjXFjGfKP/ssSHCshso/iDAazrKiyj+O46ZLtLvKP9RjCFDE0co/4noUrkfhyj/4ZcodA+XKPy49Dh+k9co/MhgRv30Dyz/llvjrnw7LP90gn60ZF8s/TssqK/kcyz8pl2lUSyDLP84d3wQOIcs/JUHoATAfyz+k93lDnhrLP4fdtE9EE8s/s9elIgwJyz+zyqoT3vvKPwCkPLig68o/4noUrkfhyj/AAWbpWtjKPzXPFe8Awso/3EOPDU2oyj9AHjApHovKP7NSE7NQaso/8R/bdr5Fyj8+CtejcD3KP64l9Ai3Hco/5/8dc8XxyT+bSkpJnMHJP5uZmZmZmck/8vL6+TeNyT9O3Lme2lTJP/UMfdaeF8k/9yhcj8L1yD9srf5liM7IP0ChSwzOcsg/U7gehetRyD8b75/9LAPIP69H4XoUrsc/nNt0uH1+xz8L16NwPQrHPxytNH/C48Y/aGZmZmZmxj8JsYd9KTLGP8P1KFyPwsU/SOTJohppxT8fhetRuB7FP4WFAm9GiMQ/fBSuR+F6xD/Yo3A9CtfDP0+Vj1MSkMM/NTMzMzMzwz+QwvUoXI/CP9sXmiTxgMI/7FG4HoXrwT/dUlgiaFzBP0nhehSuR8E/pHA9CtejwD/0G3LGUSTAPwAAAAAAAMA/uh6F61G4vj/8sdhtU7a9P3I9CtejcL0/KlyPwvUovD+/0+oP2Ae7P+J6FK5H4bo/m5mZmZmZuT9TuB6F61G4P1m3hwF8Prg/C9ejcD0Ktz/D9Shcj8K1Pwv9GLMsVbU/fBSuR+F6tD81MzMzMzOzPwR4MtSnRLI/7FG4HoXrsT+kcD0K16OwP7oehetRuK4/zIOtK4gHrj8qXI/C9SisP5uZmZmZmak/qa9OjK4Lpz8L16NwPQqnP3wUrkfheqQ/7FG4HoXroT85TZHQx+CeP7oehetRuJ4/m5mZmZmZmT98FK5H4XqUP7oehetRuI4/8ZH2o4bxiz98FK5H4XqEP3wUrkfhenQ/AAAAAAAAAAA=",
          "dtype": "f8"
         },
         "b": {
          "bdata": "wO73CAKHtT+obh9vDYy1P+DksBS5l7U/IAmqNWqqtT8It0R0+ay1PwAr2TYEwLU/gO3ExY3UtT8AdX3tYde1P4CYWoe68bU/6Pjg+1sCtj+g2MGjFg62P5gujebdLLY/UPBNQBc2tj8w8irqVE62PyBzxuF4b7Y/0HLFK5lxtj/IBq4VKpi2P9CSzEserrY/qHmrfsPAtj8YgNebqeu2P6gYTYwB8rY/SJP/RskZtz+gFyQxyzq3Pyhyzo3mSbc/QNGU6818tz8Idmk+coi3P1hWg8HWsrc/yHEcf8jatz+Y2VoZC+u3P6hhC9Y4Jrg/qFedy7MxuD+4Erxms2S4P/inqizsjLg/8IPzBoSluD9ANRlkE+m4P+gYZNG87Lg/mNLbkv0wuT+AIec3zVC5P5juLrf9e7k/0F5kgt25uT9gTk3IVMq5P8CmFCQMHbo/2HKhkNUnuj+IpRvU5nS6P+g+7znLmro/+J8pp4PRuj9IoOkgnRO7P+gnGin0M7s/4DNvJJ2Tuz/gP1RH5527PyAZtMcKErw/+CHLI4sbvD9IKXtdepK8P9hOJcRHrLw/yAtLVyMhvT9A4i1vsEa9P8hDBC6rwb0/aB6CT2zrvT+QAUdc+ni+PzhbAfoMm74/SMHp+ddNvz/ARSEXDVa/P9BH4h5ODsA/4HNAFcEnwD98Yp5Qj3fAPzitzj0bx8A/wBkeeermwD8gdIeaT1zBP9TpIsHxmsE/6AH4JMfXwT9gX4rPN1nCP8SzmRA208I/bJL3aKPewj9U4VH/q2XDPxyop0CY7sM/WAj9YuZwxD/0iwgmVHnEP1gYK4WIBcU/gE7w732TxT9IsGGYJyPGP5zJX2dalsY/EDicFWu0xj9ITRPlGkfHP6Ruxxli28c/gN0b9TVxyD+c9JJAjAjJPxyln0hbock//O+4miIeyj+wFPzrkjvKP7iZl3UZ18o/3JzTrwN0yz8kTp2jSRLMP8x5B83jscw/OBV/GMtSzT/wHx0O+fTNP0DNH8BumM4/OKzYyzQ9zz+cQU21VOPPP6iftlxsRdA/cBkZ7eWZ0D8Clfb1HO/QPwDX8NEXRdE/wmJZWYVz0T/iN8XK1JvRP9b8d85W89E//lf4S69L0j+42S6K5qTSP+7E1GwF/9I/8IkBgRVa0z9YizX6FW3TP9IAmuECttM/lkIuzOoS1D886MGb4HDUP8RhsP5hudQ/dna0NOXP1D9wdKMQ6C/VP5hg0YcikdU/9BMqdUXA1T/MsA+pU/XVPyosm8QtXtY/FiSD3Sx/1j8G0WSNAczWP6QKQzWBFtc/OE7O4xg/1z9+LABnP5rXPyoSPTezt9c/vu6gVXIR2D+ACcf8BDbYP7pV6rcPgNg/AjWVODS62D8GMGkHe+jYPwTFpcpURNk/sFULvThM2T94ny6rnqvZP2Q5oVZN1Nk/Ghb9ABUI2j/IRA9mJWLaPxRRfScBato/zv1zH7a52j+keiztDgXbP5YTjvfHD9s/LmHPJBFk2z+ywEQJAKXbP/zMNVNAt9s/wmReLzMJ3D/A6USSNUncP5JlW/dVWtw/VDD+IJqq3D/aXSGD8PDcP56Lhf1A+tw/Wuz6fihJ3T9CeYK9Z5fdP7h5DIoHnN0/PM1h7uPk3T+e6mGJpTHeP1QJ+fgcS94/2jtIG6R93j+Y0BCn2cjeP0iS9BkZ/94/8lKo2UMT3z+QpZ7b4VzfP7CYj7ympd8/XMHeFiG53z+WnM9inu3fPzho5SFdGuA/eLP5GmU94D8uejrNeD3gPxgvgRYwYOA/2KRQSHKC4D/qP6kyNaPgP8Ru3G8/pOA/+vI09qfF4D/FgoFwmebgP8rPrBcUB+E/JPQyB8sP4T/Tg6J4JifhPwcMxiTHRuE/6RieifFl4T8=",
          "dtype": "f8"
         },
         "c": {
          "bdata": "KALhvh9P7T9lsNnW3UDtPzyH2hoTJO0/igYsNMf47D8foV/SD/PsPybGdjEezew/nO9w1xam7D+84BK4PKHsPyTgR+L7dOw/t7gVGeVZ7D/2myucekjsPw/VQvGrG+w/Up+E/HAO7D9ywD9Oh+7rP1r3lKuxw+s/NhR9AynB6z+NpbAjYZPrP/4Ct9Oaees/CZsBNFhl6z8RvsytBTfrP2dbqLYrMOs/g1/Y9UsI6z/0giRmWefqP30nb4pS2eo/cv8m3P+p6j9vdq7CIp/qP6XS2f5Ieuo/lR2mBYJX6j8Vhk+xTErqP+kYKjfxGeo//4EX6nMQ6j+fpoQiLOnpP7dzGnHvyek/TlzuSxy46T/8SbqdtIbpP4PpkgD+g+k/J5pSlcFU6T9EkkSIlD7pP3/aOM5rIuk/nIF1DMv56D9csoUpq+/oPyhrfXtevOg/y2seiZ616D8lL+1ibYjoP/1sKbkRcug/rxP8BeRT6D/XAOpwQC/oP4emLjOgHug/+Po77FTt5z9gB9gMbOjnPw6wPNrxsOc/acAIJ2es5z/hcfQk7nfnP7NN9TWTbOc/aRkrQyM95z/OpzfG9C3nPz+WxIUcAOc/AXcjvaDw5j9e4mzdPMDmP0mmVE2ptOY/PS4pZ6t85j9I69nLHXrmPzKcjysEQeY/Ru2GXoAz5j+L6t/yaAnmP8YC1BG04uU/CiDhN1TT5T9Qvhz7wZ7lP3eXb67IhOU/cCmaWLRr5T98CCD+JDrlP9GIAtjBDeU/7ZxcX5QJ5T9VeNT/atnkP7UxC4u6qeQ/hFfaAGB95D9ZskT/fXrkPyCd7pGfS+Q/WDKBZzEd5D940n5MMO/jPwlLMj0Ny+M/GLyuppXB4z8UyW0VVpTjPxkZfF18Z+M/fnwyzwU74z/1ifHc7w7jP8P91Rk44+I/SaXMbSXA4j9WYY592rfiP0aK1prQjOI/vdJGpB9i4j+9hhqcxTfiP1VZVqHADeI/3ocV7w7k4T86Ul7nrrrhPzxFwM6gkeE/qMSPzOZo4T+vMc5Bg0DhP8p4t714GOE/XP3JAMrw4D/TAhoAesngP4Br+OiLouA/5y/OZ+uN4D+f40Pg/nvgP8eN/lzUVeA/CQOgFhUw4D+Ui5wwxQrgP7qRoTnSy98/GeaQQwuD3z+J796zMXTfP1js65khO98/d71CejL03j948pg/Ua7eP3DRgjTRed4/EhBOzn5p3j9pnf+fqiXeP+4Y8AwO490/kdcnQ9nE3T9++PAjaKPdPzcDPzVraN0/wn/tX91X3T9uN8vzZzLdP4VRTI10Et0//EP3P6gB3T/+563goeDcP0qXKIlr1tw/D94rd1q73D/9HXVE5rDcP2YvAZqontw/29gFdj6R3D9rDaHPKIjcPzr42P2Hd9w/FKAdn1Z23D+dDhk23GjcP/X7ln+pY9w/TFBpZVFe3D/x2XWFLFbcPwCjNUaGVdw/PNkvUYdQ3D/uW6cBvUzcP8d7NP5gTNw/gOYRVgNK3D9WMYIT10jcPwUzyqy/SNw/kFPAVbhI3D/C6USSNUncPxML4hKBSdw/o/hdbihL3D837eN4GU3cP6pV9RZtTdw/Qa2eGnFQ3D+q2DVhHVTcP3KYkXVZVNw/Az11tYxY3D/y15Oftl3cP2q3QNqXX9w/CD/MkqNj3D+bYiKMWWrcP7jP/vC8b9w/lJip3tpx3D9I/tFhKHrcP3nD/wVPg9w/K46r4+2F3D/md97kQo3cP138AYkSmNw/G8OC+L+j3D/CkHa3xqPcP0DfB6pDsNw/E6yHy6q93D9aa6QdicvcP4zQjgH8y9w/coD8eRbb3D8vGYIKH+vcP3c3SkEV/Nw/KmN6vN0A3T+3h30E3A3dP6EvVTGGIN0/L87D7Bw03T8=",
          "dtype": "f8"
         },
         "fill": "toself",
         "fillcolor": "rgb(44.1640625, 113.6484375, 141.9765625)",
         "hoverinfo": "skip",
         "line": {
          "color": "rgb(150, 150, 150)",
          "shape": "spline",
          "width": 1
         },
         "mode": "lines",
         "name": "0.375",
         "showlegend": true,
         "type": "scatterternary"
        },
        {
         "a": {
          "bdata": "AAAAAAAAAADWqMsYvqZrP3wUrkfhenQ/fBSuR+F6hD+fU9fyiWGIP7oehetRuI4/fBSuR+F6lD8p9twyo7eUP5uZmZmZmZk/1qL4q58MnT+6HoXrUbieP+xRuB6F66E/Otn5rqiYoj98FK5H4XqkPxd5kkzWk6Y/C9ejcD0Kpz+bmZmZmZmpP2GcwfbOeKo/KlyPwvUorD+bXaFe0EeuP7oehetRuK4/pHA9CtejsD9xoPl05QCxP+xRuB6F67E/So8tEmbTsj81MzMzMzOzP3wUrkfherQ/jGxfPnqbtD/D9Shcj8K1P7abQZ2eWbY/C9ejcD0Ktz+8HxkiTg24P1O4HoXrUbg/m5mZmZmZuT9ZBNF7xra5P+J6FK5H4bo/nTpE7EpWuz8qXI/C9Si8PzgJPZEv67w/cj0K16NwvT/qrVtObnS+P7oehetRuL4/4gHykmTwvz8AAAAAAADAP6RwPQrXo8A/ttwcNdWuwD9J4XoUrkfBP3s/ny1KXcE/7FG4HoXrwT+AGsIB0wLCP5DC9Shcj8I/8HtAPNOewj93RV+OxTDDPzUzMzMzM8M/vnZHTFq4wz/Yo3A9CtfDP5IZW9QTNcQ/fBSuR+F6xD/Ty+plpabEP45RS9fvDMU/H4XrUbgexT8UddAu/GfFP1lEjvmIt8U/w/UoXI/CxT9HdSY05/vFP2CoaNMONcY/aGZmZmZmxj+4uCil3GbGP+CocEGKlcY/NuieJqrAxj88KRDtU+jGPwvXo3A9Csc/Xb12uKUMxz/NyqIuEC7HPy+e2po5TMc/mx9HjTVnxz8Rg3iMFn/HP08t0x3uk8c/S8skzcylxz+vR+F6FK7HPxDjRinYtMc/fGyishrBxz+Q+TAnh8rHP2gdlJwq0cc/ZMVEQhHVxz8BlnhkRtbHP/l58uDW1Mc/hUDd4sfQxz8lXXNRCMrHP3bn7aaEwMc/Tn9u9Se0xz+vR+F6FK7HP1npv+H5pMc/goTGLuKSxz9rFyzHs33HP1VOF5ZTZcc/OAB9nqRJxz8tt6bXhyrHPwvXo3A9Csc/sX2wr+MHxz8rteokAeLGP6H2lCZTuMY/CLx9lLGKxj9oZmZmZmbGP9c1FiMcWcY/e0Jzursjxj8ommEUcOjFP8P1KFyPwsU/CjCoZG6exT/egNA2vELFPx+F61G4HsU/Ekr/D1XUxD98FK5H4XrEP6Vrvro9UsQ/2KNwPQrXwz8oOdD9k7vDPzUzMzMzM8M/GKQkL5sPwz+QwvUoXI/CP1A4TqPHTcI/7FG4HoXrwT/9J3npynXBP0nhehSuR8E/pHA9CtejwD99CLUCt4fAPwAAAAAAAMA/J5TuhBwIvz+6HoXrUbi+P3I9CtejcL0/SFgH733XvD8qXI/C9Si8P+J6FK5H4bo/H9tf1GqAuj+bmZmZmZm5P1O4HoXrUbg/+T0dRjoIuD8L16NwPQq3P8P1KFyPwrU/fa23tgp0tT98FK5H4Xq0PzUzMzMzM7M//hHRQF3Asj/sUbgeheuxP6RwPQrXo7A/QErkkJbPrz+6HoXrUbiuPypcj8L1KKw/GPZEI6zGqT+bmZmZmZmpPwvXo3A9Cqc/fBSuR+F6pD9Z2pdsPVOjP+xRuB6F66E/uh6F61G4nj+bmZmZmZmZP6RYuhFhtpg/fBSuR+F6lD+6HoXrUbiOP3wUrkfheoQ/4ePgS2/hgj98FK5H4Xp0PwAAAAAAAAAA",
          "dtype": "f8"
         },
         "b": {
          "bdata": "CPx8l4QauT/4ajah/iq5P4itg3nZM7k/kAnnzRJQuT+oBecOL1u5P5C8zVgib7k/cJ2p2W+QuT9gvTNcAZK5P6iSW+Rptbk/GCmL4Q/PuT/APYo/o9y5P/AKDl7eBro/aKjGvycSuj8gLmr5YTS6P7hh22wKW7o/uI7W50xkuj9gDBVm0pe6PzB6ylZ6qbo/GCja84rOuj8oa00RaP26P8gsh5LsB7s/wLlk7zBFuz+g0/OCl1a7P9BTwckRhrs/eL3USAW1uz8gd6I0AMq7P3B4EOSVEbw/ILA2R6kYvD+Qalql8l28P9h5QCxFgbw/UP5QrfGtvD8YmU9+G++8P1CWkbrHAb0/MFdV6UFavT8QiO5lDWK9P0DoqO1tuL0/MM4vQvnZvT8w9DW8bRu+PyhILgQ1V74/4GZkR9+Dvj8Y1xm6Q9q+P8hklFjv8r4/aI5JrPZjvz/gBoumK2q/P5gSN2dI7L8/6JMg1QH1vz/k2JVumj3APziJjHgdR8A/CKwd7rmMwD9YjLgYMJjAP1xGtxF35cA/RMy2BQfuwD8k2OTm5EjBPxjdMDGZSsE/JDAukvGowT/UGBhNtcHBP2DPYdhrDsI/7G4JG+tPwj/kZtcZennCP6iUZOsr6sI/YCX+3AgBwz+Ic9/JfGDDP4z8vW6N3MM/hO1nVTbxwz+4VK9bNV7EP9CrS5Z45cQ/FGTSTCNvxT9IFKm3aHDFP9iMwvPo/MU/0N1oCzCLxj/0rW0yMhvHPwSOkyReo8c/hNT3VuCsxz9wPh8mAkDIP2TFQHrE1Mg/VPVHix1ryT88tOwVBAPKP7zPfFdvnMo/ZHERClc3yz9MagS7C47LPyTWPWao08s/EILNK15xzD8srMP7fhDNP+SKT0sEsc0/jKe0AuhSzj/gL9h7JPbOP4iu2Eezms8/8l2Q6Egg0D8cjwlS5HPQP9qkycEwyNA/NjdIczMd0T/SdM5RZD/RPwaVUn3qctE/jqYv71vJ0T8m+jQOkyDSP7zkmJ+WeNI/ljCe4m3R0j8qe3KZICvTP/y19hiKf9M/3MGOKLWF0z9Q7F5QGeHTP0QUE1VwPdQ/PJu3PsSa1D9y7cnJwd/UPxo1MCAV+dQ/RKp3v1hY1T+ozBouF7nVP1wG2Iw+7dU/gt8nH4Md1j+eg7wvW4bWP8hfFe68qtY/pImPfuDz1j9WmZTuL0PXP5B5/thRZtc/jJLVPobI1z+CvljN593XPz4aTOpoQdg/GFwihtFa2D+WGbzVq7HYP1yvNu4x3dg/YJDlOagb2T/Cq8qhHGXZP/TwAnnhgNk/YsH56xTi2T/0a5ogjfLZP8Ao0mHaP9o/4pPI1WKF2j/sPC8sQ5vaP5qVN4pA9No/rjOkLWId2z8uvOy7b0vbP1QNCqEQods/ptsXFjC62z9YnrI/QvXbP+Ie+RV8SNw/nOf+rCFb3D/gdFx0uZrcP0KdqYkn7Nw//lEKJJP/3D/uDEKjnTzdP+Qrc106jN0/wN3lV/Sn3T9GNJSO59rdP7ixqAyvKN4/rnMQHPJU3j8CpU1cj3XePyjB1tx/wd4/QiEJSGwH3z8GTXw7jQzfPyyHQuOmVt8/GNWRYtif3z9Qq5K4jsDfPyq/Ygke6N8/cRaGG7sX4D+Fj4BD8DrgP0KH9oX9QOA/YIjCcbFd4D+cskWN+3/gP2CLI+bNoeA/BAs17gmn4D9EM8BsL8PgP+7ePKga5OA/",
          "dtype": "f8"
         },
         "c": {
          "bdata": "f2AQba/c7D/5ZsBt+b7sPycuQA6PsOw/fGYkIRKE7D/9wVf2E3PsP/QzOG06V+w/rluN+hoq7D+ioOK6AijsP9/Ap/aF/Os/x9VuBrnd6z9Sj7IIqc7rP4S5UuJroOs/X40XfTCU6z/02FesxXHrPzdsm01hS+s/ufD6i9JC6z/axKMZbBPrP/SWusVDA+s/O8VbRZ/j6j/BPOz31bvqP3vI9k59s+o/tLrLAN+C6j9+UQJhEHXqP0jL8CLNUeo/Z7aflPIu6j+2SgWTWSDqP2IuiBpx7uk/ajxNj3vp6T/2k8+/77vpP0+9z4ajpOk/VGVBHPqI6T/l6PLLcmDpPyz2CZiJVek/5iGij4Qh6T9yDsiD5RzpP5xTiEzJ7Og/5n4xevfZ6D/0VSeQc7foP9OVUm2zl+g/disynG+B6D9fT/G+KVboP4/PfNeXSug/940YmHQV6D8kny6LuhLoP4PBiTCB2ec/VbYUeKrV5z910TvfrZ7nP9QNdRbmluc/goDKPPBh5z9KVmE5P1nnP8W9VDHLIuc/8y2Cb8kc5z+Z+K5ileHmP+z75uaM4OY/R5ZiCK2n5j/V0F0d0JnmP8TF0BQgb+Y/Jx9S50xN5j9Tcw8g+DfmP3IGVA85AuY/YJVFtA/45T/YBdTB4c3lP8fv7GX6muU/L8ebkw6T5T+AjQrceGnlP/TqkiVeOeU/Yc0xk50K5T/AjMuoLgrlP5IyszJj2+Q/fg5+cwmt5D81iiB4Hn/kP70mshqZVOQ/h1skfJ5R5D+wfc9qeyTkPxsnuXrA9+M/xTrcOWvL4z8tsmZXeZ/jP70ArKLoc+M/1XAyCrdI4z+Bk4by9zDjP7PRHtzfHeM/XARkyGHz4j+R1kJ3PsniP+0VB0Z0n+I/xaTBrgF24j+IzutH5UziP+A1zXUdJOI/5YAAk6n74T8oYZ7Ci9PhP7WzX3XGq+E/kUQASVyE4T+rc2C4yHThPye75khMXeE/mYu2fJk24T8TfRqHSRDhPwy6rcpf6uA/p6cR59/E4D+fFF29zZ/gP0CvW5erfeA/pn/Mfyx74D+O3JUO81bgPzY40QszM+A/YMOEe/EP4D9b3wIDC+3fP/uvRM5c2t8/gLROY8mV3z9FZrTHsFLfP8R+E8V5Md8/egiErkUT3z/0O9u0RtjeP6nd9Ojmxd4/VdFw+fSh3j9uXJRtX3/eP55QokmPcN4/iRtyovRL3j/rJL8zTkTePyhMGnz9JN4/3VFL4mAd3j8jBckVpgbeP300IkDq+90/qka+NpXu3T9AwHjp/d/dP2mev3xH290/TIbnjv/L3T/ODwtel8ndP0HXLZ4lwN0/Fsf7CJa43T9me+9YqLbdPwvbBYCWr90/QPaZVr6s3T/IbG/TUqrdP/XTcHOdpt0/ky3QNLWl3T9C++ZZV6TdPwszvwgJo90/5sh5wc+i3T9elXovt6LdP08lTJ80o90/o8JHLmqj3T/0bdIKqqTdP1AHwNX4pt0/wd3lV/Sn3T8/t70pN6rdPx/yxzBbrt0/CwPTERux3T8nt0FmZrPdP1NT12phud0//D+OM76/3T/Hf1CRP8DdP/T9qG4RyN0/Wmh4dMvQ3T9lWdqZCdXdP5k2xlJx2t0/M4E7qgTl3T9dR2XfhfDdP/RL9+Ke8t0/+A0ACO/83T/ScRhWRgreP514eymNGN4/2OI2qeAa3j8o4WChtSfePyRChq/KN94/",
          "dtype": "f8"
         },
         "fill": "toself",
         "fillcolor": "rgb(38.1640625, 129.5625, 142.0)",
         "hoverinfo": "skip",
         "line": {
          "color": "rgb(150, 150, 150)",
          "shape": "spline",
          "width": 1
         },
         "mode": "lines",
         "name": "0.438",
         "showlegend": true,
         "type": "scatterternary"
        },
        {
         "a": {
          "bdata": "AAAAAAAAAAAXUCTjTCtxP3wUrkfhenQ/fBSuR+F6hD/cqZRrKRCJP7oehetRuI4/fBSuR+F6lD80Ra2x+I+UP5uZmZmZmZk/yShqDHRlnD+6HoXrUbieP+xRuB6F66E/8fTqk3YEoj98FK5H4XqkP8+tNb2nvqU/C9ejcD0Kpz/XtfnK+2CpP5uZmZmZmak/KlyPwvUorD8S/q2oueysP7oehetRuK4/D+hWg88wsD+kcD0K16OwPz2pqy3S37E/7FG4HoXrsT81MzMzMzOzP87xRvj0g7M/fBSuR+F6tD/6foo60xy1P8P1KFyPwrU/L2ekTVeqtj8L16NwPQq3P8SjHIdzLLg/U7gehetRuD+bmZmZmZm5P7+ckD8ko7k/4noUrkfhuj/sd4Pp4g27Pypcj8L1KLw/vpXdKa9qvD9yPQrXo3C9Pwx81LYmuL0/uh6F61G4vj8FMitLBPW+PwAAAAAAAMA//YY7wBAQwD+T9a8XSJzAP6RwPQrXo8A/pwoNz88ewT9J4XoUrkfBP7mZxwwwl8E/7FG4HoXrwT+D6YIfHQXCP0MHkUiLaMI/kML1KFyPwj93ydMdSsHCPzaeRTtJD8M/NTMzMzMzwz8DipzklFLDP5BnHBhDi8M/Em2kwG25wz/Yo3A9CtfDPy708CAZ4cM/gvGi5JMFxD8HVcAqqybEP+r/qQ9yRMQ/maRPpfpexD9YJQn7VXbEP3wUrkfhesQ/a3Soo8GKxD/x3ZFiI5zEP02vZ3J8qsQ/678GT9q1xD8sjkaHSb7EP+MrRcDVw8Q/DyHot4nGxD9onY9Gb8bEP+7G91+Pw8Q/dcS21fa9xD8Ex+fZsLXEPyubo22sqsQ/dVA5odWcxD+KU7AkF4zEP3wUrkfhesQ/uuYdZ2F4xD9RG8/bzmHEPx+b5tgUSMQ/DngHABgrxD9RlUIWuwrEP+5GMOLe5sM/2KNwPQrXwz9vB6VvpL/DP8DS7CzdlMM/9X4FOzdmwz+DpRV1ijPDPzUzMzMzM8M/TcGCSSb6wj9CRhw9Y7HCP5DC9Shcj8I/8YQRxc5Xwj/2CMzRhezBP+xRuB6F68E/PyulcJpuwT9J4XoUrkfBP7ZDAXND3cA/pHA9CtejwD/Hui6IyDfAPwAAAAAAAMA/PF8ORDT7vj+6HoXrUbi+P3I9CtejcL0/oo16r71cvT8qXI/C9Si8P4j5s54blLs/4noUrkfhuj8hMGW4qKG5P5uZmZmZmbk/U7gehetRuD9kDeSU8Ia3PwvXo3A9Crc/w/UoXI/CtT+6omqCGkm1P3wUrkfherQ/NTMzMzMzsz8EBIULD++yP+xRuB6F67E/pHA9CtejsD8L7F8BgnawP7oehetRuK4/KlyPwvUorD/yYE0bA7erP5uZmZmZmak/C9ejcD0Kpz9lTGGUuTGmP3wUrkfheqQ/7FG4HoXroT8vwdR9hU+gP7oehetRuJ4/m5mZmZmZmT98FK5H4XqUP0EYGGOe/JM/uh6F61G4jj98FK5H4XqEPxyefX46JXk/fBSuR+F6dD8AAAAAAAAAAA==",
          "dtype": "f8"
         },
         "b": {
          "bdata": "wHvvC77JvD/wGvFvSee8P2DtAt2L7bw/EOHeMyEVvT8Y1MtUTye9P5jANALSP70/2MYXmUNtvT9YV8rpAG69P5CSJcwxn70/MJztkv+6vT94ooh0EtS9P5D3yqQZDL4/UAX7gz4Ovj/AvQOD7Ui+P2g4I05gZ74/KMOxBBqJvj+oFy1feca+P6CyMaW+zL4/+GhU+W8Vvz/g5jr8Nyu/P6iOLd5xYr8/qNM1uayVvz/wIfZWmLO/PywqQ7zsAsA/+KWImpEEwD/IxxwSczLAP6zI2RO7PcA/oF3eOv5iwD8AVoaNWnvAP0gmLlNMlsA/mEz9ktC7wD+Ih208mszAPxiu3I4g/8A/yHX9PzAGwT8wkHrnhUPBP3wg/WpLRcE/pJbH8HmFwT9U2r3Kco7BP6h77+KmzME/hMPkxBbbwT/EVqY8RxrCP5R65OuPK8I/oKq/Kexvwj+8PQyRL4DCPzQThSahz8I/YLf2TT/Zwj+88Hms+jbDP/yALyqkPMM/1NYI242Zwz+Q+uMEhLzDP/D/aMY0AcQ/DCMsCIVUxD+wyEhHFW7EP3Qq/zw14MQ/8F9QtxgUxT/8OZvcrFfFP0DAH1iE1MU/wDBgn48Zxj8Au7GNtVbGP9w8L3413sY/wKooNPdqxz8Uq5OpzNbHP9TXP474+sc/0EmkNpKMyD+wCNOd3R/JP+SjmzXRtMk/MEIG9WNLyj908mZUjePKP+xRfjgmBss/kLtUii59yz9sdx21VBjMP2D/bzf/tMw/uOddUydTzT88cXvBxvLNPwSTOa/Xk84/EImlvVQ2zz+IO48AOdrPP7RLDP+/P9A/pES7phGT0D9UvM2qDufQP5x//Uq7O9E/mso2gxyR0T8ownenN+fRP4wD9LICM9I/rhX7mxA+0j/agO3DoJXSPzhZxsn67dI/TtochSVH0z9Qy6xEKKHTPzoX0NYK/NM/uHbqPgEh1D9sn5H4xFfUP+pkXk5itNQ/LvL2T/cR1T/eoJEGjnDVPw5HphYjcdU/PBKVltLQ1T9Sac3e7jTWP+xi2iZAXdY/9tHugT+d1j9G6d5D/QnXP6zNek7qCtc/BllHoWN71z+IhLkLnJvXPzoLz+Wk8dc/emqHdAsd2D/IZaIl72zYP9pFJr76k9g/5ABLRGbt2D/ob+E7UwPZP65tJKnRbNk/ajP8myBz2T+SqLZiVtHZP0C+M2Mg/tk/mKRum2Qy2j++TxxFWo7aP5SqNrqdkNo/ZkNptNzr2j9oLKvOnCPbP4aeSOI6Rds/PISP+eyc2z8OEhkWQ73bP0KbPwdj89s/BjKXnsRI3D84fhQKcFrcP4LC1R3fnNw/NE7hlvzv3D+I2XcwbfvcP6yMQSDZQd0/LNGx0r2S3T9MuQ3EuKDdP645l8Vy4t0/Hrpudiox3j/oMpvh+EreP4weSDvIft4/ZoDkDV/L3j/usyKoB/veP9hMaxXxFt8/evQ7gHNh3z9Uo46r/qrfP5D3BZIGst8/Al5W03vz3z8HeX+nfx3gP7Q6oErGOOA/FJy+ZMRA4D9esJBbiWPgPw==",
          "dtype": "f8"
         },
         "c": {
          "bdata": "iBCCPshm7D8ClDs4wEDsPyxG0MFYOew/jGtlVHAL7D/VMrhv1fbrP3NTC3gk3es/gZafgoCu6z/rSjkdwK3rP+KArvlMf+s/NPs+bXRl6z+7whIiu0/rP/Abe3nEH+s/BvBBxvAd6z8ApyQ7NO/qPxc+aHop1+o/K4pf6Di+6j+twWoXIZHqPxIwwJHOjOo/H32spMJa6j9Cw+1lzUvqPz/8gaUsKOo/iWhueDAH6j+ujdkTEvXpP03AOYtKw+k/RMyG9WrB6T+oZxLV/IzpP5uvAJwSgOk/CKZSSORX6T+gGk31jj3pP7ZXr/8aIuk/9B+M8cD76D88I9DCkevoPwJAZWupuug/hMtcfza06D/AKO5S63voP0mkTp1Ieug/+4oLjnhC6D9tGiDwpjroP5A18o63B+g/ZxyLaeT75z+hIvW1WcvnP9lRLC4Xvuc/gHEfuPqM5z9RileSU4HnPzO7XrYXTOc/aHBz/KtF5z9thvVOLwvnP5fD5DLhB+c/oYd6lejR5j8KSah5877mP5bZM8vmmeY/weJGdv1v5j90E01mM2PmP5Pzm97PLeY/YHfuxyIX5j8jP2RBwvnlP2KoJpsMx+U/AidbS8+s5T/AbmxjrZXlP+UWbdqhZeU/DLrMwuY25T9F7D5GihTlP//MM5T7COU/LDEueXbb5D+SKNvNXa7kPw2Xri6vgeQ/ToZqWWhV5D8N+iMshynkP2fm9B++H+Q/ArSA9AP+4z+pKhT64dLjP1QUihUhqOM/GNZml7994z8ngM/tu1PjP0dQIKQUKuM/eJWcYsgA4z/ESTju1dfiP2roeyg8r+I/kKw0d/mG4j8WMB90DF/iP2hZGD93N+I/lUYWVjwQ4j8KChhjXunhPxx5mlTGx+E/e/s6WN/C4T+/eBXnu5zhP5ws42T9duE/1bRvPadR4T8E9RgYvSzhP6fiC9xCCOE/rpsu0bz54D9u7s1nNOTgP9uYlY2XwOA/KydDiXad4D8xxnFf1nrgP6sP4KeheuA/jsZUIg1Z4D/HOVLBLzngP+ZdVeKILeA/yTXEjWwb4D9AEjvTv//fP14JKSJT/98/WxFmJk/N3z/VCgnqjMDfP+xSsGC5n98/NN1ZBgmR3z/VPEaWLHffPye62UEFbN8/TWexqsxT3z9qSD1JmE7fP/cCGWEFN98/Lykl+K813z9kgKUsbCTfP2BDH7XYHN8/sTwMeUkV3z87ZMqMOwnfPwbvYt/7CN8/hw5Paqj/3j9B0BsMp/reP7hrjsE1+N4/VT5mL2/y3j9ERUxJdvDeP6Df1Kbk7d4/LgGclG7q3j/JQAozzOnePwMpfJo/6N4/pFWPpg3n3j92KzBP8ubeP33PTaIc594/UEP8dCPo3j+WmojYZujePx+TNQda6t4/Ast8243t3j+No9jrz+7eP+Uewpvb8d4/XnVETjD33j/usyKoB/vePz1h3MuJ/d4/7nEq5vIE3z9le/Y/Uw3fP+2GyIcvDt8/CXlNncEW3z9PncOmKSHfPyGUxYDeKd8/hg9ksYss3z9Gn95I7TjfPw==",
          "dtype": "f8"
         },
         "fill": "toself",
         "fillcolor": "rgb(33.15625, 144.53125, 140.0625)",
         "hoverinfo": "skip",
         "line": {
          "color": "rgb(150, 150, 150)",
          "shape": "spline",
          "width": 1
         },
         "mode": "lines",
         "name": "0.500",
         "showlegend": true,
         "type": "scatterternary"
        },
        {
         "a": {
          "bdata": "AAAAAAAAAAAIU9ybO41wP3wUrkfhenQ/fBSuR+F6hD+0XyE5h7qHP7oehetRuI4/4j9mw3Vhkz98FK5H4XqUP5uZmZmZmZk/NDQKyaixmj+6HoXrUbieP3gCPyKW56A/7FG4HoXroT86d9QiI12kP3wUrkfheqQ/C9ejcD0Kpz9n0oonkLqnP5uZmZmZmak/ykrdKZf/qj8qXI/C9SisPywhaUFJLK4/uh6F61G4rj906Q8vYKCwP6RwPQrXo7A/7FG4HoXrsT83bL2p0B6yPzUzMzMzM7M/VwDMgB2Rsz98FK5H4Xq0P/trKzou97Q/w/UoXI/CtT+YYOOK5VC2PwvXo3A9Crc/NNx3tAeetz9TuB6F61G4P+i3DfBI3bg/m5mZmZmZuT+s0Nni/Ay6P+J6FK5H4bo/IuPuTgssuz8qXI/C9Si8P2IdTXJ8Obw/74EF/sA0vT9yPQrXo3C9P4XrOeP7HL4/uh6F61G4vj8Hjrefg/G+PzsdiW4xsr8/AAAAAAAAwD/yZkhrUy/AP4fisH5de8A/pHA9CtejwD9p66CDNL3AP7ZArA7s9MA/+EiUooQiwT9Hy/6yNkbBP0nhehSuR8E/DSOyd1lkwT+AB2EUKX/BP8uF3p6ylsE/vXvdSgWrwT+Q3+FVL7zBPxwa8ws+ysE/pceNyz3VwT9IX9UIOt3BP9QCBVA94sE/VG0dR1HkwT99nMyufuPBP/phimLN38E/3oHjV0TZwT8YYbNV8M/BPx50xqbhw8E/mvX9Vge1wT8pkWUQTaPBPyk5USKdjsE/i1mja+B2wT+q8SZD/lvBP0nhehSuR8E/qgXG8PQ9wT801rM3yxzBP6+UhMkw+MA/5qAeLAbQwD892HTMKaTAP6RwPQrXo8A/KHKB++N0wD8tVZOguD3APwAAAAAAAMA/4QoVrXLvvz8TYFuQOkO/P7oehetRuL4/pg+i9091vj/n0hn68IO9P3I9CtejcL0/b1RGtH9tvD8qXI/C9Si8P5LiyyKoMLs/4noUrkfhuj9h9HaGPMy5P5uZmZmZmbk/U7gehetRuD9jf01EZD+4PwvXo3A9Crc/EHK587mJtj/D9Shcj8K1P9dcRW5hq7Q/fBSuR+F6tD81MzMzMzOzPwZUBSv9qbI/7FG4HoXrsT+kcD0K16OwP9tkYG6FjLA/uh6F61G4rj8kLOwptaOsPypcj8L1KKw/m5mZmZmZqT9LgRLYd+2nPwvXo3A9Cqc/fBSuR+F6pD9VT8yf3u6iP+xRuB6F66E/uh6F61G4nj+yBPb9wTybP5uZmZmZmZk/fBSuR+F6lD/uF4PJc72PP7oehetRuI4/fBSuR+F6hD98FK5H4Xp0P9rnlJenDW0/AAAAAAAAAAA=",
          "dtype": "f8"
         },
         "b": {
          "bdata": "yLg1hjpOwD9Y/80bomHAP8SKfbilZsA/GG1HVEGBwD9M1rHa2YnAPwwHqSLsncA/7O2Bwm21wD+UZG9YY7zAP5wohMwt3cA/TB9lnEHkwD+sKMUpaQDBP+RS625AFsE/HMH4jsElwT/wFBbZZUvBPwAAZURUTcE/IJ4YigR4wT8wurxCj4PBP4yPpzpkpcE/yNuvbMW+wT9MMfxYhNXBP5zR+zMG/cE/hK+1KZwIwj8IbKJaTj7CP1hhK/HsPsI/iCl9jWV5wj/8ezRGiYLCP6jlsbTCt8I/mEeuGs3Jwj90GhMUYvrCP1Ddk/YfFMM/vOR5or9Bwz/MUKMsiWHDP/T5WIlwjsM/jKJ7rBeywz8Ah29oaeHDP0Sc02ceBsQ/CLpGtY88xD+0Bl51CF7EP7xlQjYJosQ/vDKW5Bu6xD/ExLgcohTFP9AU/KWWGsU/UGxLjZx/xT+4T6YltZrFP5DCO95k6cU/vEOvXRY6xj+Uyln5GVjGP2jX4o/Fy8Y/fP4A9uMBxz/kWx5Af0THP7yOp0BRwsc/YHGVRmcSyD/w+mzIPEXIP+zAJA04zcg/cC1uzUJayT/sXHbPQOzJP3z6GIGS88k/rCFadwaByj8YIECzdRfLP5jRPviHr8s/QMd8rDVJzD/8BTixd+TMP1TZbGBHgc0/NPPcip4fzj8ImHZ2d7/OP+g2HN3MYM8/JLnm9cwB0D+spRkh7VPQP6DsSPnEptA/+FwRwVL60D98HbxGk07RPwwRlneCo9E/AOmmkCT50T9uumunfk/SP8CIDyiWptI/+rjZ2nD+0j9EixfqFFfTPwQ1xnaDk9M/ln7Ow4Kw0z/EwjG3uArUP3hL3NfKZdQ/vIBUBMHB1D84q12hox7VPwyURqlHH9U/ED25mmB81T+gfJP2FtzVP8LCRZENNNY/4mg0ToI/1j+OVurW9KbWP1hQiQU08NY/7jggr50S1z/W+O8TtYLXP26o5br6itc/9iDJwW731z90U0+pLhLYP4QnFzn1cNg/GN1d9ZSN2D+cfcAxbu/YPwrQiZl/ANk/bNc18Oxs2T+OZCS/9HLZPxBoMEj209k/ip5VjpX72T/M3T4LJjfaP4TZIiRMido/dFbjQTeX2j9quSPojvTaP/CSqTFkG9s/GgrNW0tQ2z/wVJGymKrbPybpXK7+sNs/assT+BkD3D9S66iOP0rcP3wtQtRkWtw/SotTHRqw3D9SPuXojufcP6ahSGaVBN0/SkAlvatX3T/CWYgBZIndP5wA+Y6Lqd0/Uj2+hx763T/kJrRgVzDeP7j6zbiLSd4/VpwnF7WX3j/8gpwmM93eP3rNNWbP5N4/MjR6Y6cw3z/8M1VceXvfP8aySdMGkd8/sraGriTF3z8=",
          "dtype": "f8"
         },
         "c": {
          "bdata": "zpFyXnHs6z+Ex9QBfcbrPydBUc9gves/aGzPJcSN6z/vBG9sn37rP8Opp6+jXes/hVJE4Zg36z83tqYfEC3rPw0pEsDn++o/i2aeUmLx6j/fjDImI8rqPx87IYL2q+o/m0pWSteX6j9QM41XVGfqP7jea9r8ZOo/CJtvBlsx6j9OJNgscyPqP4OCvFcN/ek/YjQ2MlXg6T/r/ZeND8jpP4d56t75nek/M0La1lOS6T/QZ3VjYFzpP5Z5beLJW+k/YKvJ+DUk6T97MzuZgxvpPzAgbeyo6+g/EO46CWnb6D/TdgVSC7LoPyybFTsSnOg/GWjcKz536D+5v3oDgV3oP6FGlS8cO+g/1xtSHrkf6D82R0A1aP3nP/NhCUjP4uc/Sh5736i95z89RE1G3qbnPzXXrLxUe+c/7Zb8nPdr5z9J43/AuDXnPyBXN8gqMuc/rnTsvID55j9kJLU7PuvmP+zRCUwHwuY/OYsjK3Ca5j+bm7INyYvmP34mNm7IVuY/YcB/Aoc/5j9LTyZVCyPmP6/jKVCU8OU/fkfLa3DS5T9qhvysY7/lP5e/C/l2j+U/ZmL/I85g5T/ztWIfYjPlPw8Jm9ovMeU/0e48BKgG5T8athdOWNrkPyiqOFpxruQ/QG8pQvGC5D+dhjk+1lfkPyMD6KQeLeQ/SVFl6sgC5D8sAi2g09jjP5Kxt3Q9r+M/GEhFMwWG4z8KBsDDKV3jPzLxuCqqNOM/DHF+iYUM4z/8GDVHuuTiP3Jag1pGveI/Gg7t4SuW4j9/vjBobW/iP1btY6MNSeI/IU2qdw8j4j/0fSr6df3hPywtfr9S5OE/Sz/nYUHY4T8QKXrWcLPhPxi1sGEOj+E/aBfO8h1r4T9U9DO8o0fhP9BZzWhmR+E/7gTDs5Yk4T9kbJFchgLhP58eXTf55eA/MypDg1Di4D+3aH9CHsTgP/yzyr/bsOA/laF7KQeo4D85ycRWJ47gPxvkqydujOA/96SSqJh24D/AagbzyXHgP+zvGl9wYeA/GIKOjwxd4D+m4lBWwU7gP8fkBwCNTOA/QD1BF0w/4D/NHeQXmT7gPxZR0y29NOA/eQJe+v0w4D9ictsOGyzgP6TnJcDtJeA/NpIYNggl4D/lvIclUh/gPwiMykEOHeA/tXBCrmka4D90p2/FOBbgP9F+BfvvFeA/X8g95e0S4D+VxwzmpBDgP4DztTk+EOA/waC8V1kO4D/DOAwOYQ3gP71x0XURDeA/k37yDHwM4D8pDj8VYAzgP5T6l+aBDOA/YbjELC4N4D9oPLY/7g3gP9g1zFZtDuA/McEuak4Q4D8isoudcBLgP8kENwW3EuA/lS0kycAV4D/aCUaPTRngP7WRw+5uGuA/p6S8qG0d4D8=",
          "dtype": "f8"
         },
         "fill": "toself",
         "fillcolor": "rgb(31.0703125, 159.47265625, 136.140625)",
         "hoverinfo": "skip",
         "line": {
          "color": "rgb(150, 150, 150)",
          "shape": "spline",
          "width": 1
         },
         "mode": "lines",
         "name": "0.562",
         "showlegend": true,
         "type": "scatterternary"
        },
        {
         "a": {
          "bdata": "AAAAAAAAAACBZGdT8WhnP3wUrkfhenQ/proTXB0+hD98FK5H4XqEP7oehetRuI4/NKfZaOsakT98FK5H4XqUPwYkoLQj4Zc/m5mZmZmZmT90UO/NhXKeP7oehetRuJ4/7FG4HoXroT8zWF97VGiiP3wUrkfheqQ/PAunRLh9pT8L16NwPQqnP5FSMFd4eag/m5mZmZmZqT8PlCTAp1urPypcj8L1KKw/6GbI0kUkrj+6HoXrUbiuP8+qoR+fabA/pHA9CtejsD+vTsqBNLSxP+xRuB6F67E/0QNVG8Xxsj81MzMzMzOzPzbqgtYoIrQ/fBSuR+F6tD+zZRqzBEW1P8P1KFyPwrU/fTc7r7BYtj8L16NwPQq3P508b028W7c/JApMuVtNuD9TuB6F61G4P2AUo7I3Lbk/m5mZmZmZuT+SBsZpZ/q5P/SyPvWctLo/4noUrkfhuj+n3VbbsVu7Pw0XIAtG77s/KlyPwvUovD+H7wqIaW+8PxEt+1cW3Lw/jpAQtVQ1vT9yPQrXo3C9P+31vD1ee70/MOyV2AmvvT/eyz+Fiti9P909EoWK+70/xZlSDSMYvj/yxCh2ay6+P0H+7T95Pr4/OlkBF2BIvj/O7hzWMUy+P3g1JIf+Sb4/RDdhYtRBvj8PbiPMvzO+Pxbtr1DLH74/BRdEoRAGvj8nHdt9uea9Pxqvfp2jwb0/hhiWFqWWvT9yPQrXo3C9P3wVqSSqZb0/WlB11s0uvT+Li2m7iPG8P5/AKoSlrbw/vJEocOtivD8qXI/C9Si8PyFU/U5SEbw/k4gmyeG4uz/aEnVx9FC7P+J6FK5H4bo/r7NSp4rMuj8OH9RLNSm6P5uZmZmZmbk/2A8Iz6hluT8PNNQXHoC4P1O4HoXrUbg/5KToZBB3tz8L16NwPQq3P2pU/5gqSbY/w/UoXI/CtT8tUNl+LPW0P3wUrkfherQ/SX6TzR16sz81MzMzMzOzP+xRuB6F67E/8bw57GrXsT+kcD0K16OwP0VUeKHZErA/uh6F61G4rj/ovDZbimWsPypcj8L1KKw/m5mZmZmZqT9/3mf8JG2oPwvXo3A9Cqc/fBSuR+F6pD8xLQr/1TakP+xRuB6F66E/doFuocp8nz+6HoXrUbieP5uZmZmZmZk/L/7kSDD5lT98FK5H4XqUP7oehetRuI4/jcbdr9Khhz98FK5H4XqEP3wUrkfhenQ/8YppB9WgTT8AAAAAAAAAAA==",
          "dtype": "f8"
         },
         "b": {
          "bdata": "2Ff+WXlOwj/I805GimDCP9BTgLk1b8I/YJVSSEKRwj84x+b3IZLCPxw2ZX40uMI/ZAnjhlvFwj80qi7u0uDCPzwSZAzP/MI//MyBCxgMwz8YkAz1jzfDP0A+7y4zOsM/6FUlm/trwz+4Cr3MhHXDP5AL+zM/ocM//ITRXa+2wz8EjTZvH9rDP7TMvWUO+8M/XO14LfQWxD8stdyCn0LEPwytNMYlWMQ/dKvFymKNxD/MfzDFMJ7EP0C+c8da28Q/PI14varpxD/sBSd5jCzFP+T7BpRIO8U/SMkBXf+AxT+kTlvO5pPFP1TAc3i92MU/eBtpsJT0xT8YUouL3TPGP/BAB2P9XsY/SI7AlsmSxj9MlJIHkdbGP6T9cLnd9cY/6Dq36Exdxz8MK+8Xe1/HP/zonvQsycc/KFuYslsEyD8UnRMRuDnIP6DicrgBr8g/6PQ48GDPyD+YSCqJEynJP+BqdYcFqMk/8KR3b/biyT9oJXiy0yvKP6iGuYh/tMo/bJ6x+wZCyz+EBDmssL3LP7j1w6Nb1Ms/zChLx0drzD+EIV6mvgTNP6j1prDVn80/VE/UmIY8zj8oNdyIy9rOP3hXqCCfes8/rniQOv4N0D9OvsuHb1/QP8yNyXahsdA/5KWAQJIE0T9cF2dYQFjRP84/9GyqrNE/4nIASM0B0j9wSoyxo1fSP4KQtvIxrtI/qFuySH0F0z96e7kDxUnTP1q0DiyIXdM/UOXzOk+20z88FnRj4w/UP+ynek9LatQ/GqYZF47F1D92ukK++AbVPyDGXcCsIdU/5Fc3VqZ+1T/sPkyGj93VP2KKuB38MNY/JEOvRAhA1j8Kzj11XqbWPyCtO+4G9dY/RAj2ibsQ1z8OPPtlWH/XP/aqwFfMk9c/RmZ3oWXy1z++wcUXJx7YP6RIE+ANatg/MBmlW/Gb2D9+wXYoeebYP3qJe+m/ENk/DDS+g8Zn2T/ekKIS3X7ZP1g8LZuv59k/iiQIZQju2T94aTK7YUzaP/IJfxOGeNo/XLcBy86u2j/+YBkndAbbP+JTvKgvD9s/MCO/Wy1t2z82ByUC5pfbP9ZuY7heyds/tn0bf98j3D+cmhl3Ni3cP2YlXAhmfNw/toEdB6nG3D+QttEVi9PcPzgr5JfpKN0/IoYAX7Fk3T9uD5aT83zdP9y8UrFvz90/TO+mG98H3j8Ui4vsoyDePw7swTlncN4/VkRDtumw3j+cWKhq/L7ePw==",
          "dtype": "f8"
         },
         "c": {
          "bdata": "CmqAqWFs6z+q2xh9dFDrP+SOEM88O+s/vgt7+LYK6z/glef8iwnrP/+duJgR1+o/bXAAw9HF6j/P5DY69KPqP1H6QR/Dgeo/9b9SMC1w6j92YU3Uhz7qP3oH6KSwO+o/aCVLx0gG6j/OxxqFGfzpP9Rbhh4C0Ok/DS5BpHi66T9PHyhN1JjpP6mHHeGkeek/DysIW6lg6T91iUajnTnpP/veSTJnJ+k/tQ4i8GL66D8hjvuv7uzoPxbbLmr1u+g/nS5abxqx6D+v9HxRVn7oP8k2Jze9c+g/NO1UhYdB6D/xxQLmnzToP6WyEoeLBeg/kvbvqn7z5z/E3rkGaMrnPwwRubvur+c/fnVohDeQ5z8L4AYQFGnnPwPZ9QcRV+c/ArCoTgEf5z8zXmDJ4x3nPzXjg8wN6OY/ArYm4LXL5j/pV4IORbLmP/pwO/OrfeY/ajMvzv5v5j8mkkriRErmP2aivtwVGOY/PivQqyMC5j+2mGDiHeflP7Q40lJdt+U/U4ZxqtOI5T8xdxBaf2LlP9RjV099W+U/R3ga00wv5T8jfsAFvwPlP9r6M0OZ2OQ/85gg+Nmt5D8Y2gOvf4PkP1oq2A+JWeQ/gZjX3/Qv5D//glYBwgbkP2yytnPv3eM/JoZzU3y14z+QBkjaZ43jP3fib1+xZeM/r0PXR1c+4z8kd373VhfjP9vh9JKy8OI/HA/UuGzK4j+V+kEDCa3iPyODY6WGpOI/TGO3p/5+4j9ww9g23VniP/ZTvaclNeI/uxpuhtsQ4j8/t4zoZPfhP2xy8VX/7OE//IK/m5DJ4T8uPquuGafhP3MrYftYi+E/+Ae+iGqG4T8ZleYbqmfhPzz2rlVJUuE/5PkjIe1K4T932wcKUDDhP3vTe2PcK+E/QTinIusX4T8/pAjGpA/hPyBx1rzTAeE/sFSoZrX54D87denbHe7gP7N4TOJD6OA/MHZuBNnc4D8rUUgQK9rgP5ZXko63zuA/Hbb0bw7O4D8wHR9BVMXgP39wEcJhweA/ZtLGexO94D+z479GbbbgP03geM/YteA/ztSGuM+v4D99/iavOq3gPyULxMysquA/3V/3K2Km4D/ej4Jk96XgPy9o5qkUo+A/GctlJ8Wg4D/C+7rld6DgP5gdQWe+nuA//ZQ4zt2d4D+lh/crr53gPxiNqN9mneA/QBFtJ4md4D8kgpuEwp3gP9Gtj6DWnuA/c4Oc7yKg4D+y06vKgaDgPw==",
          "dtype": "f8"
         },
         "fill": "toself",
         "fillcolor": "rgb(39.6484375, 173.453125, 128.3125)",
         "hoverinfo": "skip",
         "line": {
          "color": "rgb(150, 150, 150)",
          "shape": "spline",
          "width": 1
         },
         "mode": "lines",
         "name": "0.625",
         "showlegend": true,
         "type": "scatterternary"
        },
        {
         "a": {
          "bdata": "AAAAAAAAAABU3126dA5DP3wUrkfhenQ/1CMC+IH7fD98FK5H4XqEP+aJhVzkWos/uh6F61G4jj8AC4Ou/uSTP3wUrkfhepQ/m5mZmZmZmT8aNdJQbeaZP7oehetRuJ4/tRip72Oynz/sUbgeheuhPy8fR5xdpKI/fBSuR+F6pD+ZB2six1SlPwvXo3A9Cqc/pamm4Gfqpz+bmZmZmZmpP4HnZhUlZao/KlyPwvUorD+zDnDfz8SsP7oehetRuK4/coZlECUJrz8kLOLl95iwP6RwPQrXo7A/j6WKy66fsT/sUbgeheuxPxo9SY4RmLI/NTMzMzMzsz8XN864ioCzP00mYs/lV7Q/fBSuR+F6tD8uzLHath21P8P1KFyPwrU/yQSSr07RtT9W/rtnrnK2P8zmGKFSAbc/C9ejcD0Ktz/PdAbqYX23P0Sti+Ck5rc/AKLHTzE9uD9TuB6F61G4P4ebJyUzgbg/aylYgsuyuD/TuUbiN9O4PzSZZHps6rg/wnj4uTf7uD84rlAyrAW5P5BrTaDaCbk/b1197NEHuT8vL7Epn/+4Pzm4+JFN8bg/V535gebcuD/Y9otyccK4PxA2MCoIorg/vGOdmNx7uD9TuB6F61G4P5ntKEzQT7g/8sXjtxQeuD+DeSmSJ+a3PzxfoXrYp7c/uPBWAvRitz+VDTt5Qxe3PwvXo3A9Crc/mODG3QnFtj85PsOJ6WS2P8R+yz2V6bU/w/UoXI/CtT/FC4E6i1C1PxmwDWqUmLQ/fBSuR+F6tD8BO+jx0r+zPzUzMzMzM7M/BnUZWg3Fsj/sUbgeheuxP6ayz8LBprE/pHA9CtejsD9bUxFzm2OwP7oehetRuK4/Sw1wI7r1rT8qXI/C9SisP0iPPMeU5Ko/m5mZmZmZqT+AzufeMZ6nPwvXo3A9Cqc/fBSuR+F6pD9SdSzRxyCkP+xRuB6F66E/9Ggh3atpoD+6HoXrUbieP5uZmZmZmZk/nXCYwybomD98FK5H4XqUP0lpe0f4d5A/uh6F61G4jj98FK5H4XqEPwQoeOVp1n0/fBSuR+F6dD8AAAAAAAAAAA==",
          "dtype": "f8"
         },
         "b": {
          "bdata": "3Lrgo5xsxD+M5VANWnHEPywygntBmMQ/kHwLSsqqxD/gVCEl+sbEP3DJRDm458Q/NCG2mQP5xD+0NX57FijFP4gN+pilLsU/jBZIhW5oxT+4s5ab1mvFP8xw1LDkpsU/ILbmO+6yxT+UpTkdEurFP2zUldFf/cU/SKyM53wyxj8AyA6rKUvGPzDL4MbFgMY/ZMSEnUycxj9ci/CnrtXGP0wtKgHM8MY/cFjCXyMyxz8IeSayrUjHP0D4YEVFl8c/tDpFFvqjxz8g0RbJtwLIP/xApm7JBsg/aCPqGeFkyD8cIkFA9oPIPyjud3Ofysg/PMs52AMRyT9QIBQzWDTJPySVrHdYosk/IFZgjm22yT9QHBY/uxTKP+hqmHfRgco/zH4bVKyLyj8QcU5wKwfLP5SnNGxZh8s/mLRhXsuQyz+4tDakLAzMP0DX0vCylcw/tEpB3+YjzT+0G7ILQlDNP/i8JnS9ts0/IAoYZy5Ozj+s1llZ6unOP3jPjz30h88/GiT0O8wT0D+81QcyaWTQP2T2ZunOtdA/erD/hPsH0T+U7ndi7VrRP8S1jRqjrtE/dFGsgRsD0j+WvrioVVjSPwDv4lZOrtI/nAE0Tv8E0z8Ssm5JPFjTP7JI4VxsXNM/+qWIVI+00z/ap15+eA3UP3RjbuYtZ9Q/lmmW+rXB1D9OntiQFx3VPxBcDtuyK9U/QNxlSUp51T/cCAXZOdfVPx65ouePONY/Wq4/Xd9S1j/QvyqtnJ3WP5bjVwyHBtc/BOY5W8wV1z+MSnvAinPXP/Dfl3+7s9c/ntuT+M7k1z/CfxpUuz7YPzzMm/CDWtg/guZPs+682D92ULI/1NTYP4ZumnEHMtk/XjL8kNdT2T+MVl5S86DZP5Ai3mvV1tk/mDAVDh4M2j/uJoIfJ13aP3rLopofdNo/SMs6IB/Z2j/SlHxF6ebaP5p1faVDO9s/6v3biUZ02z9OEPf2MZvbPxBDsfXx+Ns/SAmwlosF3D+qvbp/YFTcP9Spr4/4mtw/6AQzpR6u3D82+Ybj2AXdPyBNPwP3NN0/yqZE6PFb3T/WeMkmYrDdPw==",
          "dtype": "f8"
         },
         "c": {
          "bdata": "SdEH19jk6j8lL33f5d7qP00XkN75sOo/lByNaVab6j928pjxVXzqP3y3PGCmWOo/OWPk0d1G6j87Wqxr0hbqP/oLhI9/EOo/kS3hkRfZ6T9qwZPu1tXpP9e6bkSEoOk/sgmJUbGV6T99EcYmw2bpP/MY1jFiVuk/pvOhsbIr6T+GnRUj6RfpP8SPPbcq7+g/TWSUWkba6D+PQ2q8+rDoPzUGX656neg/InTmy+dw6D/SYH+Vh2HoPwRw74+pLug/61hoKW8m6D80Bv4QM+znP63BDsPS6ec/dCIU4NGy5z87rRjMkaHnP9LcWPFVeuc/yyaLo1hV5z8KMSGc2ELnP+2VKChtDOc/6CdycwgD5z9mP+RUGtfmP47GlLY5p+Y/s98GFeui5j/y4/RW32/mP0G5z1D/PeY/+BdTeoU65j84hLGZSA3mP4jUuae+3eU/E7k2HmCv5T8Jom8MsqHlP1JdUT4qguU/Svju9RpW5T8bs2BtHivlP/x4T2G1AOU/297G6rLW5D9a/7HgFa3kP1zXQjfdg+Q/FXzw/wdb5D/Q4o1plTLkPxYOesCECuQ/nKPqbtXi4z/bIVL9hrvjP76BSM+XlOM/ulLSxQRu4z/tz6RqpEnjP/M9CsjPR+M/RTS/vvUh4z/jfIvOfvziP16idP1t1+I/He1pgsay4j8nT2zIi47iPxZXZOTeiOI/zjWUn7lq4j/KE0XixUfiP5kzdWSFJuI/GwrbZT4e4j+gfhpCIAfiPzFYkuyp6eE/bkptqb3l4T9aU4VBQM7hP6Kpzdm7v+E/keNy2Pa04T/htRuyMaPhP44jWM/lneE/q14QxQ2N4T9ZrcRxIonhP9F2eih3e+E//eVKlbh24T/43qf69mzhP8Qlnf1LZuE/Gs5bX1dg4T+hb1BSiVfhP9NcpFtMVeE/FLlnW8JL4T9B7i7gfkrhPxXAVdulQ+E/e+o//UE/4T/jTih1pDzhP6yRWji6NuE/2DeL/vg14T+HMOW1+DHhP8xP7PXDLuE/Emm4ZQ8u4T8Tyx0JKCvhPyBplarXKeE/c1BOSREp4T+VQ5vszifhPw==",
          "dtype": "f8"
         },
         "fill": "toself",
         "fillcolor": "rgb(62.01171875, 187.3984375, 115.55859375)",
         "hoverinfo": "skip",
         "line": {
          "color": "rgb(150, 150, 150)",
          "shape": "spline",
          "width": 1
         },
         "mode": "lines",
         "name": "0.688",
         "showlegend": true,
         "type": "scatterternary"
        },
        {
         "a": {
          "bdata": "AAAAAAAAAAB8FK5H4Xp0P3wUrkfheoQ/uh6F61G4jj98FK5H4XqUP5uZmZmZmZk/uh6F61G4nj/sUbgeheuhP3wUrkfheqQ/C9ejcD0Kpz+bmZmZmZmpPypcj8L1KKw/uh6F61G4rj+kcD0K16OwP+xRuB6F67E/NTMzMzMzsz98FK5H4Xq0P8P1KFyPwrU/C9ejcD0Ktz9TuB6F61G4P5uZmZmZmbk/4noUrkfhuj8qXI/C9Si8P3I9CtejcL0/uh6F61G4vj8txz409yq/PwAAAAAAAMA/pHA9CtejwD9J4XoUrkfBP+xRuB6F68E/kML1KFyPwj81MzMzMzPDP9ijcD0K18M/fBSuR+F6xD8fhetRuB7FP0y8lhwLlMU/w/UoXI/CxT9oZmZmZmbGPwvXo3A9Csc/r0fhehSuxz9TuB6F61HIP/coXI/C9cg/ZD2/w84VyT+bmZmZmZnJPz4K16NwPco/4noUrkfhyj+G61G4HoXLP24jp1leiss/KlyPwvUozD/OzMzMzMzMPwT23KpqYs0/cj0K16NwzT8WrkfhehTOP7oehetRuM4/iAVqPXPTzj9aItHGvb3OP7oehetRuM4/Fq5H4XoUzj+m7zAswH/NP3I9CtejcM0/zszMzMzMzD8/7geAFUHMPypcj8L1KMw/hutRuB6Fyz/mKFOLwgHLP+J6FK5H4co/PgrXo3A9yj9eGNXNzsHJP5uZmZmZmck/9yhcj8L1yD/PrR9nQ4HIP1O4HoXrUcg/r0fhehSuxz9X1YNLKkDHPwvXo3A9Csc/aGZmZmZmxj+npMK0jf7FP8P1KFyPwsU/H4XrUbgexT/p41bAd7zEP3wUrkfhesQ/2KNwPQrXwz/taKYv8nnDPzUzMzMzM8M/kML1KFyPwj9q1NhABjfCP+xRuB6F68E/SeF6FK5HwT+hdzWZvPPAP6RwPQrXo8A/AAAAAAAAwD/uT193OmC/P7oehetRuL4/cj0K16NwvT99jGEPX9i8Pypcj8L1KLw/4noUrkfhuj++uYl69E+6P5uZmZmZmbk/U7gehetRuD+teUAJB8e3PwvXo3A9Crc/w/UoXI/CtT8R9x/voT21P3wUrkfherQ/NTMzMzMzsz818rFXz7OyP+xRuB6F67E/pHA9CtejsD8hqbZ7mCmwP7oehetRuK4/KlyPwvUorD/81itsCz6rP5uZmZmZmak/C9ejcD0Kpz8VUN0vPSimP3wUrkfheqQ/7FG4HoXroT/cNeb20xGhP7oehetRuJ4/m5mZmZmZmT9f7Z1VuPWXP3wUrkfhepQ/uh6F61G4jj+PJp4phI2LP3wUrkfheoQ/fBSuR+F6dD8ve1hxzLZsPw==",
          "dtype": "f8"
         },
         "b": {
          "bdata": "EqXLWrMT6z8QjqtEj//qP9B7+8N36+o/nSQzxG3X6j8oJtc1csPqP1wWdg6Gr+o/CuijSKqb6j8/kPPj34fqP6DY7uQndOo/eEsMVYNg6j/tJaNC80zqP/U83cB4Oeo/zcGm5xQm6j/u0pvTyBLqP6jG86WV/+k/Cx1qhHzs6T8QByWZftnpP4pxmRKdxuk/DoNsI9mz6T9+fFICNKHpP/Ls6umujuk/xo29wlN86T/NiMI0MGrpP7AI97NHWOk/IyH2GZ1G6T/ARu+/g0DpP8LYKF8jNek/FAxqHOQj6T+k2mHx6xLpPwSWyCQ/Auk/5ydadeLx6D/Cm5Eo2+HoP2ZlwRsv0ug/Uqz51+TC6D8iEkepA7ToP9O3L5Knqeg/sgBZ+oil6D90GhEsbJfoPw2GBLfSieg/RdPDM8h86D9iLLzDWXDoPyAzllKWZOg/2APa32Ri6D8xPMuZa1noP9PmVw0HT+g/Lnzu64dF6D82Z5tdCD3oP0BjrK/IPOg/noZHen416D9fQtVuNi/oPxYFFei8Kug/rubvqFkq6D9oPTZyAyfoP18vIOyRJeg/T79SmJEl6D/eN7UJPlHoPzq58XtGU+g/3xVWuGJo6D9dmph/86HoPzEdhx+ep+g/h7Cxp6u86D+zFq2XvvLoP3tNun7K++g/rNH3QcoQ6T+HC9O4nkPpP8iMysvMT+k/ax+az79k6T/BKRLzkpTpP0p5qOamo+k/2saRNo646T88M3gimuXpP0qPOBdb9+k/fJvouTcM6j90CnsIszbqP9AJj9rrSuo//ADqyr5f6j+zjOJd3IfqP0guHL9bnuo/lwUu6CWz6j/0YP/eFNnqP7yuPkyt8eo/1mAwh28G6z98zKRTWyrrP6EAUPLiROs/SGq8BZ5Z6z812w2UrnvrPyQM2gD/l+s/4DYJobOs6z/3opGLDc3rP5alLqED6+s/c6fgcLL/6z8WudE5dx7sP0+iCtTyPew/MkOVZZxS7D928eCy6m/sP4VaSHHOkOw/MOvdR3Ol7D/Kyr0eZ8HsP9HQ6iiY4+w/CInuuTj47D/0umG46xLtP3MZ/4RRNu0/jjNVOe5K7T9HH5PMd2TtP8N5+Ov7iO0/DydHIZWd7T++W5m4CrbtP8wpSKOY2+0/IjUjrS7w7T94bOjoowfuP00xBtIoLu4/GlIC+7tC7j971NHXQlnuPzyKj4OtgO4/zn48Dj6V7j/cpEMM56ruP3ISCKon0+4/1enR0bXn7j/WuZoYkPzuP3IRtiCYJe8/UtiuGiQ67z/5z4qZPU7vPyMOMq7/d+8/sILFqYmM7z+KZx0175/vP/YHaQZfyu8/Fy38Lefe7z/CU8eZpPHvPw==",
          "dtype": "f8"
         },
         "c": {
          "bdata": "uGvRlDKxwz8eVxTj613DP3cvl9tyCsM/oht70MO2wj/PpK3/2mLCP19z9JK0DsI//7v/n0y6wT+JqoMon2XBP2UYWRqoEME/YNylT2O7wD/nAQ2PzGXAPyM154vfD8A/P2IHzS9zvz/x9+NY4sW+P9t4qbHNF74/d+R7qehovT8LsynvKbm8P/B9Cw+ICLw/ixD4c/lWuz/BY01odKS6P9T+Dhfv8Lk/9Bb/Oxo8uT9wXVyXiIW4PxR9PYkezbc/MNjJRMUStz/SAkfM6tC2P/U5uQblVrY/G740CDGZtT9WaPtLRNm0PwusSpz8FrQ/qTtDAzRSsz+KuwxVwIqyPyeNE6dywLE/e3TWsBbzsD+0ZPARciKwP6uRqWpaFa8/1B3M6TKdrj8jv1Slo++sPwRDKM3eOas//aw92Cp7qT+PWMKvtbKnPywqLJmQ36U/7sxi83aCpT+J1uX83wKkP9ppJZvMGaI/llHGiGIioD8pvQOK/jWcP5V8Oj33E5w/C0uUooIImD+0TfG+y7KTPzpa70wbKo8/c31iU1hfjj+WxPVddfeEP5N5RH/MLHY/q6dfKczIcj+Dew4wba8Vv5B9DjBtryW/2Zv+V49+Yj9YZGRNqjguv6FnZE2qOD6/I0YcGyUhYD9YE5J4vR84v6kTkni9H0i/UORm5x/cWz8kAVefbj1AvwEBV59uPVC/pAs84A7IVz+kYL8dmhpEv3dhvx2aGlS/rtFdLksCVD9MvXoA8atHv229egDxq1e/QTAlvk6GUD9SJf9vbfZKv5ol/29t9lq/lquV8W2eSj/UcNdMLP9NvwZx10ws/12/voZkXA2wRD+82jMqnmVQv/7aMyqeZWC/pKCxm0tvPj+0bc0cv69Rv9ltzRy/r2G/86coMYBXND/qniCISOBSv0+fIIhI4GK/NOgMgZ0NJj+tvgG+Y/lTv/i+Ab5j+WO/Rjsj1sdjAz8cJkZ7Ef1UvzEmRnsR/WS/wP1b0Q4cFr/TCUaaKe1VvxkKRpop7WW/QsGoB9rDKb/bAwQeXMtWv0IEBB5cy2a/+pQAk1SxM7+3U5QTM5lXvwpUlBMzmWe/Ky6S0iYBOr8JUjzuFFhYv1NSPO4UWGi/hKlrbD3cP796CDQfRwlZv9wINB9HCWm/QNmMqzmmQr/5N4O+8K1Zvzw4g77wrWm/Ym8frVwtRb911SMpHUdav83VIykdR2q/xfnwGpWHR7/uuPOCvtVav06584K+1Wq/x8279Y64Sb9VZzoSsFpbv6ZnOhKwWmu/OnmU7p3DS79txn5vuNZbv8XGfm+41mu/7KpczsWrTb+gR8CHi0pcv/ZHwIeLSmy/d/0kLsJzT79/elhxzLZcvw==",
          "dtype": "f8"
         },
         "fill": "toself",
         "fillcolor": "rgb(71.984375, 23.91015625, 105.9140625)",
         "hoverinfo": "skip",
         "line": {
          "color": "rgb(150, 150, 150)",
          "shape": "spline",
          "width": 1
         },
         "mode": "lines",
         "name": "0.062",
         "showlegend": true,
         "type": "scatterternary"
        },
        {
         "a": {
          "bdata": "AAAAAAAAAADs1UcfqXRpP3wUrkfhenQ/EBM7P3kYgj98FK5H4XqEP26rAvMYY40/uh6F61G4jj9mPk6d+x6UP3wUrkfhepQ/I1R6FtZUmT+bmZmZmZmZP+xe2iU+U54/uh6F61G4nj/ZoLmCFo2hP+xRuB6F66E/ZL4Kr7nUoz98FK5H4XqkP1DMn7hcAKY/C9ejcD0Kpz+4bFt8vw+oP5uZmZmZmak/GZYhXo0Cqj8B+A+h1NirPypcj8L1KKw/gHO4OYOSrT+6HoXrUbiuP1zMpqpXLq8/K/evkWlVsD+kcD0K16OwPyVp22NdArE/oFO8caqdsT/sUbgeheuxPxEw3w8ZJ7I/tI/JKIiesj9wH6qs2AOzPzUzMzMzM7M/Gn6Y9BdXsz8JysKKU5izP2iYro+ox7M/tjIpQkXlsz9ubBzKz/KzP+dZ17nw97M/adB4l6z2sz/Y8C2TD++zPx5ZlwEk4bM/I+a/VvLMsz8F2mMfgbKzP3M+cvjUkbM/0KI1rwdrsz9iVzybUj6zPzUzMzMzM7M/rkxNQdoLsz8zESegSdOyPzBTWrNdlLI/n4kLu+ROsj9HqMTfqQKyP+xRuB6F67E/MbGIMjOrsT/OFpwS5jmxP65/QaxgrLA/pHA9CtejsD8LirgSnQCwP7oehetRuK4/AgGyFl1rrj8kjcvgdJOsPypcj8L1KKw/cEjHhM92qj+bmZmZmZmpPzbYu6V2FKg/C9ejcD0Kpz9oNImkPnilP3wUrkfheqQ/4BdqnH6ooj/sUbgeheuhP36VHF7eRp8/uh6F61G4nj+bmZmZmZmZPws1nWbGzpg/fBSuR+F6lD/zimqtp+KRP7oehetRuI4/vNRRmK3zhD98FK5H4XqEP3wUrkfhenQ/dNGtQe9wZD8AAAAAAAAAAA==",
          "dtype": "f8"
         },
         "b": {
          "bdata": "gPPQvmm0xj9cR2UeVNfGP/wkgwFL7sY/FG/nsFAdxz+cf0FeuyzHP/Sihr3SZsc/fFxT8zdwxz8MRYfV0rPHPxAIeGhWucc/VPQxOEwEyD8I8GXsygjIP0xkecE8WMg/pIPoDnBfyD/ERr3dpK/IP9TwnC1Rvsg/uJNwgocKyT+cEFV9uCbJP5xieyvqaMk/kNh/PEKayT80X0Hd1MrJP9Do1mn3Gso/rApGK1Iwyj8UryVNYJnKP1T9EOQYrco/SBBOhAEGyz/kkdP4KFbLP9C1bQBedss/NAKUm6Xqyz/EY5J+DyHMP1yWRrE/Y8w/YMwLeEPgzD/UX4XGRinNP+iFwNq+Yc0/pF7DHrrnzT9YqwgIPXLOP7iAUXwsw84/UIRKQEQBzz/4Yf1kzJTPP4Tv/xZnFtA/jFTPBZ9k0D+kpe852bTQP0gAF6EgBtE/yImBqjRY0T8OninQE6vRP1Ype8e8/tE/CND0gS5T0j/eCf8taKjSP6L1+zdp/tI/aEFCZi5V0z8oI+CNsKzTPy6Lil8ewNM/0Lw8HusE1D+SPIC36F3UP6SMOLqxt9Q/KB5hXkwS1T+msug+v23VP8bkwpGohtU/2umumZnK1T94NcvCrirWP65AtfRKjtY/mI1gHpGT1j+0FwXtrvXWPzoLq+IMTdc/OMEPQ/hg1z/I4IxLYtDXP8SljGGc59c/ZN1rJhhE2D9W4T4OJ3DYP7pMezkpvNg/nCA1p6ft2D9KL60+2DfZP/b0EZa+ZNk/ZNlNxL+22T/CAp20ytbZP4ZOQkD8ONo/9hscSpVE2j+OoCA9a67aP9wBHYWovto/wAGTDNQU2z9+TwUA9UfbPxC5ifRueNs/1hQuDCfV2z+s3Da/htnbPw4hJnXGN9w/qGZsWHBm3D92FKp48pPcPw==",
          "dtype": "f8"
         },
         "c": {
          "bdata": "IMNLkOVS6j9TZkdPtjDqP5naD313G+o/7zfJ7knw6T/H51Cj5eLpP5VM0uy+sOk/ZxR9uxCp6T/JvLNtE3LpP1iNpFvTbek/SbA/QUY06T8ytxl4ADHpP/XTct5W9+g/IbbpbGHy6D9BFGVgRbvoP60+rWKzseg/LC9zhBKA6D+R2i/Mo27oP5Mql6m/Reg/bMzVmcso6D9n8enQTgzoPzKs8Iuo3+c/82NMn8LT5z+7lKWiGpznP+nK0moqkuc/tvRQa1dl5z+byRKj8D7nP8YlOgWDL+c/jQDlZqn65j/7uBM/QePmP0XtMmfkxuY/dILF0zmU5j/NnYeqPXjmP4T4UyetYuY/YfY1c0Ay5j88kWio9QLmP2w5hXrO6OU/KE9a8cvU5T9ATmh1wqflPzI1imLXe+U/ZC/T1AdR5T+gn8RpOSflP6CUOZjx/eQ/DiHQFxDV5D/fcoUllKzkPzGADxx9hOQ/OJstdMpc5D/R/xPFezXkP2G988SQDuQ/8ir41gfo4z+AY6hl3cHjPwNU1GmKueM/Avi3KA+c4z+R/zpwonbjP0hveGybUeM/uP9tOf0s4z+lEZMkywjjP1+DRxM7/+I/7XTXzEzl4j9q4kbca8PiP7MvHXBOo+I/IAuIj7yh4j/kYibnFIXiP3co8m/0beI/VP8MDc5o4j/K1iyMl07iP1y3EHOiSeI/xpx99IY24j+79UbfUi7iPx+c5vijIOI/QjJbVYgY4j8V1WD2jwziPz0kfKDyBeI/0HESNBj64T+B+cVT4vXhPxH07exK6eE/D8mVy/Ln4T/t4qKU/dvhP2qVPIo12uE/fA55777R4T/pA5JC8MzhP/4ODT7nyOE/Q66Hw53B4T9Y2UUbUcHhP1GT3QInu+E/2h6I5Fa44T/F9arDBrbhPw==",
          "dtype": "f8"
         },
         "fill": "toself",
         "fillcolor": "rgb(92.546875, 200.390625, 98.796875)",
         "hoverinfo": "skip",
         "line": {
          "color": "rgb(150, 150, 150)",
          "shape": "spline",
          "width": 1
         },
         "mode": "lines",
         "name": "0.750",
         "showlegend": true,
         "type": "scatterternary"
        },
        {
         "a": {
          "bdata": "AAAAAAAAAAB8FK5H4Xp0P3wUrkfheoQ/uh6F61G4jj98FK5H4XqUP5uZmZmZmZk/uh6F61G4nj/sUbgeheuhP3wUrkfheqQ/C9ejcD0Kpz+bmZmZmZmpPypcj8L1KKw/uh6F61G4rj+lW2MoK/CuP6RwPQrXo7A/7FG4HoXrsT81MzMzMzOzP3wUrkfherQ/w/UoXI/CtT8L16NwPQq3P1O4HoXrUbg/m5mZmZmZuT/iehSuR+G6Pypcj8L1KLw/cj0K16NwvT9gextaJju+P7oehetRuL4/AAAAAAAAwD+kcD0K16PAP0nhehSuR8E/7FG4HoXrwT+QwvUoXI/CP2SV5S1y5sI/NTMzMzMzwz/Yo3A9CtfDP3wUrkfhesQ/H4XrUbgexT+a12+/AITFP8P1KFyPwsU/aGZmZmZmxj8L16NwPQrHPzCRd3zCf8c/r0fhehSuxz9TuB6F61HIP2iPAYOQVMg/U7gehetRyD+vR+F6FK7HPyXJ0On9Fcc/C9ejcD0Kxz9oZmZmZmbGP1t+wGK11sU/w/UoXI/CxT8fhetRuB7FPxcl2+zElsQ/fBSuR+F6xD/Yo3A9CtfDP+2DwQc6VsM/NTMzMzMzwz+QwvUoXI/CP97Ten0hFcI/7FG4HoXrwT9J4XoUrkfBP7C5hUSH08A/pHA9CtejwD8AAAAAAADAPzdiiOXsIr8/uh6F61G4vj9yPQrXo3C9PzNKnXfynbw/KlyPwvUovD/iehSuR+G6PxUmde0xGLo/m5mZmZmZuT9TuB6F61G4Pzr+BVG8kbc/C9ejcD0Ktz/D9Shcj8K1PxtEMCKhCrU/fBSuR+F6tD81MzMzMzOzP7FKcnPugrI/7FG4HoXrsT+kcD0K16OwP3k6sg5i9a8/uh6F61G4rj8qXI/C9SisPzYm9dro46o/m5mZmZmZqT8L16NwPQqnP/ipbjyG0aU/fBSuR+F6pD/sUbgeheuhP7YmpylNvqA/uh6F61G4nj+bmZmZmZmZP22JsJ6dVJc/fBSuR+F6lD+6HoXrUbiOP79+lfNqVoo/fBSuR+F6hD98FK5H4Xp0P73bgc7wA2g/",
          "dtype": "f8"
         },
         "b": {
          "bdata": "xFr9fbQP7D8DfsQFB/3rP9ynj3Vk6us/l4dees3X6z/ZNCrEQsXrP+DQ3QXFsus/5h9O9VSg6z+KEjBL843rP1o3DsOge+s/www9G15p6z/KK84ULFfrP0BEgnMLRes/ROO5/fwy6z9MQUxpdDHrP7Gt1yH0IOs/d/xPLv0O6z/OlnIlGv3qP7POT9NO6+o/PCV2crzZ6j/ABJc+e8jqP6XTUdKOt+o/kYCSJvum6j8DnfybxJbqP/rapAXwhuo/pidNtYJ36j+cAH0fOW7qP7pU9l96aOo/BMRU9NdZ6j8nFac0sEvqP7WrMjILPuo/nR+r4PEw6j+q98czbiTqP85h8QETHuo/vAWDEoEY6j8QSUobNg3qP2fgG4ynAuo/0cGUWuX46T+wdU/yVvPpP9nHyrH77+k/kG54kv3n6T9/Fg1uDeHpP6faPX3U3Ok/9WGCFEbb6T+BX5vOytbpPwn3+34w6+k/sAcxXi7s6T+9K+qCMAHqP/prsZT4O+o/xEYiwmBA6j+lMhN8VVXqP3zRImjXjOo/tqSbqmWU6j8mxf8+TqnqP87YbjnL3eo/CL9fl0Do6j8AnLIyHv3qPxxpoVjSLus/YcdW6PQ76z+mNmedyFDrP0ebeSzrf+s/AowC0IWP6z+9u0SYUKTrP7aaJzYU0es/GrYCTPbi6z/r46gIuffrP/En7xJMIuw/mMTPIUk27D9wfFWdBEvsP5o1XXyRc+w/PNJP3oCJ7D9FLT7ONZ7sPwUUj0fjxOw/XD5I15/c7D+72QzeTvHsP6xi5WNAFu0/BMr3Lagv7T+c2LXcUUTtP3caYtmnZ+0/ZINa0puC7T/656aqQJftPzZW3cYYue0/2zTAhnzV7T9aHED8HOrtPzZFLmCSCu4/0H9640so7j8KWGBd6DzuPwKKW+wTXO4/MB98Wgt77j+Jp+E0pI/uPwwa38Ocre4/ECjROrzN7j9QLO/HUeLuP0+yBE8s/+4/gCDis18g7z9Chyc98jTvP4iFZgTCUO8/BKN62PZy7z/uFIWfhofvP9p4iWddou8/V+WQoYLF7z+ImgnhD9rvPxK/mAf+8+8/",
          "dtype": "f8"
         },
         "c": {
          "bdata": "3ykVEFyCvz+jLmG9GdC+P5b+jCqAHb4/cx+b74lqvT8c1MKMMbe8P54Sq2pxA7w/J7mt2kNPuz/BQiMXo5q6P/k6t0OJ5bk/Z67FbfAvuT/h1MGM0nm4P+kvpoIpw7c/h1ZuHO8Ltz/SR2whR/y2P9khBeeHVLY/XcrHbpGctT9jFjih++O0P+910x2oKrQ/XOAlEI1vsz/0AqSa6LGyP4WqUuid8bE/3mHSMY0usT8HnQZyk2iwPwqYkyAUP68/vgoZ/YymrT+I//hTIaasP/Z2kCm2B6w/xb+zuoBiqj8F65iMoLWoP5W/6YqUAKc/gr5ses1CpT8oe6kfrHujP5GNUykHhaI/edcCCyKroT9bvzGr6qCfP0xPEz8E1Js/5pwLHpLtlz8njZK6G3WVP9hWX+UO7JM/gfV9+zSajz+V73xyzRiHP2dDEOm4zoA/wA+mYmaafD+JavIcULpkP3OYuBbvJwW/0564Fu8nFb9hV4JdXkpjP0cw5FnygCe/ZjDkWfKAN78mwTNT6hBhP7CViJcGJjS/DJeIlwYmRL/fI7MKWQdeP6GZEC2l4zu/+JoQLaXjS79pE3biez5aP5pbKEdqg0G/MlwoR2qDUb+8bbG2sMBWP7r3QGEvzkS/X/hAYS/OVL9G4hc5xYdTP4mEJCQd2Ee/MIUkJB3YV7/aKjiu7o1QP0je0IC+pkq/od7QgL6mWr8IiO8kn5tLPwmBe0MtP02/soF7Qy0/Xb8vfQ3974RGP0Id4/YUpk+/pB3j9hSmX79D6jw9xc5BP1TlRAzc71C/muVEDNzvYL9VY0UovuE6P1nzRVD791G/o/NFUPv3Yb/8AI2Vd8cyPwAYP5cq7VK/fBg/lyrtYr8CH1mDJ4ImP1q70TIC0VO/nLvRMgLRY7/wc0bWzggRPxHJuBX0pFS/Vcm4FfSkZL9GUj75+gICvxtXCUxPalW/dlcJTE9qZb+b5BarnaEgv/R0ST5DIla/RnVJPkMiZr/l60BFn/Arv+CmE7jizVa/LacTuOLNZr8IREuZOT8zv2Gona8mble/uKidryZuZ7+VhLXHHC04vw3bgc7wA1i/",
          "dtype": "f8"
         },
         "fill": "toself",
         "fillcolor": "rgb(71.0078125, 44.8359375, 122.8671875)",
         "hoverinfo": "skip",
         "line": {
          "color": "rgb(150, 150, 150)",
          "shape": "spline",
          "width": 1
         },
         "mode": "lines",
         "name": "0.125",
         "showlegend": true,
         "type": "scatterternary"
        },
        {
         "a": {
          "bdata": "AAAAAAAAAADBi8GQVGVpP3wUrkfhenQ/eFYocUx5gD98FK5H4XqEPxZHmNJ5Joo/uh6F61G4jj8GgdpDirCRP3wUrkfhepQ/ixzKWYAUlj+bmZmZmZmZP9IIPDjoPpo/alcRVfYvnj+6HoXrUbieP+ht4y3X86A/7FG4HoXroT/FmLFHZrKiP3on+NF2U6Q/fBSuR+F6pD/iYOGrn9elPwvXo3A9Cqc/cvmujW49pz95l2Hw5YWoP5uZmZmZmak/PDEqhAOvqT9Oi305w7aqPz8l58Wbm6s/KlyPwvUorD8Nu4IjcF2sP+KB8lQr/Kw/Ue9pzNl3rT/bOA/YqdCtPzgHRaHdBq4/mYte28karj8ZpH8iZRCuP9UKN2Jt9q0/9QgoI4/PrT/iMhwU1putPwaXsv9JW60/iLB0t+4NrT8NprzF97OsPzOVKmjlTaw/KlyPwvUorD+173NM7durP9OHNUiGXas/ZYUp8hPSqj9B+uwkCTSqP5uZmZmZmak/2A2o98ZnqT++Ff3kL2SoPxgwDzN/J6c/C9ejcD0Kpz+ljXeKhK2lP3wUrkfheqQ/E6wBSm/0oz+L23tHu/uhP+xRuB6F66E/n/zIJJignz+6HoXrUbieP4R1gTfa5Zo/m5mZmZmZmT+3RrUOucSVP3wUrkfhepQ/nX+2Jc05kD+6HoXrUbiOPycY7iVpgYQ/fBSuR+F6hD98FK5H4Xp0P4ClZ/mXr24/AAAAAAAAAAA=",
          "dtype": "f8"
         },
         "b": {
          "bdata": "0FOUAxE3yT+AFnjwzmbJP3jdO35+hsk/iMdNQKa5yT8QxLryS93JP6i4f98TEMo/sK8uoYY8yj90QxQUFmrKP4Q+7wt6pco/YLryvK3Hyj/4c/GlwhnLP0AMSUneKMs/+Ce5caSNyz+sTQjykJzLP1hAi/v/9cs/HO4m598xzD+g644iBWLMP2yKgxu60cw/GJpWhW7dzD/k04MKDEXNP5zLlgUfq80/dJGHOCm8zT9Yrm5W8TbOP5wtkH13rM4/xAszrqS1zj8oEcbBgzjPP4xOdrq/v88/BhIpAqAS0D88JoAcriXQPyDih+6tbdA/miMvjN630D9Uh5MQPQTRP77iHlnFUtE/ygKcGnKj0T+UqUjrA/bRP3rra+yOSdI/6pN7Veid0j+eCYtrD/PSP65b8LEDSdM/aPKS68Sf0z9iK83fT/fTP8AExYqcT9Q/mqjI8HZs1D9qJ5+Rp6jUPzrGAYd5AtU/tD6BMRxd1T+4v3Nj6LjVPyyl6nAEAdY/0MZmC5gX1j+kLrABvXnWP1DF7ZFz39Y/AIG5z9Ln1j/K95XB/kjXPwBTM+iwldc/NA68mnu21z+QIwNg8ifYP4aiXQZgK9g/tlFz2JSc2D+wYOUQs7PYP0BG/ExWFNk/WpXatqQz2T8IYGHbSo/ZP66L0DHZrNk/lA7Iv40N2j8GA54HgyDaP4LCfAlCj9o/umxagYaP2j8+vYsOE/raP4zLOZuDFNs/gtR1UCph2z8=",
          "dtype": "f8"
         },
         "c": {
          "bdata": "DOsavzuy6T/UOFHv5ozpP3qs4Z1qdek/xOwnPrFP6T+qljJ+wTbpP7qw1SBhE+k/mj8GEP316D8bG9wo9tfoP7u/xnLKsug/hAD1jXCd6D821raJwmzoP6rc6yvRY+g/RivpMBcr6D+fwyE0GSPoPwz5Po5C8+c/W79KtM/U5z+MK+FSWLznP+2a/wtahuc/MngvSvaA5z/59KACQ1HnP6kPkGeUJOc/CywDyR4d5z/yOl5L5enmP/9aAodIu+Y/+5kwnKa35j8Co/bbcobmPwn6A1VWVuY/O4HCoiA05j8ywYfvUSfmP9LmbFNm+eU/Pc8hHZPM5T/ISDXa1qDlPy0+XHkvduU/4RX8VJpM5T/0sDO49yPlP5WZprPR++Q/e7UP4xLU5D8DuPjouqzkP7moDIfJheQ/xDu/nj5f5D/vn72TGDnkP0zUGmRTE+Q/8bVyKzUH5D9PLWli7e3jP2XE+9fqyOM/UMgcqFCk4z+AUPc7S4DjP9AT8S3kZeM/uhvSirdd4z9SF9iA3jzjP1Yq2EPOHeM/EAIZwXIb4z9Bi41WqADjPzh1a3d57eI/JN4BPnvl4j+AsIYbS8ziP5+p5aqXy+I/QQ+g0rC04j+yJjHoY7DiPzTRxQemnuI/h+jF12CZ4j/GpdnJNIriP4VJ2ly8heI/ukTutmp34j8D6oI03XTiP1/mqVZZZuI/URE0OlFm4j85xSq2AFriP5SyaZoOV+I/vxXF12pP4j8=",
          "dtype": "f8"
         },
         "fill": "toself",
         "fillcolor": "rgb(130.0703125, 211.44140625, 76.16796875)",
         "hoverinfo": "skip",
         "line": {
          "color": "rgb(150, 150, 150)",
          "shape": "spline",
          "width": 1
         },
         "mode": "lines",
         "name": "0.812",
         "showlegend": true,
         "type": "scatterternary"
        },
        {
         "a": {
          "bdata": "AAAAAAAAAAB8FK5H4Xp0P3wUrkfheoQ/uh6F61G4jj9zyGYbxPuPP3wUrkfhepQ/m5mZmZmZmT+6HoXrUbieP+xRuB6F66E/fBSuR+F6pD8L16NwPQqnP5uZmZmZmak/KlyPwvUorD+6HoXrUbiuP6RwPQrXo7A/7FG4HoXrsT81MzMzMzOzP3bUbp9FsLM/fBSuR+F6tD/D9Shcj8K1PwvXo3A9Crc/U7gehetRuD+bmZmZmZm5P+J6FK5H4bo/KlyPwvUovD8KE02PkzC8P3I9CtejcL0/uh6F61G4vj8AAAAAAADAP6RwPQrXo8A/QI13wyDfwD9J4XoUrkfBP+xRuB6F68E/kML1KFyPwj876Bf1mvPCP5DC9Shcj8I/UdMcujzzwT/sUbgehevBP0nhehSuR8E/v/vV71GzwD+kcD0K16PAPwAAAAAAAMA/gHSxU5/lvj+6HoXrUbi+P3I9CtejcL0/6QfZ34VjvD8qXI/C9Si8P+J6FK5H4bo/aJJgYG/guT+bmZmZmZm5P1O4HoXrUbg/x4LLmHFctz8L16NwPQq3P8P1KFyPwrU/JpFAVaDXtD98FK5H4Xq0PzUzMzMzM7M/L6Myjw1Ssj/sUbgeheuxP6RwPQrXo7A/riL3JZOXrz+6HoXrUbiuPypcj8L1KKw/bXW+ScaJqj+bmZmZmZmpPwvXo3A9Cqc/2gMASc96pT98FK5H4XqkP+xRuB6F66E/kRdoXMZqoD+6HoXrUbieP5uZmZmZmZk/eSXD54Kzlj98FK5H4XqUP7oehetRuI4/8daMvVEfiT98FK5H4XqEP3wUrkfhenQ/SzyrKxVRYz8=",
          "dtype": "f8"
         },
         "b": {
          "bdata": "foM7tb7s7D8JQ2t2HNvsPzhGuKKDyew/0mqzxPS37D9lWyUHy7XsP5wXqfhlpuw/SlbYfOCU7D+IJT9TZoPsP1Q9ogv4cew/wYqtN5Zg7D/QGupqQU/sP0tDszr6Pew/TgYrPsEs7D8IrS0OlxvsP1kDTjWZCuw/IUkO5Pj56z9yLCZjv+nrP9eX9Pez4+s/RI1IyunZ6z8OaqYfgMrrP2RQQxyNu+s/M1+qLBet6z+T8p5iJZ/rP1Lt14e/kes/3CF3M+6E6z8XEIbbpITrP6wjU9aweOs/A+dQkx1t6z/IqwK3QGLrP2HAW6QnWOs/yUubvr9U6z/8LaRQ4E7rP1KtZlZ/Rus/4CgJeBk/6z+SnPY6JjvrPwQDEjXzR+s/WFvlxCeE6z/eCyufDIfrP5pAgI/tm+s/dJK94BrV6z+extb26NrrP2IgcaC/7+s/zJYM7CAm7D/i5pRvny7sP661FdVsQ+w/v3nZRTh37D/zSVdLM4LsP1pvnlT4luw/QF1gcF/I7D/mq6WFp9XsP24qKwJl6uw/YwppD5UZ7T+WevDW/ijtP6l9FoC1Pe0/phUx5tdq7T8Gjby4O3ztP+SoBjTskO0/rlAh1Sa87T/rPzhqYM/tP5IDXUsL5O0/9R1014AN7j9Uzu70biLuP/tdvr8UN+4/iD/lAOVe7j8ktGgxaXXuP0TQhlsKiu4/PY96e1Kw7j+uPZrLUMjuP8tuDL7t3O4/yapuhcgB7z+NLw5HJxvvPzM2oF/AL+8/GDtCb0ZT7z/kN8MC7m3vPyynRJWDgu8/KYr1mcuk7z+4wrg8psDvP/kHF5Q41e8/YipqdVf27z8=",
          "dtype": "f8"
         },
         "c": {
          "bdata": "FeQjVgqauD9xBis4bt+3P7ILSMGGJLc/mAX0nE9ptj/OS2hDL1K2PwW+y+gXrrU/SufWspXytD8UjCXruDa0P3DskRN9erM/u5+8nt29sj/+PV3w1QCyP90YmV1hQ7E/ex9gLXuFsD/VEKAxPY6vPyzppJa+Dq4/IMqqgWeJrD970jZno/2qP6TZ2EE1ZKo/2AIbzKBrqT+bc0dN39KnP7NLg1qzMqY/MZwcK7aKpD+fo92idtqiPyI1WCZ4IaE/71PehmK+nj8DsQlSFqmeP7KUctlVJ5s/wKTO5wV7lz8Kh6of6beTP3rdOEWmuI8/7zm0IQTejD+xbEaPCs2HP9gZn/WwT38/3ntmuX0PbT8yfaUNH8xPP95YjLDANWQ/r4oFkm3eHr/zkAWSbd4uv+MTB2HrJmI/BDAWMcv1Lr+/MRYxy/U+v+2d345fQGA/QeEqFrSmNr8C4ioWtKZGv+RHBRJg/Vw/ad3VpA5IPb8l3tWkDkhNv1eVAj5rvVk/OTK+sXG1Qb/kMr6xcbVRv8EP/WEau1Y/4u3qCQqNRL917uoJCo1UvzU9x8go8VM/USmfZMMvR7/GKZ9kwy9Xv99q4SXLWlE/VU+UHhyiSb/3T5QeHKJZvwBpOW1N500/UX1ATifoS7/pfUBOJ+hbv54MsWKQb0k/D3mbBJYFTr/KeZsElgVev3svybs1R0U/kOo9KsD9T7876z0qwP1fv1lbMCDAZ0E/nYJYatbpUL/qglhq1ulgv20G6Jecljs/QIeoAA3FUb+Xh6gADcVhv+jNImoY2TQ/Jwl718GRUr97CXvXwZFiv3fjvZmVGi0/mzurKxVRU78=",
          "dtype": "f8"
         },
         "fill": "toself",
         "fillcolor": "rgb(66.05859375, 63.77734375, 133.87109375)",
         "hoverinfo": "skip",
         "line": {
          "color": "rgb(150, 150, 150)",
          "shape": "spline",
          "width": 1
         },
         "mode": "lines",
         "name": "0.188",
         "showlegend": true,
         "type": "scatterternary"
        },
        {
         "a": {
          "bdata": "AAAAAAAAAAD3m8zI42I/Px0mXWie63I/fBSuR+F6dD/o+EII1HuBP3wUrkfheoQ/xTp7iDMMiT+6HoXrUbiOP8p1woAhE5A/rh529JZlkz98FK5H4XqUP88R6j/5fJY/zIUQMC5YmT+bmZmZmZmZP3tXUIm++Js/MFPVbRZcnj+6HoXrUbiePxlUPrkJQqA/N5/R7lY3oT/sUbgeheuhPw4rZG7cDaI/eksv9nHFoj8bG1adaFujP+OeBp06z6M/4gXwWv4gpD9qaaiJ3lCkPyC0a/0YX6Q/K4aSdf1LpD/Vb/vg/RukP15qCws73aM/0RcVKFCRoz9LugTXOzijP96CvHIx0qI/Uw/qw71foj/sUbgeheuhPz/NgjOn4KE/m3CFr2NToT9jZw9dF56gP4+QjBdtaJ8/uh6F61G4nj+mXilYYCSdPyqO5K7na5o/m5mZmZmZmT8rGM09NUmXP3wUrkfhepQ/VpgWW2DGkz+XA5sezcmPP7oehetRuI4/r9ua7d1Ehz98FK5H4XqEPyFGnxMM7Hs/fBSuR+F6dD9Lc3VK4bhePwAAAAAAAAAA",
          "dtype": "f8"
         },
         "b": {
          "bdata": "EE2h4uoWzD8AKZ0JHSHMPzRYK1Megcw/kNhnnsGKzD+oJcg2xeTMP5jrAz6XDc0/PNQDRRlMzT/M0BAMhaHNP1z3eNMft80/cC17hs8lzj9cSG740U3OP+ReAWwwmM4/SGg8J1QOzz+k4I+bKBrPP9Db5SsiiM8/XH7t2+EC0D8wExMdrg3QPwb85niNQ9A/pn+sKiSG0D9UqxCirb/QPzwP0lenytA/hhV0hBkR0T/eYCCfpVnRP/QQRARUpNE/1DKETSPx0T/uZLfPEEDSP5Toma0YkdI/xjM26zXk0j98XZ5pITnTPyYWHBz5jtM/oDNqT6Pl0z/M8ZkZID3UP5Qt/URsldQ/Hg0JBX/u1D/m1NKxrUDVP5I5LvNbSNU/rseMsBuj1T+U4NL6WwDWP9gqBo3lYNY/bIthRd9/1j+4/B948cTWP47biMKgLNc/hpiCDeZI1z+QTzDboZfXP3biLo2t79c/4rtkB6QF2D/ovOFam3bYPyQIdxBChdg/2nXEnJrq2D+Mfw2ihw7ZPw5bcoHBYdk/cLtzGwiP2T8yFxOuKNzZP7TyCCiBCNo/",
          "dtype": "f8"
         },
         "c": {
          "bdata": "vKxXR0X66D8snB9hzPPoP6dvZC7hueg/tK3W1Vm06D+y6ixi34DoP8hMYKuuaug/BR6d4MhI6D9Tt011vRzoP3uuG/+eEeg/roO9Zl/b5z9F/aZ3tMjnP7lXABsMpuc/wGGwhKlx5z8LO08MqWznP1AGvIAxPuc/OJaaXq4L5z9yTRpiZgPnP7uc+KcY2uY/Oaa8e3ip5j84JQzdcIHmP7K1MI3OeeY/hQBjHhxL5j/fbZqmdh3mP5iNDVTi8OU/OOaOc17F5T/zxomv6ZrlP3RQXBmCceU/u70LMyVJ5T9EGiFtryHlP0c+QcGv+uQ/spTJVRnU5D92u8I17K3kPwihVcYmiOQ/e9g8ocRi5D9vECvV8EDkP2O2MJPHPeQ/H0XB7DsZ5D9AmcWM8PXjPxCGwNBJ1OM/VBHzzU3K4z+uti5BZLTjP8dtRGFQluM/8eZxLMCO4z92b3lo5XnjPyEeKy9SZOM/Te10+fpe4z9+tRQei0XjP3RnFrB9QuM/pVnnOZ8t4z/oh9qp0CbjP+2THydHF+M/IMa2L4YP4z+tOVE4jwLjP6aG+2u/++I/",
          "dtype": "f8"
         },
         "fill": "toself",
         "fillcolor": "rgb(170.7578125, 219.5625, 49.47656249999999)",
         "hoverinfo": "skip",
         "line": {
          "color": "rgb(150, 150, 150)",
          "shape": "spline",
          "width": 1
         },
         "mode": "lines",
         "name": "0.875",
         "showlegend": true,
         "type": "scatterternary"
        },
        {
         "a": {
          "bdata": "AAAAAAAAAAB8FK5H4Xp0P3wUrkfheoQ/C5Z0JLNTjD+6HoXrUbiOP3wUrkfhepQ/m5mZmZmZmT+6HoXrUbieP+xRuB6F66E/fBSuR+F6pD8L16NwPQqnP5uZmZmZmak/KlyPwvUorD+6HoXrUbiuP69RbUveBLA/pHA9CtejsD/sUbgeheuxPzUzMzMzM7M/fBSuR+F6tD/D9Shcj8K1PwvXo3A9Crc/JHcqCNFBtz9TuB6F61G4P5uZmZmZmbk/4noUrkfhuj8qXI/C9Si8P5/FFEgZKbw/KlyPwvUovD/iehSuR+G6P73+S9OsqLk/m5mZmZmZuT9TuB6F61G4P1QHkeAmJ7c/C9ejcD0Ktz/D9Shcj8K1PzDeUIifpLQ/fBSuR+F6tD81MzMzMzOzP6z78qosIbI/7FG4HoXrsT+kcD0K16OwP+QKPD3EOa8/uh6F61G4rj8qXI/C9SisP6bEh7ijL6o/m5mZmZmZqT8L16NwPQqnP71dkVUYJKU/fBSuR+F6pD/sUbgeheuhP2sIKY8/F6A/uh6F61G4nj+bmZmZmZmZP4bB1TBoEpY/fBSuR+F6lD+6HoXrUbiOPyEvhIc46Ic/fBSuR+F6hD98FK5H4Xp0P7M5qRFzPF0/",
          "dtype": "f8"
         },
         "b": {
          "bdata": "yA4sP0C47T9eE4creKftP3F4XS+4lu0/lgzg9eeJ7T9CLCZN/oXtP+bWYEtFde0/9q5RiZVk7T/Ds95871PtPw8Jap1TQ+0/iefJY8Iy7T/wmoA6PyLtP6XwHjv/Ee0/82idtzEC7T/cjAsB3vLsP9F8ATo36+w/J1yA7wbk7D+MDIJrs9XsP/KcY0nux+w/AvYkjL+67D/tuDIEMK7sP+hiQWdJouw/ogbF0F2g7D9Zpz+7F5fsP/PI9eGojOw/TD3niAqD7D/RHwjnS3rsP+S9VQ/feuw/qcFeuOV67D9usf7auo/sP3qmMZnby+w/cRkDNK/O7D8he0kme+PsPxqy7LrpHO0/KCvpf1Ui7T+3IncjGTftP9UQAPMHbu0/p5Yen9t17T/PaWa9l4rtPyZLZeM0v+0/+kqwTUTJ7T/J6nma+d3tP7P2uU5vEO4/1xxjBpIc7j/rYxwiQTHuPw71bhW2Ye4/F0lVCMdv7j//+CuCcITuP24EFjMIs+4/TFNjXOXC7j9GsSm0idfuP0Kj2LtkBO8/mz462u4V7z8j5RiCjirvP6jwHdrKVe8/xMwLLeVo7z9qOQSLgH3vP3mbYcw5p+8/GaDg18m77z9qdSRHYdDvP7KVO+Ow+O8/",
          "dtype": "f8"
         },
         "c": {
          "bdata": "xomfBv49sj/Jg0yPkHyxP+t5HlziurA/jghx7EkmsD8/9LuyBvKvP22HG6Y6bq4/20MYntrprD96NFI832SrPygdpwpB36k/+nKze/hYqD/2eVLnztGmPx9cd7RyRqU/rxSaw+6zoz+VE8IDzhmiP5+PDcnPQqE/TFx/8+J3oD/PJt0UfpudPwKVvwZqNZo/3O2oXIm8lj9lCwUJwi+TP72NiKq6G48/aJ5qjQPajT80ZyAHtaqHP3D2wLX6CIA/NqwZq0BmcD/dNpW+FKwSP3ItuLTCwrG+SyS5tMLCwb78Nb8+LxxkP9U7ymRzJh6/G0DKZHMmLr8R1a0SaUdiP29EMO1v6Sy/0kYw7W/pPL+7kL4D8ZRgP+HXZFEg3zS/zNhkUSDfRL9/lV9muANePwndVB3G0zq/b95UHcbTSr8ARc58CBdbPxSE3TZKLkC/uYTdNkouUL8/pUx1A19YPyFgxd1DwUK/6mDF3UPBUr8OIpOTTddVP+kmabzhJkW/iydpvOEmVb/8N5PV83tTP3kgzyzTYke/FCHPLNNiV7+7IJw0YklRP1PPepJueEm/9s96km54Wb/Ub8g2tXhOP9HTsP65aku/fdSw/rlqW78NtLkw2aNKP1M4qRFzPE2/",
          "dtype": "f8"
         },
         "fill": "toself",
         "fillcolor": "rgb(59.109375, 81.71875, 138.921875)",
         "hoverinfo": "skip",
         "line": {
          "color": "rgb(150, 150, 150)",
          "shape": "spline",
          "width": 1
         },
         "mode": "lines",
         "name": "0.250",
         "showlegend": true,
         "type": "scatterternary"
        },
        {
         "a": {
          "bdata": "AAAAAAAAAADHK71sBEhaP4V0bdqWT3I/fBSuR+F6dD/vez1Zuh99P7lto6VZfoM/fBSuR+F6hD+ToM5nqfWHP+KFNlEt84s/uh6F61G4jj/pyI9lw3aPP6iKnd4NQZE/FCZLgyuJkj8wplu7t5OTP2QObLGvYJQ/fBSuR+F6lD8YZRpVYfCUP7mavqCjQJU/Z7lrWvtOlT+mWKK4uxuVP5TUgACQp5Q/fBSuR+F6lD+nzvQGYvuTP0A7hTciMpM//esL9DxOkj+vxvbDYVCRP3/psdqnFZA/uh6F61G4jj99iUOzVuuMPz1kiNXa4Ig/fBSuR+F6hD/1MZ6/hh6EP7dAIE04X30/fBSuR+F6dD83aZmPEQ5xP+qKy5wwW0o/AAAAAAAAAAA=",
          "dtype": "f8"
         },
         "b": {
          "bdata": "QO2Su/iqzz/UQpP7t+XPP2jdaVdMLdA/6kI3zls50D+s9YqVl2nQP0CbxSjJp9A/nH2gnue10D/Gpttu1+fQP4K/VOTMKdE/Kjn9vUZf0T/IEiIRqm3RP+gd4jRos9E/YGnbzBL70T+wnTnwqUTSP77Sp7UtkNI/7DyGiEKe0j9cGKmtm93SPwCvaiAFLdM/XP67531+0z+0AelpA9LTPyjGyEyQJ9Q/igx1YjE+1D+o3rNB3X7UP5YTTsUS19Q/YpaIdB0w1T/e9yfT94nVPxrXkCe55dU/rm1RaLgQ1j+SELiQpETWP3q1TQW6ptY/bvuGXBQE1z+UFsTargvXPywHRwpWc9c/4oNvyG3A1z8uzeDc493XP3CF97hUS9g/KKegO8tj2D8=",
          "dtype": "f8"
         },
         "c": {
          "bdata": "sEQb0UEV6D+10OT+bfnnP2I2lqa6xOc/YwJVVly65z8yCojA9JDnP6qkBgUiXuc/4AiRqyBT5z8b8vKiPSznPyfGkNhM++Y/8U5TWXvV5j94t9jpT8vmP7YEmnZDnOY/IPJ3PS1u5j/2UwhKDUHmPy22oKfjFOY/5nB/sQcN5j+qoIIer+nlP6qzxFJ4v+U/BqNOMUmW5T9gbEZtIG7lP0iWl1n7RuU/FwmIRBA95T82au5OtiDlP1vMnIvl+uQ/b1UbXn/V5D/bTUwIgbDkPycFYi12jOQ/rzQphMJ85D+R6dZcAGrkP7MDA5IfSeQ/98mdTAos5D/ue593rinkP+g7QoqWC+Q/5+E4WdP24z+XZnDu8e7jP2YKXde+0+M/bKwvYhrO4z8=",
          "dtype": "f8"
         },
         "fill": "toself",
         "fillcolor": "rgb(213.48046875, 225.6484375, 26.347656249999996)",
         "hoverinfo": "skip",
         "line": {
          "color": "rgb(150, 150, 150)",
          "shape": "spline",
          "width": 1
         },
         "mode": "lines",
         "name": "0.938",
         "showlegend": true,
         "type": "scatterternary"
        },
        {
         "a": {
          "bdata": "AAAAAAAAAAB8FK5H4Xp0P3wUrkfheoQ/uh6F61G4jj98FK5H4XqUP4Q8BJsWDJk/m5mZmZmZmT+6HoXrUbieP+xRuB6F66E/fBSuR+F6pD8L16NwPQqnP5uZmZmZmak/KlyPwvUorD8i6cDkCBCuP7oehetRuK4/pHA9CtejsD/sUbgeheuxPyhUs8ZL8LE/7FG4HoXrsT+kcD0K16OwPxrzgFT1264/uh6F61G4rj8qXI/C9SisP+ATUSeB1ak/m5mZmZmZqT8L16NwPQqnP6C3ImJhzaQ/fBSuR+F6pD/sUbgeheuhP4ny04Nxh58/uh6F61G4nj+bmZmZmZmZP5Jd6HlNcZU/fBSuR+F6lD+6HoXrUbiOP1GHe1EfsYY/fBSuR+F6hD98FK5H4Xp0P9D6+8u71lM/",
          "dtype": "f8"
         },
         "b": {
          "bdata": "FDrwLzB57j+b6B41L2nuP9xIvz41We4/zKRLrkJJ7j/+7YbmVznuP52xic4rK+4/zo8icHQp7j/7nu5YlRnuPytPhjgECu4/+Tb6Mvn67T/s0JTOeuztP/oxBjGQ3u0/37MyMEHR7T9vF1+k0cftP6uz3IWXxO0/uvtbwKC47T+Si7loZa3tP59FqfFCwu0/ClYoMSjD7T8B0pbp59ftP3HP/8VdE+4/WmvXF7UW7j/caXqEbSvuP5Sq+CmHZO4/C95B3yRq7j+5IdGo1n7uP595seq9te4/62gs7Xm97j/A80aqJdLuP7ubQvIAB+8/qU1mbbYQ7z8UlJGkXCXvPzim+URPWO8/pWFUV9xj7z+ny8OAfXjvP8iszf6nqe8/eX0Ic+227z/c4jH6icvvPwEBDVEK++8/",
          "dtype": "f8"
         },
         "c": {
          "bdata": "xV78AP1sqD/FsxuFsN2mPy7tH8LzTaU/nGtkoMC9oz/qFbrzEC2iP+/H4sk3x6A/VTYKMeyboD8AAqf2AhWeP992xbFu6Jo///dcERerlz9kNB5MK1yUP5qNBqzG+pA/opcV6dwLiz+/fzZVc8uFP3eavtrW+IM/oBgrLi9yeT90MGpv8yllP0/bCOyfGgO/cucI7J8aE7/Q6n8hNZ1jP1Yr6n200SG/4S3qfbTRMb8nYqBcHwNiP2AdvdvG8y2/ph+928bzPb831qAkgIVgP4XGKJ0GoDS/1sconQagRL9MQg6bB0ReP2932gnz4zm/uXjaCfPjSb/jPz5DHa1bPyggSUeGzT6/myFJR4bNTr9ivD8cb0JZP1SVa07wsUG/A5ZrTvCxUb+b94F9hgBXP3D5+8u71kO/",
          "dtype": "f8"
         },
         "fill": "toself",
         "fillcolor": "rgb(51.15625, 98.66796875, 140.9609375)",
         "hoverinfo": "skip",
         "line": {
          "color": "rgb(150, 150, 150)",
          "shape": "spline",
          "width": 1
         },
         "mode": "lines",
         "name": "0.312",
         "showlegend": true,
         "type": "scatterternary"
        },
        {
         "a": {
          "bdata": "AAAAAAAAAAB8FK5H4Xp0P3wUrkfheoQ/uh6F61G4jj98FK5H4XqUP5uZmZmZmZk/uh6F61G4nj/fh6zLXWChPz3UVelj4J4/uh6F61G4nj+bmZmZmZmZP6H5+sIy0JQ/fBSuR+F6lD+6HoXrUbiOP4LfchsGeoU/fBSuR+F6hD98FK5H4Xp0P9p3nQwJ4kQ/",
          "dtype": "f8"
         },
         "b": {
          "bdata": "v5+1d/Ez7z8uZ24NtyTvP4QRuNuCFe8/ZDXU5VcG7z/YSKbhc/fuPx2uZAcj6e4/8yZuwnDb7j8dK2UHJtHuPzSUrCidCe8/tlySAH4L7z8EQwrHKiDvP8hb1a/TWu8/hfacgdNe7z/lXYN2enPvPxi+OTEWrO8/2lowDhGy7z9NUD+tssbvP1Fs3r5j/e8/",
          "dtype": "f8"
         },
         "c": {
          "bdata": "KghMCdGBmT88lUcAZkqWP1bFJuUzEpM/bYhtn7Sxjz8AoREHRS2JP4NFofMKhII/zQvYGldmdz81ZQzgG9RoP7W3Wuj+CBS/oLxa6P4IJL+CL/AobAhjP+dDOdNeVCW/dUY5015UNb9poI3OQaRhP1lbmXia5C+/Gl6ZeJrkP7+YilMxkFdgPxl1nQwJ4jS/",
          "dtype": "f8"
         },
         "fill": "toself",
         "fillcolor": "rgb(44.1640625, 113.6484375, 141.9765625)",
         "hoverinfo": "skip",
         "line": {
          "color": "rgb(150, 150, 150)",
          "shape": "spline",
          "width": 1
         },
         "mode": "lines",
         "name": "0.375",
         "showlegend": true,
         "type": "scatterternary"
        },
        {
         "a": {
          "bdata": "AAAAAAAAAAAAAAAAAAAAAAAAAAAAAAAAAAAAAAAAAAB1R1JVVVXVPzVjWFVVVdU/VVVVVVVV1T81Y1hVVVXlP1VVVVVVVeU/AAAAAAAA8D8=",
          "dtype": "f8"
         },
         "b": {
          "bdata": "AAAAAAAAAAB1R1JVVVXVPzVjWFVVVeU/AAAAAAAA8D8AAAAAAAAAADVjWFVVVdU/VVVVVVVV5T8AAAAAAAAAAFVVVVVVVdU/AAAAAAAAAAA=",
          "dtype": "f8"
         },
         "c": {
          "bdata": "AAAAAAAA8D9F3FZVVVXlP5U5T1VVVdU/AAAAAAAAAABF3FZVVVXlP5U5T1VVVdU/AAAAAAAAAACVOU9VVVXVPwAAAAAAAAAAAAAAAAAAAAA=",
          "dtype": "f8"
         },
         "hovertemplate": "Complementary Skills: %{a:.3f}<br>AI Skills: %{b:.3f}<br>Other: %{c:.3f}<br>z: %{marker.color:.3f}<extra></extra>",
         "marker": {
          "color": {
           "bdata": "AAAAAAAAAAAAAAAAAADwPwAAAAAAAAAA7shxHMdx3D8AAAAAAAAAABcAAAAAAMA/AAAAAAAAAAAAAAAAAAAAAAAAAAAAAAAAAAAAAAAAAAA=",
           "dtype": "f8"
          },
          "colorscale": [
           [
            0,
            "#440154"
           ],
           [
            0.1111111111111111,
            "#482878"
           ],
           [
            0.2222222222222222,
            "#3e4989"
           ],
           [
            0.3333333333333333,
            "#31688e"
           ],
           [
            0.4444444444444444,
            "#26828e"
           ],
           [
            0.5555555555555556,
            "#1f9e89"
           ],
           [
            0.6666666666666666,
            "#35b779"
           ],
           [
            0.7777777777777778,
            "#6ece58"
           ],
           [
            0.8888888888888888,
            "#b5de2b"
           ],
           [
            1,
            "#fde725"
           ]
          ],
          "line": {
           "color": "rgb(120, 120, 120)",
           "width": 1
          }
         },
         "mode": "markers",
         "opacity": 0,
         "type": "scatterternary"
        }
       ],
       "layout": {
        "height": 500,
        "margin": {
         "b": 0,
         "l": 70,
         "r": 70,
         "t": 0
        },
        "showlegend": false,
        "template": {
         "data": {
          "bar": [
           {
            "error_x": {
             "color": "#2a3f5f"
            },
            "error_y": {
             "color": "#2a3f5f"
            },
            "marker": {
             "line": {
              "color": "#E5ECF6",
              "width": 0.5
             },
             "pattern": {
              "fillmode": "overlay",
              "size": 10,
              "solidity": 0.2
             }
            },
            "type": "bar"
           }
          ],
          "barpolar": [
           {
            "marker": {
             "line": {
              "color": "#E5ECF6",
              "width": 0.5
             },
             "pattern": {
              "fillmode": "overlay",
              "size": 10,
              "solidity": 0.2
             }
            },
            "type": "barpolar"
           }
          ],
          "carpet": [
           {
            "aaxis": {
             "endlinecolor": "#2a3f5f",
             "gridcolor": "white",
             "linecolor": "white",
             "minorgridcolor": "white",
             "startlinecolor": "#2a3f5f"
            },
            "baxis": {
             "endlinecolor": "#2a3f5f",
             "gridcolor": "white",
             "linecolor": "white",
             "minorgridcolor": "white",
             "startlinecolor": "#2a3f5f"
            },
            "type": "carpet"
           }
          ],
          "choropleth": [
           {
            "colorbar": {
             "outlinewidth": 0,
             "ticks": ""
            },
            "type": "choropleth"
           }
          ],
          "contour": [
           {
            "colorbar": {
             "outlinewidth": 0,
             "ticks": ""
            },
            "colorscale": [
             [
              0,
              "#0d0887"
             ],
             [
              0.1111111111111111,
              "#46039f"
             ],
             [
              0.2222222222222222,
              "#7201a8"
             ],
             [
              0.3333333333333333,
              "#9c179e"
             ],
             [
              0.4444444444444444,
              "#bd3786"
             ],
             [
              0.5555555555555556,
              "#d8576b"
             ],
             [
              0.6666666666666666,
              "#ed7953"
             ],
             [
              0.7777777777777778,
              "#fb9f3a"
             ],
             [
              0.8888888888888888,
              "#fdca26"
             ],
             [
              1,
              "#f0f921"
             ]
            ],
            "type": "contour"
           }
          ],
          "contourcarpet": [
           {
            "colorbar": {
             "outlinewidth": 0,
             "ticks": ""
            },
            "type": "contourcarpet"
           }
          ],
          "heatmap": [
           {
            "colorbar": {
             "outlinewidth": 0,
             "ticks": ""
            },
            "colorscale": [
             [
              0,
              "#0d0887"
             ],
             [
              0.1111111111111111,
              "#46039f"
             ],
             [
              0.2222222222222222,
              "#7201a8"
             ],
             [
              0.3333333333333333,
              "#9c179e"
             ],
             [
              0.4444444444444444,
              "#bd3786"
             ],
             [
              0.5555555555555556,
              "#d8576b"
             ],
             [
              0.6666666666666666,
              "#ed7953"
             ],
             [
              0.7777777777777778,
              "#fb9f3a"
             ],
             [
              0.8888888888888888,
              "#fdca26"
             ],
             [
              1,
              "#f0f921"
             ]
            ],
            "type": "heatmap"
           }
          ],
          "histogram": [
           {
            "marker": {
             "pattern": {
              "fillmode": "overlay",
              "size": 10,
              "solidity": 0.2
             }
            },
            "type": "histogram"
           }
          ],
          "histogram2d": [
           {
            "colorbar": {
             "outlinewidth": 0,
             "ticks": ""
            },
            "colorscale": [
             [
              0,
              "#0d0887"
             ],
             [
              0.1111111111111111,
              "#46039f"
             ],
             [
              0.2222222222222222,
              "#7201a8"
             ],
             [
              0.3333333333333333,
              "#9c179e"
             ],
             [
              0.4444444444444444,
              "#bd3786"
             ],
             [
              0.5555555555555556,
              "#d8576b"
             ],
             [
              0.6666666666666666,
              "#ed7953"
             ],
             [
              0.7777777777777778,
              "#fb9f3a"
             ],
             [
              0.8888888888888888,
              "#fdca26"
             ],
             [
              1,
              "#f0f921"
             ]
            ],
            "type": "histogram2d"
           }
          ],
          "histogram2dcontour": [
           {
            "colorbar": {
             "outlinewidth": 0,
             "ticks": ""
            },
            "colorscale": [
             [
              0,
              "#0d0887"
             ],
             [
              0.1111111111111111,
              "#46039f"
             ],
             [
              0.2222222222222222,
              "#7201a8"
             ],
             [
              0.3333333333333333,
              "#9c179e"
             ],
             [
              0.4444444444444444,
              "#bd3786"
             ],
             [
              0.5555555555555556,
              "#d8576b"
             ],
             [
              0.6666666666666666,
              "#ed7953"
             ],
             [
              0.7777777777777778,
              "#fb9f3a"
             ],
             [
              0.8888888888888888,
              "#fdca26"
             ],
             [
              1,
              "#f0f921"
             ]
            ],
            "type": "histogram2dcontour"
           }
          ],
          "mesh3d": [
           {
            "colorbar": {
             "outlinewidth": 0,
             "ticks": ""
            },
            "type": "mesh3d"
           }
          ],
          "parcoords": [
           {
            "line": {
             "colorbar": {
              "outlinewidth": 0,
              "ticks": ""
             }
            },
            "type": "parcoords"
           }
          ],
          "pie": [
           {
            "automargin": true,
            "type": "pie"
           }
          ],
          "scatter": [
           {
            "fillpattern": {
             "fillmode": "overlay",
             "size": 10,
             "solidity": 0.2
            },
            "type": "scatter"
           }
          ],
          "scatter3d": [
           {
            "line": {
             "colorbar": {
              "outlinewidth": 0,
              "ticks": ""
             }
            },
            "marker": {
             "colorbar": {
              "outlinewidth": 0,
              "ticks": ""
             }
            },
            "type": "scatter3d"
           }
          ],
          "scattercarpet": [
           {
            "marker": {
             "colorbar": {
              "outlinewidth": 0,
              "ticks": ""
             }
            },
            "type": "scattercarpet"
           }
          ],
          "scattergeo": [
           {
            "marker": {
             "colorbar": {
              "outlinewidth": 0,
              "ticks": ""
             }
            },
            "type": "scattergeo"
           }
          ],
          "scattergl": [
           {
            "marker": {
             "colorbar": {
              "outlinewidth": 0,
              "ticks": ""
             }
            },
            "type": "scattergl"
           }
          ],
          "scattermap": [
           {
            "marker": {
             "colorbar": {
              "outlinewidth": 0,
              "ticks": ""
             }
            },
            "type": "scattermap"
           }
          ],
          "scattermapbox": [
           {
            "marker": {
             "colorbar": {
              "outlinewidth": 0,
              "ticks": ""
             }
            },
            "type": "scattermapbox"
           }
          ],
          "scatterpolar": [
           {
            "marker": {
             "colorbar": {
              "outlinewidth": 0,
              "ticks": ""
             }
            },
            "type": "scatterpolar"
           }
          ],
          "scatterpolargl": [
           {
            "marker": {
             "colorbar": {
              "outlinewidth": 0,
              "ticks": ""
             }
            },
            "type": "scatterpolargl"
           }
          ],
          "scatterternary": [
           {
            "marker": {
             "colorbar": {
              "outlinewidth": 0,
              "ticks": ""
             }
            },
            "type": "scatterternary"
           }
          ],
          "surface": [
           {
            "colorbar": {
             "outlinewidth": 0,
             "ticks": ""
            },
            "colorscale": [
             [
              0,
              "#0d0887"
             ],
             [
              0.1111111111111111,
              "#46039f"
             ],
             [
              0.2222222222222222,
              "#7201a8"
             ],
             [
              0.3333333333333333,
              "#9c179e"
             ],
             [
              0.4444444444444444,
              "#bd3786"
             ],
             [
              0.5555555555555556,
              "#d8576b"
             ],
             [
              0.6666666666666666,
              "#ed7953"
             ],
             [
              0.7777777777777778,
              "#fb9f3a"
             ],
             [
              0.8888888888888888,
              "#fdca26"
             ],
             [
              1,
              "#f0f921"
             ]
            ],
            "type": "surface"
           }
          ],
          "table": [
           {
            "cells": {
             "fill": {
              "color": "#EBF0F8"
             },
             "line": {
              "color": "white"
             }
            },
            "header": {
             "fill": {
              "color": "#C8D4E3"
             },
             "line": {
              "color": "white"
             }
            },
            "type": "table"
           }
          ]
         },
         "layout": {
          "annotationdefaults": {
           "arrowcolor": "#2a3f5f",
           "arrowhead": 0,
           "arrowwidth": 1
          },
          "autotypenumbers": "strict",
          "coloraxis": {
           "colorbar": {
            "outlinewidth": 0,
            "ticks": ""
           }
          },
          "colorscale": {
           "diverging": [
            [
             0,
             "#8e0152"
            ],
            [
             0.1,
             "#c51b7d"
            ],
            [
             0.2,
             "#de77ae"
            ],
            [
             0.3,
             "#f1b6da"
            ],
            [
             0.4,
             "#fde0ef"
            ],
            [
             0.5,
             "#f7f7f7"
            ],
            [
             0.6,
             "#e6f5d0"
            ],
            [
             0.7,
             "#b8e186"
            ],
            [
             0.8,
             "#7fbc41"
            ],
            [
             0.9,
             "#4d9221"
            ],
            [
             1,
             "#276419"
            ]
           ],
           "sequential": [
            [
             0,
             "#0d0887"
            ],
            [
             0.1111111111111111,
             "#46039f"
            ],
            [
             0.2222222222222222,
             "#7201a8"
            ],
            [
             0.3333333333333333,
             "#9c179e"
            ],
            [
             0.4444444444444444,
             "#bd3786"
            ],
            [
             0.5555555555555556,
             "#d8576b"
            ],
            [
             0.6666666666666666,
             "#ed7953"
            ],
            [
             0.7777777777777778,
             "#fb9f3a"
            ],
            [
             0.8888888888888888,
             "#fdca26"
            ],
            [
             1,
             "#f0f921"
            ]
           ],
           "sequentialminus": [
            [
             0,
             "#0d0887"
            ],
            [
             0.1111111111111111,
             "#46039f"
            ],
            [
             0.2222222222222222,
             "#7201a8"
            ],
            [
             0.3333333333333333,
             "#9c179e"
            ],
            [
             0.4444444444444444,
             "#bd3786"
            ],
            [
             0.5555555555555556,
             "#d8576b"
            ],
            [
             0.6666666666666666,
             "#ed7953"
            ],
            [
             0.7777777777777778,
             "#fb9f3a"
            ],
            [
             0.8888888888888888,
             "#fdca26"
            ],
            [
             1,
             "#f0f921"
            ]
           ]
          },
          "colorway": [
           "#636efa",
           "#EF553B",
           "#00cc96",
           "#ab63fa",
           "#FFA15A",
           "#19d3f3",
           "#FF6692",
           "#B6E880",
           "#FF97FF",
           "#FECB52"
          ],
          "font": {
           "color": "#2a3f5f"
          },
          "geo": {
           "bgcolor": "white",
           "lakecolor": "white",
           "landcolor": "#E5ECF6",
           "showlakes": true,
           "showland": true,
           "subunitcolor": "white"
          },
          "hoverlabel": {
           "align": "left"
          },
          "hovermode": "closest",
          "mapbox": {
           "style": "light"
          },
          "paper_bgcolor": "white",
          "plot_bgcolor": "#E5ECF6",
          "polar": {
           "angularaxis": {
            "gridcolor": "white",
            "linecolor": "white",
            "ticks": ""
           },
           "bgcolor": "#E5ECF6",
           "radialaxis": {
            "gridcolor": "white",
            "linecolor": "white",
            "ticks": ""
           }
          },
          "scene": {
           "xaxis": {
            "backgroundcolor": "#E5ECF6",
            "gridcolor": "white",
            "gridwidth": 2,
            "linecolor": "white",
            "showbackground": true,
            "ticks": "",
            "zerolinecolor": "white"
           },
           "yaxis": {
            "backgroundcolor": "#E5ECF6",
            "gridcolor": "white",
            "gridwidth": 2,
            "linecolor": "white",
            "showbackground": true,
            "ticks": "",
            "zerolinecolor": "white"
           },
           "zaxis": {
            "backgroundcolor": "#E5ECF6",
            "gridcolor": "white",
            "gridwidth": 2,
            "linecolor": "white",
            "showbackground": true,
            "ticks": "",
            "zerolinecolor": "white"
           }
          },
          "shapedefaults": {
           "line": {
            "color": "#2a3f5f"
           }
          },
          "ternary": {
           "aaxis": {
            "gridcolor": "white",
            "linecolor": "white",
            "ticks": ""
           },
           "baxis": {
            "gridcolor": "white",
            "linecolor": "white",
            "ticks": ""
           },
           "bgcolor": "#E5ECF6",
           "caxis": {
            "gridcolor": "white",
            "linecolor": "white",
            "ticks": ""
           }
          },
          "title": {
           "x": 0.05
          },
          "xaxis": {
           "automargin": true,
           "gridcolor": "white",
           "linecolor": "white",
           "ticks": "",
           "title": {
            "standoff": 15
           },
           "zerolinecolor": "white",
           "zerolinewidth": 2
          },
          "yaxis": {
           "automargin": true,
           "gridcolor": "white",
           "linecolor": "white",
           "ticks": "",
           "title": {
            "standoff": 15
           },
           "zerolinecolor": "white",
           "zerolinewidth": 2
          }
         }
        },
        "ternary": {
         "aaxis": {
          "linewidth": 2,
          "min": 0.01,
          "ticks": "outside",
          "title": {
           "text": "Complementary Skills"
          }
         },
         "baxis": {
          "linewidth": 2,
          "min": 0.01,
          "ticks": "outside",
          "title": {
           "text": "AI Skills"
          }
         },
         "caxis": {
          "linewidth": 2,
          "min": 0.01,
          "ticks": "outside",
          "title": {
           "text": "Other"
          }
         },
         "sum": 1
        },
        "width": 500
       }
      }
     },
     "metadata": {},
     "output_type": "display_data"
    }
   ],
   "source": [
    "# create ternary contour plot\n",
    "def barycentric_transform(a, b, c):\n",
    "    return b+.5*c, c * (np.sqrt(3)/ 2.0)\n",
    "\n",
    "def contour_plot(df, col1, col2, col3, group_name):\n",
    "    \n",
    "    sample_df = df[(df[\"AI\"] == 1)]\n",
    "\n",
    "    # remove the small value added in the pre-processing\n",
    "    skill = sample_df[col1].to_numpy()  - .65\n",
    "    ai = sample_df[col2].to_numpy() - .65\n",
    "    other = sample_df[col3].to_numpy() - .65\n",
    "\n",
    "    skill_norm = skill / (skill + ai + other)\n",
    "    ai_norm = ai / (skill + ai + other)\n",
    "    other_norm = other / (skill + ai + other)\n",
    "    \n",
    "    x, y = barycentric_transform(skill_norm, ai_norm, other_norm)\n",
    "    \n",
    "    A, B, C, XYg = [], [], [], []\n",
    "    n = 3\n",
    "    for i in range(n + 1):\n",
    "        for j in range(n + 1 - i):\n",
    "            a = i / n\n",
    "            b = j / n\n",
    "            c = round(1.0 - a - b, 10)\n",
    "            A.append(a); B.append(b); C.append(c)\n",
    "            XYg.append(barycentric_transform(a, b, c))\n",
    "    XYg = np.asarray(XYg)\n",
    "\n",
    "    # kde estimation over the coordinates\n",
    "    kde = KernelDensity(kernel='gaussian', bandwidth=0.0001).fit(np.array([x, y]).T)\n",
    "    dens = kde.score_samples(XYg)\n",
    "    dens = np.exp(dens - dens.max())\n",
    "\n",
    "    fig = ff.create_ternary_contour(\n",
    "        np.array([A, B, C]), \n",
    "        dens,\n",
    "        pole_labels=[group_name, 'AI Skills', 'Other'], \n",
    "        interp_mode='cartesian',\n",
    "        colorscale=\"Viridis\",\n",
    "        showscale=False,\n",
    "        ncontours=15,\n",
    "    )\n",
    "    \n",
    "    # Set the same colorscale range for both plots\n",
    "    fig.update_layout(\n",
    "        margin=dict(t=0, b=0, l=70, r=70)\n",
    "    )\n",
    "    \n",
    "    name = \"substitute\" if group_name == \"Substitutable Skills\" else \"complement\"\n",
    "    fig.write_image(f\"figures/contour_{name}.png\", width=600, height=600, scale=2)\n",
    "\n",
    "    return fig\n",
    "\n",
    "sub_contour = contour_plot(posts_df, \"SUBSTITUTE_COUNT\", \"AI_COUNT\", \"NON_AI_SUBSTITUTE_COUNT\", \"Substitutable Skills\")\n",
    "comp_contour = contour_plot(posts_df, \"COMPLEMENT_COUNT\", \"AI_COUNT\", \"NON_AI_COMPLEMENT_COUNT\", \"Complementary Skills\")\n",
    "\n",
    "sub_contour.show()\n",
    "comp_contour.show()"
   ]
  },
  {
   "cell_type": "code",
   "execution_count": 90,
   "id": "bfdc759f",
   "metadata": {},
   "outputs": [],
   "source": [
    "# create an orthornomal basis for the composition\n",
    "# follows equation (1) in Fišerová & Hron\n",
    "def z1(df, x1, x2, x3):\n",
    "    \n",
    "    X = df[[x1, x2, x3]].to_numpy()\n",
    "\n",
    "    c = np.sqrt(2 / 3)\n",
    "    return c * np.log(X[:,0] / np.sqrt(X[:,1]*X[:,2]))\n",
    "\n",
    "def z2(df, x1, x2, x3):\n",
    "    \n",
    "    X = df[[x1, x2, x3]].to_numpy()\n",
    "\n",
    "    c = np.sqrt(1/2)\n",
    "    return c * np.log(X[:,1] / X[:,2])\n",
    "\n",
    "posts_df[\"SUBSTITUTE_Z1\"] = z1(posts_df, \"AI_COUNT\", \"SUBSTITUTE_COUNT\", \"NON_AI_SUBSTITUTE_COUNT\")\n",
    "posts_df[\"SUBSTITUTE_Z2\"] = z2(posts_df, \"AI_COUNT\", \"SUBSTITUTE_COUNT\", \"NON_AI_SUBSTITUTE_COUNT\")\n",
    "\n",
    "posts_df[\"COMPLEMENT_Z1\"] = z1(posts_df, \"AI_COUNT\", \"COMPLEMENT_COUNT\", \"NON_AI_COMPLEMENT_COUNT\")\n",
    "posts_df[\"COMPLEMENT_Z2\"] = z2(posts_df, \"AI_COUNT\", \"COMPLEMENT_COUNT\", \"NON_AI_COMPLEMENT_COUNT\")"
   ]
  },
  {
   "cell_type": "code",
   "execution_count": 99,
   "id": "7ba27c11",
   "metadata": {},
   "outputs": [
    {
     "name": "stdout",
     "output_type": "stream",
     "text": [
      "Shapiro-Wilk test for SUBSTITUTE_Z1: stat=0.9784, p=0.0000\n",
      "Shapiro-Wilk test for SUBSTITUTE_Z2: stat=0.9878, p=0.0000\n",
      "Shapiro-Wilk test for COMPLEMENT_Z1: stat=0.9910, p=0.0000\n",
      "Shapiro-Wilk test for COMPLEMENT_Z2: stat=0.9810, p=0.0000\n"
     ]
    },
    {
     "data": {
      "image/png": "[encoded data removed]",
      "text/plain": [
       "<Figure size 500x500 with 4 Axes>"
      ]
     },
     "metadata": {},
     "output_type": "display_data"
    }
   ],
   "source": [
    "# normality checks imply cannot calculate parametric confidence intervals\n",
    "# need to use bootstrap confidence intervals\n",
    "fig, axes = plt.subplots(2, 2, figsize=(5, 5))\n",
    "z_vars = [\"SUBSTITUTE_Z1\", \"SUBSTITUTE_Z2\", \"COMPLEMENT_Z1\", \"COMPLEMENT_Z2\"]\n",
    "titles = [\"Substitutable Skills Z1\", \"Substitutable Skills Z2\", \"Complementary Skills Z1\", \"Complementary Skills Z2\"]\n",
    "for i, ax in enumerate(axes.flatten()):\n",
    "    stats.probplot(posts_df.sample(1000)[z_vars[i]], dist=\"norm\", plot=ax)\n",
    "    ax.set_title(titles[i])\n",
    "    # perform Shapiro-Wilk test for normality\n",
    "    stat, p = stats.shapiro(posts_df.sample(5000)[z_vars[i]])\n",
    "    print(f\"Shapiro-Wilk test for {z_vars[i]}: stat={stat:.4f}, p={p:.4f}\")\n",
    "plt.tight_layout()\n",
    "plt.savefig(\"figures/zvar_qq_plots.png\", dpi=300)"
   ]
  },
  {
   "cell_type": "code",
   "execution_count": null,
   "id": "b386d2f7",
   "metadata": {},
   "outputs": [
    {
     "data": {
      "application/vnd.plotly.v1+json": {
       "config": {
        "plotlyServerURL": "https://plot.ly"
       },
       "data": [
        {
         "line": {
          "color": "green"
         },
         "mode": "lines",
         "name": "AI Skills",
         "type": "scatter",
         "x": {
          "bdata": "AAAAAAAAAMAFav1KgVr/vwrU+pUCtf6/ED744IMP/r8VqPUrBWr9vxoS83aGxPy/H3zwwQcf/L8k5u0MiXn7vylQ61cK1Pq/Lrrooosu+r80JObtDIn5vzmO4ziO4/i/Pvjggw8++L9DYt7OkJj3v0jM2xkS8/a/TjbZZJNN9r9SoNavFKj1v1gK1PqVAvW/XXTRRRdd9L9i3s6QmLfzv2dIzNsZEvO/bLLJJpts8r9yHMdxHMfxv3aGxLydIfG/fPDBBx988L8CtX6lQK3vvwyJeTtDYu6/Fl100UUX7b8gMW9nSMzrvywFav1Kgeq/Ntlkk0026b9ArV8pUOvnv0qBWr9SoOa/VFVVVVVV5b9eKVDrVwrkv2j9SoFav+K/dNFFF1104b9+pUCtXyngvxDzdobEvN2/JJtssskm2784Q2LezpDYv0zrVwrU+tW/ZJNNNtlk0794O0Ni3s7QvxjHcRzHccy/QBdddNFFx79oZ0jM2xnCvyBvZ0jM27m/AB988MEHr79Av1Kg1q+Uv4C/UqDWr5Q/QB988MEHrz9Ab2dIzNu5P3BnSMzbGcI/UBdddNFFxz8gx3Ecx3HMP4A7Q2LeztA/aJNNNtlk0z9Q61cK1PrVP0BDYt7OkNg/KJtssskm2z8Y83aGxLzdP4ClQK1fKeA/eNFFF1104T9s/UqBWr/iP2ApUOtXCuQ/WFVVVVVV5T9MgVq/UqDmP0StXylQ6+c/ONlkk0026T8wBWr9SoHqPyQxb2dIzOs/GF100UUX7T8QiXk7Q2LuPwS1fqVAre8/fvDBBx988D94hsS8nSHxP3Icx3Ecx/E/brLJJpts8j9oSMzbGRLzP2TezpCYt/M/XnTRRRdd9D9aCtT6lQL1P1Sg1q8UqPU/TjbZZJNN9j9KzNsZEvP2P0Ri3s6QmPc/QPjggw8++D86juM4juP4PzYk5u0Mifk/MLrooosu+j8qUOtXCtT6Pybm7QyJefs/IHzwwQcf/D8cEvN2hsT8Pxao9SsFav0/ED744IMP/j8M1PqVArX+PwZq/UqBWv8/AAAAAAAAAEA=",
          "dtype": "f8"
         },
         "y": {
          "bdata": "MzYhKjBQgT8qXdOtDmuDP6Ew2X6gxYU/2FQjGu9miD9s04/eqFaLP/JH4L0mnY4/EJR6mrchkT/+1kDEmimTPwK6fwdqa5U/borUDKDslz918hTs+rKaP66dbDFtxJ0/EXhcfYSToD+0pKkWcnCiPz3VPmn6e6Q/ztivaPK4pj8EPdhE7impP9QdMyUi0as/xZ52pT6wrj/O+ZbrJOSwP4/Ztgq7jLI/VOiESXxRtD/Wds0VcTG2P5IX8cf+Krg/bKAlJts7uj/UJEUjBmG8P75GnoTLlr4/EKN+3WZswD+x8dFODZHBP4+OivGktsI/ac9WIFLawz9SOFuTKPnEP/hnIiBEEMY/ICshrOEcxz/662yQdhzIP5wRpdDEDMk/4Nze2urryT/EOBj9bbjKP7J3ZUM/ccs/JqKi9LoVzD8eKcVQo6XMP7RnroAXIc0/zyk7z4eIzT+FTU9IqNzNP4M6d8NiHs4/saJ8NclOzj/NqlDwCG/OPyr2BkNfgM4/uwlEug+Ezj8/uR8YXHvOP0Lrqvp9Z84/K4sLEqJJzj+yV3a55CLOP5mhpr9P9M0/QZQZKtm+zT9U4KbAYoPNP6eAsTO6Qs0/aT8BtZn9zD8DLJPhqLTMP8OByOB9aMw/S/T5op4ZzD8et2ougsjLP1Bv0e2Rdcs/bCQv9yohyz9EdoJEn8vKPyEqI9o2dco/ykFN2DAeyj/g67B2xMbJPy/f0ekhb8k/2vquMnMXyT9fuqHZ3L/IP0QHsZV+aMg/L7G+4XMRyD9p1AqB1LrHP7pZi/S0ZMc/2a2M4iYPxz8F1f9xObrGP5sDxJr5ZcY/Cy8hbHISxj9YIY9Krb/FPyCzyiWybcU/VaAhqIccxT9egMVfM8zEP+cM4OK5fMQ/bz0O7x4uxD9X39SEZeDDP/I3kP+Pk8M/xtZQKqBHwz949AlSl/zCPyBtaVV2ssI/qnymsj1pwj9+t4qT7SDCP/Az8NeF2cE/nVfoHgaTwT9IIbjObU3BP8QB0Ru8CME/kEPoDvDEwD/BlEqKCILAP7dohU4EQMA/oQ35/MP9vz8=",
          "dtype": "f8"
         }
        },
        {
         "fill": "toself",
         "fillcolor": "rgba(0, 255, 0, 0.2)",
         "hoverinfo": "skip",
         "line": {
          "color": "rgba(255,255,255,0)"
         },
         "showlegend": false,
         "type": "scatter",
         "x": {
          "bdata": "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",
          "dtype": "f8"
         },
         "y": {
          "bdata": "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",
          "dtype": "f8"
         }
        },
        {
         "line": {
          "color": "red"
         },
         "mode": "lines",
         "name": "Substitutable Skills",
         "type": "scatter",
         "x": {
          "bdata": "AAAAAAAAAMAFav1KgVr/vwrU+pUCtf6/ED744IMP/r8VqPUrBWr9vxoS83aGxPy/H3zwwQcf/L8k5u0MiXn7vylQ61cK1Pq/Lrrooosu+r80JObtDIn5vzmO4ziO4/i/Pvjggw8++L9DYt7OkJj3v0jM2xkS8/a/TjbZZJNN9r9SoNavFKj1v1gK1PqVAvW/XXTRRRdd9L9i3s6QmLfzv2dIzNsZEvO/bLLJJpts8r9yHMdxHMfxv3aGxLydIfG/fPDBBx988L8CtX6lQK3vvwyJeTtDYu6/Fl100UUX7b8gMW9nSMzrvywFav1Kgeq/Ntlkk0026b9ArV8pUOvnv0qBWr9SoOa/VFVVVVVV5b9eKVDrVwrkv2j9SoFav+K/dNFFF1104b9+pUCtXyngvxDzdobEvN2/JJtssskm2784Q2LezpDYv0zrVwrU+tW/ZJNNNtlk0794O0Ni3s7QvxjHcRzHccy/QBdddNFFx79oZ0jM2xnCvyBvZ0jM27m/AB988MEHr79Av1Kg1q+Uv4C/UqDWr5Q/QB988MEHrz9Ab2dIzNu5P3BnSMzbGcI/UBdddNFFxz8gx3Ecx3HMP4A7Q2LeztA/aJNNNtlk0z9Q61cK1PrVP0BDYt7OkNg/KJtssskm2z8Y83aGxLzdP4ClQK1fKeA/eNFFF1104T9s/UqBWr/iP2ApUOtXCuQ/WFVVVVVV5T9MgVq/UqDmP0StXylQ6+c/ONlkk0026T8wBWr9SoHqPyQxb2dIzOs/GF100UUX7T8QiXk7Q2LuPwS1fqVAre8/fvDBBx988D94hsS8nSHxP3Icx3Ecx/E/brLJJpts8j9oSMzbGRLzP2TezpCYt/M/XnTRRRdd9D9aCtT6lQL1P1Sg1q8UqPU/TjbZZJNN9j9KzNsZEvP2P0Ri3s6QmPc/QPjggw8++D86juM4juP4PzYk5u0Mifk/MLrooosu+j8qUOtXCtT6Pybm7QyJefs/IHzwwQcf/D8cEvN2hsT8Pxao9SsFav0/ED744IMP/j8M1PqVArX+PwZq/UqBWv8/AAAAAAAAAEA=",
          "dtype": "f8"
         },
         "y": {
          "bdata": "/pkuqwADhD8M9UNqKduGP3+thoKxGIo/XLCJxxPJjT8gDSwjs/2QPzKWb6I+YJM/fm7rdoYVlj/wLcP+4yeZP2ky9KG8opw/RxM8T0VJoD8MD7IWcIKiPxFQhHsxBKU/6AAiul7Wpz/zGRTGQQGrPzjkpcGDja4/FjmbDwdCsT8gYGKA8HazP4Ky6tPu6bU/7tv6HUKfuD8MNR9y0pq7P5xvq5cC4L4/gEQeA784wT+xeVIGgijDPx+glGmZP8U/DT2z16p9xz93EA5uneHJPw4aQ3qKacw/djg4N7YSzz8XLHonyezQPyz8m6LlXNI/cVymhjDX0z+e7cgB5VjVP/DhBzoP39Y/Rafk9aRm2D/e03J4n+zZPyUFlcAUbts/LOX1c07o3D+ymScJ3VjeP9GkizOmvd8/ERRJCneK4D8HhICarS7hP++F6tr6yuE/8+AMPBFf4j9a17aUzeriP/cSoxgybuM/WjGEt2Dp4z/SJTxNlVzkP95nc/cfyOQ/fW2Ezl8s5T/9fWoqvonlPxFA1Ymq4OU/kaKMIpcx5j+5aiYX9nzmPw7sbUY3w+Y/1n9CpMYE5z+yb3oJC0LnP+by5mdle+c/oV1cUDCx5z+OPyq6v+PnPyYsX/1gE+g/izJJ81pA6D85xLEy7mroP4K+PV9Vk+g/Ov4QhcW56D+TulF7bt7oPydXakl7Aek/CqLzixIj6T8P0wrXVkPpP6xchBRnYuk/SCX13F6A6T9EKPXKVp3pP9VjTshkuek/J0IGVZzU6T99gFrIDu/pP86O6IvLCOo/qlJKUeAh6j+6hX9CWTrqP4SCgS1BUuo/lJ9hq6Fp6j97jlFDg4DqP3xR8ontluo/HhtCPees6j+kN3xddsLqP+F1OEOg1+o/l50Rs2ns6j+ZnhTv1gDrP19kNMbrFOs/brn4oaso6z/OdpmSGTzrP65gslk4T+s/Npi3cwpi6z/Nak4gknTrPwiEqmnRhus/XxwMK8qY6z/TpngWfqrrPx6zxLnuu+s/yzkDgx3N6z+/Q2zEC97rP8/cyre67us/l3GAgSv/6z8=",
          "dtype": "f8"
         }
        },
        {
         "fill": "toself",
         "fillcolor": "rgba(255, 0, 0, 0.2)",
         "hoverinfo": "skip",
         "line": {
          "color": "rgba(255,255,255,0)"
         },
         "showlegend": false,
         "type": "scatter",
         "x": {
          "bdata": "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",
          "dtype": "f8"
         },
         "y": {
          "bdata": "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",
          "dtype": "f8"
         }
        },
        {
         "line": {
          "color": "black"
         },
         "mode": "lines",
         "name": "Other Skills",
         "type": "scatter",
         "x": {
          "bdata": "AAAAAAAAAMAFav1KgVr/vwrU+pUCtf6/ED744IMP/r8VqPUrBWr9vxoS83aGxPy/H3zwwQcf/L8k5u0MiXn7vylQ61cK1Pq/Lrrooosu+r80JObtDIn5vzmO4ziO4/i/Pvjggw8++L9DYt7OkJj3v0jM2xkS8/a/TjbZZJNN9r9SoNavFKj1v1gK1PqVAvW/XXTRRRdd9L9i3s6QmLfzv2dIzNsZEvO/bLLJJpts8r9yHMdxHMfxv3aGxLydIfG/fPDBBx988L8CtX6lQK3vvwyJeTtDYu6/Fl100UUX7b8gMW9nSMzrvywFav1Kgeq/Ntlkk0026b9ArV8pUOvnv0qBWr9SoOa/VFVVVVVV5b9eKVDrVwrkv2j9SoFav+K/dNFFF1104b9+pUCtXyngvxDzdobEvN2/JJtssskm2784Q2LezpDYv0zrVwrU+tW/ZJNNNtlk0794O0Ni3s7QvxjHcRzHccy/QBdddNFFx79oZ0jM2xnCvyBvZ0jM27m/AB988MEHr79Av1Kg1q+Uv4C/UqDWr5Q/QB988MEHrz9Ab2dIzNu5P3BnSMzbGcI/UBdddNFFxz8gx3Ecx3HMP4A7Q2LeztA/aJNNNtlk0z9Q61cK1PrVP0BDYt7OkNg/KJtssskm2z8Y83aGxLzdP4ClQK1fKeA/eNFFF1104T9s/UqBWr/iP2ApUOtXCuQ/WFVVVVVV5T9MgVq/UqDmP0StXylQ6+c/ONlkk0026T8wBWr9SoHqPyQxb2dIzOs/GF100UUX7T8QiXk7Q2LuPwS1fqVAre8/fvDBBx988D94hsS8nSHxP3Icx3Ecx/E/brLJJpts8j9oSMzbGRLzP2TezpCYt/M/XnTRRRdd9D9aCtT6lQL1P1Sg1q8UqPU/TjbZZJNN9j9KzNsZEvP2P0Ri3s6QmPc/QPjggw8++D86juM4juP4PzYk5u0Mifk/MLrooosu+j8qUOtXCtT6Pybm7QyJefs/IHzwwQcf/D8cEvN2hsT8Pxao9SsFav0/ED744IMP/j8M1PqVArX+PwZq/UqBWv8/AAAAAAAAAEA=",
          "dtype": "f8"
         },
         "y": {
          "bdata": "w8CqPLNq7z+uop8f51bvP4yA+reGQO8/6kt59D8n7z9FYGzDtwrvPzQC9W+J6u4/5890D0bG7j/d3+cJdJ3uP5RgtMqOb+4/gJqlqgY87j95NzQnQQLuPxBWvH6Zwe0/bxiIzGF57T8RJDTC5CjtP3O0UR1oz+w/RJuB9y9s7D8yMKYLg/7rP813LwOwhes/ijrp0RMB6z8qOkkUIXDqP9S2s0to0uk/1dEHtqAn6T/DsrFbsW/oPwy1nMy5quc/qnxO5RnZ5j9J1xPgd/vlP6lw2/DDEuU/G0nSujgg5D+HbY4YWCXjP0leT/LjI+I/7h2XNNMd4T8Zu0RaQxXgPx7q5rXOGN4/MMMKNOoK3D8mtlY/JQXaPxdyGNeIC9g/UayaHrwh1j/jSUz460rUP1ifwSq6idI/zYYccTTg0D/MxjhFpp/OP3yApxP9sss/dFKRQDP7yD8sVdVkIXjGP6d5/NnUKMQ/7Zdy7LMLwj/2vb7aoR7AP6nUVr5Bvrw/ZYBUF+KUuT9ZnWx8Vru2PxEpALyvK7Q/BNWDxwLgsT+D9b+nC6WvPy25hppM+6s/ZLFxEzG4qD/Jg71lxNGlP6POyrLAPqM/Ayg1JpT2oD8mrR6uweKdP8Vt1k3xT5o/iAwKf6wnlz8RwHE2KF6UPze1vKnE6JE//CjOSO97jz9B92njbKqLP8OWNwPATYg/AmBDfk9YhT9CfjzSAr6CP2TjykEcdIA/EgSOLyvifD+qnjRR/1h5P88rrSLJPXY/qsMIRVmDcz8oN2WxCx5xP2y4mvQ2B24/2+yBEvZVaj89/IQAYRhnP/iefM1rQGQ/3KkUlrnBYT+nYlIV1CJfP91XAzbZS1s/5nr5arHtVz/LdtAklflUP9LLDR+IYlI/7CKmVSIdUD/cOKbYvj5MP82tNp7nwEg/xXFDzE2xRT+HOzCQYwJDP8UmEM1DqEA/1/lE9vwwPT/erTp31pM5PyoceMsCaTY/UcptzmmiMz8y+4bKrjMxP/IQx3D0Iy4/E0hVK5RnKj+G+3ARkCEnP20tkDxJQyQ/hc3KBu6/IT8=",
          "dtype": "f8"
         }
        },
        {
         "fill": "toself",
         "fillcolor": "rgba(0, 0, 0, 0.2)",
         "hoverinfo": "skip",
         "line": {
          "color": "rgba(255,255,255,0)"
         },
         "showlegend": false,
         "type": "scatter",
         "x": {
          "bdata": "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",
          "dtype": "f8"
         },
         "y": {
          "bdata": "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",
          "dtype": "f8"
         }
        },
        {
         "fill": "toself",
         "fillcolor": "rgba(200, 200, 200, 0.3)",
         "hoverinfo": "skip",
         "line": {
          "color": "rgba(255,255,255,0)"
         },
         "showlegend": false,
         "type": "scatter",
         "x": [
          -1.7171717171717171,
          -1.7171717171717171,
          -0.8686868686868685,
          -0.8686868686868685
         ],
         "y": [
          0,
          1,
          1,
          0
         ]
        }
       ],
       "layout": {
        "height": 400,
        "legend": {
         "bordercolor": "Black",
         "borderwidth": 1,
         "font": {
          "size": 10
         },
         "title": {},
         "x": 0.5,
         "xanchor": "center",
         "y": 1,
         "yanchor": "top"
        },
        "margin": {
         "b": 50,
         "l": 50,
         "r": 50,
         "t": 50
        },
        "template": {
         "data": {
          "bar": [
           {
            "error_x": {
             "color": "#2a3f5f"
            },
            "error_y": {
             "color": "#2a3f5f"
            },
            "marker": {
             "line": {
              "color": "white",
              "width": 0.5
             },
             "pattern": {
              "fillmode": "overlay",
              "size": 10,
              "solidity": 0.2
             }
            },
            "type": "bar"
           }
          ],
          "barpolar": [
           {
            "marker": {
             "line": {
              "color": "white",
              "width": 0.5
             },
             "pattern": {
              "fillmode": "overlay",
              "size": 10,
              "solidity": 0.2
             }
            },
            "type": "barpolar"
           }
          ],
          "carpet": [
           {
            "aaxis": {
             "endlinecolor": "#2a3f5f",
             "gridcolor": "#C8D4E3",
             "linecolor": "#C8D4E3",
             "minorgridcolor": "#C8D4E3",
             "startlinecolor": "#2a3f5f"
            },
            "baxis": {
             "endlinecolor": "#2a3f5f",
             "gridcolor": "#C8D4E3",
             "linecolor": "#C8D4E3",
             "minorgridcolor": "#C8D4E3",
             "startlinecolor": "#2a3f5f"
            },
            "type": "carpet"
           }
          ],
          "choropleth": [
           {
            "colorbar": {
             "outlinewidth": 0,
             "ticks": ""
            },
            "type": "choropleth"
           }
          ],
          "contour": [
           {
            "colorbar": {
             "outlinewidth": 0,
             "ticks": ""
            },
            "colorscale": [
             [
              0,
              "#0d0887"
             ],
             [
              0.1111111111111111,
              "#46039f"
             ],
             [
              0.2222222222222222,
              "#7201a8"
             ],
             [
              0.3333333333333333,
              "#9c179e"
             ],
             [
              0.4444444444444444,
              "#bd3786"
             ],
             [
              0.5555555555555556,
              "#d8576b"
             ],
             [
              0.6666666666666666,
              "#ed7953"
             ],
             [
              0.7777777777777778,
              "#fb9f3a"
             ],
             [
              0.8888888888888888,
              "#fdca26"
             ],
             [
              1,
              "#f0f921"
             ]
            ],
            "type": "contour"
           }
          ],
          "contourcarpet": [
           {
            "colorbar": {
             "outlinewidth": 0,
             "ticks": ""
            },
            "type": "contourcarpet"
           }
          ],
          "heatmap": [
           {
            "colorbar": {
             "outlinewidth": 0,
             "ticks": ""
            },
            "colorscale": [
             [
              0,
              "#0d0887"
             ],
             [
              0.1111111111111111,
              "#46039f"
             ],
             [
              0.2222222222222222,
              "#7201a8"
             ],
             [
              0.3333333333333333,
              "#9c179e"
             ],
             [
              0.4444444444444444,
              "#bd3786"
             ],
             [
              0.5555555555555556,
              "#d8576b"
             ],
             [
              0.6666666666666666,
              "#ed7953"
             ],
             [
              0.7777777777777778,
              "#fb9f3a"
             ],
             [
              0.8888888888888888,
              "#fdca26"
             ],
             [
              1,
              "#f0f921"
             ]
            ],
            "type": "heatmap"
           }
          ],
          "histogram": [
           {
            "marker": {
             "pattern": {
              "fillmode": "overlay",
              "size": 10,
              "solidity": 0.2
             }
            },
            "type": "histogram"
           }
          ],
          "histogram2d": [
           {
            "colorbar": {
             "outlinewidth": 0,
             "ticks": ""
            },
            "colorscale": [
             [
              0,
              "#0d0887"
             ],
             [
              0.1111111111111111,
              "#46039f"
             ],
             [
              0.2222222222222222,
              "#7201a8"
             ],
             [
              0.3333333333333333,
              "#9c179e"
             ],
             [
              0.4444444444444444,
              "#bd3786"
             ],
             [
              0.5555555555555556,
              "#d8576b"
             ],
             [
              0.6666666666666666,
              "#ed7953"
             ],
             [
              0.7777777777777778,
              "#fb9f3a"
             ],
             [
              0.8888888888888888,
              "#fdca26"
             ],
             [
              1,
              "#f0f921"
             ]
            ],
            "type": "histogram2d"
           }
          ],
          "histogram2dcontour": [
           {
            "colorbar": {
             "outlinewidth": 0,
             "ticks": ""
            },
            "colorscale": [
             [
              0,
              "#0d0887"
             ],
             [
              0.1111111111111111,
              "#46039f"
             ],
             [
              0.2222222222222222,
              "#7201a8"
             ],
             [
              0.3333333333333333,
              "#9c179e"
             ],
             [
              0.4444444444444444,
              "#bd3786"
             ],
             [
              0.5555555555555556,
              "#d8576b"
             ],
             [
              0.6666666666666666,
              "#ed7953"
             ],
             [
              0.7777777777777778,
              "#fb9f3a"
             ],
             [
              0.8888888888888888,
              "#fdca26"
             ],
             [
              1,
              "#f0f921"
             ]
            ],
            "type": "histogram2dcontour"
           }
          ],
          "mesh3d": [
           {
            "colorbar": {
             "outlinewidth": 0,
             "ticks": ""
            },
            "type": "mesh3d"
           }
          ],
          "parcoords": [
           {
            "line": {
             "colorbar": {
              "outlinewidth": 0,
              "ticks": ""
             }
            },
            "type": "parcoords"
           }
          ],
          "pie": [
           {
            "automargin": true,
            "type": "pie"
           }
          ],
          "scatter": [
           {
            "fillpattern": {
             "fillmode": "overlay",
             "size": 10,
             "solidity": 0.2
            },
            "type": "scatter"
           }
          ],
          "scatter3d": [
           {
            "line": {
             "colorbar": {
              "outlinewidth": 0,
              "ticks": ""
             }
            },
            "marker": {
             "colorbar": {
              "outlinewidth": 0,
              "ticks": ""
             }
            },
            "type": "scatter3d"
           }
          ],
          "scattercarpet": [
           {
            "marker": {
             "colorbar": {
              "outlinewidth": 0,
              "ticks": ""
             }
            },
            "type": "scattercarpet"
           }
          ],
          "scattergeo": [
           {
            "marker": {
             "colorbar": {
              "outlinewidth": 0,
              "ticks": ""
             }
            },
            "type": "scattergeo"
           }
          ],
          "scattergl": [
           {
            "marker": {
             "colorbar": {
              "outlinewidth": 0,
              "ticks": ""
             }
            },
            "type": "scattergl"
           }
          ],
          "scattermap": [
           {
            "marker": {
             "colorbar": {
              "outlinewidth": 0,
              "ticks": ""
             }
            },
            "type": "scattermap"
           }
          ],
          "scattermapbox": [
           {
            "marker": {
             "colorbar": {
              "outlinewidth": 0,
              "ticks": ""
             }
            },
            "type": "scattermapbox"
           }
          ],
          "scatterpolar": [
           {
            "marker": {
             "colorbar": {
              "outlinewidth": 0,
              "ticks": ""
             }
            },
            "type": "scatterpolar"
           }
          ],
          "scatterpolargl": [
           {
            "marker": {
             "colorbar": {
              "outlinewidth": 0,
              "ticks": ""
             }
            },
            "type": "scatterpolargl"
           }
          ],
          "scatterternary": [
           {
            "marker": {
             "colorbar": {
              "outlinewidth": 0,
              "ticks": ""
             }
            },
            "type": "scatterternary"
           }
          ],
          "surface": [
           {
            "colorbar": {
             "outlinewidth": 0,
             "ticks": ""
            },
            "colorscale": [
             [
              0,
              "#0d0887"
             ],
             [
              0.1111111111111111,
              "#46039f"
             ],
             [
              0.2222222222222222,
              "#7201a8"
             ],
             [
              0.3333333333333333,
              "#9c179e"
             ],
             [
              0.4444444444444444,
              "#bd3786"
             ],
             [
              0.5555555555555556,
              "#d8576b"
             ],
             [
              0.6666666666666666,
              "#ed7953"
             ],
             [
              0.7777777777777778,
              "#fb9f3a"
             ],
             [
              0.8888888888888888,
              "#fdca26"
             ],
             [
              1,
              "#f0f921"
             ]
            ],
            "type": "surface"
           }
          ],
          "table": [
           {
            "cells": {
             "fill": {
              "color": "#EBF0F8"
             },
             "line": {
              "color": "white"
             }
            },
            "header": {
             "fill": {
              "color": "#C8D4E3"
             },
             "line": {
              "color": "white"
             }
            },
            "type": "table"
           }
          ]
         },
         "layout": {
          "annotationdefaults": {
           "arrowcolor": "#2a3f5f",
           "arrowhead": 0,
           "arrowwidth": 1
          },
          "autotypenumbers": "strict",
          "coloraxis": {
           "colorbar": {
            "outlinewidth": 0,
            "ticks": ""
           }
          },
          "colorscale": {
           "diverging": [
            [
             0,
             "#8e0152"
            ],
            [
             0.1,
             "#c51b7d"
            ],
            [
             0.2,
             "#de77ae"
            ],
            [
             0.3,
             "#f1b6da"
            ],
            [
             0.4,
             "#fde0ef"
            ],
            [
             0.5,
             "#f7f7f7"
            ],
            [
             0.6,
             "#e6f5d0"
            ],
            [
             0.7,
             "#b8e186"
            ],
            [
             0.8,
             "#7fbc41"
            ],
            [
             0.9,
             "#4d9221"
            ],
            [
             1,
             "#276419"
            ]
           ],
           "sequential": [
            [
             0,
             "#0d0887"
            ],
            [
             0.1111111111111111,
             "#46039f"
            ],
            [
             0.2222222222222222,
             "#7201a8"
            ],
            [
             0.3333333333333333,
             "#9c179e"
            ],
            [
             0.4444444444444444,
             "#bd3786"
            ],
            [
             0.5555555555555556,
             "#d8576b"
            ],
            [
             0.6666666666666666,
             "#ed7953"
            ],
            [
             0.7777777777777778,
             "#fb9f3a"
            ],
            [
             0.8888888888888888,
             "#fdca26"
            ],
            [
             1,
             "#f0f921"
            ]
           ],
           "sequentialminus": [
            [
             0,
             "#0d0887"
            ],
            [
             0.1111111111111111,
             "#46039f"
            ],
            [
             0.2222222222222222,
             "#7201a8"
            ],
            [
             0.3333333333333333,
             "#9c179e"
            ],
            [
             0.4444444444444444,
             "#bd3786"
            ],
            [
             0.5555555555555556,
             "#d8576b"
            ],
            [
             0.6666666666666666,
             "#ed7953"
            ],
            [
             0.7777777777777778,
             "#fb9f3a"
            ],
            [
             0.8888888888888888,
             "#fdca26"
            ],
            [
             1,
             "#f0f921"
            ]
           ]
          },
          "colorway": [
           "#636efa",
           "#EF553B",
           "#00cc96",
           "#ab63fa",
           "#FFA15A",
           "#19d3f3",
           "#FF6692",
           "#B6E880",
           "#FF97FF",
           "#FECB52"
          ],
          "font": {
           "color": "#2a3f5f"
          },
          "geo": {
           "bgcolor": "white",
           "lakecolor": "white",
           "landcolor": "white",
           "showlakes": true,
           "showland": true,
           "subunitcolor": "#C8D4E3"
          },
          "hoverlabel": {
           "align": "left"
          },
          "hovermode": "closest",
          "mapbox": {
           "style": "light"
          },
          "paper_bgcolor": "white",
          "plot_bgcolor": "white",
          "polar": {
           "angularaxis": {
            "gridcolor": "#EBF0F8",
            "linecolor": "#EBF0F8",
            "ticks": ""
           },
           "bgcolor": "white",
           "radialaxis": {
            "gridcolor": "#EBF0F8",
            "linecolor": "#EBF0F8",
            "ticks": ""
           }
          },
          "scene": {
           "xaxis": {
            "backgroundcolor": "white",
            "gridcolor": "#DFE8F3",
            "gridwidth": 2,
            "linecolor": "#EBF0F8",
            "showbackground": true,
            "ticks": "",
            "zerolinecolor": "#EBF0F8"
           },
           "yaxis": {
            "backgroundcolor": "white",
            "gridcolor": "#DFE8F3",
            "gridwidth": 2,
            "linecolor": "#EBF0F8",
            "showbackground": true,
            "ticks": "",
            "zerolinecolor": "#EBF0F8"
           },
           "zaxis": {
            "backgroundcolor": "white",
            "gridcolor": "#DFE8F3",
            "gridwidth": 2,
            "linecolor": "#EBF0F8",
            "showbackground": true,
            "ticks": "",
            "zerolinecolor": "#EBF0F8"
           }
          },
          "shapedefaults": {
           "line": {
            "color": "#2a3f5f"
           }
          },
          "ternary": {
           "aaxis": {
            "gridcolor": "#DFE8F3",
            "linecolor": "#A2B1C6",
            "ticks": ""
           },
           "baxis": {
            "gridcolor": "#DFE8F3",
            "linecolor": "#A2B1C6",
            "ticks": ""
           },
           "bgcolor": "white",
           "caxis": {
            "gridcolor": "#DFE8F3",
            "linecolor": "#A2B1C6",
            "ticks": ""
           }
          },
          "title": {
           "x": 0.05
          },
          "xaxis": {
           "automargin": true,
           "gridcolor": "#EBF0F8",
           "linecolor": "#EBF0F8",
           "ticks": "",
           "title": {
            "standoff": 15
           },
           "zerolinecolor": "#EBF0F8",
           "zerolinewidth": 2
          },
          "yaxis": {
           "automargin": true,
           "gridcolor": "#EBF0F8",
           "linecolor": "#EBF0F8",
           "ticks": "",
           "title": {
            "standoff": 15
           },
           "zerolinecolor": "#EBF0F8",
           "zerolinewidth": 2
          }
         }
        },
        "title": {
         "text": "AI Skill Tradeoff: Substitutable Skills"
        },
        "width": 600,
        "xaxis": {
         "showgrid": false,
         "showticklabels": false,
         "title": {},
         "zeroline": false
        },
        "yaxis": {
         "range": [
          0,
          1
         ],
         "showgrid": false,
         "title": {
          "text": "Proportion"
         }
        }
       }
      }
     },
     "metadata": {},
     "output_type": "display_data"
    },
    {
     "data": {
      "application/vnd.plotly.v1+json": {
       "config": {
        "plotlyServerURL": "https://plot.ly"
       },
       "data": [
        {
         "line": {
          "color": "green"
         },
         "mode": "lines",
         "name": "AI Skills",
         "type": "scatter",
         "x": {
          "bdata": "AAAAAAAAAMAFav1KgVr/vwrU+pUCtf6/ED744IMP/r8VqPUrBWr9vxoS83aGxPy/H3zwwQcf/L8k5u0MiXn7vylQ61cK1Pq/Lrrooosu+r80JObtDIn5vzmO4ziO4/i/Pvjggw8++L9DYt7OkJj3v0jM2xkS8/a/TjbZZJNN9r9SoNavFKj1v1gK1PqVAvW/XXTRRRdd9L9i3s6QmLfzv2dIzNsZEvO/bLLJJpts8r9yHMdxHMfxv3aGxLydIfG/fPDBBx988L8CtX6lQK3vvwyJeTtDYu6/Fl100UUX7b8gMW9nSMzrvywFav1Kgeq/Ntlkk0026b9ArV8pUOvnv0qBWr9SoOa/VFVVVVVV5b9eKVDrVwrkv2j9SoFav+K/dNFFF1104b9+pUCtXyngvxDzdobEvN2/JJtssskm2784Q2LezpDYv0zrVwrU+tW/ZJNNNtlk0794O0Ni3s7QvxjHcRzHccy/QBdddNFFx79oZ0jM2xnCvyBvZ0jM27m/AB988MEHr79Av1Kg1q+Uv4C/UqDWr5Q/QB988MEHrz9Ab2dIzNu5P3BnSMzbGcI/UBdddNFFxz8gx3Ecx3HMP4A7Q2LeztA/aJNNNtlk0z9Q61cK1PrVP0BDYt7OkNg/KJtssskm2z8Y83aGxLzdP4ClQK1fKeA/eNFFF1104T9s/UqBWr/iP2ApUOtXCuQ/WFVVVVVV5T9MgVq/UqDmP0StXylQ6+c/ONlkk0026T8wBWr9SoHqPyQxb2dIzOs/GF100UUX7T8QiXk7Q2LuPwS1fqVAre8/fvDBBx988D94hsS8nSHxP3Icx3Ecx/E/brLJJpts8j9oSMzbGRLzP2TezpCYt/M/XnTRRRdd9D9aCtT6lQL1P1Sg1q8UqPU/TjbZZJNN9j9KzNsZEvP2P0Ri3s6QmPc/QPjggw8++D86juM4juP4PzYk5u0Mifk/MLrooosu+j8qUOtXCtT6Pybm7QyJefs/IHzwwQcf/D8cEvN2hsT8Pxao9SsFav0/ED744IMP/j8M1PqVArX+PwZq/UqBWv8/AAAAAAAAAEA=",
          "dtype": "f8"
         },
         "y": {
          "bdata": "fYfFZgtIhz8v38vfWJCJP1TrwQLvD4w/ozDmK6HLjj/+bPXYTOSQPwCMTeEthpI/m4XrJWJOlD+D7hXZBECWPzH1CQddXpg/l3tu0Nusmj/k/WKVGS+dP/Oj2uLR6J8/7Qnt+O5uoT+PoMTDFgmjPwi6MQPfxKQ/fhhhwkekpj+ayhjiS6moP1GHCnjZ1ao/vFvdDMkrrT/hU0S+06yvPy5bqytELbE/aaJjwB+bsj95SSCehyC0P9xhwPjevbU//r3ys1pztz/RO1cN+0C5P0gn3bOFJrs/bgAGk4AjvT+BLYOcLTe/P6qGRO1DsMA/3/otCCHPwT+8KUOSY/fCP/0VW0AeKMQ/83ltP0NgxT/SNl1xp57GPx1BK6IG4sc/SgUNmggpyT/FvQbkRnLKP4P1xBVTvMs/I89+Xb0FzT96DGsWG03OP63VKSQNkc8/vPu57CJo0D/ioP8axwTRPzJ4DCnlndE/C5p/bf4y0j9/jDTIpMPSPxi4bWB7T9M/TFQ35zbW0z8HZ+RnnVfUP6G5Z7SF09Q/3ODhfdZJ1T8GVRErhbrVP70EgX6UJdY/qv2MHROL1j/kXtUHGuvWPwt4uQzLRdc/eewvSk+b1z+tiPW91evXP6MYwu+RN9g/k34Vubp+2D+YHlIticHYP7JURqM3ANk/hNn/3wA72T+2TcdhH3LZP+VhacnMpdk/hPN1X0HW2T8botKyswPaP0Zb3E1YLto/wjdRf2FW2j+2o1E0/3vaP0dB7uBen9o/C2DpdKvA2j+6nopaDeDaP7OqnX2q/do/y1LvWKYZ2z9vWtQIIjTbP3JEemE8Tds/8ejyBxJl2z+MlReNvXvbP22nh4lXkds/qPUouval2z8yXq4csLnbP/WFwguXzNs/pc2KWr3e2z/b/0hvM/DbP76u8VwIAdw/2wSa+0kR3D+IP6r/BCHcPxiGyg9FMNw/55WG2RQ/3D8wEKokfk3cP01cW+WJW9w/0Sv+TEBp3D+LAunZqHbcPwm7+mXKg9w/0xkeNKuQ3D8eHMr8UJ3cP4n6jfnAqdw/XNO37/+13D8=",
          "dtype": "f8"
         }
        },
        {
         "fill": "toself",
         "fillcolor": "rgba(0, 255, 0, 0.2)",
         "hoverinfo": "skip",
         "line": {
          "color": "rgba(255,255,255,0)"
         },
         "showlegend": false,
         "type": "scatter",
         "x": {
          "bdata": "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",
          "dtype": "f8"
         },
         "y": {
          "bdata": "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",
          "dtype": "f8"
         }
        },
        {
         "line": {
          "color": "blue"
         },
         "mode": "lines",
         "name": "Complementary Skills",
         "type": "scatter",
         "x": {
          "bdata": "AAAAAAAAAMAFav1KgVr/vwrU+pUCtf6/ED744IMP/r8VqPUrBWr9vxoS83aGxPy/H3zwwQcf/L8k5u0MiXn7vylQ61cK1Pq/Lrrooosu+r80JObtDIn5vzmO4ziO4/i/Pvjggw8++L9DYt7OkJj3v0jM2xkS8/a/TjbZZJNN9r9SoNavFKj1v1gK1PqVAvW/XXTRRRdd9L9i3s6QmLfzv2dIzNsZEvO/bLLJJpts8r9yHMdxHMfxv3aGxLydIfG/fPDBBx988L8CtX6lQK3vvwyJeTtDYu6/Fl100UUX7b8gMW9nSMzrvywFav1Kgeq/Ntlkk0026b9ArV8pUOvnv0qBWr9SoOa/VFVVVVVV5b9eKVDrVwrkv2j9SoFav+K/dNFFF1104b9+pUCtXyngvxDzdobEvN2/JJtssskm2784Q2LezpDYv0zrVwrU+tW/ZJNNNtlk0794O0Ni3s7QvxjHcRzHccy/QBdddNFFx79oZ0jM2xnCvyBvZ0jM27m/AB988MEHr79Av1Kg1q+Uv4C/UqDWr5Q/QB988MEHrz9Ab2dIzNu5P3BnSMzbGcI/UBdddNFFxz8gx3Ecx3HMP4A7Q2LeztA/aJNNNtlk0z9Q61cK1PrVP0BDYt7OkNg/KJtssskm2z8Y83aGxLzdP4ClQK1fKeA/eNFFF1104T9s/UqBWr/iP2ApUOtXCuQ/WFVVVVVV5T9MgVq/UqDmP0StXylQ6+c/ONlkk0026T8wBWr9SoHqPyQxb2dIzOs/GF100UUX7T8QiXk7Q2LuPwS1fqVAre8/fvDBBx988D94hsS8nSHxP3Icx3Ecx/E/brLJJpts8j9oSMzbGRLzP2TezpCYt/M/XnTRRRdd9D9aCtT6lQL1P1Sg1q8UqPU/TjbZZJNN9j9KzNsZEvP2P0Ri3s6QmPc/QPjggw8++D86juM4juP4PzYk5u0Mifk/MLrooosu+j8qUOtXCtT6Pybm7QyJefs/IHzwwQcf/D8cEvN2hsT8Pxao9SsFav0/ED744IMP/j8M1PqVArX+PwZq/UqBWv8/AAAAAAAAAEA=",
          "dtype": "f8"
         },
         "y": {
          "bdata": "yJTkffxKkj8zfOeP3AiUP7B++U+l75U/16whPsgCmD/9bftC8UWaPzMWnFoHvZw/faVgfyxsnz9/C8hT3iuhP9/PqdElwqI/4oiu0VB7pD8MjAIW21mmP4iZlJpUYKg/INGUGl2Rqj+FieFqnu+sPy8ccYrFfa8/GCC0Jj0fsT8w5sbGKpqyP0/QzunqMLQ/0Bp/PKnktT/m7Wmodra3PzlEOH1Bp7k/nYrBCs23uz9pg9TUqOi9P5DjjMsTHcA/DhGpLitWwT/TW68Aep/CP0ha6rW0+MM/pQwEfmFhxT8+mAvA1djGP1U5o5E0Xsg/vgzwV27wyT9CTpm4QY7LP4F+HfU9Ns0/tABku8bmzj+h9kCyDE/QPyK5qMMpLdE/YEOXWL0M0j8RbMGCwuzSPyXbKzsxzNM/i60gHwOq1D+vLMwfOIXVP5S5RffaXNY/BqV7OQUw1z9/Brbd4v3XPzzUliW1xdg/RgHmz9SG2T/z2kiPs0DaPwxUdsbc8to/A17lk/Wc2z8yPtk9vD7cP9DnxhQH2Nw/bTU95cJo3T9+TNQT8fDdP/vjZH2lcN4/F6wzNATo3j99ki8wP1ffPwebMwWUvt8/8ddf1yQP4D/06Yk+VzvgP/sEHhYLZOA/xnhHFWyJ4D9Gbb4Ip6vgPyDorSjpyuA/g+ePh1/n4D8CbM+YNgHhPwXxic2ZGOE/ARt+RbMt4T/X+QySq0DhP976JompUeE/hd8GJtJg4T8G4rV1SG7hP5ucd40teuE/nDRmiaCE4T9ocLSRvo3hP39MOeWileE/v38V6Gac4T8/6m01IqLhP2NWXbPqpuE/Q8ZjqNSq4T9qk7nR8q3hP/PoCHpWsOE/B70okA+y4T8GoIm9LLPhP9rEFny7s+E/h95cK8iz4T8JItUkXrPhPwg5Pc+HsuE/EoPtsE6x4T9l7SWBu6/hP28sTzjWreE/M3IyH6ar4T9yES3dManhP7v8Z4V/puE/FN8co5Sj4T/S0fNEdqDhPyV/hQcpneE/M/cNH7GZ4T8ipVxgEpbhP3bFDUlQkuE/uoMZB26O4T8=",
          "dtype": "f8"
         }
        },
        {
         "fill": "toself",
         "fillcolor": "rgba(0, 0, 255, 0.2)",
         "hoverinfo": "skip",
         "line": {
          "color": "rgba(255,255,255,0)"
         },
         "showlegend": false,
         "type": "scatter",
         "x": {
          "bdata": "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",
          "dtype": "f8"
         },
         "y": {
          "bdata": "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",
          "dtype": "f8"
         }
        },
        {
         "line": {
          "color": "black"
         },
         "mode": "lines",
         "name": "Other Skills",
         "type": "scatter",
         "x": {
          "bdata": "AAAAAAAAAMAFav1KgVr/vwrU+pUCtf6/ED744IMP/r8VqPUrBWr9vxoS83aGxPy/H3zwwQcf/L8k5u0MiXn7vylQ61cK1Pq/Lrrooosu+r80JObtDIn5vzmO4ziO4/i/Pvjggw8++L9DYt7OkJj3v0jM2xkS8/a/TjbZZJNN9r9SoNavFKj1v1gK1PqVAvW/XXTRRRdd9L9i3s6QmLfzv2dIzNsZEvO/bLLJJpts8r9yHMdxHMfxv3aGxLydIfG/fPDBBx988L8CtX6lQK3vvwyJeTtDYu6/Fl100UUX7b8gMW9nSMzrvywFav1Kgeq/Ntlkk0026b9ArV8pUOvnv0qBWr9SoOa/VFVVVVVV5b9eKVDrVwrkv2j9SoFav+K/dNFFF1104b9+pUCtXyngvxDzdobEvN2/JJtssskm2784Q2LezpDYv0zrVwrU+tW/ZJNNNtlk0794O0Ni3s7QvxjHcRzHccy/QBdddNFFx79oZ0jM2xnCvyBvZ0jM27m/AB988MEHr79Av1Kg1q+Uv4C/UqDWr5Q/QB988MEHrz9Ab2dIzNu5P3BnSMzbGcI/UBdddNFFxz8gx3Ecx3HMP4A7Q2LeztA/aJNNNtlk0z9Q61cK1PrVP0BDYt7OkNg/KJtssskm2z8Y83aGxLzdP4ClQK1fKeA/eNFFF1104T9s/UqBWr/iP2ApUOtXCuQ/WFVVVVVV5T9MgVq/UqDmP0StXylQ6+c/ONlkk0026T8wBWr9SoHqPyQxb2dIzOs/GF100UUX7T8QiXk7Q2LuPwS1fqVAre8/fvDBBx988D94hsS8nSHxP3Icx3Ecx/E/brLJJpts8j9oSMzbGRLzP2TezpCYt/M/XnTRRRdd9D9aCtT6lQL1P1Sg1q8UqPU/TjbZZJNN9j9KzNsZEvP2P0Ri3s6QmPc/QPjggw8++D86juM4juP4PzYk5u0Mifk/MLrooosu+j8qUOtXCtT6Pybm7QyJefs/IHzwwQcf/D8cEvN2hsT8Pxao9SsFav0/ED744IMP/j8M1PqVArX+PwZq/UqBWv8/AAAAAAAAAEA=",
          "dtype": "f8"
         },
         "y": {
          "bdata": "NMV17ocQ7z+elAG4d/nuP18sdRlD4O4/1VlfObvE7j8leSAPrqbuP/GyIFbmhe4/np7Viiti7j/Qz/rzQTvuP0wTrbrqEO4/nKNhFOTi7T9Mv/SB6bDtP1XhPye0eu0/UOLHPvs/7T9unRWtdADtP57SJbfVu+w/dGoD39Nx7D+QlgXpJSLsP4B9RQuFzOs/+kaiR65w6z8EfQ7vYw7rPxGM40pvpeo/YVqbZqI16j9pZqHx2b7pP9y6BC7/QOk/+2PX3Qm86D+QQSkeAjDoP4fECRwCnec/xTwejjcD5z9LtGzc5GLmP/sPRuBhvOU/Dn74JxwQ5T8A4kitll7kP93aofJoqOM/VqFLgT3u4j/4NojKzzDiPyTToHXpcOE//BwxLV+v4D8UNTsLGtrfPyCq8TmlVd4/5eofMh7T3D8TTf5UOlTbP6xbpXae2tk/PF/K2ddn2D+hWEoHVv3WP46zXLFlnNU/rWSawixG1D+DmIKop/vSP+DzG9mnvdE/sE3jhNOM0D+UtYS0TNPOPzy9om3mqMw/cdPBOc2ayj/qvDSCE6nIP5suNAiM08Y/oKx+XNEZxT9CHfaPTXvDP87ZJdxB98E/RMcgDs6MwD/JjdoT73W+P111B5BfAbw/qj9ucbS5uT8sG8QEo5y3Pz1sdy3Yp7U/6l2BQwDZsz8QaWeyzS2yPz/wCm7+o7A/ebNurMByrj+/UZtIqderPz54rf6kcqk/t0kIpdE/pz9VwhQCfzulP78rFCEwYqM/rbVRwpuwoT92A2QQrCOgP5fE+377cJ0/j9pabr3Ymj9QEP3EmHmYP3bqsHzjTpY/hqlYdEpUlD8uOlT3zIWSP59qaCa435A/EwmysES9jj8uOMwHzf6LP+YL/oE/fok/Iqlu10k2hz8Rg5fhCCKFP8Hle5IAPYM/26FeURSDgT9YbHmC/+B/P7E9yOWfA30/InEhBbpnej8INvM+iAd4P62RKvXD3XU/wn4FMpvlcz8ceNYLpxpyP2Wrkb7ieHA/UOn74kb5bT9Ry0w+IUVrP2dGPSs6z2g/iZWSCgGSZj8=",
          "dtype": "f8"
         }
        },
        {
         "fill": "toself",
         "fillcolor": "rgba(0, 0, 0, 0.2)",
         "hoverinfo": "skip",
         "line": {
          "color": "rgba(255,255,255,0)"
         },
         "showlegend": false,
         "type": "scatter",
         "x": {
          "bdata": "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",
          "dtype": "f8"
         },
         "y": {
          "bdata": "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",
          "dtype": "f8"
         }
        },
        {
         "fill": "toself",
         "fillcolor": "rgba(200, 200, 200, 0.3)",
         "hoverinfo": "skip",
         "line": {
          "color": "rgba(255,255,255,0)"
         },
         "showlegend": false,
         "type": "scatter",
         "x": [
          -1.7575757575757576,
          -1.7575757575757576,
          -0.7878787878787878,
          -0.7878787878787878
         ],
         "y": [
          0,
          1,
          1,
          0
         ]
        }
       ],
       "layout": {
        "height": 400,
        "legend": {
         "bordercolor": "Black",
         "borderwidth": 1,
         "font": {
          "size": 10
         },
         "title": {},
         "x": 0.5,
         "xanchor": "center",
         "y": 1,
         "yanchor": "top"
        },
        "margin": {
         "b": 50,
         "l": 50,
         "r": 50,
         "t": 50
        },
        "template": {
         "data": {
          "bar": [
           {
            "error_x": {
             "color": "#2a3f5f"
            },
            "error_y": {
             "color": "#2a3f5f"
            },
            "marker": {
             "line": {
              "color": "white",
              "width": 0.5
             },
             "pattern": {
              "fillmode": "overlay",
              "size": 10,
              "solidity": 0.2
             }
            },
            "type": "bar"
           }
          ],
          "barpolar": [
           {
            "marker": {
             "line": {
              "color": "white",
              "width": 0.5
             },
             "pattern": {
              "fillmode": "overlay",
              "size": 10,
              "solidity": 0.2
             }
            },
            "type": "barpolar"
           }
          ],
          "carpet": [
           {
            "aaxis": {
             "endlinecolor": "#2a3f5f",
             "gridcolor": "#C8D4E3",
             "linecolor": "#C8D4E3",
             "minorgridcolor": "#C8D4E3",
             "startlinecolor": "#2a3f5f"
            },
            "baxis": {
             "endlinecolor": "#2a3f5f",
             "gridcolor": "#C8D4E3",
             "linecolor": "#C8D4E3",
             "minorgridcolor": "#C8D4E3",
             "startlinecolor": "#2a3f5f"
            },
            "type": "carpet"
           }
          ],
          "choropleth": [
           {
            "colorbar": {
             "outlinewidth": 0,
             "ticks": ""
            },
            "type": "choropleth"
           }
          ],
          "contour": [
           {
            "colorbar": {
             "outlinewidth": 0,
             "ticks": ""
            },
            "colorscale": [
             [
              0,
              "#0d0887"
             ],
             [
              0.1111111111111111,
              "#46039f"
             ],
             [
              0.2222222222222222,
              "#7201a8"
             ],
             [
              0.3333333333333333,
              "#9c179e"
             ],
             [
              0.4444444444444444,
              "#bd3786"
             ],
             [
              0.5555555555555556,
              "#d8576b"
             ],
             [
              0.6666666666666666,
              "#ed7953"
             ],
             [
              0.7777777777777778,
              "#fb9f3a"
             ],
             [
              0.8888888888888888,
              "#fdca26"
             ],
             [
              1,
              "#f0f921"
             ]
            ],
            "type": "contour"
           }
          ],
          "contourcarpet": [
           {
            "colorbar": {
             "outlinewidth": 0,
             "ticks": ""
            },
            "type": "contourcarpet"
           }
          ],
          "heatmap": [
           {
            "colorbar": {
             "outlinewidth": 0,
             "ticks": ""
            },
            "colorscale": [
             [
              0,
              "#0d0887"
             ],
             [
              0.1111111111111111,
              "#46039f"
             ],
             [
              0.2222222222222222,
              "#7201a8"
             ],
             [
              0.3333333333333333,
              "#9c179e"
             ],
             [
              0.4444444444444444,
              "#bd3786"
             ],
             [
              0.5555555555555556,
              "#d8576b"
             ],
             [
              0.6666666666666666,
              "#ed7953"
             ],
             [
              0.7777777777777778,
              "#fb9f3a"
             ],
             [
              0.8888888888888888,
              "#fdca26"
             ],
             [
              1,
              "#f0f921"
             ]
            ],
            "type": "heatmap"
           }
          ],
          "histogram": [
           {
            "marker": {
             "pattern": {
              "fillmode": "overlay",
              "size": 10,
              "solidity": 0.2
             }
            },
            "type": "histogram"
           }
          ],
          "histogram2d": [
           {
            "colorbar": {
             "outlinewidth": 0,
             "ticks": ""
            },
            "colorscale": [
             [
              0,
              "#0d0887"
             ],
             [
              0.1111111111111111,
              "#46039f"
             ],
             [
              0.2222222222222222,
              "#7201a8"
             ],
             [
              0.3333333333333333,
              "#9c179e"
             ],
             [
              0.4444444444444444,
              "#bd3786"
             ],
             [
              0.5555555555555556,
              "#d8576b"
             ],
             [
              0.6666666666666666,
              "#ed7953"
             ],
             [
              0.7777777777777778,
              "#fb9f3a"
             ],
             [
              0.8888888888888888,
              "#fdca26"
             ],
             [
              1,
              "#f0f921"
             ]
            ],
            "type": "histogram2d"
           }
          ],
          "histogram2dcontour": [
           {
            "colorbar": {
             "outlinewidth": 0,
             "ticks": ""
            },
            "colorscale": [
             [
              0,
              "#0d0887"
             ],
             [
              0.1111111111111111,
              "#46039f"
             ],
             [
              0.2222222222222222,
              "#7201a8"
             ],
             [
              0.3333333333333333,
              "#9c179e"
             ],
             [
              0.4444444444444444,
              "#bd3786"
             ],
             [
              0.5555555555555556,
              "#d8576b"
             ],
             [
              0.6666666666666666,
              "#ed7953"
             ],
             [
              0.7777777777777778,
              "#fb9f3a"
             ],
             [
              0.8888888888888888,
              "#fdca26"
             ],
             [
              1,
              "#f0f921"
             ]
            ],
            "type": "histogram2dcontour"
           }
          ],
          "mesh3d": [
           {
            "colorbar": {
             "outlinewidth": 0,
             "ticks": ""
            },
            "type": "mesh3d"
           }
          ],
          "parcoords": [
           {
            "line": {
             "colorbar": {
              "outlinewidth": 0,
              "ticks": ""
             }
            },
            "type": "parcoords"
           }
          ],
          "pie": [
           {
            "automargin": true,
            "type": "pie"
           }
          ],
          "scatter": [
           {
            "fillpattern": {
             "fillmode": "overlay",
             "size": 10,
             "solidity": 0.2
            },
            "type": "scatter"
           }
          ],
          "scatter3d": [
           {
            "line": {
             "colorbar": {
              "outlinewidth": 0,
              "ticks": ""
             }
            },
            "marker": {
             "colorbar": {
              "outlinewidth": 0,
              "ticks": ""
             }
            },
            "type": "scatter3d"
           }
          ],
          "scattercarpet": [
           {
            "marker": {
             "colorbar": {
              "outlinewidth": 0,
              "ticks": ""
             }
            },
            "type": "scattercarpet"
           }
          ],
          "scattergeo": [
           {
            "marker": {
             "colorbar": {
              "outlinewidth": 0,
              "ticks": ""
             }
            },
            "type": "scattergeo"
           }
          ],
          "scattergl": [
           {
            "marker": {
             "colorbar": {
              "outlinewidth": 0,
              "ticks": ""
             }
            },
            "type": "scattergl"
           }
          ],
          "scattermap": [
           {
            "marker": {
             "colorbar": {
              "outlinewidth": 0,
              "ticks": ""
             }
            },
            "type": "scattermap"
           }
          ],
          "scattermapbox": [
           {
            "marker": {
             "colorbar": {
              "outlinewidth": 0,
              "ticks": ""
             }
            },
            "type": "scattermapbox"
           }
          ],
          "scatterpolar": [
           {
            "marker": {
             "colorbar": {
              "outlinewidth": 0,
              "ticks": ""
             }
            },
            "type": "scatterpolar"
           }
          ],
          "scatterpolargl": [
           {
            "marker": {
             "colorbar": {
              "outlinewidth": 0,
              "ticks": ""
             }
            },
            "type": "scatterpolargl"
           }
          ],
          "scatterternary": [
           {
            "marker": {
             "colorbar": {
              "outlinewidth": 0,
              "ticks": ""
             }
            },
            "type": "scatterternary"
           }
          ],
          "surface": [
           {
            "colorbar": {
             "outlinewidth": 0,
             "ticks": ""
            },
            "colorscale": [
             [
              0,
              "#0d0887"
             ],
             [
              0.1111111111111111,
              "#46039f"
             ],
             [
              0.2222222222222222,
              "#7201a8"
             ],
             [
              0.3333333333333333,
              "#9c179e"
             ],
             [
              0.4444444444444444,
              "#bd3786"
             ],
             [
              0.5555555555555556,
              "#d8576b"
             ],
             [
              0.6666666666666666,
              "#ed7953"
             ],
             [
              0.7777777777777778,
              "#fb9f3a"
             ],
             [
              0.8888888888888888,
              "#fdca26"
             ],
             [
              1,
              "#f0f921"
             ]
            ],
            "type": "surface"
           }
          ],
          "table": [
           {
            "cells": {
             "fill": {
              "color": "#EBF0F8"
             },
             "line": {
              "color": "white"
             }
            },
            "header": {
             "fill": {
              "color": "#C8D4E3"
             },
             "line": {
              "color": "white"
             }
            },
            "type": "table"
           }
          ]
         },
         "layout": {
          "annotationdefaults": {
           "arrowcolor": "#2a3f5f",
           "arrowhead": 0,
           "arrowwidth": 1
          },
          "autotypenumbers": "strict",
          "coloraxis": {
           "colorbar": {
            "outlinewidth": 0,
            "ticks": ""
           }
          },
          "colorscale": {
           "diverging": [
            [
             0,
             "#8e0152"
            ],
            [
             0.1,
             "#c51b7d"
            ],
            [
             0.2,
             "#de77ae"
            ],
            [
             0.3,
             "#f1b6da"
            ],
            [
             0.4,
             "#fde0ef"
            ],
            [
             0.5,
             "#f7f7f7"
            ],
            [
             0.6,
             "#e6f5d0"
            ],
            [
             0.7,
             "#b8e186"
            ],
            [
             0.8,
             "#7fbc41"
            ],
            [
             0.9,
             "#4d9221"
            ],
            [
             1,
             "#276419"
            ]
           ],
           "sequential": [
            [
             0,
             "#0d0887"
            ],
            [
             0.1111111111111111,
             "#46039f"
            ],
            [
             0.2222222222222222,
             "#7201a8"
            ],
            [
             0.3333333333333333,
             "#9c179e"
            ],
            [
             0.4444444444444444,
             "#bd3786"
            ],
            [
             0.5555555555555556,
             "#d8576b"
            ],
            [
             0.6666666666666666,
             "#ed7953"
            ],
            [
             0.7777777777777778,
             "#fb9f3a"
            ],
            [
             0.8888888888888888,
             "#fdca26"
            ],
            [
             1,
             "#f0f921"
            ]
           ],
           "sequentialminus": [
            [
             0,
             "#0d0887"
            ],
            [
             0.1111111111111111,
             "#46039f"
            ],
            [
             0.2222222222222222,
             "#7201a8"
            ],
            [
             0.3333333333333333,
             "#9c179e"
            ],
            [
             0.4444444444444444,
             "#bd3786"
            ],
            [
             0.5555555555555556,
             "#d8576b"
            ],
            [
             0.6666666666666666,
             "#ed7953"
            ],
            [
             0.7777777777777778,
             "#fb9f3a"
            ],
            [
             0.8888888888888888,
             "#fdca26"
            ],
            [
             1,
             "#f0f921"
            ]
           ]
          },
          "colorway": [
           "#636efa",
           "#EF553B",
           "#00cc96",
           "#ab63fa",
           "#FFA15A",
           "#19d3f3",
           "#FF6692",
           "#B6E880",
           "#FF97FF",
           "#FECB52"
          ],
          "font": {
           "color": "#2a3f5f"
          },
          "geo": {
           "bgcolor": "white",
           "lakecolor": "white",
           "landcolor": "white",
           "showlakes": true,
           "showland": true,
           "subunitcolor": "#C8D4E3"
          },
          "hoverlabel": {
           "align": "left"
          },
          "hovermode": "closest",
          "mapbox": {
           "style": "light"
          },
          "paper_bgcolor": "white",
          "plot_bgcolor": "white",
          "polar": {
           "angularaxis": {
            "gridcolor": "#EBF0F8",
            "linecolor": "#EBF0F8",
            "ticks": ""
           },
           "bgcolor": "white",
           "radialaxis": {
            "gridcolor": "#EBF0F8",
            "linecolor": "#EBF0F8",
            "ticks": ""
           }
          },
          "scene": {
           "xaxis": {
            "backgroundcolor": "white",
            "gridcolor": "#DFE8F3",
            "gridwidth": 2,
            "linecolor": "#EBF0F8",
            "showbackground": true,
            "ticks": "",
            "zerolinecolor": "#EBF0F8"
           },
           "yaxis": {
            "backgroundcolor": "white",
            "gridcolor": "#DFE8F3",
            "gridwidth": 2,
            "linecolor": "#EBF0F8",
            "showbackground": true,
            "ticks": "",
            "zerolinecolor": "#EBF0F8"
           },
           "zaxis": {
            "backgroundcolor": "white",
            "gridcolor": "#DFE8F3",
            "gridwidth": 2,
            "linecolor": "#EBF0F8",
            "showbackground": true,
            "ticks": "",
            "zerolinecolor": "#EBF0F8"
           }
          },
          "shapedefaults": {
           "line": {
            "color": "#2a3f5f"
           }
          },
          "ternary": {
           "aaxis": {
            "gridcolor": "#DFE8F3",
            "linecolor": "#A2B1C6",
            "ticks": ""
           },
           "baxis": {
            "gridcolor": "#DFE8F3",
            "linecolor": "#A2B1C6",
            "ticks": ""
           },
           "bgcolor": "white",
           "caxis": {
            "gridcolor": "#DFE8F3",
            "linecolor": "#A2B1C6",
            "ticks": ""
           }
          },
          "title": {
           "x": 0.05
          },
          "xaxis": {
           "automargin": true,
           "gridcolor": "#EBF0F8",
           "linecolor": "#EBF0F8",
           "ticks": "",
           "title": {
            "standoff": 15
           },
           "zerolinecolor": "#EBF0F8",
           "zerolinewidth": 2
          },
          "yaxis": {
           "automargin": true,
           "gridcolor": "#EBF0F8",
           "linecolor": "#EBF0F8",
           "ticks": "",
           "title": {
            "standoff": 15
           },
           "zerolinecolor": "#EBF0F8",
           "zerolinewidth": 2
          }
         }
        },
        "title": {
         "text": "AI Skill Tradeoff: Complementary Skills"
        },
        "width": 600,
        "xaxis": {
         "showgrid": false,
         "showticklabels": false,
         "title": {},
         "zeroline": false
        },
        "yaxis": {
         "range": [
          0,
          1
         ],
         "showgrid": false,
         "title": {
          "text": "Proportion"
         }
        }
       }
      }
     },
     "metadata": {},
     "output_type": "display_data"
    }
   ],
   "source": [
    "# bootstrap ODR to fit a line in the ilr space\n",
    "def odr_bootstrap(z1, z2):\n",
    "\n",
    "    def f(B, x):\n",
    "        return B[0]*x + B[1]\n",
    "\n",
    "    # cannot perform ODR on the full dataset due to memory constraints\n",
    "    indices = np.random.choice(np.arange(len(z1)), size=10_000, replace=True)\n",
    "\n",
    "    # use linear regression to get parameter priors\n",
    "    linreg = linregress(z1[indices], z2[indices])\n",
    "\n",
    "    # this estimates the equation z2 = slope * z1 + intercept\n",
    "    linear = odr.Model(f)\n",
    "    # constant uncertainty weights reduces ODR to PCA\n",
    "    data = odr.Data(z1[indices], z2[indices], we=1, wd=1)\n",
    "    odr_model = odr.ODR(data, linear, beta0=linreg[:2])\n",
    "    output = odr_model.run()\n",
    "\n",
    "    # calculate p-value for slope\n",
    "    # t_stat = output.beta[0] / output.sd_beta[0]\n",
    "    # p_value = 2 * (1 - stats.t.cdf(np.abs(t_stat), df=len(z1)-2))\n",
    "    # print(f\"Slope p-value: {p_value}\")\n",
    "    \n",
    "    slope, intercept = output.beta\n",
    "\n",
    "    return slope, intercept\n",
    "\n",
    "def inverse_logratio(z1, z2):\n",
    "    \n",
    "    # recover composition points from ilr coordinates\n",
    "    x1 = np.exp(np.sqrt(2/3)*z1)\n",
    "    x2 = np.exp(-(np.sqrt(1/6)*z1) + (1/np.sqrt(2))*z2)\n",
    "    x3 = np.exp(-np.sqrt(1/6)*z1 - (1/np.sqrt(2))*z2)\n",
    "    return np.array([x1, x2, x3]) / (x1 + x2 + x3)\n",
    "\n",
    "def ilr_line_to_simplex(slope, intercept, t_arr):\n",
    "\n",
    "    # uses fitted slope and intercept to get points on the ilr line\n",
    "    X = []\n",
    "    for t in t_arr:\n",
    "        X.append(inverse_logratio(t, slope * t + intercept))\n",
    "        \n",
    "    return np.array(X)\n",
    "    \n",
    "def bootstrap_ilr_line_w_conf_intervals(z1, z2, other, rng, n, name, n_boot=100):\n",
    "\n",
    "    # bootstrap the ilr line fit and plot with confidence intervals\n",
    "    t_arr = np.linspace(rng[0], rng[1], n)\n",
    "    X_boot = []\n",
    "    for _ in range(n_boot):\n",
    "        slope, intercept = odr_bootstrap(z1, z2)\n",
    "        X = ilr_line_to_simplex(slope, intercept, t_arr)\n",
    "        X_boot.append(X)\n",
    "        \n",
    "    X_boot = np.array(X_boot)\n",
    "    assert np.allclose(X_boot.sum(axis=2), 1.0)\n",
    "\n",
    "    # compute mean and 95% confidence intervals from bootstrap samples\n",
    "    X_mean = X_boot.mean(axis=0)\n",
    "    X_lower = np.percentile(X_boot, 2.5, axis=0)\n",
    "    X_upper = np.percentile(X_boot, 97.5, axis=0)\n",
    "\n",
    "    fig = go.Figure()\n",
    "    fig.add_trace(\n",
    "        go.Scatter(\n",
    "            x=t_arr,\n",
    "            y=X_mean[:,0],\n",
    "            mode=\"lines\",\n",
    "            name=\"AI Skills\",\n",
    "            line=dict(color=\"green\"),\n",
    "        )\n",
    "    )\n",
    "    fig.add_trace(\n",
    "        go.Scatter(\n",
    "            x=np.concatenate([t_arr, t_arr[::-1]]),\n",
    "            y=np.concatenate([X_lower[:,0], X_upper[:,0][::-1]]),\n",
    "            fill='toself',\n",
    "            fillcolor='rgba(0, 255, 0, 0.2)',\n",
    "            line=dict(color='rgba(255,255,255,0)'),\n",
    "            hoverinfo=\"skip\",\n",
    "            showlegend=False,\n",
    "        )\n",
    "    )\n",
    "    fig.add_trace(\n",
    "        go.Scatter(\n",
    "            x=t_arr,\n",
    "            y=X_mean[:,1],\n",
    "            mode=\"lines\",\n",
    "            name=name,\n",
    "            line=dict(color=\"red\" if name == \"Substitutable Skills\" else \"blue\"),\n",
    "        )\n",
    "    )\n",
    "    fig.add_trace(\n",
    "        go.Scatter(\n",
    "            x=np.concatenate([t_arr, t_arr[::-1]]),\n",
    "            y=np.concatenate([X_lower[:,1], X_upper[:,1][::-1]]),\n",
    "            fill='toself',\n",
    "            fillcolor='rgba(255, 0, 0, 0.2)' if name == \"Substitutable Skills\" else 'rgba(0, 0, 255, 0.2)',\n",
    "            line=dict(color='rgba(255,255,255,0)'),\n",
    "            hoverinfo=\"skip\",\n",
    "            showlegend=False,\n",
    "        )\n",
    "    )\n",
    "    fig.add_trace(\n",
    "        go.Scatter(\n",
    "            x=t_arr,\n",
    "            y=X_mean[:,2],\n",
    "            mode=\"lines\",\n",
    "            name=\"Other Skills\",\n",
    "            line=dict(color=\"black\"),\n",
    "        )\n",
    "    )\n",
    "    fig.add_trace(\n",
    "        go.Scatter(\n",
    "            x=np.concatenate([t_arr, t_arr[::-1]]),\n",
    "            y=np.concatenate([X_lower[:,2], X_upper[:,2][::-1]]),\n",
    "            fill='toself',\n",
    "            fillcolor='rgba(0, 0, 0, 0.2)',\n",
    "            line=dict(color='rgba(255,255,255,0)'),\n",
    "            hoverinfo=\"skip\",\n",
    "            showlegend=False,\n",
    "        )\n",
    "    )\n",
    "    \n",
    "    # add region covering 5th to 95th percentile where most data lies\n",
    "    percentile_small = np.percentile(other, 5)\n",
    "    percentile_large = np.percentile(other, 95)\n",
    "\n",
    "    idx_small = np.where(X_mean[:,2] <= percentile_small)[0]\n",
    "    idx_large = np.where(X_mean[:,2] <= percentile_large)[0]\n",
    "\n",
    "    idx_small = idx_small[0]\n",
    "    idx_large = idx_large[0]\n",
    "\n",
    "    fig.add_trace(\n",
    "        go.Scatter(\n",
    "            x=[t_arr[idx_large], t_arr[idx_large], t_arr[idx_small], t_arr[idx_small]],\n",
    "            y=[0, 1, 1, 0],\n",
    "            fill='toself',\n",
    "            fillcolor='rgba(200, 200, 200, 0.3)',\n",
    "            line=dict(color='rgba(255,255,255,0)'),\n",
    "            hoverinfo=\"skip\",\n",
    "            showlegend=False,\n",
    "        )\n",
    "    )\n",
    "    \n",
    "    fig.update_layout(\n",
    "        title=f\"AI Skill Tradeoff: {name}\",\n",
    "        xaxis_title=None,\n",
    "        yaxis_title=\"Proportion\",\n",
    "        template=\"plotly_white\",\n",
    "        width=600,\n",
    "        height=400,\n",
    "        yaxis_range=[0, 1],\n",
    "        xaxis_showgrid=False,\n",
    "        yaxis_showgrid=False,\n",
    "        xaxis_showticklabels=False,  \n",
    "        xaxis_zeroline=False,\n",
    "        margin=dict(l=50, r=50, t=50, b=50),\n",
    "        legend=dict(\n",
    "            title=None,\n",
    "            yanchor=\"top\",\n",
    "            y=1,\n",
    "            xanchor=\"center\",\n",
    "            x=.5,\n",
    "            bordercolor=\"Black\",\n",
    "            borderwidth=1,\n",
    "            font=dict(size=10)\n",
    "        )\n",
    "    )\n",
    "    name = \"Substitutable Skills\" if name == \"Substitutable Skills\" else \"Complementary Skills\"\n",
    "    fig.write_image(f\"figures/ilr_line_{name}.png\", width=600, height=400, scale=2)\n",
    "    fig.show()\n",
    "\n",
    "posts_df[\"SUB_OTHER_PERC\"] = posts_df[\"NON_AI_SUBSTITUTE_COUNT\"] / (posts_df[\"SUBSTITUTE_COUNT\"] + posts_df[\"NON_AI_SUBSTITUTE_COUNT\"] + posts_df[\"AI_COUNT\"])\n",
    "bootstrap_ilr_line_w_conf_intervals(posts_df[\"SUBSTITUTE_Z1\"].to_numpy(), posts_df[\"SUBSTITUTE_Z2\"].to_numpy(), posts_df[\"SUB_OTHER_PERC\"].to_numpy(), [-2, 2], 100, \"Substitutable Skills\")\n",
    "posts_df[\"COMP_OTHER_PERC\"] = posts_df[\"NON_AI_COMPLEMENT_COUNT\"] / (posts_df[\"COMPLEMENT_COUNT\"] + posts_df[\"NON_AI_COMPLEMENT_COUNT\"] + posts_df[\"AI_COUNT\"])\n",
    "bootstrap_ilr_line_w_conf_intervals(posts_df[\"COMPLEMENT_Z1\"].to_numpy(), posts_df[\"COMPLEMENT_Z2\"].to_numpy(), posts_df[\"COMP_OTHER_PERC\"].to_numpy(), [-2, 2], 100, \"Complementary Skills\")"
   ]
  },
  {
   "cell_type": "markdown",
   "id": "8b81391d",
   "metadata": {},
   "source": [
    "# Internal Effects Analysis"
   ]
  },
  {
   "cell_type": "code",
   "execution_count": null,
   "id": "bb68bcfe",
   "metadata": {},
   "outputs": [
    {
     "name": "stderr",
     "output_type": "stream",
     "text": [
      "  0%|          | 0/13 [00:00<?, ?it/s]"
     ]
    },
    {
     "name": "stdout",
     "output_type": "stream",
     "text": [
      "Optimization terminated successfully.\n",
      "         Current function value: 0.127531\n",
      "         Iterations 9\n"
     ]
    },
    {
     "name": "stderr",
     "output_type": "stream",
     "text": [
      "  8%|▊         | 1/13 [01:42<20:35, 102.92s/it]"
     ]
    },
    {
     "name": "stdout",
     "output_type": "stream",
     "text": [
      "Optimization terminated successfully.\n",
      "         Current function value: 0.544454\n",
      "         Iterations 6\n"
     ]
    },
    {
     "name": "stderr",
     "output_type": "stream",
     "text": [
      " 15%|█▌        | 2/13 [03:17<17:59, 98.16s/it] "
     ]
    },
    {
     "name": "stdout",
     "output_type": "stream",
     "text": [
      "Optimization terminated successfully.\n",
      "         Current function value: 0.135744\n",
      "         Iterations 10\n"
     ]
    },
    {
     "name": "stderr",
     "output_type": "stream",
     "text": [
      " 23%|██▎       | 3/13 [05:08<17:17, 103.74s/it]"
     ]
    },
    {
     "name": "stdout",
     "output_type": "stream",
     "text": [
      "Optimization terminated successfully.\n",
      "         Current function value: 0.296440\n",
      "         Iterations 7\n"
     ]
    },
    {
     "name": "stderr",
     "output_type": "stream",
     "text": [
      " 31%|███       | 4/13 [06:45<15:12, 101.37s/it]"
     ]
    },
    {
     "name": "stdout",
     "output_type": "stream",
     "text": [
      "Optimization terminated successfully.\n",
      "         Current function value: 0.603239\n",
      "         Iterations 5\n"
     ]
    },
    {
     "name": "stderr",
     "output_type": "stream",
     "text": [
      " 38%|███▊      | 5/13 [08:24<13:21, 100.21s/it]"
     ]
    },
    {
     "name": "stdout",
     "output_type": "stream",
     "text": [
      "Optimization terminated successfully.\n",
      "         Current function value: 0.533047\n",
      "         Iterations 6\n"
     ]
    },
    {
     "name": "stderr",
     "output_type": "stream",
     "text": [
      " 46%|████▌     | 6/13 [10:01<11:35, 99.40s/it] "
     ]
    },
    {
     "name": "stdout",
     "output_type": "stream",
     "text": [
      "Optimization terminated successfully.\n",
      "         Current function value: 0.316473\n",
      "         Iterations 7\n"
     ]
    },
    {
     "name": "stderr",
     "output_type": "stream",
     "text": [
      " 54%|█████▍    | 7/13 [12:13<10:59, 109.88s/it]"
     ]
    },
    {
     "name": "stdout",
     "output_type": "stream",
     "text": [
      "Optimization terminated successfully.\n",
      "         Current function value: 0.145676\n",
      "         Iterations 8\n"
     ]
    },
    {
     "name": "stderr",
     "output_type": "stream",
     "text": [
      " 62%|██████▏   | 8/13 [14:06<09:14, 110.84s/it]"
     ]
    },
    {
     "name": "stdout",
     "output_type": "stream",
     "text": [
      "Optimization terminated successfully.\n",
      "         Current function value: 0.117578\n",
      "         Iterations 9\n"
     ]
    },
    {
     "name": "stderr",
     "output_type": "stream",
     "text": [
      " 69%|██████▉   | 9/13 [16:08<07:37, 114.28s/it]"
     ]
    },
    {
     "name": "stdout",
     "output_type": "stream",
     "text": [
      "Optimization terminated successfully.\n",
      "         Current function value: 0.204830\n",
      "         Iterations 8\n"
     ]
    },
    {
     "name": "stderr",
     "output_type": "stream",
     "text": [
      " 77%|███████▋  | 10/13 [17:47<05:28, 109.62s/it]"
     ]
    },
    {
     "name": "stdout",
     "output_type": "stream",
     "text": [
      "Optimization terminated successfully.\n",
      "         Current function value: 0.324779\n",
      "         Iterations 7\n"
     ]
    },
    {
     "name": "stderr",
     "output_type": "stream",
     "text": [
      " 85%|████████▍ | 11/13 [19:24<03:31, 105.92s/it]"
     ]
    },
    {
     "name": "stdout",
     "output_type": "stream",
     "text": [
      "Optimization terminated successfully.\n",
      "         Current function value: 0.087109\n",
      "         Iterations 9\n"
     ]
    },
    {
     "name": "stderr",
     "output_type": "stream",
     "text": [
      " 92%|█████████▏| 12/13 [21:08<01:45, 105.37s/it]"
     ]
    },
    {
     "name": "stdout",
     "output_type": "stream",
     "text": [
      "Optimization terminated successfully.\n",
      "         Current function value: 0.665163\n",
      "         Iterations 5\n"
     ]
    },
    {
     "name": "stderr",
     "output_type": "stream",
     "text": [
      "100%|██████████| 13/13 [23:03<00:00, 106.45s/it]\n"
     ]
    }
   ],
   "source": [
    "# map from variable names to display names\n",
    "display_names = {\n",
    "    \"SUMMARY_REPORT\": \"Summary Report\",\n",
    "    \"CUSTOMER_SERVICE\": \"Customer Service\",\n",
    "    \"OFFICE_ADMIN\": \"Office Admin\",\n",
    "    \"LANGUAGE_REVIEW\": \"Language Review\",\n",
    "    \"SUBSTITUTE\": \"Substitute\",\n",
    "    \"ANALYTICAL_THINKING\": \"Analytical Thinking\",\n",
    "    \"DIGITAL_LITERACY\": \"Digital Literacy\",\n",
    "    \"RESILIENCE\": \"Resilience\",\n",
    "    \"TECHNICAL_PROFICIENCY\": \"Technical Proficiency\",\n",
    "    \"ETHICS\": \"Ethics\",\n",
    "    \"WORKING_OTHERS\": \"Working with Others\",\n",
    "    \"SELF_EFFICIENCY\": \"Self Efficiency\",\n",
    "    \"COMPLEMENT\": \"Complementary\"\n",
    "}\n",
    "\n",
    "# same model for each skill group\n",
    "def logit_regression(df, response): \n",
    "    return smf.logit(f\"{response} ~ AI + MIN_YEARS_EXPERIENCE + C(MIN_EDULEVELS_NAME) + C(YEAR) + C({country[choice]['REGION']}) + C({country[choice]['INDUSTRY']}) + C({country[choice]['HIGH_OCC_NAME']})\", data=posts_df).fit()\n",
    "\n",
    "logit_models ={k: logit_regression(posts_df, k) for k in tqdm(display_names.keys(), total=len(display_names))}"
   ]
  },
  {
   "cell_type": "code",
   "execution_count": 144,
   "id": "183bf144",
   "metadata": {},
   "outputs": [
    {
     "data": {
      "application/vnd.plotly.v1+json": {
       "config": {
        "plotlyServerURL": "https://plot.ly"
       },
       "data": [
        {
         "error_x": {
          "array": [
           0.08890022014188714
          ],
          "color": "black",
          "type": "data",
          "visible": true
         },
         "marker": {
          "color": "red",
          "size": 8
         },
         "mode": "markers",
         "showlegend": false,
         "type": "scatter",
         "x": [
          -0.6840746746819341
         ],
         "y": [
          "Summary Report"
         ]
        },
        {
         "error_x": {
          "array": [
           0.05139067274140616
          ],
          "color": "black",
          "type": "data",
          "visible": true
         },
         "marker": {
          "color": "red",
          "size": 8
         },
         "mode": "markers",
         "showlegend": false,
         "type": "scatter",
         "x": [
          -0.14329365513345188
         ],
         "y": [
          "Language Review"
         ]
        },
        {
         "error_x": {
          "array": [
           0.03063836913521667
          ],
          "color": "black",
          "type": "data",
          "visible": true
         },
         "marker": {
          "color": "red",
          "size": 8
         },
         "mode": "markers",
         "showlegend": false,
         "type": "scatter",
         "x": [
          -0.4357807448226773
         ],
         "y": [
          "Customer Service"
         ]
        },
        {
         "error_x": {
          "array": [
           0.08894217269524574
          ],
          "color": "black",
          "type": "data",
          "visible": true
         },
         "marker": {
          "color": "red",
          "size": 8
         },
         "mode": "markers",
         "showlegend": false,
         "type": "scatter",
         "x": [
          -0.5561834449597801
         ],
         "y": [
          "Office Admin"
         ]
        },
        {
         "error_x": {
          "array": [
           0.027438681739182624
          ],
          "color": "black",
          "type": "data",
          "visible": true
         },
         "marker": {
          "color": "red",
          "size": 8
         },
         "mode": "markers",
         "showlegend": false,
         "type": "scatter",
         "x": [
          -0.4724126221910569
         ],
         "y": [
          "Substitute"
         ]
        }
       ],
       "layout": {
        "height": 300,
        "margin": {
         "b": 50,
         "l": 50,
         "r": 50,
         "t": 50
        },
        "template": {
         "data": {
          "bar": [
           {
            "error_x": {
             "color": "#2a3f5f"
            },
            "error_y": {
             "color": "#2a3f5f"
            },
            "marker": {
             "line": {
              "color": "white",
              "width": 0.5
             },
             "pattern": {
              "fillmode": "overlay",
              "size": 10,
              "solidity": 0.2
             }
            },
            "type": "bar"
           }
          ],
          "barpolar": [
           {
            "marker": {
             "line": {
              "color": "white",
              "width": 0.5
             },
             "pattern": {
              "fillmode": "overlay",
              "size": 10,
              "solidity": 0.2
             }
            },
            "type": "barpolar"
           }
          ],
          "carpet": [
           {
            "aaxis": {
             "endlinecolor": "#2a3f5f",
             "gridcolor": "#C8D4E3",
             "linecolor": "#C8D4E3",
             "minorgridcolor": "#C8D4E3",
             "startlinecolor": "#2a3f5f"
            },
            "baxis": {
             "endlinecolor": "#2a3f5f",
             "gridcolor": "#C8D4E3",
             "linecolor": "#C8D4E3",
             "minorgridcolor": "#C8D4E3",
             "startlinecolor": "#2a3f5f"
            },
            "type": "carpet"
           }
          ],
          "choropleth": [
           {
            "colorbar": {
             "outlinewidth": 0,
             "ticks": ""
            },
            "type": "choropleth"
           }
          ],
          "contour": [
           {
            "colorbar": {
             "outlinewidth": 0,
             "ticks": ""
            },
            "colorscale": [
             [
              0,
              "#0d0887"
             ],
             [
              0.1111111111111111,
              "#46039f"
             ],
             [
              0.2222222222222222,
              "#7201a8"
             ],
             [
              0.3333333333333333,
              "#9c179e"
             ],
             [
              0.4444444444444444,
              "#bd3786"
             ],
             [
              0.5555555555555556,
              "#d8576b"
             ],
             [
              0.6666666666666666,
              "#ed7953"
             ],
             [
              0.7777777777777778,
              "#fb9f3a"
             ],
             [
              0.8888888888888888,
              "#fdca26"
             ],
             [
              1,
              "#f0f921"
             ]
            ],
            "type": "contour"
           }
          ],
          "contourcarpet": [
           {
            "colorbar": {
             "outlinewidth": 0,
             "ticks": ""
            },
            "type": "contourcarpet"
           }
          ],
          "heatmap": [
           {
            "colorbar": {
             "outlinewidth": 0,
             "ticks": ""
            },
            "colorscale": [
             [
              0,
              "#0d0887"
             ],
             [
              0.1111111111111111,
              "#46039f"
             ],
             [
              0.2222222222222222,
              "#7201a8"
             ],
             [
              0.3333333333333333,
              "#9c179e"
             ],
             [
              0.4444444444444444,
              "#bd3786"
             ],
             [
              0.5555555555555556,
              "#d8576b"
             ],
             [
              0.6666666666666666,
              "#ed7953"
             ],
             [
              0.7777777777777778,
              "#fb9f3a"
             ],
             [
              0.8888888888888888,
              "#fdca26"
             ],
             [
              1,
              "#f0f921"
             ]
            ],
            "type": "heatmap"
           }
          ],
          "histogram": [
           {
            "marker": {
             "pattern": {
              "fillmode": "overlay",
              "size": 10,
              "solidity": 0.2
             }
            },
            "type": "histogram"
           }
          ],
          "histogram2d": [
           {
            "colorbar": {
             "outlinewidth": 0,
             "ticks": ""
            },
            "colorscale": [
             [
              0,
              "#0d0887"
             ],
             [
              0.1111111111111111,
              "#46039f"
             ],
             [
              0.2222222222222222,
              "#7201a8"
             ],
             [
              0.3333333333333333,
              "#9c179e"
             ],
             [
              0.4444444444444444,
              "#bd3786"
             ],
             [
              0.5555555555555556,
              "#d8576b"
             ],
             [
              0.6666666666666666,
              "#ed7953"
             ],
             [
              0.7777777777777778,
              "#fb9f3a"
             ],
             [
              0.8888888888888888,
              "#fdca26"
             ],
             [
              1,
              "#f0f921"
             ]
            ],
            "type": "histogram2d"
           }
          ],
          "histogram2dcontour": [
           {
            "colorbar": {
             "outlinewidth": 0,
             "ticks": ""
            },
            "colorscale": [
             [
              0,
              "#0d0887"
             ],
             [
              0.1111111111111111,
              "#46039f"
             ],
             [
              0.2222222222222222,
              "#7201a8"
             ],
             [
              0.3333333333333333,
              "#9c179e"
             ],
             [
              0.4444444444444444,
              "#bd3786"
             ],
             [
              0.5555555555555556,
              "#d8576b"
             ],
             [
              0.6666666666666666,
              "#ed7953"
             ],
             [
              0.7777777777777778,
              "#fb9f3a"
             ],
             [
              0.8888888888888888,
              "#fdca26"
             ],
             [
              1,
              "#f0f921"
             ]
            ],
            "type": "histogram2dcontour"
           }
          ],
          "mesh3d": [
           {
            "colorbar": {
             "outlinewidth": 0,
             "ticks": ""
            },
            "type": "mesh3d"
           }
          ],
          "parcoords": [
           {
            "line": {
             "colorbar": {
              "outlinewidth": 0,
              "ticks": ""
             }
            },
            "type": "parcoords"
           }
          ],
          "pie": [
           {
            "automargin": true,
            "type": "pie"
           }
          ],
          "scatter": [
           {
            "fillpattern": {
             "fillmode": "overlay",
             "size": 10,
             "solidity": 0.2
            },
            "type": "scatter"
           }
          ],
          "scatter3d": [
           {
            "line": {
             "colorbar": {
              "outlinewidth": 0,
              "ticks": ""
             }
            },
            "marker": {
             "colorbar": {
              "outlinewidth": 0,
              "ticks": ""
             }
            },
            "type": "scatter3d"
           }
          ],
          "scattercarpet": [
           {
            "marker": {
             "colorbar": {
              "outlinewidth": 0,
              "ticks": ""
             }
            },
            "type": "scattercarpet"
           }
          ],
          "scattergeo": [
           {
            "marker": {
             "colorbar": {
              "outlinewidth": 0,
              "ticks": ""
             }
            },
            "type": "scattergeo"
           }
          ],
          "scattergl": [
           {
            "marker": {
             "colorbar": {
              "outlinewidth": 0,
              "ticks": ""
             }
            },
            "type": "scattergl"
           }
          ],
          "scattermap": [
           {
            "marker": {
             "colorbar": {
              "outlinewidth": 0,
              "ticks": ""
             }
            },
            "type": "scattermap"
           }
          ],
          "scattermapbox": [
           {
            "marker": {
             "colorbar": {
              "outlinewidth": 0,
              "ticks": ""
             }
            },
            "type": "scattermapbox"
           }
          ],
          "scatterpolar": [
           {
            "marker": {
             "colorbar": {
              "outlinewidth": 0,
              "ticks": ""
             }
            },
            "type": "scatterpolar"
           }
          ],
          "scatterpolargl": [
           {
            "marker": {
             "colorbar": {
              "outlinewidth": 0,
              "ticks": ""
             }
            },
            "type": "scatterpolargl"
           }
          ],
          "scatterternary": [
           {
            "marker": {
             "colorbar": {
              "outlinewidth": 0,
              "ticks": ""
             }
            },
            "type": "scatterternary"
           }
          ],
          "surface": [
           {
            "colorbar": {
             "outlinewidth": 0,
             "ticks": ""
            },
            "colorscale": [
             [
              0,
              "#0d0887"
             ],
             [
              0.1111111111111111,
              "#46039f"
             ],
             [
              0.2222222222222222,
              "#7201a8"
             ],
             [
              0.3333333333333333,
              "#9c179e"
             ],
             [
              0.4444444444444444,
              "#bd3786"
             ],
             [
              0.5555555555555556,
              "#d8576b"
             ],
             [
              0.6666666666666666,
              "#ed7953"
             ],
             [
              0.7777777777777778,
              "#fb9f3a"
             ],
             [
              0.8888888888888888,
              "#fdca26"
             ],
             [
              1,
              "#f0f921"
             ]
            ],
            "type": "surface"
           }
          ],
          "table": [
           {
            "cells": {
             "fill": {
              "color": "#EBF0F8"
             },
             "line": {
              "color": "white"
             }
            },
            "header": {
             "fill": {
              "color": "#C8D4E3"
             },
             "line": {
              "color": "white"
             }
            },
            "type": "table"
           }
          ]
         },
         "layout": {
          "annotationdefaults": {
           "arrowcolor": "#2a3f5f",
           "arrowhead": 0,
           "arrowwidth": 1
          },
          "autotypenumbers": "strict",
          "coloraxis": {
           "colorbar": {
            "outlinewidth": 0,
            "ticks": ""
           }
          },
          "colorscale": {
           "diverging": [
            [
             0,
             "#8e0152"
            ],
            [
             0.1,
             "#c51b7d"
            ],
            [
             0.2,
             "#de77ae"
            ],
            [
             0.3,
             "#f1b6da"
            ],
            [
             0.4,
             "#fde0ef"
            ],
            [
             0.5,
             "#f7f7f7"
            ],
            [
             0.6,
             "#e6f5d0"
            ],
            [
             0.7,
             "#b8e186"
            ],
            [
             0.8,
             "#7fbc41"
            ],
            [
             0.9,
             "#4d9221"
            ],
            [
             1,
             "#276419"
            ]
           ],
           "sequential": [
            [
             0,
             "#0d0887"
            ],
            [
             0.1111111111111111,
             "#46039f"
            ],
            [
             0.2222222222222222,
             "#7201a8"
            ],
            [
             0.3333333333333333,
             "#9c179e"
            ],
            [
             0.4444444444444444,
             "#bd3786"
            ],
            [
             0.5555555555555556,
             "#d8576b"
            ],
            [
             0.6666666666666666,
             "#ed7953"
            ],
            [
             0.7777777777777778,
             "#fb9f3a"
            ],
            [
             0.8888888888888888,
             "#fdca26"
            ],
            [
             1,
             "#f0f921"
            ]
           ],
           "sequentialminus": [
            [
             0,
             "#0d0887"
            ],
            [
             0.1111111111111111,
             "#46039f"
            ],
            [
             0.2222222222222222,
             "#7201a8"
            ],
            [
             0.3333333333333333,
             "#9c179e"
            ],
            [
             0.4444444444444444,
             "#bd3786"
            ],
            [
             0.5555555555555556,
             "#d8576b"
            ],
            [
             0.6666666666666666,
             "#ed7953"
            ],
            [
             0.7777777777777778,
             "#fb9f3a"
            ],
            [
             0.8888888888888888,
             "#fdca26"
            ],
            [
             1,
             "#f0f921"
            ]
           ]
          },
          "colorway": [
           "#636efa",
           "#EF553B",
           "#00cc96",
           "#ab63fa",
           "#FFA15A",
           "#19d3f3",
           "#FF6692",
           "#B6E880",
           "#FF97FF",
           "#FECB52"
          ],
          "font": {
           "color": "#2a3f5f"
          },
          "geo": {
           "bgcolor": "white",
           "lakecolor": "white",
           "landcolor": "white",
           "showlakes": true,
           "showland": true,
           "subunitcolor": "#C8D4E3"
          },
          "hoverlabel": {
           "align": "left"
          },
          "hovermode": "closest",
          "mapbox": {
           "style": "light"
          },
          "paper_bgcolor": "white",
          "plot_bgcolor": "white",
          "polar": {
           "angularaxis": {
            "gridcolor": "#EBF0F8",
            "linecolor": "#EBF0F8",
            "ticks": ""
           },
           "bgcolor": "white",
           "radialaxis": {
            "gridcolor": "#EBF0F8",
            "linecolor": "#EBF0F8",
            "ticks": ""
           }
          },
          "scene": {
           "xaxis": {
            "backgroundcolor": "white",
            "gridcolor": "#DFE8F3",
            "gridwidth": 2,
            "linecolor": "#EBF0F8",
            "showbackground": true,
            "ticks": "",
            "zerolinecolor": "#EBF0F8"
           },
           "yaxis": {
            "backgroundcolor": "white",
            "gridcolor": "#DFE8F3",
            "gridwidth": 2,
            "linecolor": "#EBF0F8",
            "showbackground": true,
            "ticks": "",
            "zerolinecolor": "#EBF0F8"
           },
           "zaxis": {
            "backgroundcolor": "white",
            "gridcolor": "#DFE8F3",
            "gridwidth": 2,
            "linecolor": "#EBF0F8",
            "showbackground": true,
            "ticks": "",
            "zerolinecolor": "#EBF0F8"
           }
          },
          "shapedefaults": {
           "line": {
            "color": "#2a3f5f"
           }
          },
          "ternary": {
           "aaxis": {
            "gridcolor": "#DFE8F3",
            "linecolor": "#A2B1C6",
            "ticks": ""
           },
           "baxis": {
            "gridcolor": "#DFE8F3",
            "linecolor": "#A2B1C6",
            "ticks": ""
           },
           "bgcolor": "white",
           "caxis": {
            "gridcolor": "#DFE8F3",
            "linecolor": "#A2B1C6",
            "ticks": ""
           }
          },
          "title": {
           "x": 0.05
          },
          "xaxis": {
           "automargin": true,
           "gridcolor": "#EBF0F8",
           "linecolor": "#EBF0F8",
           "ticks": "",
           "title": {
            "standoff": 15
           },
           "zerolinecolor": "#EBF0F8",
           "zerolinewidth": 2
          },
          "yaxis": {
           "automargin": true,
           "gridcolor": "#EBF0F8",
           "linecolor": "#EBF0F8",
           "ticks": "",
           "title": {
            "standoff": 15
           },
           "zerolinecolor": "#EBF0F8",
           "zerolinewidth": 2
          }
         }
        },
        "title": {
         "text": "Substitute Demand (% change for AI roles)"
        },
        "width": 400,
        "xaxis": {
         "range": [
          -1,
          1
         ],
         "showgrid": false,
         "title": {
          "text": "Coefficient"
         }
        },
        "yaxis": {
         "showgrid": false
        }
       }
      }
     },
     "metadata": {},
     "output_type": "display_data"
    },
    {
     "data": {
      "application/vnd.plotly.v1+json": {
       "config": {
        "plotlyServerURL": "https://plot.ly"
       },
       "data": [
        {
         "error_x": {
          "array": [
           0.02411849147785114
          ],
          "color": "black",
          "type": "data",
          "visible": true
         },
         "marker": {
          "color": "red",
          "size": 8
         },
         "mode": "markers",
         "showlegend": false,
         "type": "scatter",
         "x": [
          0.03476222185296672
         ],
         "y": [
          "Analytical Thinking"
         ]
        },
        {
         "error_x": {
          "array": [
           0.05967862662936402
          ],
          "color": "black",
          "type": "data",
          "visible": true
         },
         "marker": {
          "color": "red",
          "size": 8
         },
         "mode": "markers",
         "showlegend": false,
         "type": "scatter",
         "x": [
          -0.3294602233471726
         ],
         "y": [
          "Digital Literacy"
         ]
        },
        {
         "error_x": {
          "array": [
           0.059248656288817945
          ],
          "color": "black",
          "type": "data",
          "visible": true
         },
         "marker": {
          "color": "red",
          "size": 8
         },
         "mode": "markers",
         "showlegend": false,
         "type": "scatter",
         "x": [
          -0.006682294908914903
         ],
         "y": [
          "Resilience"
         ]
        },
        {
         "error_x": {
          "array": [
           0.06780359314144511
          ],
          "color": "black",
          "type": "data",
          "visible": true
         },
         "marker": {
          "color": "red",
          "size": 8
         },
         "mode": "markers",
         "showlegend": false,
         "type": "scatter",
         "x": [
          -0.032637614349357975
         ],
         "y": [
          "Technical Proficiency"
         ]
        },
        {
         "error_x": {
          "array": [
           0.0679675872902703
          ],
          "color": "black",
          "type": "data",
          "visible": true
         },
         "marker": {
          "color": "red",
          "size": 8
         },
         "mode": "markers",
         "showlegend": false,
         "type": "scatter",
         "x": [
          -0.3730327748558334
         ],
         "y": [
          "Ethics"
         ]
        },
        {
         "error_x": {
          "array": [
           0.03461570422818623
          ],
          "color": "black",
          "type": "data",
          "visible": true
         },
         "marker": {
          "color": "red",
          "size": 8
         },
         "mode": "markers",
         "showlegend": false,
         "type": "scatter",
         "x": [
          -0.03828557199432736
         ],
         "y": [
          "Working with Others"
         ]
        },
        {
         "error_x": {
          "array": [
           0.0758981896592985
          ],
          "color": "black",
          "type": "data",
          "visible": true
         },
         "marker": {
          "color": "red",
          "size": 8
         },
         "mode": "markers",
         "showlegend": false,
         "type": "scatter",
         "x": [
          -0.006272111720199667
         ],
         "y": [
          "Self Efficiency"
         ]
        },
        {
         "error_x": {
          "array": [
           0.022687439628633854
          ],
          "color": "black",
          "type": "data",
          "visible": true
         },
         "marker": {
          "color": "red",
          "size": 8
         },
         "mode": "markers",
         "showlegend": false,
         "type": "scatter",
         "x": [
          -0.043843376768121306
         ],
         "y": [
          "Complementary"
         ]
        }
       ],
       "layout": {
        "height": 300,
        "margin": {
         "b": 50,
         "l": 50,
         "r": 50,
         "t": 50
        },
        "template": {
         "data": {
          "bar": [
           {
            "error_x": {
             "color": "#2a3f5f"
            },
            "error_y": {
             "color": "#2a3f5f"
            },
            "marker": {
             "line": {
              "color": "white",
              "width": 0.5
             },
             "pattern": {
              "fillmode": "overlay",
              "size": 10,
              "solidity": 0.2
             }
            },
            "type": "bar"
           }
          ],
          "barpolar": [
           {
            "marker": {
             "line": {
              "color": "white",
              "width": 0.5
             },
             "pattern": {
              "fillmode": "overlay",
              "size": 10,
              "solidity": 0.2
             }
            },
            "type": "barpolar"
           }
          ],
          "carpet": [
           {
            "aaxis": {
             "endlinecolor": "#2a3f5f",
             "gridcolor": "#C8D4E3",
             "linecolor": "#C8D4E3",
             "minorgridcolor": "#C8D4E3",
             "startlinecolor": "#2a3f5f"
            },
            "baxis": {
             "endlinecolor": "#2a3f5f",
             "gridcolor": "#C8D4E3",
             "linecolor": "#C8D4E3",
             "minorgridcolor": "#C8D4E3",
             "startlinecolor": "#2a3f5f"
            },
            "type": "carpet"
           }
          ],
          "choropleth": [
           {
            "colorbar": {
             "outlinewidth": 0,
             "ticks": ""
            },
            "type": "choropleth"
           }
          ],
          "contour": [
           {
            "colorbar": {
             "outlinewidth": 0,
             "ticks": ""
            },
            "colorscale": [
             [
              0,
              "#0d0887"
             ],
             [
              0.1111111111111111,
              "#46039f"
             ],
             [
              0.2222222222222222,
              "#7201a8"
             ],
             [
              0.3333333333333333,
              "#9c179e"
             ],
             [
              0.4444444444444444,
              "#bd3786"
             ],
             [
              0.5555555555555556,
              "#d8576b"
             ],
             [
              0.6666666666666666,
              "#ed7953"
             ],
             [
              0.7777777777777778,
              "#fb9f3a"
             ],
             [
              0.8888888888888888,
              "#fdca26"
             ],
             [
              1,
              "#f0f921"
             ]
            ],
            "type": "contour"
           }
          ],
          "contourcarpet": [
           {
            "colorbar": {
             "outlinewidth": 0,
             "ticks": ""
            },
            "type": "contourcarpet"
           }
          ],
          "heatmap": [
           {
            "colorbar": {
             "outlinewidth": 0,
             "ticks": ""
            },
            "colorscale": [
             [
              0,
              "#0d0887"
             ],
             [
              0.1111111111111111,
              "#46039f"
             ],
             [
              0.2222222222222222,
              "#7201a8"
             ],
             [
              0.3333333333333333,
              "#9c179e"
             ],
             [
              0.4444444444444444,
              "#bd3786"
             ],
             [
              0.5555555555555556,
              "#d8576b"
             ],
             [
              0.6666666666666666,
              "#ed7953"
             ],
             [
              0.7777777777777778,
              "#fb9f3a"
             ],
             [
              0.8888888888888888,
              "#fdca26"
             ],
             [
              1,
              "#f0f921"
             ]
            ],
            "type": "heatmap"
           }
          ],
          "histogram": [
           {
            "marker": {
             "pattern": {
              "fillmode": "overlay",
              "size": 10,
              "solidity": 0.2
             }
            },
            "type": "histogram"
           }
          ],
          "histogram2d": [
           {
            "colorbar": {
             "outlinewidth": 0,
             "ticks": ""
            },
            "colorscale": [
             [
              0,
              "#0d0887"
             ],
             [
              0.1111111111111111,
              "#46039f"
             ],
             [
              0.2222222222222222,
              "#7201a8"
             ],
             [
              0.3333333333333333,
              "#9c179e"
             ],
             [
              0.4444444444444444,
              "#bd3786"
             ],
             [
              0.5555555555555556,
              "#d8576b"
             ],
             [
              0.6666666666666666,
              "#ed7953"
             ],
             [
              0.7777777777777778,
              "#fb9f3a"
             ],
             [
              0.8888888888888888,
              "#fdca26"
             ],
             [
              1,
              "#f0f921"
             ]
            ],
            "type": "histogram2d"
           }
          ],
          "histogram2dcontour": [
           {
            "colorbar": {
             "outlinewidth": 0,
             "ticks": ""
            },
            "colorscale": [
             [
              0,
              "#0d0887"
             ],
             [
              0.1111111111111111,
              "#46039f"
             ],
             [
              0.2222222222222222,
              "#7201a8"
             ],
             [
              0.3333333333333333,
              "#9c179e"
             ],
             [
              0.4444444444444444,
              "#bd3786"
             ],
             [
              0.5555555555555556,
              "#d8576b"
             ],
             [
              0.6666666666666666,
              "#ed7953"
             ],
             [
              0.7777777777777778,
              "#fb9f3a"
             ],
             [
              0.8888888888888888,
              "#fdca26"
             ],
             [
              1,
              "#f0f921"
             ]
            ],
            "type": "histogram2dcontour"
           }
          ],
          "mesh3d": [
           {
            "colorbar": {
             "outlinewidth": 0,
             "ticks": ""
            },
            "type": "mesh3d"
           }
          ],
          "parcoords": [
           {
            "line": {
             "colorbar": {
              "outlinewidth": 0,
              "ticks": ""
             }
            },
            "type": "parcoords"
           }
          ],
          "pie": [
           {
            "automargin": true,
            "type": "pie"
           }
          ],
          "scatter": [
           {
            "fillpattern": {
             "fillmode": "overlay",
             "size": 10,
             "solidity": 0.2
            },
            "type": "scatter"
           }
          ],
          "scatter3d": [
           {
            "line": {
             "colorbar": {
              "outlinewidth": 0,
              "ticks": ""
             }
            },
            "marker": {
             "colorbar": {
              "outlinewidth": 0,
              "ticks": ""
             }
            },
            "type": "scatter3d"
           }
          ],
          "scattercarpet": [
           {
            "marker": {
             "colorbar": {
              "outlinewidth": 0,
              "ticks": ""
             }
            },
            "type": "scattercarpet"
           }
          ],
          "scattergeo": [
           {
            "marker": {
             "colorbar": {
              "outlinewidth": 0,
              "ticks": ""
             }
            },
            "type": "scattergeo"
           }
          ],
          "scattergl": [
           {
            "marker": {
             "colorbar": {
              "outlinewidth": 0,
              "ticks": ""
             }
            },
            "type": "scattergl"
           }
          ],
          "scattermap": [
           {
            "marker": {
             "colorbar": {
              "outlinewidth": 0,
              "ticks": ""
             }
            },
            "type": "scattermap"
           }
          ],
          "scattermapbox": [
           {
            "marker": {
             "colorbar": {
              "outlinewidth": 0,
              "ticks": ""
             }
            },
            "type": "scattermapbox"
           }
          ],
          "scatterpolar": [
           {
            "marker": {
             "colorbar": {
              "outlinewidth": 0,
              "ticks": ""
             }
            },
            "type": "scatterpolar"
           }
          ],
          "scatterpolargl": [
           {
            "marker": {
             "colorbar": {
              "outlinewidth": 0,
              "ticks": ""
             }
            },
            "type": "scatterpolargl"
           }
          ],
          "scatterternary": [
           {
            "marker": {
             "colorbar": {
              "outlinewidth": 0,
              "ticks": ""
             }
            },
            "type": "scatterternary"
           }
          ],
          "surface": [
           {
            "colorbar": {
             "outlinewidth": 0,
             "ticks": ""
            },
            "colorscale": [
             [
              0,
              "#0d0887"
             ],
             [
              0.1111111111111111,
              "#46039f"
             ],
             [
              0.2222222222222222,
              "#7201a8"
             ],
             [
              0.3333333333333333,
              "#9c179e"
             ],
             [
              0.4444444444444444,
              "#bd3786"
             ],
             [
              0.5555555555555556,
              "#d8576b"
             ],
             [
              0.6666666666666666,
              "#ed7953"
             ],
             [
              0.7777777777777778,
              "#fb9f3a"
             ],
             [
              0.8888888888888888,
              "#fdca26"
             ],
             [
              1,
              "#f0f921"
             ]
            ],
            "type": "surface"
           }
          ],
          "table": [
           {
            "cells": {
             "fill": {
              "color": "#EBF0F8"
             },
             "line": {
              "color": "white"
             }
            },
            "header": {
             "fill": {
              "color": "#C8D4E3"
             },
             "line": {
              "color": "white"
             }
            },
            "type": "table"
           }
          ]
         },
         "layout": {
          "annotationdefaults": {
           "arrowcolor": "#2a3f5f",
           "arrowhead": 0,
           "arrowwidth": 1
          },
          "autotypenumbers": "strict",
          "coloraxis": {
           "colorbar": {
            "outlinewidth": 0,
            "ticks": ""
           }
          },
          "colorscale": {
           "diverging": [
            [
             0,
             "#8e0152"
            ],
            [
             0.1,
             "#c51b7d"
            ],
            [
             0.2,
             "#de77ae"
            ],
            [
             0.3,
             "#f1b6da"
            ],
            [
             0.4,
             "#fde0ef"
            ],
            [
             0.5,
             "#f7f7f7"
            ],
            [
             0.6,
             "#e6f5d0"
            ],
            [
             0.7,
             "#b8e186"
            ],
            [
             0.8,
             "#7fbc41"
            ],
            [
             0.9,
             "#4d9221"
            ],
            [
             1,
             "#276419"
            ]
           ],
           "sequential": [
            [
             0,
             "#0d0887"
            ],
            [
             0.1111111111111111,
             "#46039f"
            ],
            [
             0.2222222222222222,
             "#7201a8"
            ],
            [
             0.3333333333333333,
             "#9c179e"
            ],
            [
             0.4444444444444444,
             "#bd3786"
            ],
            [
             0.5555555555555556,
             "#d8576b"
            ],
            [
             0.6666666666666666,
             "#ed7953"
            ],
            [
             0.7777777777777778,
             "#fb9f3a"
            ],
            [
             0.8888888888888888,
             "#fdca26"
            ],
            [
             1,
             "#f0f921"
            ]
           ],
           "sequentialminus": [
            [
             0,
             "#0d0887"
            ],
            [
             0.1111111111111111,
             "#46039f"
            ],
            [
             0.2222222222222222,
             "#7201a8"
            ],
            [
             0.3333333333333333,
             "#9c179e"
            ],
            [
             0.4444444444444444,
             "#bd3786"
            ],
            [
             0.5555555555555556,
             "#d8576b"
            ],
            [
             0.6666666666666666,
             "#ed7953"
            ],
            [
             0.7777777777777778,
             "#fb9f3a"
            ],
            [
             0.8888888888888888,
             "#fdca26"
            ],
            [
             1,
             "#f0f921"
            ]
           ]
          },
          "colorway": [
           "#636efa",
           "#EF553B",
           "#00cc96",
           "#ab63fa",
           "#FFA15A",
           "#19d3f3",
           "#FF6692",
           "#B6E880",
           "#FF97FF",
           "#FECB52"
          ],
          "font": {
           "color": "#2a3f5f"
          },
          "geo": {
           "bgcolor": "white",
           "lakecolor": "white",
           "landcolor": "white",
           "showlakes": true,
           "showland": true,
           "subunitcolor": "#C8D4E3"
          },
          "hoverlabel": {
           "align": "left"
          },
          "hovermode": "closest",
          "mapbox": {
           "style": "light"
          },
          "paper_bgcolor": "white",
          "plot_bgcolor": "white",
          "polar": {
           "angularaxis": {
            "gridcolor": "#EBF0F8",
            "linecolor": "#EBF0F8",
            "ticks": ""
           },
           "bgcolor": "white",
           "radialaxis": {
            "gridcolor": "#EBF0F8",
            "linecolor": "#EBF0F8",
            "ticks": ""
           }
          },
          "scene": {
           "xaxis": {
            "backgroundcolor": "white",
            "gridcolor": "#DFE8F3",
            "gridwidth": 2,
            "linecolor": "#EBF0F8",
            "showbackground": true,
            "ticks": "",
            "zerolinecolor": "#EBF0F8"
           },
           "yaxis": {
            "backgroundcolor": "white",
            "gridcolor": "#DFE8F3",
            "gridwidth": 2,
            "linecolor": "#EBF0F8",
            "showbackground": true,
            "ticks": "",
            "zerolinecolor": "#EBF0F8"
           },
           "zaxis": {
            "backgroundcolor": "white",
            "gridcolor": "#DFE8F3",
            "gridwidth": 2,
            "linecolor": "#EBF0F8",
            "showbackground": true,
            "ticks": "",
            "zerolinecolor": "#EBF0F8"
           }
          },
          "shapedefaults": {
           "line": {
            "color": "#2a3f5f"
           }
          },
          "ternary": {
           "aaxis": {
            "gridcolor": "#DFE8F3",
            "linecolor": "#A2B1C6",
            "ticks": ""
           },
           "baxis": {
            "gridcolor": "#DFE8F3",
            "linecolor": "#A2B1C6",
            "ticks": ""
           },
           "bgcolor": "white",
           "caxis": {
            "gridcolor": "#DFE8F3",
            "linecolor": "#A2B1C6",
            "ticks": ""
           }
          },
          "title": {
           "x": 0.05
          },
          "xaxis": {
           "automargin": true,
           "gridcolor": "#EBF0F8",
           "linecolor": "#EBF0F8",
           "ticks": "",
           "title": {
            "standoff": 15
           },
           "zerolinecolor": "#EBF0F8",
           "zerolinewidth": 2
          },
          "yaxis": {
           "automargin": true,
           "gridcolor": "#EBF0F8",
           "linecolor": "#EBF0F8",
           "ticks": "",
           "title": {
            "standoff": 15
           },
           "zerolinecolor": "#EBF0F8",
           "zerolinewidth": 2
          }
         }
        },
        "title": {
         "text": "Complement Demand (% change for AI roles)"
        },
        "width": 400,
        "xaxis": {
         "range": [
          -1,
          1
         ],
         "showgrid": false,
         "title": {
          "text": "Coefficient"
         }
        },
        "yaxis": {
         "showgrid": false
        }
       }
      }
     },
     "metadata": {},
     "output_type": "display_data"
    }
   ],
   "source": [
    "# get 95% confidence interval for a variable in a model\n",
    "def get_conf(model, variable):\n",
    "    return model.conf_int(alpha=.05).reset_index().groupby(\"index\").get_group(variable)[1].values[0] -  model.params[variable]\n",
    "\n",
    "def model_summary_plot(models, responses, regressors, title, salary_model=False):\n",
    "    \n",
    "    table = summary_col(\n",
    "        [models[r] for r in responses],\n",
    "        regressor_order=regressors,\n",
    "        stars=True,\n",
    "        float_format='%0.2f',\n",
    "        info_dict={\n",
    "            'N':lambda x: \"{0:d}\".format(int(x.nobs)),\n",
    "            'R2':lambda x: \"{:.2f}\".format(x.rsquared)\n",
    "        }\n",
    "    )\n",
    "    \n",
    "    fig = go.Figure()\n",
    "    for res in responses:\n",
    "        fig.add_trace(\n",
    "            go.Scatter(\n",
    "                x=[models[res].params[\"AI\" if not salary_model else res]],\n",
    "                y=[display_names[res]],\n",
    "                mode='markers',\n",
    "                marker=dict(size=8, color='red'),\n",
    "                error_x=dict(\n",
    "                    type='data',\n",
    "                    array=[get_conf(models[res], \"AI\" if not salary_model else res)],\n",
    "                    visible=True,\n",
    "                    color='black'\n",
    "                ),\n",
    "                showlegend=False\n",
    "            )\n",
    "        )\n",
    "        \n",
    "    # print(table.as_latex())\n",
    "        \n",
    "    fig.update_layout(\n",
    "        title=title,\n",
    "        xaxis_title=\"Coefficient\",\n",
    "        template=\"plotly_white\",\n",
    "        xaxis_showgrid=False,\n",
    "        yaxis_showgrid=False,\n",
    "        margin=dict(l=50, r=50, t=50, b=50),\n",
    "        xaxis_range=[-.3, .3] if salary_model else [-1, 1],\n",
    "        width=400,\n",
    "        height=300\n",
    "    )\n",
    "    \n",
    "    model_type = \"salary\" if salary_model else \"logit\"\n",
    "    group = \"substitute\" if \"SUMMARY_REPORT\" in responses else \"complement\"\n",
    "    fig.write_image(f\"figures/{model_type}_coefficients_{group}.png\", width=400, height=300, scale=2)\n",
    "    \n",
    "    fig.show()\n",
    "\n",
    "    return table, \\\n",
    "        {k: m.params[k if salary_model else \"AI\"] for k, m in models.items()}, \\\n",
    "        {k: get_conf(m, k if salary_model else \"AI\") for k, m in models.items()}\n",
    "\n",
    "sub_responses = [\"SUMMARY_REPORT\", \"LANGUAGE_REVIEW\", \"CUSTOMER_SERVICE\", \"OFFICE_ADMIN\", \"SUBSTITUTE\"]\n",
    "sub_logit_table, sub_logit_coefs, sub_logit_confs = model_summary_plot(\n",
    "    logit_models, \n",
    "    sub_responses, \n",
    "    [\"AI\", \"MIN_YEARS_EXPERIENCE\", \"BODY_LENGTH\"],\n",
    "    \"Substitute Demand (% change for AI roles)\"\n",
    ")\n",
    "comp_responses = [\"ANALYTICAL_THINKING\", \"DIGITAL_LITERACY\", \"RESILIENCE\", \"TECHNICAL_PROFICIENCY\", \"ETHICS\", \"WORKING_OTHERS\", \"SELF_EFFICIENCY\", \"COMPLEMENT\"]\n",
    "comp_logit_table, comp_logit_coefs, comp_logit_confs = model_summary_plot(\n",
    "    logit_models, \n",
    "    comp_responses, \n",
    "    [\"AI\", \"MIN_YEARS_EXPERIENCE\", \"BODY_LENGTH\"], \n",
    "    \"Complement Demand (% change for AI roles)\"\n",
    ")"
   ]
  },
  {
   "cell_type": "code",
   "execution_count": 146,
   "id": "cd4b86a3",
   "metadata": {},
   "outputs": [
    {
     "name": "stderr",
     "output_type": "stream",
     "text": [
      "100%|██████████| 13/13 [00:06<00:00,  2.11it/s]\n"
     ]
    }
   ],
   "source": [
    "# same model for each skill group\n",
    "def ols_regression(df, response): \n",
    "    return smf.ols(f\"LOG_SALARY ~ {response} + MIN_YEARS_EXPERIENCE + MIN_YEARS_EXPERIENCE + MIN_YEARS_EXPERIENCE_SQ + C(MIN_EDULEVELS_NAME) + C(YEAR) + C({country[choice]['REGION']}) + C({country[choice]['INDUSTRY']}) + C({country[choice]['HIGH_OCC_NAME']})\", data=df).fit()\n",
    "\n",
    "# create experience squared for mincer wage equation\n",
    "posts_df[\"MIN_YEARS_EXPERIENCE_SQ\"] = posts_df[\"MIN_YEARS_EXPERIENCE\"] ** 2\n",
    "ols_models ={k: ols_regression(posts_df[posts_df[\"AI\"] == 1], k) for k in tqdm(display_names.keys(), total=len(display_names))}"
   ]
  },
  {
   "cell_type": "code",
   "execution_count": 150,
   "id": "35999770",
   "metadata": {},
   "outputs": [
    {
     "data": {
      "application/vnd.plotly.v1+json": {
       "config": {
        "plotlyServerURL": "https://plot.ly"
       },
       "data": [
        {
         "error_x": {
          "array": [
           0.07640105529780045
          ],
          "color": "black",
          "type": "data",
          "visible": true
         },
         "marker": {
          "color": "red",
          "size": 8
         },
         "mode": "markers",
         "showlegend": false,
         "type": "scatter",
         "x": [
          -0.1494113779695816
         ],
         "y": [
          "Summary Report"
         ]
        },
        {
         "error_x": {
          "array": [
           0.03488336138458132
          ],
          "color": "black",
          "type": "data",
          "visible": true
         },
         "marker": {
          "color": "red",
          "size": 8
         },
         "mode": "markers",
         "showlegend": false,
         "type": "scatter",
         "x": [
          -0.02470837264378134
         ],
         "y": [
          "Language Review"
         ]
        },
        {
         "error_x": {
          "array": [
           0.026267380765287465
          ],
          "color": "black",
          "type": "data",
          "visible": true
         },
         "marker": {
          "color": "red",
          "size": 8
         },
         "mode": "markers",
         "showlegend": false,
         "type": "scatter",
         "x": [
          -0.0994101975229767
         ],
         "y": [
          "Customer Service"
         ]
        },
        {
         "error_x": {
          "array": [
           0.06444128817124228
          ],
          "color": "black",
          "type": "data",
          "visible": true
         },
         "marker": {
          "color": "red",
          "size": 8
         },
         "mode": "markers",
         "showlegend": false,
         "type": "scatter",
         "x": [
          0.08580283792945065
         ],
         "y": [
          "Office Admin"
         ]
        },
        {
         "error_x": {
          "array": [
           0.0226120110607268
          ],
          "color": "black",
          "type": "data",
          "visible": true
         },
         "marker": {
          "color": "red",
          "size": 8
         },
         "mode": "markers",
         "showlegend": false,
         "type": "scatter",
         "x": [
          -0.09456952826328899
         ],
         "y": [
          "Substitute"
         ]
        }
       ],
       "layout": {
        "height": 300,
        "margin": {
         "b": 50,
         "l": 50,
         "r": 50,
         "t": 50
        },
        "template": {
         "data": {
          "bar": [
           {
            "error_x": {
             "color": "#2a3f5f"
            },
            "error_y": {
             "color": "#2a3f5f"
            },
            "marker": {
             "line": {
              "color": "white",
              "width": 0.5
             },
             "pattern": {
              "fillmode": "overlay",
              "size": 10,
              "solidity": 0.2
             }
            },
            "type": "bar"
           }
          ],
          "barpolar": [
           {
            "marker": {
             "line": {
              "color": "white",
              "width": 0.5
             },
             "pattern": {
              "fillmode": "overlay",
              "size": 10,
              "solidity": 0.2
             }
            },
            "type": "barpolar"
           }
          ],
          "carpet": [
           {
            "aaxis": {
             "endlinecolor": "#2a3f5f",
             "gridcolor": "#C8D4E3",
             "linecolor": "#C8D4E3",
             "minorgridcolor": "#C8D4E3",
             "startlinecolor": "#2a3f5f"
            },
            "baxis": {
             "endlinecolor": "#2a3f5f",
             "gridcolor": "#C8D4E3",
             "linecolor": "#C8D4E3",
             "minorgridcolor": "#C8D4E3",
             "startlinecolor": "#2a3f5f"
            },
            "type": "carpet"
           }
          ],
          "choropleth": [
           {
            "colorbar": {
             "outlinewidth": 0,
             "ticks": ""
            },
            "type": "choropleth"
           }
          ],
          "contour": [
           {
            "colorbar": {
             "outlinewidth": 0,
             "ticks": ""
            },
            "colorscale": [
             [
              0,
              "#0d0887"
             ],
             [
              0.1111111111111111,
              "#46039f"
             ],
             [
              0.2222222222222222,
              "#7201a8"
             ],
             [
              0.3333333333333333,
              "#9c179e"
             ],
             [
              0.4444444444444444,
              "#bd3786"
             ],
             [
              0.5555555555555556,
              "#d8576b"
             ],
             [
              0.6666666666666666,
              "#ed7953"
             ],
             [
              0.7777777777777778,
              "#fb9f3a"
             ],
             [
              0.8888888888888888,
              "#fdca26"
             ],
             [
              1,
              "#f0f921"
             ]
            ],
            "type": "contour"
           }
          ],
          "contourcarpet": [
           {
            "colorbar": {
             "outlinewidth": 0,
             "ticks": ""
            },
            "type": "contourcarpet"
           }
          ],
          "heatmap": [
           {
            "colorbar": {
             "outlinewidth": 0,
             "ticks": ""
            },
            "colorscale": [
             [
              0,
              "#0d0887"
             ],
             [
              0.1111111111111111,
              "#46039f"
             ],
             [
              0.2222222222222222,
              "#7201a8"
             ],
             [
              0.3333333333333333,
              "#9c179e"
             ],
             [
              0.4444444444444444,
              "#bd3786"
             ],
             [
              0.5555555555555556,
              "#d8576b"
             ],
             [
              0.6666666666666666,
              "#ed7953"
             ],
             [
              0.7777777777777778,
              "#fb9f3a"
             ],
             [
              0.8888888888888888,
              "#fdca26"
             ],
             [
              1,
              "#f0f921"
             ]
            ],
            "type": "heatmap"
           }
          ],
          "histogram": [
           {
            "marker": {
             "pattern": {
              "fillmode": "overlay",
              "size": 10,
              "solidity": 0.2
             }
            },
            "type": "histogram"
           }
          ],
          "histogram2d": [
           {
            "colorbar": {
             "outlinewidth": 0,
             "ticks": ""
            },
            "colorscale": [
             [
              0,
              "#0d0887"
             ],
             [
              0.1111111111111111,
              "#46039f"
             ],
             [
              0.2222222222222222,
              "#7201a8"
             ],
             [
              0.3333333333333333,
              "#9c179e"
             ],
             [
              0.4444444444444444,
              "#bd3786"
             ],
             [
              0.5555555555555556,
              "#d8576b"
             ],
             [
              0.6666666666666666,
              "#ed7953"
             ],
             [
              0.7777777777777778,
              "#fb9f3a"
             ],
             [
              0.8888888888888888,
              "#fdca26"
             ],
             [
              1,
              "#f0f921"
             ]
            ],
            "type": "histogram2d"
           }
          ],
          "histogram2dcontour": [
           {
            "colorbar": {
             "outlinewidth": 0,
             "ticks": ""
            },
            "colorscale": [
             [
              0,
              "#0d0887"
             ],
             [
              0.1111111111111111,
              "#46039f"
             ],
             [
              0.2222222222222222,
              "#7201a8"
             ],
             [
              0.3333333333333333,
              "#9c179e"
             ],
             [
              0.4444444444444444,
              "#bd3786"
             ],
             [
              0.5555555555555556,
              "#d8576b"
             ],
             [
              0.6666666666666666,
              "#ed7953"
             ],
             [
              0.7777777777777778,
              "#fb9f3a"
             ],
             [
              0.8888888888888888,
              "#fdca26"
             ],
             [
              1,
              "#f0f921"
             ]
            ],
            "type": "histogram2dcontour"
           }
          ],
          "mesh3d": [
           {
            "colorbar": {
             "outlinewidth": 0,
             "ticks": ""
            },
            "type": "mesh3d"
           }
          ],
          "parcoords": [
           {
            "line": {
             "colorbar": {
              "outlinewidth": 0,
              "ticks": ""
             }
            },
            "type": "parcoords"
           }
          ],
          "pie": [
           {
            "automargin": true,
            "type": "pie"
           }
          ],
          "scatter": [
           {
            "fillpattern": {
             "fillmode": "overlay",
             "size": 10,
             "solidity": 0.2
            },
            "type": "scatter"
           }
          ],
          "scatter3d": [
           {
            "line": {
             "colorbar": {
              "outlinewidth": 0,
              "ticks": ""
             }
            },
            "marker": {
             "colorbar": {
              "outlinewidth": 0,
              "ticks": ""
             }
            },
            "type": "scatter3d"
           }
          ],
          "scattercarpet": [
           {
            "marker": {
             "colorbar": {
              "outlinewidth": 0,
              "ticks": ""
             }
            },
            "type": "scattercarpet"
           }
          ],
          "scattergeo": [
           {
            "marker": {
             "colorbar": {
              "outlinewidth": 0,
              "ticks": ""
             }
            },
            "type": "scattergeo"
           }
          ],
          "scattergl": [
           {
            "marker": {
             "colorbar": {
              "outlinewidth": 0,
              "ticks": ""
             }
            },
            "type": "scattergl"
           }
          ],
          "scattermap": [
           {
            "marker": {
             "colorbar": {
              "outlinewidth": 0,
              "ticks": ""
             }
            },
            "type": "scattermap"
           }
          ],
          "scattermapbox": [
           {
            "marker": {
             "colorbar": {
              "outlinewidth": 0,
              "ticks": ""
             }
            },
            "type": "scattermapbox"
           }
          ],
          "scatterpolar": [
           {
            "marker": {
             "colorbar": {
              "outlinewidth": 0,
              "ticks": ""
             }
            },
            "type": "scatterpolar"
           }
          ],
          "scatterpolargl": [
           {
            "marker": {
             "colorbar": {
              "outlinewidth": 0,
              "ticks": ""
             }
            },
            "type": "scatterpolargl"
           }
          ],
          "scatterternary": [
           {
            "marker": {
             "colorbar": {
              "outlinewidth": 0,
              "ticks": ""
             }
            },
            "type": "scatterternary"
           }
          ],
          "surface": [
           {
            "colorbar": {
             "outlinewidth": 0,
             "ticks": ""
            },
            "colorscale": [
             [
              0,
              "#0d0887"
             ],
             [
              0.1111111111111111,
              "#46039f"
             ],
             [
              0.2222222222222222,
              "#7201a8"
             ],
             [
              0.3333333333333333,
              "#9c179e"
             ],
             [
              0.4444444444444444,
              "#bd3786"
             ],
             [
              0.5555555555555556,
              "#d8576b"
             ],
             [
              0.6666666666666666,
              "#ed7953"
             ],
             [
              0.7777777777777778,
              "#fb9f3a"
             ],
             [
              0.8888888888888888,
              "#fdca26"
             ],
             [
              1,
              "#f0f921"
             ]
            ],
            "type": "surface"
           }
          ],
          "table": [
           {
            "cells": {
             "fill": {
              "color": "#EBF0F8"
             },
             "line": {
              "color": "white"
             }
            },
            "header": {
             "fill": {
              "color": "#C8D4E3"
             },
             "line": {
              "color": "white"
             }
            },
            "type": "table"
           }
          ]
         },
         "layout": {
          "annotationdefaults": {
           "arrowcolor": "#2a3f5f",
           "arrowhead": 0,
           "arrowwidth": 1
          },
          "autotypenumbers": "strict",
          "coloraxis": {
           "colorbar": {
            "outlinewidth": 0,
            "ticks": ""
           }
          },
          "colorscale": {
           "diverging": [
            [
             0,
             "#8e0152"
            ],
            [
             0.1,
             "#c51b7d"
            ],
            [
             0.2,
             "#de77ae"
            ],
            [
             0.3,
             "#f1b6da"
            ],
            [
             0.4,
             "#fde0ef"
            ],
            [
             0.5,
             "#f7f7f7"
            ],
            [
             0.6,
             "#e6f5d0"
            ],
            [
             0.7,
             "#b8e186"
            ],
            [
             0.8,
             "#7fbc41"
            ],
            [
             0.9,
             "#4d9221"
            ],
            [
             1,
             "#276419"
            ]
           ],
           "sequential": [
            [
             0,
             "#0d0887"
            ],
            [
             0.1111111111111111,
             "#46039f"
            ],
            [
             0.2222222222222222,
             "#7201a8"
            ],
            [
             0.3333333333333333,
             "#9c179e"
            ],
            [
             0.4444444444444444,
             "#bd3786"
            ],
            [
             0.5555555555555556,
             "#d8576b"
            ],
            [
             0.6666666666666666,
             "#ed7953"
            ],
            [
             0.7777777777777778,
             "#fb9f3a"
            ],
            [
             0.8888888888888888,
             "#fdca26"
            ],
            [
             1,
             "#f0f921"
            ]
           ],
           "sequentialminus": [
            [
             0,
             "#0d0887"
            ],
            [
             0.1111111111111111,
             "#46039f"
            ],
            [
             0.2222222222222222,
             "#7201a8"
            ],
            [
             0.3333333333333333,
             "#9c179e"
            ],
            [
             0.4444444444444444,
             "#bd3786"
            ],
            [
             0.5555555555555556,
             "#d8576b"
            ],
            [
             0.6666666666666666,
             "#ed7953"
            ],
            [
             0.7777777777777778,
             "#fb9f3a"
            ],
            [
             0.8888888888888888,
             "#fdca26"
            ],
            [
             1,
             "#f0f921"
            ]
           ]
          },
          "colorway": [
           "#636efa",
           "#EF553B",
           "#00cc96",
           "#ab63fa",
           "#FFA15A",
           "#19d3f3",
           "#FF6692",
           "#B6E880",
           "#FF97FF",
           "#FECB52"
          ],
          "font": {
           "color": "#2a3f5f"
          },
          "geo": {
           "bgcolor": "white",
           "lakecolor": "white",
           "landcolor": "white",
           "showlakes": true,
           "showland": true,
           "subunitcolor": "#C8D4E3"
          },
          "hoverlabel": {
           "align": "left"
          },
          "hovermode": "closest",
          "mapbox": {
           "style": "light"
          },
          "paper_bgcolor": "white",
          "plot_bgcolor": "white",
          "polar": {
           "angularaxis": {
            "gridcolor": "#EBF0F8",
            "linecolor": "#EBF0F8",
            "ticks": ""
           },
           "bgcolor": "white",
           "radialaxis": {
            "gridcolor": "#EBF0F8",
            "linecolor": "#EBF0F8",
            "ticks": ""
           }
          },
          "scene": {
           "xaxis": {
            "backgroundcolor": "white",
            "gridcolor": "#DFE8F3",
            "gridwidth": 2,
            "linecolor": "#EBF0F8",
            "showbackground": true,
            "ticks": "",
            "zerolinecolor": "#EBF0F8"
           },
           "yaxis": {
            "backgroundcolor": "white",
            "gridcolor": "#DFE8F3",
            "gridwidth": 2,
            "linecolor": "#EBF0F8",
            "showbackground": true,
            "ticks": "",
            "zerolinecolor": "#EBF0F8"
           },
           "zaxis": {
            "backgroundcolor": "white",
            "gridcolor": "#DFE8F3",
            "gridwidth": 2,
            "linecolor": "#EBF0F8",
            "showbackground": true,
            "ticks": "",
            "zerolinecolor": "#EBF0F8"
           }
          },
          "shapedefaults": {
           "line": {
            "color": "#2a3f5f"
           }
          },
          "ternary": {
           "aaxis": {
            "gridcolor": "#DFE8F3",
            "linecolor": "#A2B1C6",
            "ticks": ""
           },
           "baxis": {
            "gridcolor": "#DFE8F3",
            "linecolor": "#A2B1C6",
            "ticks": ""
           },
           "bgcolor": "white",
           "caxis": {
            "gridcolor": "#DFE8F3",
            "linecolor": "#A2B1C6",
            "ticks": ""
           }
          },
          "title": {
           "x": 0.05
          },
          "xaxis": {
           "automargin": true,
           "gridcolor": "#EBF0F8",
           "linecolor": "#EBF0F8",
           "ticks": "",
           "title": {
            "standoff": 15
           },
           "zerolinecolor": "#EBF0F8",
           "zerolinewidth": 2
          },
          "yaxis": {
           "automargin": true,
           "gridcolor": "#EBF0F8",
           "linecolor": "#EBF0F8",
           "ticks": "",
           "title": {
            "standoff": 15
           },
           "zerolinecolor": "#EBF0F8",
           "zerolinewidth": 2
          }
         }
        },
        "title": {
         "text": "Wage Premium in AI Roles (substitute)"
        },
        "width": 400,
        "xaxis": {
         "range": [
          -0.3,
          0.3
         ],
         "showgrid": false,
         "title": {
          "text": "Coefficient"
         }
        },
        "yaxis": {
         "showgrid": false
        }
       }
      }
     },
     "metadata": {},
     "output_type": "display_data"
    },
    {
     "data": {
      "application/vnd.plotly.v1+json": {
       "config": {
        "plotlyServerURL": "https://plot.ly"
       },
       "data": [
        {
         "error_x": {
          "array": [
           0.020072345712764242
          ],
          "color": "black",
          "type": "data",
          "visible": true
         },
         "marker": {
          "color": "red",
          "size": 8
         },
         "mode": "markers",
         "showlegend": false,
         "type": "scatter",
         "x": [
          -0.08330532224999883
         ],
         "y": [
          "Analytical Thinking"
         ]
        },
        {
         "error_x": {
          "array": [
           0.04914579882839765
          ],
          "color": "black",
          "type": "data",
          "visible": true
         },
         "marker": {
          "color": "red",
          "size": 8
         },
         "mode": "markers",
         "showlegend": false,
         "type": "scatter",
         "x": [
          0.0028738151609704055
         ],
         "y": [
          "Digital Literacy"
         ]
        },
        {
         "error_x": {
          "array": [
           0.03876338161864637
          ],
          "color": "black",
          "type": "data",
          "visible": true
         },
         "marker": {
          "color": "red",
          "size": 8
         },
         "mode": "markers",
         "showlegend": false,
         "type": "scatter",
         "x": [
          0.13199531755606453
         ],
         "y": [
          "Resilience"
         ]
        },
        {
         "error_x": {
          "array": [
           0.05224049105935391
          ],
          "color": "black",
          "type": "data",
          "visible": true
         },
         "marker": {
          "color": "red",
          "size": 8
         },
         "mode": "markers",
         "showlegend": false,
         "type": "scatter",
         "x": [
          0.01750602415346411
         ],
         "y": [
          "Technical Proficiency"
         ]
        },
        {
         "error_x": {
          "array": [
           0.05512600455864418
          ],
          "color": "black",
          "type": "data",
          "visible": true
         },
         "marker": {
          "color": "red",
          "size": 8
         },
         "mode": "markers",
         "showlegend": false,
         "type": "scatter",
         "x": [
          -0.044831713516961524
         ],
         "y": [
          "Ethics"
         ]
        },
        {
         "error_x": {
          "array": [
           0.026824683024684957
          ],
          "color": "black",
          "type": "data",
          "visible": true
         },
         "marker": {
          "color": "red",
          "size": 8
         },
         "mode": "markers",
         "showlegend": false,
         "type": "scatter",
         "x": [
          0.024761793246350097
         ],
         "y": [
          "Working with Others"
         ]
        },
        {
         "error_x": {
          "array": [
           0.05942013312242676
          ],
          "color": "black",
          "type": "data",
          "visible": true
         },
         "marker": {
          "color": "red",
          "size": 8
         },
         "mode": "markers",
         "showlegend": false,
         "type": "scatter",
         "x": [
          -0.040476003657546555
         ],
         "y": [
          "Self Efficiency"
         ]
        },
        {
         "error_x": {
          "array": [
           0.01865154179994842
          ],
          "color": "black",
          "type": "data",
          "visible": true
         },
         "marker": {
          "color": "red",
          "size": 8
         },
         "mode": "markers",
         "showlegend": false,
         "type": "scatter",
         "x": [
          -0.05318075637497005
         ],
         "y": [
          "Complementary"
         ]
        }
       ],
       "layout": {
        "height": 300,
        "margin": {
         "b": 50,
         "l": 50,
         "r": 50,
         "t": 50
        },
        "template": {
         "data": {
          "bar": [
           {
            "error_x": {
             "color": "#2a3f5f"
            },
            "error_y": {
             "color": "#2a3f5f"
            },
            "marker": {
             "line": {
              "color": "white",
              "width": 0.5
             },
             "pattern": {
              "fillmode": "overlay",
              "size": 10,
              "solidity": 0.2
             }
            },
            "type": "bar"
           }
          ],
          "barpolar": [
           {
            "marker": {
             "line": {
              "color": "white",
              "width": 0.5
             },
             "pattern": {
              "fillmode": "overlay",
              "size": 10,
              "solidity": 0.2
             }
            },
            "type": "barpolar"
           }
          ],
          "carpet": [
           {
            "aaxis": {
             "endlinecolor": "#2a3f5f",
             "gridcolor": "#C8D4E3",
             "linecolor": "#C8D4E3",
             "minorgridcolor": "#C8D4E3",
             "startlinecolor": "#2a3f5f"
            },
            "baxis": {
             "endlinecolor": "#2a3f5f",
             "gridcolor": "#C8D4E3",
             "linecolor": "#C8D4E3",
             "minorgridcolor": "#C8D4E3",
             "startlinecolor": "#2a3f5f"
            },
            "type": "carpet"
           }
          ],
          "choropleth": [
           {
            "colorbar": {
             "outlinewidth": 0,
             "ticks": ""
            },
            "type": "choropleth"
           }
          ],
          "contour": [
           {
            "colorbar": {
             "outlinewidth": 0,
             "ticks": ""
            },
            "colorscale": [
             [
              0,
              "#0d0887"
             ],
             [
              0.1111111111111111,
              "#46039f"
             ],
             [
              0.2222222222222222,
              "#7201a8"
             ],
             [
              0.3333333333333333,
              "#9c179e"
             ],
             [
              0.4444444444444444,
              "#bd3786"
             ],
             [
              0.5555555555555556,
              "#d8576b"
             ],
             [
              0.6666666666666666,
              "#ed7953"
             ],
             [
              0.7777777777777778,
              "#fb9f3a"
             ],
             [
              0.8888888888888888,
              "#fdca26"
             ],
             [
              1,
              "#f0f921"
             ]
            ],
            "type": "contour"
           }
          ],
          "contourcarpet": [
           {
            "colorbar": {
             "outlinewidth": 0,
             "ticks": ""
            },
            "type": "contourcarpet"
           }
          ],
          "heatmap": [
           {
            "colorbar": {
             "outlinewidth": 0,
             "ticks": ""
            },
            "colorscale": [
             [
              0,
              "#0d0887"
             ],
             [
              0.1111111111111111,
              "#46039f"
             ],
             [
              0.2222222222222222,
              "#7201a8"
             ],
             [
              0.3333333333333333,
              "#9c179e"
             ],
             [
              0.4444444444444444,
              "#bd3786"
             ],
             [
              0.5555555555555556,
              "#d8576b"
             ],
             [
              0.6666666666666666,
              "#ed7953"
             ],
             [
              0.7777777777777778,
              "#fb9f3a"
             ],
             [
              0.8888888888888888,
              "#fdca26"
             ],
             [
              1,
              "#f0f921"
             ]
            ],
            "type": "heatmap"
           }
          ],
          "histogram": [
           {
            "marker": {
             "pattern": {
              "fillmode": "overlay",
              "size": 10,
              "solidity": 0.2
             }
            },
            "type": "histogram"
           }
          ],
          "histogram2d": [
           {
            "colorbar": {
             "outlinewidth": 0,
             "ticks": ""
            },
            "colorscale": [
             [
              0,
              "#0d0887"
             ],
             [
              0.1111111111111111,
              "#46039f"
             ],
             [
              0.2222222222222222,
              "#7201a8"
             ],
             [
              0.3333333333333333,
              "#9c179e"
             ],
             [
              0.4444444444444444,
              "#bd3786"
             ],
             [
              0.5555555555555556,
              "#d8576b"
             ],
             [
              0.6666666666666666,
              "#ed7953"
             ],
             [
              0.7777777777777778,
              "#fb9f3a"
             ],
             [
              0.8888888888888888,
              "#fdca26"
             ],
             [
              1,
              "#f0f921"
             ]
            ],
            "type": "histogram2d"
           }
          ],
          "histogram2dcontour": [
           {
            "colorbar": {
             "outlinewidth": 0,
             "ticks": ""
            },
            "colorscale": [
             [
              0,
              "#0d0887"
             ],
             [
              0.1111111111111111,
              "#46039f"
             ],
             [
              0.2222222222222222,
              "#7201a8"
             ],
             [
              0.3333333333333333,
              "#9c179e"
             ],
             [
              0.4444444444444444,
              "#bd3786"
             ],
             [
              0.5555555555555556,
              "#d8576b"
             ],
             [
              0.6666666666666666,
              "#ed7953"
             ],
             [
              0.7777777777777778,
              "#fb9f3a"
             ],
             [
              0.8888888888888888,
              "#fdca26"
             ],
             [
              1,
              "#f0f921"
             ]
            ],
            "type": "histogram2dcontour"
           }
          ],
          "mesh3d": [
           {
            "colorbar": {
             "outlinewidth": 0,
             "ticks": ""
            },
            "type": "mesh3d"
           }
          ],
          "parcoords": [
           {
            "line": {
             "colorbar": {
              "outlinewidth": 0,
              "ticks": ""
             }
            },
            "type": "parcoords"
           }
          ],
          "pie": [
           {
            "automargin": true,
            "type": "pie"
           }
          ],
          "scatter": [
           {
            "fillpattern": {
             "fillmode": "overlay",
             "size": 10,
             "solidity": 0.2
            },
            "type": "scatter"
           }
          ],
          "scatter3d": [
           {
            "line": {
             "colorbar": {
              "outlinewidth": 0,
              "ticks": ""
             }
            },
            "marker": {
             "colorbar": {
              "outlinewidth": 0,
              "ticks": ""
             }
            },
            "type": "scatter3d"
           }
          ],
          "scattercarpet": [
           {
            "marker": {
             "colorbar": {
              "outlinewidth": 0,
              "ticks": ""
             }
            },
            "type": "scattercarpet"
           }
          ],
          "scattergeo": [
           {
            "marker": {
             "colorbar": {
              "outlinewidth": 0,
              "ticks": ""
             }
            },
            "type": "scattergeo"
           }
          ],
          "scattergl": [
           {
            "marker": {
             "colorbar": {
              "outlinewidth": 0,
              "ticks": ""
             }
            },
            "type": "scattergl"
           }
          ],
          "scattermap": [
           {
            "marker": {
             "colorbar": {
              "outlinewidth": 0,
              "ticks": ""
             }
            },
            "type": "scattermap"
           }
          ],
          "scattermapbox": [
           {
            "marker": {
             "colorbar": {
              "outlinewidth": 0,
              "ticks": ""
             }
            },
            "type": "scattermapbox"
           }
          ],
          "scatterpolar": [
           {
            "marker": {
             "colorbar": {
              "outlinewidth": 0,
              "ticks": ""
             }
            },
            "type": "scatterpolar"
           }
          ],
          "scatterpolargl": [
           {
            "marker": {
             "colorbar": {
              "outlinewidth": 0,
              "ticks": ""
             }
            },
            "type": "scatterpolargl"
           }
          ],
          "scatterternary": [
           {
            "marker": {
             "colorbar": {
              "outlinewidth": 0,
              "ticks": ""
             }
            },
            "type": "scatterternary"
           }
          ],
          "surface": [
           {
            "colorbar": {
             "outlinewidth": 0,
             "ticks": ""
            },
            "colorscale": [
             [
              0,
              "#0d0887"
             ],
             [
              0.1111111111111111,
              "#46039f"
             ],
             [
              0.2222222222222222,
              "#7201a8"
             ],
             [
              0.3333333333333333,
              "#9c179e"
             ],
             [
              0.4444444444444444,
              "#bd3786"
             ],
             [
              0.5555555555555556,
              "#d8576b"
             ],
             [
              0.6666666666666666,
              "#ed7953"
             ],
             [
              0.7777777777777778,
              "#fb9f3a"
             ],
             [
              0.8888888888888888,
              "#fdca26"
             ],
             [
              1,
              "#f0f921"
             ]
            ],
            "type": "surface"
           }
          ],
          "table": [
           {
            "cells": {
             "fill": {
              "color": "#EBF0F8"
             },
             "line": {
              "color": "white"
             }
            },
            "header": {
             "fill": {
              "color": "#C8D4E3"
             },
             "line": {
              "color": "white"
             }
            },
            "type": "table"
           }
          ]
         },
         "layout": {
          "annotationdefaults": {
           "arrowcolor": "#2a3f5f",
           "arrowhead": 0,
           "arrowwidth": 1
          },
          "autotypenumbers": "strict",
          "coloraxis": {
           "colorbar": {
            "outlinewidth": 0,
            "ticks": ""
           }
          },
          "colorscale": {
           "diverging": [
            [
             0,
             "#8e0152"
            ],
            [
             0.1,
             "#c51b7d"
            ],
            [
             0.2,
             "#de77ae"
            ],
            [
             0.3,
             "#f1b6da"
            ],
            [
             0.4,
             "#fde0ef"
            ],
            [
             0.5,
             "#f7f7f7"
            ],
            [
             0.6,
             "#e6f5d0"
            ],
            [
             0.7,
             "#b8e186"
            ],
            [
             0.8,
             "#7fbc41"
            ],
            [
             0.9,
             "#4d9221"
            ],
            [
             1,
             "#276419"
            ]
           ],
           "sequential": [
            [
             0,
             "#0d0887"
            ],
            [
             0.1111111111111111,
             "#46039f"
            ],
            [
             0.2222222222222222,
             "#7201a8"
            ],
            [
             0.3333333333333333,
             "#9c179e"
            ],
            [
             0.4444444444444444,
             "#bd3786"
            ],
            [
             0.5555555555555556,
             "#d8576b"
            ],
            [
             0.6666666666666666,
             "#ed7953"
            ],
            [
             0.7777777777777778,
             "#fb9f3a"
            ],
            [
             0.8888888888888888,
             "#fdca26"
            ],
            [
             1,
             "#f0f921"
            ]
           ],
           "sequentialminus": [
            [
             0,
             "#0d0887"
            ],
            [
             0.1111111111111111,
             "#46039f"
            ],
            [
             0.2222222222222222,
             "#7201a8"
            ],
            [
             0.3333333333333333,
             "#9c179e"
            ],
            [
             0.4444444444444444,
             "#bd3786"
            ],
            [
             0.5555555555555556,
             "#d8576b"
            ],
            [
             0.6666666666666666,
             "#ed7953"
            ],
            [
             0.7777777777777778,
             "#fb9f3a"
            ],
            [
             0.8888888888888888,
             "#fdca26"
            ],
            [
             1,
             "#f0f921"
            ]
           ]
          },
          "colorway": [
           "#636efa",
           "#EF553B",
           "#00cc96",
           "#ab63fa",
           "#FFA15A",
           "#19d3f3",
           "#FF6692",
           "#B6E880",
           "#FF97FF",
           "#FECB52"
          ],
          "font": {
           "color": "#2a3f5f"
          },
          "geo": {
           "bgcolor": "white",
           "lakecolor": "white",
           "landcolor": "white",
           "showlakes": true,
           "showland": true,
           "subunitcolor": "#C8D4E3"
          },
          "hoverlabel": {
           "align": "left"
          },
          "hovermode": "closest",
          "mapbox": {
           "style": "light"
          },
          "paper_bgcolor": "white",
          "plot_bgcolor": "white",
          "polar": {
           "angularaxis": {
            "gridcolor": "#EBF0F8",
            "linecolor": "#EBF0F8",
            "ticks": ""
           },
           "bgcolor": "white",
           "radialaxis": {
            "gridcolor": "#EBF0F8",
            "linecolor": "#EBF0F8",
            "ticks": ""
           }
          },
          "scene": {
           "xaxis": {
            "backgroundcolor": "white",
            "gridcolor": "#DFE8F3",
            "gridwidth": 2,
            "linecolor": "#EBF0F8",
            "showbackground": true,
            "ticks": "",
            "zerolinecolor": "#EBF0F8"
           },
           "yaxis": {
            "backgroundcolor": "white",
            "gridcolor": "#DFE8F3",
            "gridwidth": 2,
            "linecolor": "#EBF0F8",
            "showbackground": true,
            "ticks": "",
            "zerolinecolor": "#EBF0F8"
           },
           "zaxis": {
            "backgroundcolor": "white",
            "gridcolor": "#DFE8F3",
            "gridwidth": 2,
            "linecolor": "#EBF0F8",
            "showbackground": true,
            "ticks": "",
            "zerolinecolor": "#EBF0F8"
           }
          },
          "shapedefaults": {
           "line": {
            "color": "#2a3f5f"
           }
          },
          "ternary": {
           "aaxis": {
            "gridcolor": "#DFE8F3",
            "linecolor": "#A2B1C6",
            "ticks": ""
           },
           "baxis": {
            "gridcolor": "#DFE8F3",
            "linecolor": "#A2B1C6",
            "ticks": ""
           },
           "bgcolor": "white",
           "caxis": {
            "gridcolor": "#DFE8F3",
            "linecolor": "#A2B1C6",
            "ticks": ""
           }
          },
          "title": {
           "x": 0.05
          },
          "xaxis": {
           "automargin": true,
           "gridcolor": "#EBF0F8",
           "linecolor": "#EBF0F8",
           "ticks": "",
           "title": {
            "standoff": 15
           },
           "zerolinecolor": "#EBF0F8",
           "zerolinewidth": 2
          },
          "yaxis": {
           "automargin": true,
           "gridcolor": "#EBF0F8",
           "linecolor": "#EBF0F8",
           "ticks": "",
           "title": {
            "standoff": 15
           },
           "zerolinecolor": "#EBF0F8",
           "zerolinewidth": 2
          }
         }
        },
        "title": {
         "text": "Wage Premium in AI Roles (complement)"
        },
        "width": 400,
        "xaxis": {
         "range": [
          -0.3,
          0.3
         ],
         "showgrid": false,
         "title": {
          "text": "Coefficient"
         }
        },
        "yaxis": {
         "showgrid": false
        }
       }
      }
     },
     "metadata": {},
     "output_type": "display_data"
    }
   ],
   "source": [
    "sub_ols_table, sub_ols_coefs, sub_ols_confs = model_summary_plot(\n",
    "    ols_models, \n",
    "    sub_responses, \n",
    "    sub_responses + [\"MIN_YEARS_EXPERIENCE\", \"BODY_LENGTH\"], \n",
    "    \"Wage Premium in AI Roles (substitute)\", \n",
    "    salary_model=True\n",
    ")\n",
    "comp_ols_table, comp_ols_coefs, comp_ols_confs = model_summary_plot(\n",
    "    ols_models, \n",
    "    comp_responses, \n",
    "    comp_responses + [\"MIN_YEARS_EXPERIENCE\", \"BODY_LENGTH\"], \n",
    "    \"Wage Premium in AI Roles (complement)\", \n",
    "    salary_model=True\n",
    ")"
   ]
  },
  {
   "cell_type": "markdown",
   "id": "c4a95ee8",
   "metadata": {},
   "source": [
    "## Create External Effects Data"
   ]
  },
  {
   "cell_type": "code",
   "execution_count": 154,
   "id": "e88b71fe",
   "metadata": {},
   "outputs": [],
   "source": [
    "def create_external_effects_df(df, group_vars):\n",
    "\n",
    "    df2 = df \\\n",
    "        .groupby(group_vars) \\\n",
    "        .agg({\n",
    "            \"AI\": \"mean\",\n",
    "            \"ID\": \"count\",\n",
    "        }).rename(\n",
    "            columns={\n",
    "                \"ID\": \"COUNT\"\n",
    "            }\n",
    "        )\n",
    "\n",
    "    nonai_df2 = df[df[\"AI\"] == 0] \\\n",
    "        .groupby(group_vars) \\\n",
    "        .agg({\n",
    "            \"SUBSTITUTE\": \"mean\",\n",
    "            \"COMPLEMENT\": \"mean\",\n",
    "        }).rename(\n",
    "            columns={\n",
    "                \"SUBSTITUTE\": \"NONAI_SUBSTITUTE\",\n",
    "                \"COMPLEMENT\": \"NONAI_COMPLEMENT\",\n",
    "            }\n",
    "        )\n",
    "        \n",
    "    # remerging AI and non-AI company dataframes\n",
    "    return df2 \\\n",
    "        .join(\n",
    "            nonai_df2,\n",
    "            on=group_vars,\n",
    "            how=\"left\"\n",
    "        ) \\\n",
    "        .fillna(\n",
    "            {\n",
    "                \"NONAI_SUBSTITUTE\": 0,\n",
    "                \"NONAI_COMPLEMENT\": 0,\n",
    "            }\n",
    "        ).reset_index()"
   ]
  },
  {
   "cell_type": "code",
   "execution_count": 156,
   "id": "64cdd8cf",
   "metadata": {},
   "outputs": [],
   "source": [
    "# create company data for external effects\n",
    "company_counts = posts_df.value_counts([\"COMPANY\", \"YEAR\"])\n",
    "comps = company_counts[company_counts >= 10]\n",
    "comps = [x[0] for x in comps.index.tolist()]\n",
    "comps = pd.Series(comps).value_counts()\n",
    "valid_comps = comps[comps == 6].index.tolist()\n",
    "\n",
    "company_df = posts_df[\n",
    "    (~posts_df[\"COMPANY_IS_STAFFING\"]) &\n",
    "    (posts_df[\"COMPANY\"] != \"0\") &\n",
    "    (posts_df[\"COMPANY\"].isin(valid_comps))\n",
    "].reset_index(drop=True)\n",
    "company_group_vars = [\"COMPANY\", \"COMPANY_NAME\", country[choice][\"INDUSTRY\"], \"YEAR\"]\n",
    "\n",
    "company_df2 = create_external_effects_df(company_df, company_group_vars)\n",
    "company_df2.to_csv(\"processed_data/company_data.csv\", index=False)\n",
    "\n",
    "# create industry data for external effects\n",
    "industry_df = posts_df[posts_df[country[choice][\"INDUSTRY\"]] != \"Unclassified Industry\"]\n",
    "industry_group_vars = [country[choice][\"INDUSTRY\"], \"YEAR\"]\n",
    "industry_df2 = create_external_effects_df(industry_df, industry_group_vars)\n",
    "industry_df2.to_csv(\"processed_data/industry_data.csv\", index=False)\n",
    "\n",
    "# create state level data for external effects\n",
    "state_df = posts_df[posts_df[country[choice][\"REGION\"]] != \"Unclassified Region\"]\n",
    "state_group_vars = [country[choice][\"REGION\"], \"YEAR\"]\n",
    "state_df2 = create_external_effects_df(state_df, state_group_vars)\n",
    "state_df2.to_csv(\"processed_data/state_data.csv\", index=False)"
   ]
  }
 ],
 "metadata": {
  "kernelspec": {
   "display_name": "substitute-complement",
   "language": "python",
   "name": "python3"
  },
  "language_info": {
   "codemirror_mode": {
    "name": "ipython",
    "version": 3
   },
   "file_extension": ".py",
   "mimetype": "text/x-python",
   "name": "python",
   "nbconvert_exporter": "python",
   "pygments_lexer": "ipython3",
   "version": "3.13.7"
  }
 },
 "nbformat": 4,
 "nbformat_minor": 5
}
